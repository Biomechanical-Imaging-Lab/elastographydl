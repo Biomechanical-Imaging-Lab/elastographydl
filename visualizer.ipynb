{
 "cells": [
  {
   "cell_type": "code",
   "execution_count": null,
   "metadata": {},
   "outputs": [],
   "source": [
    "import matplotlib.pyplot as plt\n",
    "import numpy as np\n",
    "import glob"
   ]
  },
  {
   "cell_type": "code",
   "execution_count": 31,
   "id": "e8ff1721",
   "metadata": {},
   "outputs": [],
   "source": [
    "SIZE = 400"
   ]
  },
  {
   "cell_type": "code",
   "execution_count": 32,
   "id": "bd9e9dd6",
   "metadata": {},
   "outputs": [],
   "source": [
    "dataset_path = f\"../femsim/TrainingData{SIZE}\""
   ]
  },
  {
   "cell_type": "code",
   "execution_count": 33,
   "id": "954bfd42",
   "metadata": {},
   "outputs": [],
   "source": [
    "disp_path = glob.glob(f'{dataset_path}/*/uY_{SIZE}x{SIZE}.raw')\n",
    "mod_path = glob.glob(f'{dataset_path}/*/modulus_{SIZE}x{SIZE}.raw')"
   ]
  },
  {
   "cell_type": "code",
   "execution_count": 34,
   "id": "68129483",
   "metadata": {},
   "outputs": [],
   "source": [
    "disp_path.sort(key = lambda x:int(x.split('/')[-2]))\n",
    "mod_path.sort(key = lambda x:int(x.split('/')[-2]))"
   ]
  },
  {
   "cell_type": "code",
   "execution_count": 35,
   "id": "01cd1df5",
   "metadata": {},
   "outputs": [
    {
     "name": "stderr",
     "output_type": "stream",
     "text": [
      "/tmp/ipykernel_36786/2496497862.py:13: MatplotlibDeprecationWarning: Auto-removal of overlapping axes is deprecated since 3.6 and will be removed two minor releases later; explicitly call ax.remove() as needed.\n",
      "  plt.subplot(1, 2, i+1)\n"
     ]
    }
   ],
   "source": [
    "count = 1\n",
    "for a_disp_path,a_mod_path in zip(disp_path,mod_path):\n",
    "    disp = np.fromfile(a_disp_path,dtype = 'float32', sep=\"\")\n",
    "    mod = np.fromfile(a_mod_path,dtype = 'float32', sep=\"\")\n",
    "    disp = np.reshape(disp, (SIZE, SIZE))\n",
    "    mod = np.reshape(mod, (SIZE, SIZE))\n",
    "\n",
    "\n",
    "    display_list = [disp, mod]\n",
    "    title = ['Displacement', 'Modulus']\n",
    "    for i in range(2):\n",
    "        plt.ioff()\n",
    "        plt.subplot(1, 2, i+1)\n",
    "        plt.title(title[i], fontsize=15)\n",
    "        plt.imshow(display_list[i], cmap='gray')\n",
    "        # plt.imshow(display_list[i], cmap='bwr', norm= MidPointLogNorm(vmin=0.1, vmax=5, midpoint=1))\n",
    "        plt.colorbar(location='bottom',pad=0.10)\n",
    "        plt.axis('on')\n",
    "    plt.axis('on')\n",
    "    plt.savefig(f'visualized_400/{count}_{SIZE}x{SIZE}.png',bbox_inches='tight')\n",
    "    count = count + 1"
   ]
  },
  {
   "cell_type": "code",
   "execution_count": null,
   "id": "0a96ab42",
   "metadata": {},
   "outputs": [],
   "source": []
  }
 ],
 "metadata": {
  "kernelspec": {
   "display_name": "biomed",
   "language": "python",
   "name": "python3"
  },
  "language_info": {
   "codemirror_mode": {
    "name": "ipython",
    "version": 3
   },
   "file_extension": ".py",
   "mimetype": "text/x-python",
   "name": "python",
   "nbconvert_exporter": "python",
   "pygments_lexer": "ipython3",
   "version": "3.9.16"
  }
 },
 "nbformat": 4,
 "nbformat_minor": 5
}
