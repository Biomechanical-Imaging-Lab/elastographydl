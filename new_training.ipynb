{
 "cells": [
  {
   "cell_type": "code",
   "execution_count": 1,
   "id": "7611adb8-66e8-445b-a635-4b1389617a44",
   "metadata": {},
   "outputs": [],
   "source": [
    "import warnings\n",
    "warnings.filterwarnings('ignore')"
   ]
  },
  {
   "cell_type": "code",
   "execution_count": 2,
   "id": "2706799e-6c2c-4f37-a9e5-e5c58e1289fe",
   "metadata": {},
   "outputs": [
    {
     "name": "stderr",
     "output_type": "stream",
     "text": [
      "2023-07-28 09:17:35.180688: I tensorflow/core/util/port.cc:110] oneDNN custom operations are on. You may see slightly different numerical results due to floating-point round-off errors from different computation orders. To turn them off, set the environment variable `TF_ENABLE_ONEDNN_OPTS=0`.\n",
      "2023-07-28 09:17:37.677988: I tensorflow/core/platform/cpu_feature_guard.cc:182] This TensorFlow binary is optimized to use available CPU instructions in performance-critical operations.\n",
      "To enable the following instructions: AVX2 AVX512F AVX512_VNNI FMA, in other operations, rebuild TensorFlow with the appropriate compiler flags.\n",
      "2023-07-28 09:17:54.625816: W tensorflow/compiler/tf2tensorrt/utils/py_utils.cc:38] TF-TRT Warning: Could not find TensorRT\n"
     ]
    }
   ],
   "source": [
    "import numpy as np\n",
    "import tensorflow as tf\n",
    "import matplotlib.pyplot as plt\n",
    "import os\n",
    "import glob\n",
    "import time\n",
    "import pickle\n",
    "import random\n",
    "import pathlib\n",
    "import datetime\n",
    "\n",
    "# from IPython import display\n",
    "import matplotlib.pyplot as plt\n",
    "import matplotlib.colors as mcolors\n",
    "\n",
    "from scipy.ndimage import gaussian_filter"
   ]
  },
  {
   "cell_type": "code",
   "execution_count": null,
   "id": "ed831ddf-4668-45e5-91f4-bf3ea8f79d8e",
   "metadata": {},
   "outputs": [],
   "source": []
  },
  {
   "cell_type": "code",
   "execution_count": 3,
   "id": "570bd686-c42a-40de-a7fe-c19c9b5860f4",
   "metadata": {},
   "outputs": [],
   "source": [
    "RESULTS_FOLDER = 'results'"
   ]
  },
  {
   "cell_type": "code",
   "execution_count": null,
   "id": "f8a7f377-4252-4f6f-a18d-9de572da621f",
   "metadata": {},
   "outputs": [],
   "source": []
  },
  {
   "cell_type": "code",
   "execution_count": 4,
   "id": "63569aab-e00b-401c-8943-45b400ff1c38",
   "metadata": {},
   "outputs": [],
   "source": [
    "### Configuration\n",
    "os.mkdir(RESULTS_FOLDER) if not os.path.isdir(RESULTS_FOLDER) else None\n",
    "folders = ['all_exp_plots_g', 'all_exp_plots', 'exp_plots', 'model_weights', 'raw_exps', 'training_plots', 'all_val_plots', 'raw_vals']\n",
    "for folder in folders:\n",
    "    if(not os.path.isdir(f'{RESULTS_FOLDER}/{folder}')):\n",
    "        os.mkdir(f'{RESULTS_FOLDER}/{folder}')"
   ]
  },
  {
   "cell_type": "code",
   "execution_count": null,
   "id": "c79446f6-214e-4ba8-8937-43bd3f573d62",
   "metadata": {},
   "outputs": [],
   "source": []
  },
  {
   "cell_type": "code",
   "execution_count": 5,
   "id": "6d1731c8-6425-4e98-b1cf-8443eee42bab",
   "metadata": {},
   "outputs": [],
   "source": [
    "tf.random.set_seed(seed=20)"
   ]
  },
  {
   "cell_type": "code",
   "execution_count": 6,
   "id": "98b4e2e6-9c78-4b05-b8b3-186ecc375b55",
   "metadata": {},
   "outputs": [],
   "source": [
    "### Hyperparameters\n",
    "BATCH_SIZE = 128\n",
    "EPOCH = 100\n",
    "# BATCH_SIZE = 32\n",
    "# EPOCH = 1"
   ]
  },
  {
   "attachments": {},
   "cell_type": "markdown",
   "id": "fa5b0525-0a88-42bc-964e-4729628a8da8",
   "metadata": {},
   "source": [
    "### Load dataset "
   ]
  },
  {
   "cell_type": "code",
   "execution_count": 7,
   "id": "71e7dc34-f317-4913-b0aa-08ca041f4b5c",
   "metadata": {},
   "outputs": [],
   "source": [
    "### Normalization"
   ]
  },
  {
   "cell_type": "code",
   "execution_count": 8,
   "id": "ce4fa0ca-ad7f-4bc2-a9c9-20414d80bf9e",
   "metadata": {},
   "outputs": [],
   "source": [
    "def add_noise_blur(image, rows=128, cols=128):\n",
    "    #add random noise\n",
    "    scale = tf.random.uniform([1], minval = 0.01, maxval = 0.1, dtype = tf.float32 )\n",
    "    noise = tf.random.normal([rows, cols, 1], mean = 0.0, stddev = 1.0)\n",
    "    #blur with a random sigma\n",
    "    # sigmaIn = np.random.uniform(low = 1.0, high = 2.0 )\n",
    "    sigmaIn = tf.random.uniform(shape=[], minval = 1.0, maxval = 2.0 )\n",
    "    #image = gaussian_filter(image, sigma = sigmaIn)\n",
    "    noise = gaussian_filter(noise, sigma = sigmaIn.numpy())\n",
    "    image *= (1.0 + scale*noise)\n",
    "    #print(\"scale %f sigma %f\" % (scale, sigmaIn))\n",
    "    return image"
   ]
  },
  {
   "cell_type": "code",
   "execution_count": 9,
   "id": "cda5e1ce-f215-482d-bcb7-3355ce07f1b1",
   "metadata": {},
   "outputs": [],
   "source": [
    "def normalize(dataY):\n",
    "    max = tf.reduce_max(dataY)\n",
    "    min = tf.reduce_min(dataY)\n",
    "    # dataY = dataY / tf.math.abs(min)\n",
    "    dataY = (dataY - min)/(max - min)\n",
    "    return dataY"
   ]
  },
  {
   "cell_type": "code",
   "execution_count": 10,
   "id": "d0376397-4bb4-4dae-988a-0850aecd37c5",
   "metadata": {},
   "outputs": [],
   "source": [
    "def normalizeTarget(image, bFlag = False):\n",
    "    image = (image - 1.0) / (5.0)\n",
    "    if bFlag:\n",
    "        image = 2.0*image - 1.0\n",
    "    return image"
   ]
  },
  {
   "cell_type": "code",
   "execution_count": 11,
   "id": "71826347-9eb1-46b0-8c92-6b42a9555500",
   "metadata": {},
   "outputs": [],
   "source": [
    "### EoNormalization"
   ]
  },
  {
   "cell_type": "code",
   "execution_count": 12,
   "id": "450c0d3d-df3e-415c-9ce8-3c0fd1968779",
   "metadata": {},
   "outputs": [],
   "source": [
    "def load(image_file, image_size=(128,128)):\n",
    "    # input_image = np.fromfile(image_file, dtype = 'float32', sep=\"\")\n",
    "    input_image = tf.io.read_file(image_file)\n",
    "    input_image = tf.io.decode_raw(input_image, tf.float32)\n",
    "    input_image = tf.reshape(input_image, image_size)\n",
    "    input_image = tf.expand_dims(input_image, -1)\n",
    "    return input_image"
   ]
  },
  {
   "cell_type": "code",
   "execution_count": 13,
   "id": "94cccd80-933d-4845-9c65-11790f3f340d",
   "metadata": {},
   "outputs": [],
   "source": [
    "def normalize_val(image, target):\n",
    "    input_image = add_noise_blur(image)\n",
    "    return input_image , target"
   ]
  },
  {
   "cell_type": "code",
   "execution_count": 14,
   "id": "011a3fbe-b39c-4857-90eb-a5e00f320736",
   "metadata": {},
   "outputs": [],
   "source": [
    "def load_image_train(image_file, target_file):\n",
    "    input_image = load(image_file)\n",
    "    target_image = load(target_file)\n",
    "    input_image = normalize(input_image)\n",
    "    return input_image , target_image "
   ]
  },
  {
   "cell_type": "code",
   "execution_count": 15,
   "id": "d23f3100-641d-4313-8ff4-b974b5592aa6",
   "metadata": {},
   "outputs": [],
   "source": [
    "def load_image_val(image_file, target_file):    \n",
    "    input_image = load(image_file)\n",
    "    target_image = load(target_file)\n",
    "    # input_image = add_noise_blur(image_file)\n",
    "    input_image = normalize(input_image)\n",
    "    return input_image , target_image "
   ]
  },
  {
   "cell_type": "code",
   "execution_count": 16,
   "id": "03f9d7ca-5d35-44ec-a610-005e873509d8",
   "metadata": {},
   "outputs": [],
   "source": [
    "def check_count(log_path):\n",
    "    soft = 0\n",
    "    hard = 0\n",
    "    for lp in log_path:\n",
    "        with open(lp) as f:\n",
    "            data = f.read()\n",
    "        data = data.split(' ')\n",
    "        mod = data[9]\n",
    "        assert mod == 'mod1'\n",
    "        mod_value = float(data[10].splitlines()[0])\n",
    "        if mod_value < 1.0:\n",
    "            soft = soft + 1\n",
    "        if mod_value > 1.0:\n",
    "            hard = hard + 1\n",
    "    return soft, hard"
   ]
  },
  {
   "cell_type": "code",
   "execution_count": 18,
   "id": "2637343f-63d6-49af-886b-2599acff601d",
   "metadata": {},
   "outputs": [],
   "source": [
    "def get_dataset_partitions_tf(ds, ds_size, train_split=0.8, val_split=0.1, test_split=0.1, shuffle=False, shuffle_size=10000):\n",
    "    assert (train_split + test_split + val_split) == 1\n",
    "    \n",
    "    if shuffle:\n",
    "        # Specify seed to always have the same split distribution between runs\n",
    "        ds = ds.shuffle(shuffle_size, seed=12)\n",
    "    \n",
    "    train_size = int(train_split * ds_size)\n",
    "    val_size = int(val_split * ds_size)\n",
    "    \n",
    "    train_ds = ds.take(train_size)    \n",
    "    val_ds = ds.skip(train_size).take(val_size)\n",
    "    test_ds = ds.skip(train_size).skip(val_size)\n",
    "    \n",
    "    return train_ds, val_ds, test_ds"
   ]
  },
  {
   "cell_type": "code",
   "execution_count": null,
   "id": "38aa8933-18e8-4226-9d90-8061302f325c",
   "metadata": {},
   "outputs": [],
   "source": []
  },
  {
   "cell_type": "code",
   "execution_count": null,
   "id": "be1838ff-76cb-47b0-b23a-c8de9f75c2ab",
   "metadata": {},
   "outputs": [],
   "source": []
  },
  {
   "cell_type": "code",
   "execution_count": null,
   "id": "019e7772-3730-4ee0-8896-8bdb3e45a261",
   "metadata": {},
   "outputs": [],
   "source": []
  },
  {
   "cell_type": "code",
   "execution_count": 17,
   "id": "e4911f6f-dbd6-4c59-8827-d5cf27cf3eb4",
   "metadata": {},
   "outputs": [],
   "source": [
    "# input_path = glob.glob('data/TrainData*/*/uY_128x128*.raw')\n",
    "# target_path = glob.glob('data/TrainData*/*/modulus_128x128*.raw')\n",
    "# # input_path.sort(key= lambda x: int(x.split('/')[-2]))\n",
    "# # target_path.sort(key= lambda x: int(x.split('/')[-2]))"
   ]
  },
  {
   "cell_type": "code",
   "execution_count": 18,
   "id": "19786d8c-62fc-486e-b067-66d21962384b",
   "metadata": {},
   "outputs": [],
   "source": [
    "input_path = glob.glob('alldata/TrainData/*/uY_128x128.raw')\n",
    "target_path = glob.glob('alldata/TrainData/*/modulus_128x128.raw')\n",
    "log_path = glob.glob('alldata/TrainData/*/logFile.txt')\n",
    "input_path.sort(key= lambda x: int(x.split('/')[-2]))\n",
    "target_path.sort(key= lambda x: int(x.split('/')[-2]))\n",
    "log_path.sort(key= lambda x: int(x.split('/')[-2]))"
   ]
  },
  {
   "cell_type": "code",
   "execution_count": 19,
   "id": "4b19bf79-f6bb-4d57-9369-37622a5bda0b",
   "metadata": {},
   "outputs": [
    {
     "data": {
      "text/plain": [
       "10000"
      ]
     },
     "execution_count": 19,
     "metadata": {},
     "output_type": "execute_result"
    }
   ],
   "source": [
    "len(input_path)"
   ]
  },
  {
   "cell_type": "code",
   "execution_count": 20,
   "id": "e0c55259-729a-49d7-8493-303502550d64",
   "metadata": {},
   "outputs": [
    {
     "data": {
      "text/plain": [
       "10000"
      ]
     },
     "execution_count": 20,
     "metadata": {},
     "output_type": "execute_result"
    }
   ],
   "source": [
    "len(target_path)"
   ]
  },
  {
   "cell_type": "code",
   "execution_count": 23,
   "id": "e244ab90-68fd-4769-b9d8-a508da02f528",
   "metadata": {},
   "outputs": [
    {
     "data": {
      "text/plain": [
       "(4966, 5034)"
      ]
     },
     "execution_count": 23,
     "metadata": {},
     "output_type": "execute_result"
    }
   ],
   "source": [
    "check_count(log_path)"
   ]
  },
  {
   "cell_type": "code",
   "execution_count": 24,
   "id": "e1772168-33c2-4bf4-881c-b784b2c39406",
   "metadata": {},
   "outputs": [],
   "source": [
    "input_val_path = glob.glob('alldata/ValData/*/uY_128x128.raw')\n",
    "target_val_path = glob.glob('alldata/ValData/*/modulus_128x128.raw')\n",
    "log_val_path = glob.glob('alldata/ValData/*/logFile.txt')\n",
    "input_val_path.sort(key= lambda x: int(x.split('/')[-2]))\n",
    "target_val_path.sort(key= lambda x: int(x.split('/')[-2]))\n",
    "log_val_path.sort(key= lambda x: int(x.split('/')[-2]))"
   ]
  },
  {
   "cell_type": "code",
   "execution_count": 25,
   "id": "2918d1d9-e260-4af5-ad88-ba759537a6ac",
   "metadata": {},
   "outputs": [
    {
     "data": {
      "text/plain": [
       "(495, 505)"
      ]
     },
     "execution_count": 25,
     "metadata": {},
     "output_type": "execute_result"
    }
   ],
   "source": [
    "check_count(log_val_path)"
   ]
  },
  {
   "cell_type": "code",
   "execution_count": null,
   "id": "f68b3988-3e5b-402e-a5c3-d136fc841461",
   "metadata": {},
   "outputs": [],
   "source": []
  },
  {
   "cell_type": "code",
   "execution_count": null,
   "id": "3972d926-2128-44e4-9ad5-7ab7d3362dda",
   "metadata": {},
   "outputs": [],
   "source": []
  },
  {
   "cell_type": "code",
   "execution_count": null,
   "id": "d0d393d2-792b-42f4-88ae-c1a732d9c0e6",
   "metadata": {},
   "outputs": [],
   "source": []
  },
  {
   "cell_type": "code",
   "execution_count": null,
   "id": "56ba1f9d-b9d1-423e-9257-903caefd2265",
   "metadata": {},
   "outputs": [],
   "source": []
  },
  {
   "cell_type": "code",
   "execution_count": 26,
   "id": "af35e3fc-5e0e-462d-a0ff-1a64dc479cc4",
   "metadata": {},
   "outputs": [
    {
     "name": "stderr",
     "output_type": "stream",
     "text": [
      "2023-07-28 09:22:22.521661: I tensorflow/core/common_runtime/gpu/gpu_device.cc:1635] Created device /job:localhost/replica:0/task:0/device:GPU:0 with 38201 MB memory:  -> device: 0, name: NVIDIA A100-PCIE-40GB, pci bus id: 0000:1b:00.0, compute capability: 8.0\n",
      "2023-07-28 09:22:22.522868: I tensorflow/core/common_runtime/gpu/gpu_device.cc:1635] Created device /job:localhost/replica:0/task:0/device:GPU:1 with 6838 MB memory:  -> device: 1, name: Tesla P4, pci bus id: 0000:1c:00.0, compute capability: 6.1\n"
     ]
    }
   ],
   "source": [
    "# train_dataset\n",
    "train_dataset = tf.data.Dataset.from_tensor_slices((input_path, target_path))\n",
    "train_dataset = train_dataset.map(load_image_train)\n",
    "train_dataset = train_dataset.shuffle(buffer_size=len(input_path)) \n",
    "train_dataset = train_dataset.batch(BATCH_SIZE)"
   ]
  },
  {
   "cell_type": "code",
   "execution_count": 27,
   "id": "5b003f7c-ae50-4f6a-b24b-0af8642850de",
   "metadata": {},
   "outputs": [
    {
     "data": {
      "text/plain": [
       "79"
      ]
     },
     "execution_count": 27,
     "metadata": {},
     "output_type": "execute_result"
    }
   ],
   "source": [
    "len(train_dataset)"
   ]
  },
  {
   "cell_type": "code",
   "execution_count": 28,
   "id": "39c3f679-a067-4369-b204-b2e99b14af57",
   "metadata": {},
   "outputs": [],
   "source": [
    "# train_dataset, val_dataset, test_dataset = get_dataset_partitions_tf(train_dataset, len(train_dataset))\n",
    "# print(len(train_dataset), len(val_dataset), len(test_dataset))"
   ]
  },
  {
   "cell_type": "code",
   "execution_count": 62,
   "id": "6d3e2398-251d-4cf1-8b8e-b821b253f713",
   "metadata": {},
   "outputs": [],
   "source": [
    "## val_dataset\n",
    "val_dataset = tf.data.Dataset.from_tensor_slices((input_val_path, target_val_path))\n",
    "val_dataset = val_dataset.map(load_image_val)\n",
    "# val_dataset = val_dataset.shuffle(buffer_size=len(input_val_path)) \n",
    "# val_dataset = val_dataset.batch(BATCH_SIZE)\n",
    "val_dataset = val_dataset.batch(1)"
   ]
  },
  {
   "cell_type": "code",
   "execution_count": null,
   "id": "ee93032d-87d8-4500-866d-cee375e0a41f",
   "metadata": {},
   "outputs": [],
   "source": []
  },
  {
   "cell_type": "code",
   "execution_count": 30,
   "id": "a77886a9-e830-445d-b07a-f0bc34f44e23",
   "metadata": {},
   "outputs": [
    {
     "name": "stdout",
     "output_type": "stream",
     "text": [
      "79\n",
      "1000\n"
     ]
    }
   ],
   "source": [
    "# print(len(dataset))\n",
    "print(len(train_dataset))\n",
    "print(len(val_dataset))\n",
    "# print(len(test_dataset))"
   ]
  },
  {
   "cell_type": "code",
   "execution_count": null,
   "id": "b3f79da3-4824-4532-8014-d18ce3e70bf5",
   "metadata": {},
   "outputs": [],
   "source": []
  },
  {
   "cell_type": "code",
   "execution_count": 31,
   "id": "25434b4a-ad00-411b-aca4-e396c50f62d7",
   "metadata": {},
   "outputs": [
    {
     "name": "stderr",
     "output_type": "stream",
     "text": [
      "2023-07-28 09:22:41.203665: I tensorflow/core/common_runtime/executor.cc:1197] [/device:CPU:0] (DEBUG INFO) Executor start aborting (this does not indicate an error and you can ignore this message): INVALID_ARGUMENT: You must feed a value for placeholder tensor 'Placeholder/_0' with dtype string and shape [10000]\n",
      "\t [[{{node Placeholder/_0}}]]\n",
      "2023-07-28 09:22:51.215573: I tensorflow/core/kernels/data/shuffle_dataset_op.cc:392] Filling up shuffle buffer (this may take a while): 549 of 10000\n",
      "2023-07-28 09:23:01.223846: I tensorflow/core/kernels/data/shuffle_dataset_op.cc:392] Filling up shuffle buffer (this may take a while): 1189 of 10000\n",
      "2023-07-28 09:23:11.232145: I tensorflow/core/kernels/data/shuffle_dataset_op.cc:392] Filling up shuffle buffer (this may take a while): 2026 of 10000\n",
      "2023-07-28 09:23:21.221687: I tensorflow/core/kernels/data/shuffle_dataset_op.cc:392] Filling up shuffle buffer (this may take a while): 2886 of 10000\n",
      "2023-07-28 09:23:31.220541: I tensorflow/core/kernels/data/shuffle_dataset_op.cc:392] Filling up shuffle buffer (this may take a while): 3662 of 10000\n",
      "2023-07-28 09:23:41.214498: I tensorflow/core/kernels/data/shuffle_dataset_op.cc:392] Filling up shuffle buffer (this may take a while): 4442 of 10000\n",
      "2023-07-28 09:23:51.245915: I tensorflow/core/kernels/data/shuffle_dataset_op.cc:392] Filling up shuffle buffer (this may take a while): 5283 of 10000\n",
      "2023-07-28 09:24:01.239560: I tensorflow/core/kernels/data/shuffle_dataset_op.cc:392] Filling up shuffle buffer (this may take a while): 6116 of 10000\n",
      "2023-07-28 09:24:11.215194: I tensorflow/core/kernels/data/shuffle_dataset_op.cc:392] Filling up shuffle buffer (this may take a while): 7038 of 10000\n",
      "2023-07-28 09:24:21.217922: I tensorflow/core/kernels/data/shuffle_dataset_op.cc:392] Filling up shuffle buffer (this may take a while): 7916 of 10000\n",
      "2023-07-28 09:24:31.224050: I tensorflow/core/kernels/data/shuffle_dataset_op.cc:392] Filling up shuffle buffer (this may take a while): 8750 of 10000\n",
      "2023-07-28 09:24:41.213959: I tensorflow/core/kernels/data/shuffle_dataset_op.cc:392] Filling up shuffle buffer (this may take a while): 9559 of 10000\n"
     ]
    },
    {
     "name": "stdout",
     "output_type": "stream",
     "text": [
      "2\n",
      "(128, 128, 128, 1)\n",
      "(128, 128, 128, 1)\n"
     ]
    },
    {
     "name": "stderr",
     "output_type": "stream",
     "text": [
      "2023-07-28 09:24:46.260436: I tensorflow/core/kernels/data/shuffle_dataset_op.cc:417] Shuffle buffer filled.\n"
     ]
    }
   ],
   "source": [
    "a = next(iter(train_dataset))\n",
    "print(len(a))\n",
    "print(a[0].shape)\n",
    "print(a[1].shape)"
   ]
  },
  {
   "cell_type": "code",
   "execution_count": 32,
   "id": "a62cd82d-254c-4315-9747-7be91d58609f",
   "metadata": {},
   "outputs": [],
   "source": [
    "inp, re = a[0][0], a[1][0]"
   ]
  },
  {
   "cell_type": "code",
   "execution_count": 33,
   "id": "489688b3-a43e-4a9a-ab19-8a061449d5b0",
   "metadata": {},
   "outputs": [
    {
     "data": {
      "text/plain": [
       "<matplotlib.image.AxesImage at 0x7fb2a0195f10>"
      ]
     },
     "execution_count": 33,
     "metadata": {},
     "output_type": "execute_result"
    },
    {
     "data": {
      "image/png": "[encoded data removed]",
      "text/plain": [
       "<Figure size 640x480 with 1 Axes>"
      ]
     },
     "metadata": {},
     "output_type": "display_data"
    },
    {
     "data": {
      "image/png": "[encoded data removed]",
      "text/plain": [
       "<Figure size 640x480 with 1 Axes>"
      ]
     },
     "metadata": {},
     "output_type": "display_data"
    }
   ],
   "source": [
    "plt.figure()\n",
    "plt.imshow(inp, cmap='gray')\n",
    "plt.figure()\n",
    "plt.imshow(re, cmap='gray')"
   ]
  },
  {
   "cell_type": "code",
   "execution_count": 34,
   "id": "2769df7a-d4f8-405b-9b9d-829b8d94b4c1",
   "metadata": {},
   "outputs": [
    {
     "data": {
      "text/plain": [
       "1000"
      ]
     },
     "execution_count": 34,
     "metadata": {},
     "output_type": "execute_result"
    }
   ],
   "source": [
    "len(val_dataset)"
   ]
  },
  {
   "cell_type": "code",
   "execution_count": 35,
   "id": "66aae36a-a40d-4ad4-8768-3acc0d1988cc",
   "metadata": {},
   "outputs": [],
   "source": [
    "# val_dataset = val_dataset.batch(1)"
   ]
  },
  {
   "cell_type": "code",
   "execution_count": 36,
   "id": "ac09fb8d-149b-4647-9102-206909e7c6c5",
   "metadata": {},
   "outputs": [
    {
     "data": {
      "text/plain": [
       "1000"
      ]
     },
     "execution_count": 36,
     "metadata": {},
     "output_type": "execute_result"
    }
   ],
   "source": [
    "len(val_dataset)"
   ]
  },
  {
   "cell_type": "code",
   "execution_count": null,
   "id": "65015fe0-526b-41c8-8e87-838f946dd063",
   "metadata": {},
   "outputs": [],
   "source": []
  },
  {
   "cell_type": "code",
   "execution_count": null,
   "id": "13f51a71-dde4-423e-a75a-366cfccfb094",
   "metadata": {},
   "outputs": [],
   "source": []
  },
  {
   "cell_type": "code",
   "execution_count": null,
   "id": "b93cb7a8-e279-49e4-9afc-9086cf572285",
   "metadata": {},
   "outputs": [],
   "source": []
  },
  {
   "cell_type": "code",
   "execution_count": null,
   "id": "066a02ed-1455-46a0-9178-df528bb8a6e5",
   "metadata": {},
   "outputs": [],
   "source": []
  },
  {
   "attachments": {},
   "cell_type": "markdown",
   "id": "ce4b1124-8591-4d4c-8fd8-297a7788be99",
   "metadata": {},
   "source": [
    "### Generator Model"
   ]
  },
  {
   "cell_type": "code",
   "execution_count": 37,
   "id": "c4a5defa-ef45-451b-80f9-15e7a274445a",
   "metadata": {},
   "outputs": [],
   "source": [
    "OUTPUT_CHANNELS = 1"
   ]
  },
  {
   "cell_type": "code",
   "execution_count": 38,
   "id": "bfe45d5e-2938-418d-903f-84cba08652c3",
   "metadata": {},
   "outputs": [],
   "source": [
    "def downsample(filters, size, apply_batchnorm=True):\n",
    "    initializer = tf.random_normal_initializer(0., 0.02)\n",
    "    result = tf.keras.Sequential()\n",
    "    result.add(\n",
    "        tf.keras.layers.Conv2D(filters, size, strides=2, padding='same',\n",
    "                                kernel_initializer=initializer, use_bias=False))\n",
    "    if apply_batchnorm:\n",
    "        result.add(tf.keras.layers.BatchNormalization())\n",
    "    result.add(tf.keras.layers.LeakyReLU())\n",
    "    return result"
   ]
  },
  {
   "cell_type": "code",
   "execution_count": 39,
   "id": "c6556517-b3fc-47c0-bb1d-edcfad9cb123",
   "metadata": {},
   "outputs": [
    {
     "name": "stderr",
     "output_type": "stream",
     "text": [
      "2023-07-28 09:26:09.403845: I tensorflow/compiler/xla/stream_executor/cuda/cuda_dnn.cc:424] Loaded cuDNN version 8902\n"
     ]
    },
    {
     "name": "stdout",
     "output_type": "stream",
     "text": [
      "(1, 64, 64, 3)\n"
     ]
    },
    {
     "name": "stderr",
     "output_type": "stream",
     "text": [
      "2023-07-28 09:26:13.913604: W tensorflow/compiler/xla/stream_executor/gpu/asm_compiler.cc:109] Couldn't get ptxas version : FAILED_PRECONDITION: Couldn't get ptxas/nvlink version string: INTERNAL: Running ptxas --version returned 32512\n",
      "2023-07-28 09:26:13.968176: W tensorflow/compiler/xla/stream_executor/gpu/redzone_allocator.cc:317] INTERNAL: ptxas exited with non-zero error code 32512, output: \n",
      "Relying on driver to perform ptx compilation. \n",
      "Modify $PATH to customize ptxas location.\n",
      "This message will be only logged once.\n"
     ]
    }
   ],
   "source": [
    "down_model = downsample(3, 4)\n",
    "down_result = down_model(tf.expand_dims(inp, 0))\n",
    "print (down_result.shape)"
   ]
  },
  {
   "cell_type": "code",
   "execution_count": 40,
   "id": "4456cb34-fe0e-4dc1-bea1-ed4e075a5acb",
   "metadata": {},
   "outputs": [],
   "source": [
    "def upsample(filters, size, apply_dropout=False):\n",
    "    initializer = tf.random_normal_initializer(0., 0.02)\n",
    "    result = tf.keras.Sequential()\n",
    "    result.add(\n",
    "        tf.keras.layers.Conv2DTranspose(filters, size, strides=2,\n",
    "                                        padding='same',\n",
    "                                        kernel_initializer=initializer,\n",
    "                                        use_bias=False))\n",
    "    result.add(tf.keras.layers.BatchNormalization())\n",
    "    if apply_dropout:\n",
    "        result.add(tf.keras.layers.Dropout(0.5))\n",
    "    result.add(tf.keras.layers.ReLU())\n",
    "    return result"
   ]
  },
  {
   "cell_type": "code",
   "execution_count": 41,
   "id": "e4a6cf7d-7a54-4342-8a14-0488ee27da17",
   "metadata": {},
   "outputs": [
    {
     "name": "stdout",
     "output_type": "stream",
     "text": [
      "(1, 128, 128, 3)\n"
     ]
    }
   ],
   "source": [
    "up_model = upsample(3, 4)\n",
    "up_result = up_model(down_result)\n",
    "print (up_result.shape)"
   ]
  },
  {
   "cell_type": "code",
   "execution_count": 42,
   "id": "36178a64-cb1e-4f21-a78a-f7ac6ad5b87c",
   "metadata": {},
   "outputs": [],
   "source": [
    "def Generator():\n",
    "    inputs = tf.keras.layers.Input(shape=[128, 128, 1])\n",
    "\n",
    "    # down_stack = [\n",
    "    #     downsample(64, 3, apply_batchnorm=False),  # (batch_size, 128, 128, 64)\n",
    "    #     downsample(128, 3),  # (batch_size, 64, 64, 128)\n",
    "    #     downsample(256, 3),  # (batch_size, 32, 32, 256)\n",
    "    #     downsample(512, 3),  # (batch_size, 16, 16, 512)\n",
    "    #     downsample(512, 3),  # (batch_size, 8, 8, 512)\n",
    "    #     downsample(512, 3),  # (batch_size, 4, 4, 512)\n",
    "    #     downsample(512, 3),  # (batch_size, 2, 2, 512)\n",
    "    #     # downsample(512, 4),  # (batch_size, 1, 1, 512)\n",
    "    # ]\n",
    "    down_stack = [\n",
    "        downsample(64, 4, apply_batchnorm=False),  # (batch_size, 128, 128, 64)\n",
    "        downsample(128, 4),  # (batch_size, 64, 64, 128)\n",
    "        downsample(256, 4),  # (batch_size, 32, 32, 256)\n",
    "        downsample(512, 4),  # (batch_size, 16, 16, 512)\n",
    "        downsample(512, 4),  # (batch_size, 8, 8, 512)\n",
    "        downsample(512, 4),  # (batch_size, 4, 4, 512)\n",
    "        downsample(512, 4),  # (batch_size, 2, 2, 512)\n",
    "        # downsample(512, 4),  # (batch_size, 1, 1, 512)\n",
    "    ]\n",
    "\n",
    "    # up_stack = [\n",
    "    #     # upsample(512, 4, apply_dropout=True),  # (batch_size, 2, 2, 1024)\n",
    "    #     upsample(512, 3, apply_dropout=True),  # (batch_size, 4, 4, 1024)\n",
    "    #     upsample(512, 3, apply_dropout=False),  # (batch_size, 8, 8, 1024)\n",
    "    #     upsample(512, 3),  # (batch_size, 16, 16, 1024)\n",
    "    #     upsample(256, 3),  # (batch_size, 32, 32, 512)\n",
    "    #     upsample(128, 3),  # (batch_size, 64, 64, 256)\n",
    "    #     upsample(64, 3),  # (batch_size, 128, 128, 128)\n",
    "    # ]\n",
    "\n",
    "    up_stack = [\n",
    "        upsample(512, 4, apply_dropout=True),  # (batch_size, 2, 2, 1024)\n",
    "        upsample(512, 4, apply_dropout=True),  # (batch_size, 4, 4, 1024)\n",
    "        upsample(512, 4, apply_dropout=True),  # (batch_size, 8, 8, 1024)\n",
    "        upsample(512, 4),  # (batch_size, 16, 16, 1024)\n",
    "        upsample(256, 4),  # (batch_size, 32, 32, 512)\n",
    "        upsample(128, 4),  # (batch_size, 64, 64, 256)\n",
    "        # upsample(64, 4),  # (batch_size, 128, 128, 128)\n",
    "    ]\n",
    "\n",
    "    \n",
    "    initializer = tf.random_normal_initializer(0., 0.02)\n",
    "    last = tf.keras.layers.Conv2DTranspose(OUTPUT_CHANNELS, 3,\n",
    "                                            strides=2,\n",
    "                                            padding='same',\n",
    "                                            kernel_initializer=initializer,\n",
    "                                            activation='sigmoid')  # (batch_size, 256, 256, 3)\n",
    "\n",
    "    x = inputs\n",
    "\n",
    "    # Downsampling through the model\n",
    "    skips = []\n",
    "    for down in down_stack:\n",
    "        x = down(x)\n",
    "        skips.append(x)\n",
    "\n",
    "    skips = reversed(skips[:-1])\n",
    "\n",
    "    # Upsampling and establishing the skip connections\n",
    "    for up, skip in zip(up_stack, skips):\n",
    "        x = up(x)\n",
    "        x = tf.keras.layers.Concatenate()([x, skip])\n",
    "\n",
    "    # x = last(x)\n",
    "    # x = 1.0 + (10.0 - 1.0)*x \n",
    "\n",
    "    upsampling = tf.keras.layers.UpSampling2D(size=2, interpolation = 'bilinear')\n",
    "    # last_conv = tf.keras.layers.Conv2D(1, kernel_size=3, strides=1, padding='same', activation='relu')\n",
    "    last_conv = tf.keras.layers.Conv2D(1, kernel_size=3, strides=1, padding='same', activation='sigmoid')\n",
    "    multiply = tf.keras.layers.Lambda(lambda x: 0.1 + (5.0 - 0.1)*x)\n",
    "    \n",
    "    x = upsampling(x)\n",
    "    x = last_conv(x)\n",
    "    x = multiply(x)\n",
    "    \n",
    "    # x = 0.1 + (10.0 - 0.1)*x\n",
    "    # this one for both!\n",
    "\n",
    "    return tf.keras.Model(inputs=inputs, outputs=x)"
   ]
  },
  {
   "cell_type": "code",
   "execution_count": 43,
   "id": "65ab5a3c-90c2-4ccc-9485-e28cf10868d3",
   "metadata": {},
   "outputs": [],
   "source": [
    "# Visualizing generator architecture\n",
    "generator = Generator()\n",
    "# tf.keras.utils.plot_model(generator, show_shapes=True, dpi=64)"
   ]
  },
  {
   "cell_type": "code",
   "execution_count": 44,
   "id": "61dd1010-9fa2-4473-81aa-4b88a531fd10",
   "metadata": {},
   "outputs": [
    {
     "data": {
      "text/plain": [
       "<matplotlib.image.AxesImage at 0x7fb22c65e7f0>"
      ]
     },
     "execution_count": 44,
     "metadata": {},
     "output_type": "execute_result"
    },
    {
     "data": {
      "image/png": "[encoded data removed]",
      "text/plain": [
       "<Figure size 640x480 with 1 Axes>"
      ]
     },
     "metadata": {},
     "output_type": "display_data"
    }
   ],
   "source": [
    "# Testing the generator\n",
    "gen_output = generator(inp[tf.newaxis, ...], training=False)\n",
    "plt.imshow(gen_output[0, ...])"
   ]
  },
  {
   "cell_type": "code",
   "execution_count": 45,
   "id": "ec872ec5-6f09-4172-bf9a-dcb5245d7d02",
   "metadata": {},
   "outputs": [],
   "source": [
    "# gen_output[0]"
   ]
  },
  {
   "cell_type": "code",
   "execution_count": 46,
   "id": "d280517f-13e9-4259-b374-d2b9c68d8ae8",
   "metadata": {},
   "outputs": [
    {
     "data": {
      "text/plain": [
       "TensorShape([1, 128, 128, 1])"
      ]
     },
     "execution_count": 46,
     "metadata": {},
     "output_type": "execute_result"
    }
   ],
   "source": [
    "gen_output.shape"
   ]
  },
  {
   "cell_type": "code",
   "execution_count": null,
   "id": "b4f50e15-16bf-41ce-8209-45a50d9b386f",
   "metadata": {},
   "outputs": [],
   "source": []
  },
  {
   "cell_type": "code",
   "execution_count": 47,
   "id": "8d25002d-d516-467f-8f61-2117b75604b7",
   "metadata": {},
   "outputs": [],
   "source": [
    "# Generator loss\n",
    "LAMBDA = 100\n",
    "loss_object = tf.keras.losses.MeanSquaredError()\n",
    "loss_tracker = tf.keras.metrics.Mean(name=\"loss\")\n",
    "val_loss_tracker = tf.keras.metrics.Mean(name=\"loss\")"
   ]
  },
  {
   "cell_type": "code",
   "execution_count": 48,
   "id": "aa66de45-639b-42bb-93f9-0db859c198a0",
   "metadata": {},
   "outputs": [],
   "source": [
    "def generator_loss(gen_output, target):\n",
    "    #Possible addition: regularizer\n",
    "    gan_loss = loss_object(gen_output, target)\n",
    "    return gan_loss"
   ]
  },
  {
   "cell_type": "code",
   "execution_count": 49,
   "id": "33fa0d4c-67a5-48ab-9bdd-3cf3b37f2ff6",
   "metadata": {},
   "outputs": [],
   "source": [
    "# tf.keras.utils.plot_model(generator, show_shapes=True, dpi=64, to_file='results/model.png')"
   ]
  },
  {
   "cell_type": "code",
   "execution_count": 50,
   "id": "6b5c6410-aecd-455f-99f7-3b497493e063",
   "metadata": {},
   "outputs": [
    {
     "data": {
      "text/plain": [
       "<tf.Tensor: shape=(), dtype=float32, numpy=2.453118>"
      ]
     },
     "execution_count": 50,
     "metadata": {},
     "output_type": "execute_result"
    }
   ],
   "source": [
    "generator_loss(gen_output, re[tf.newaxis,...])"
   ]
  },
  {
   "cell_type": "code",
   "execution_count": 51,
   "id": "e4530291-a521-48d9-aada-03ddfbd33e74",
   "metadata": {},
   "outputs": [
    {
     "data": {
      "text/plain": [
       "TensorShape([1, 128, 128, 1])"
      ]
     },
     "execution_count": 51,
     "metadata": {},
     "output_type": "execute_result"
    }
   ],
   "source": [
    "re[tf.newaxis,...].shape"
   ]
  },
  {
   "cell_type": "code",
   "execution_count": 52,
   "id": "5d8ffbcd-d7dd-4c0e-acf2-0159b07a72ce",
   "metadata": {},
   "outputs": [
    {
     "data": {
      "text/plain": [
       "TensorShape([1, 128, 128, 1])"
      ]
     },
     "execution_count": 52,
     "metadata": {},
     "output_type": "execute_result"
    }
   ],
   "source": [
    "gen_output.shape"
   ]
  },
  {
   "attachments": {},
   "cell_type": "markdown",
   "id": "e1121ae4-74d5-4707-bda4-594153863e19",
   "metadata": {},
   "source": [
    "### Optimizers and checkpoints"
   ]
  },
  {
   "cell_type": "code",
   "execution_count": 53,
   "id": "7a8c033c-5049-439c-865d-51cd5fe233a5",
   "metadata": {},
   "outputs": [],
   "source": [
    "generator_optimizer = tf.keras.optimizers.legacy.Adam(2e-4, beta_1=0.5)\n",
    "# discriminator_optimizer = tf.keras.optimizers.Adam(2e-4, beta_1=0.5)"
   ]
  },
  {
   "cell_type": "code",
   "execution_count": 54,
   "id": "9fa39442-7f64-45ea-9f18-e349ce736555",
   "metadata": {},
   "outputs": [],
   "source": [
    "checkpoint_dir = 'training_checkpoints/'\n",
    "checkpoint_prefix = os.path.join(checkpoint_dir, \"ckpt\")\n",
    "checkpoint = tf.train.Checkpoint(generator_optimizer=generator_optimizer,\n",
    "                                 generator=generator,\n",
    "                                )"
   ]
  },
  {
   "cell_type": "code",
   "execution_count": 55,
   "id": "68da0e83-3db7-4df1-afba-78c9c7203138",
   "metadata": {},
   "outputs": [],
   "source": [
    "class MidPointLogNorm(mcolors.LogNorm):\n",
    "    def __init__(self, vmin=None, vmax=None, midpoint=None, clip=False):\n",
    "        mcolors.LogNorm.__init__(self,vmin=vmin, vmax=vmax, clip=clip)\n",
    "        self.midpoint=midpoint\n",
    "    def __call__(self, value, clip=None):\n",
    "        # I'm ignoring masked values and all kinds of edge cases to make a\n",
    "        # simple example...\n",
    "        x, y = [np.log(self.vmin), np.log(self.midpoint), np.log(self.vmax)], [0, 0.5, 1]\n",
    "        return np.ma.masked_array(np.interp(np.log(value), x, y))"
   ]
  },
  {
   "cell_type": "code",
   "execution_count": 68,
   "id": "772c62e8-32e2-46e0-af5b-beb06d470c81",
   "metadata": {},
   "outputs": [],
   "source": [
    "def generate_images(model, test_input, tar, epoch, step):\n",
    "    prediction = model(test_input, training=True)\n",
    "    display_list = [test_input[0], tar[0], prediction[0]]\n",
    "    mse_loss = tf.keras.losses.MeanSquaredError()(tar[0], prediction[0]).numpy()\n",
    "    mape_loss = tf.keras.losses.MeanAbsolutePercentageError()(tar[0], prediction[0]).numpy()\n",
    "    title = ['Input Image', 'Ground Truth', f'Predicted {mse_loss:.2f} {mape_loss:.2f}%']\n",
    "    for i in range(3):\n",
    "        plt.subplot(1, 3, i+1)\n",
    "        plt.title(title[i])\n",
    "        plt.imshow(display_list[i], cmap='gray')\n",
    "        plt.colorbar(location='bottom')\n",
    "        plt.axis('off')\n",
    "    plt.savefig(f'results/training_plots/{epoch}-{step}.png')"
   ]
  },
  {
   "cell_type": "code",
   "execution_count": 69,
   "id": "2bed7ce8-eaf3-4265-9faa-2e147ac2817a",
   "metadata": {},
   "outputs": [
    {
     "data": {
      "text/plain": [
       "<Figure size 640x480 with 0 Axes>"
      ]
     },
     "metadata": {},
     "output_type": "display_data"
    }
   ],
   "source": [
    "plt.tight_layout()\n",
    "def generate_images8(model, test_input, tar, epoch, step):\n",
    "    prediction = model(test_input, training=False)\n",
    "    x = prediction.numpy()\n",
    "    if np.amax(x) > 1.0:\n",
    "        x[x < 1.0] = 1.0\n",
    "    else:\n",
    "        x[x > 1.0] = 1.0\n",
    "\n",
    "    display_list = [test_input[0], tar[0], x[0]]\n",
    "    mse_loss = tf.keras.losses.MeanSquaredError()(tar[0], prediction[0]).numpy()\n",
    "    mape_loss = tf.keras.losses.MeanAbsolutePercentageError()(tar[0], prediction[0]).numpy()\n",
    "    title = ['Input Image', 'Ground Truth', f'Predicted'] #{mse_loss:.2f} {mape_loss:.2f}%\n",
    "    plt.figure(figsize=(15, 8))\n",
    "\n",
    "    for i in range(3):\n",
    "        plt.subplot(1, 3, i+1)\n",
    "        plt.title(title[i], fontsize=25)\n",
    "        if i==0:\n",
    "            plt.imshow(display_list[i], cmap='bwr')\n",
    "            plt.colorbar(location='bottom',pad=0.1)\n",
    "        else:\n",
    "            plt.imshow(display_list[i], cmap='bwr', norm= MidPointLogNorm(vmin=0.1, vmax=5, midpoint=1))\n",
    "            plt.colorbar(location='bottom',pad=0.1)\n",
    "        plt.axis('on')\n",
    "    plt.savefig(f'{RESULTS_FOLDER}/training_plots/{epoch}-{step}.png', bbox_inches='tight')\n",
    "    plt.close()\n",
    "\n",
    "    # plt.imshow(target[i][0], cmap='bwr', norm= MidPointLogNorm(vmin=0.1, vmax=5, midpoint=1))\n",
    "    # plt.colorbar(location='bottom', pad=0.05)\n",
    "    # plt.suptitle('Modulus distribution', x=0.5, y = 0.48, fontsize=15)"
   ]
  },
  {
   "cell_type": "code",
   "execution_count": 71,
   "id": "833ca605-d2f5-4fde-991d-711b08047f40",
   "metadata": {},
   "outputs": [
    {
     "name": "stderr",
     "output_type": "stream",
     "text": [
      "2023-07-28 09:31:23.177950: I tensorflow/core/common_runtime/executor.cc:1197] [/device:CPU:0] (DEBUG INFO) Executor start aborting (this does not indicate an error and you can ignore this message): INVALID_ARGUMENT: You must feed a value for placeholder tensor 'Placeholder/_1' with dtype string and shape [1000]\n",
      "\t [[{{node Placeholder/_1}}]]\n",
      "2023-07-28 09:31:23.178310: I tensorflow/core/common_runtime/executor.cc:1197] [/device:CPU:0] (DEBUG INFO) Executor start aborting (this does not indicate an error and you can ignore this message): INVALID_ARGUMENT: You must feed a value for placeholder tensor 'Placeholder/_1' with dtype string and shape [1000]\n",
      "\t [[{{node Placeholder/_1}}]]\n"
     ]
    }
   ],
   "source": [
    "for example_input, example_target in val_dataset.take(1):\n",
    "    generate_images8(generator, example_input, example_target,6,6)"
   ]
  },
  {
   "cell_type": "code",
   "execution_count": 72,
   "id": "8cdd81a0-5e63-419e-b0ea-21a0bbf77d36",
   "metadata": {},
   "outputs": [],
   "source": [
    "# for i, (example_input, example_target) in enumerate(val_dataset.take(1000)):\n",
    "#     if i+1 == 49 or i+1 == 174:\n",
    "#         generate_images8(generator, example_input, example_target,i+1,i+1)"
   ]
  },
  {
   "cell_type": "code",
   "execution_count": null,
   "id": "0719e570-e6c1-489e-9f47-58fd223af60f",
   "metadata": {},
   "outputs": [],
   "source": []
  },
  {
   "cell_type": "code",
   "execution_count": null,
   "id": "b55e683e-0b76-4525-89c5-8f66e75d0882",
   "metadata": {},
   "outputs": [],
   "source": []
  },
  {
   "cell_type": "code",
   "execution_count": null,
   "id": "6bdf9d0c-4244-433f-97df-1b92891264c0",
   "metadata": {},
   "outputs": [],
   "source": []
  },
  {
   "cell_type": "code",
   "execution_count": null,
   "id": "efd38d18-0f65-4a31-9ac1-b66fe68e9a3e",
   "metadata": {},
   "outputs": [],
   "source": []
  },
  {
   "attachments": {},
   "cell_type": "markdown",
   "id": "e879447d-b9cf-4638-9dc6-150e086ff328",
   "metadata": {},
   "source": [
    "### Training"
   ]
  },
  {
   "cell_type": "code",
   "execution_count": 73,
   "id": "cabe3899-1b8e-4f39-8948-35c65b23531b",
   "metadata": {},
   "outputs": [],
   "source": [
    "MODEL_PATH = f\"{RESULTS_FOLDER}/model_weights/mse_model\"\n",
    "BEST_PATH = f\"{RESULTS_FOLDER}/model_weights/best_mse_model\""
   ]
  },
  {
   "cell_type": "code",
   "execution_count": 74,
   "id": "7bcfec04-9706-4323-95ea-9d8dbff9bcc9",
   "metadata": {},
   "outputs": [],
   "source": [
    "log_dir=f\"{RESULTS_FOLDER}/logs/\"\n",
    "summary_writer = tf.summary.create_file_writer(log_dir + \"fit/\" + datetime.datetime.now().strftime(\"%Y%m%d-%H%M%S\"))\n",
    "gen_total_loss_list = []\n",
    "gen_val_loss_list = []"
   ]
  },
  {
   "cell_type": "code",
   "execution_count": 75,
   "id": "483308e7-2097-4290-bd44-9d46db73aa9e",
   "metadata": {},
   "outputs": [],
   "source": [
    "# @tf.function\n",
    "def train_step(input_image, target, step):\n",
    "    with tf.GradientTape() as gen_tape:\n",
    "        gen_output = generator(input_image, training=True)\n",
    "        gen_total_loss = generator_loss(gen_output, target)\n",
    "\n",
    "    generator_gradients = gen_tape.gradient(gen_total_loss, generator.trainable_variables)\n",
    "    generator_optimizer.apply_gradients(zip(generator_gradients, generator.trainable_variables))\n",
    "    \n",
    "    if step%5 == 0:\n",
    "        gen_total_loss_list.append(gen_total_loss.numpy())\n",
    "        loss_tracker.update_state(gen_total_loss)\n",
    "    # print(f'Result:{loss_tracker.result()}')\n",
    "\n",
    "    # with summary_writer.as_default():\n",
    "    #     tf.summary.scalar('gen_total_loss', gen_total_loss, step=step//1000)"
   ]
  },
  {
   "cell_type": "code",
   "execution_count": 76,
   "id": "9be27718-f134-42e7-b4b7-ec9ee2fd6536",
   "metadata": {},
   "outputs": [],
   "source": [
    "def val_step(input_image, target, step):\n",
    "    gen_output = generator(input_image, training=False)\n",
    "    gen_val_loss = generator_loss(gen_output, target)\n",
    "    gen_val_loss_list.append(gen_val_loss)\n",
    "    val_loss_tracker.update_state(gen_val_loss)\n",
    "\n",
    "    # print(gen_val_loss)"
   ]
  },
  {
   "cell_type": "code",
   "execution_count": null,
   "id": "85c91e49-1b8c-4c5d-9f78-d5ad48427c70",
   "metadata": {},
   "outputs": [],
   "source": []
  },
  {
   "cell_type": "code",
   "execution_count": 77,
   "id": "c970e2eb-6c9a-465b-a1fc-acf3a8673a8d",
   "metadata": {},
   "outputs": [],
   "source": [
    "min_val_loss = 100000;"
   ]
  },
  {
   "cell_type": "code",
   "execution_count": 78,
   "id": "69922983-99ee-4a25-ada1-c8037eff7300",
   "metadata": {},
   "outputs": [],
   "source": [
    "epoch_wise_train_loss = []\n",
    "epoch_wise_val_loss = []"
   ]
  },
  {
   "cell_type": "code",
   "execution_count": 79,
   "id": "172f5cf2-d2e0-4c5e-84a6-e7813659ebac",
   "metadata": {},
   "outputs": [],
   "source": [
    "def fit(train_ds, val_ds, epochs, steps=10*len(train_dataset)):\n",
    "    example_input, example_target = next(iter(train_ds.take(1)))\n",
    "    start = time.time()\n",
    "    min_val_loss = 1000\n",
    "    \n",
    "    for epoch in range(epochs):\n",
    "        for step, (input_image, target) in train_ds.repeat().take(steps).enumerate():\n",
    "            train_step(input_image, target, step)\n",
    "            if (step)%100==0:\n",
    "                # 3 times per batch \n",
    "                for (input_image, target) in val_ds.take(500):\n",
    "                    val_step(input_image, target, step)\n",
    "            # display.clear_output(wait=True)\n",
    "\n",
    "        ## Save best model\n",
    "        current_loss = val_loss_tracker.result().numpy()\n",
    "        print(\"current loss\",current_loss)\n",
    "        print(\"Min vall loss\",min_val_loss)\n",
    "        if(current_loss < min_val_loss and epoch > 2):\n",
    "            min_val_loss = current_loss\n",
    "            generator.save_weights(BEST_PATH)\n",
    "            print(f\"Saving best weight with val loss:{min_val_loss} to {BEST_PATH}\")\n",
    "\n",
    "        if (epoch) % 10 == 0:\n",
    "            # display.clear_output(wait=True)\n",
    "            if epoch != 0:\n",
    "                print(f'Time taken for 10 epochs: {time.time()-start:.2f} sec\\n')\n",
    "            start = time.time()\n",
    "            generate_images(generator, example_input, example_target, epoch, step)\n",
    "            print(f\"Reached epoch: {epoch}\")\n",
    "            # generate_images2(generator, exp_img, epoch, step)    \n",
    "\n",
    "        # Save (checkpoint) the model every 25 EPOCH\n",
    "        if (epoch)%25 == 0:\n",
    "            print(f\"Saving checkpoint at epoch:{epoch}\")\n",
    "            checkpoint.save(file_prefix=checkpoint_prefix)\n",
    "            print(f\"Step: {step}, Train Loss:{loss_tracker.result()} , Val Loss:{val_loss_tracker.result()}\")\n",
    "        \n",
    "        print(f\"Epoch: {epoch}, Train Loss:{loss_tracker.result()} , Val Loss:{val_loss_tracker.result()}\")\n",
    "        epoch_wise_train_loss.append(loss_tracker.result())\n",
    "        epoch_wise_val_loss.append(val_loss_tracker.result())\n",
    "        loss_tracker.reset_states()\n",
    "        val_loss_tracker.reset_states()\n",
    "\n",
    "    generator.save_weights(MODEL_PATH)\n",
    "    print(f'\\nModel saved to: {MODEL_PATH}')\n",
    "    print('min_val_loss',min_val_loss)\n",
    "    with open(f'{RESULTS_FOLDER}/loss.txt','w') as f:\n",
    "        f.write(str(min_val_loss))\n",
    "        f.write(\"epoch\")\n",
    "        f.write(str(epoch))"
   ]
  },
  {
   "cell_type": "code",
   "execution_count": null,
   "id": "5a25416f-8ac0-4b43-a241-0d6b73f5ebfb",
   "metadata": {},
   "outputs": [],
   "source": []
  },
  {
   "cell_type": "code",
   "execution_count": null,
   "id": "86098f7d-2edf-46e6-bee1-75e908c9944f",
   "metadata": {},
   "outputs": [],
   "source": []
  },
  {
   "cell_type": "code",
   "execution_count": 80,
   "id": "470e7c8c-c6b1-4457-bbb8-d84d86dabfe1",
   "metadata": {
    "scrolled": true
   },
   "outputs": [
    {
     "name": "stderr",
     "output_type": "stream",
     "text": [
      "2023-07-28 09:34:38.875556: I tensorflow/core/common_runtime/executor.cc:1197] [/device:CPU:0] (DEBUG INFO) Executor start aborting (this does not indicate an error and you can ignore this message): INVALID_ARGUMENT: You must feed a value for placeholder tensor 'Placeholder/_0' with dtype string and shape [10000]\n",
      "\t [[{{node Placeholder/_0}}]]\n",
      "2023-07-28 09:34:40.545761: I tensorflow/core/grappler/optimizers/data/replicate_on_split.cc:32] Running replicate on split optimization\n",
      "2023-07-28 09:34:40.567099: I tensorflow/core/common_runtime/executor.cc:1197] [/device:CPU:0] (DEBUG INFO) Executor start aborting (this does not indicate an error and you can ignore this message): INVALID_ARGUMENT: You must feed a value for placeholder tensor 'Placeholder/_5' with dtype string and shape [10000]\n",
      "\t [[{{node Placeholder/_5}}]]\n",
      "2023-07-28 09:35:07.628822: W tensorflow/compiler/xla/service/gpu/llvm_gpu_backend/gpu_backend_lib.cc:530] Can't find libdevice directory ${CUDA_DIR}/nvvm/libdevice. This may result in compilation or runtime failures, if the program we try to run uses routines from libdevice.\n",
      "Searched for CUDA in the following directories:\n",
      "  ./cuda_sdk_lib\n",
      "  /usr/local/cuda-11.8\n",
      "  /usr/local/cuda\n",
      "  .\n",
      "You can choose the search directory by setting xla_gpu_cuda_data_dir in HloModule's DebugOptions.  For most apps, setting the environment variable XLA_FLAGS=--xla_gpu_cuda_data_dir=/path/to/cuda will work.\n",
      "2023-07-28 09:35:07.809779: W tensorflow/compiler/xla/stream_executor/gpu/asm_compiler.cc:109] Couldn't get ptxas version : FAILED_PRECONDITION: Couldn't get ptxas/nvlink version string: INTERNAL: Running ptxas --version returned 32512\n",
      "2023-07-28 09:35:07.892678: W tensorflow/compiler/xla/stream_executor/gpu/asm_compiler.cc:109] Couldn't get ptxas version : FAILED_PRECONDITION: Couldn't get ptxas/nvlink version string: INTERNAL: Running ptxas --version returned 32512\n",
      "2023-07-28 09:35:07.948637: W tensorflow/compiler/mlir/tools/kernel_gen/transforms/gpu_kernel_to_blob_pass.cc:189] Failed to compile generated PTX with ptxas. Falling back to compilation by driver.\n",
      "2023-07-28 09:35:07.987853: W tensorflow/compiler/mlir/tools/kernel_gen/transforms/gpu_kernel_to_blob_pass.cc:189] Failed to compile generated PTX with ptxas. Falling back to compilation by driver.\n",
      "2023-07-28 09:35:08.036242: W tensorflow/compiler/xla/stream_executor/gpu/asm_compiler.cc:109] Couldn't get ptxas version : FAILED_PRECONDITION: Couldn't get ptxas/nvlink version string: INTERNAL: Running ptxas --version returned 32512\n",
      "2023-07-28 09:35:08.131017: W tensorflow/compiler/xla/stream_executor/gpu/asm_compiler.cc:109] Couldn't get ptxas version : FAILED_PRECONDITION: Couldn't get ptxas/nvlink version string: INTERNAL: Running ptxas --version returned 32512\n",
      "2023-07-28 09:35:08.164679: W tensorflow/compiler/mlir/tools/kernel_gen/transforms/gpu_kernel_to_blob_pass.cc:189] Failed to compile generated PTX with ptxas. Falling back to compilation by driver.\n",
      "2023-07-28 09:35:08.217221: W tensorflow/compiler/mlir/tools/kernel_gen/transforms/gpu_kernel_to_blob_pass.cc:189] Failed to compile generated PTX with ptxas. Falling back to compilation by driver.\n",
      "2023-07-28 09:35:08.254601: W tensorflow/compiler/xla/stream_executor/gpu/asm_compiler.cc:109] Couldn't get ptxas version : FAILED_PRECONDITION: Couldn't get ptxas/nvlink version string: INTERNAL: Running ptxas --version returned 32512\n",
      "2023-07-28 09:35:08.336169: W tensorflow/compiler/xla/stream_executor/gpu/asm_compiler.cc:109] Couldn't get ptxas version : FAILED_PRECONDITION: Couldn't get ptxas/nvlink version string: INTERNAL: Running ptxas --version returned 32512\n",
      "2023-07-28 09:35:08.373169: W tensorflow/compiler/mlir/tools/kernel_gen/transforms/gpu_kernel_to_blob_pass.cc:189] Failed to compile generated PTX with ptxas. Falling back to compilation by driver.\n",
      "2023-07-28 09:35:08.431034: W tensorflow/compiler/mlir/tools/kernel_gen/transforms/gpu_kernel_to_blob_pass.cc:189] Failed to compile generated PTX with ptxas. Falling back to compilation by driver.\n",
      "2023-07-28 09:35:08.464096: W tensorflow/compiler/xla/stream_executor/gpu/asm_compiler.cc:109] Couldn't get ptxas version : FAILED_PRECONDITION: Couldn't get ptxas/nvlink version string: INTERNAL: Running ptxas --version returned 32512\n",
      "2023-07-28 09:35:08.546129: W tensorflow/compiler/xla/stream_executor/gpu/asm_compiler.cc:109] Couldn't get ptxas version : FAILED_PRECONDITION: Couldn't get ptxas/nvlink version string: INTERNAL: Running ptxas --version returned 32512\n",
      "2023-07-28 09:35:08.582846: W tensorflow/compiler/mlir/tools/kernel_gen/transforms/gpu_kernel_to_blob_pass.cc:189] Failed to compile generated PTX with ptxas. Falling back to compilation by driver.\n",
      "2023-07-28 09:35:08.630849: W tensorflow/compiler/mlir/tools/kernel_gen/transforms/gpu_kernel_to_blob_pass.cc:189] Failed to compile generated PTX with ptxas. Falling back to compilation by driver.\n",
      "2023-07-28 09:35:08.677018: W tensorflow/compiler/xla/stream_executor/gpu/asm_compiler.cc:109] Couldn't get ptxas version : FAILED_PRECONDITION: Couldn't get ptxas/nvlink version string: INTERNAL: Running ptxas --version returned 32512\n",
      "2023-07-28 09:35:08.758862: W tensorflow/compiler/xla/stream_executor/gpu/asm_compiler.cc:109] Couldn't get ptxas version : FAILED_PRECONDITION: Couldn't get ptxas/nvlink version string: INTERNAL: Running ptxas --version returned 32512\n",
      "2023-07-28 09:35:08.795517: W tensorflow/compiler/mlir/tools/kernel_gen/transforms/gpu_kernel_to_blob_pass.cc:189] Failed to compile generated PTX with ptxas. Falling back to compilation by driver.\n",
      "2023-07-28 09:35:08.846853: W tensorflow/compiler/mlir/tools/kernel_gen/transforms/gpu_kernel_to_blob_pass.cc:189] Failed to compile generated PTX with ptxas. Falling back to compilation by driver.\n",
      "2023-07-28 09:35:08.888172: W tensorflow/compiler/xla/stream_executor/gpu/asm_compiler.cc:109] Couldn't get ptxas version : FAILED_PRECONDITION: Couldn't get ptxas/nvlink version string: INTERNAL: Running ptxas --version returned 32512\n",
      "2023-07-28 09:35:08.969996: W tensorflow/compiler/xla/stream_executor/gpu/asm_compiler.cc:109] Couldn't get ptxas version : FAILED_PRECONDITION: Couldn't get ptxas/nvlink version string: INTERNAL: Running ptxas --version returned 32512\n",
      "2023-07-28 09:35:09.006470: W tensorflow/compiler/mlir/tools/kernel_gen/transforms/gpu_kernel_to_blob_pass.cc:189] Failed to compile generated PTX with ptxas. Falling back to compilation by driver.\n",
      "2023-07-28 09:35:09.055232: W tensorflow/compiler/mlir/tools/kernel_gen/transforms/gpu_kernel_to_blob_pass.cc:189] Failed to compile generated PTX with ptxas. Falling back to compilation by driver.\n",
      "2023-07-28 09:35:09.099145: W tensorflow/compiler/xla/stream_executor/gpu/asm_compiler.cc:109] Couldn't get ptxas version : FAILED_PRECONDITION: Couldn't get ptxas/nvlink version string: INTERNAL: Running ptxas --version returned 32512\n",
      "2023-07-28 09:35:09.180405: W tensorflow/compiler/mlir/tools/kernel_gen/transforms/gpu_kernel_to_blob_pass.cc:189] Failed to compile generated PTX with ptxas. Falling back to compilation by driver.\n",
      "2023-07-28 09:35:09.632172: I tensorflow/core/common_runtime/executor.cc:1197] [/device:CPU:0] (DEBUG INFO) Executor start aborting (this does not indicate an error and you can ignore this message): INVALID_ARGUMENT: You must feed a value for placeholder tensor 'Placeholder/_1' with dtype string and shape [1000]\n",
      "\t [[{{node Placeholder/_1}}]]\n",
      "2023-07-28 09:35:37.894902: I tensorflow/core/common_runtime/executor.cc:1197] [/device:CPU:0] (DEBUG INFO) Executor start aborting (this does not indicate an error and you can ignore this message): INVALID_ARGUMENT: You must feed a value for placeholder tensor 'Placeholder/_1' with dtype string and shape [1000]\n",
      "\t [[{{node Placeholder/_1}}]]\n",
      "2023-07-28 09:36:04.775678: I tensorflow/core/common_runtime/executor.cc:1197] [/device:CPU:0] (DEBUG INFO) Executor start aborting (this does not indicate an error and you can ignore this message): INVALID_ARGUMENT: You must feed a value for placeholder tensor 'Placeholder/_1' with dtype string and shape [1000]\n",
      "\t [[{{node Placeholder/_1}}]]\n",
      "2023-07-28 09:36:31.692886: I tensorflow/core/common_runtime/executor.cc:1197] [/device:CPU:0] (DEBUG INFO) Executor start aborting (this does not indicate an error and you can ignore this message): INVALID_ARGUMENT: You must feed a value for placeholder tensor 'Placeholder/_1' with dtype string and shape [1000]\n",
      "\t [[{{node Placeholder/_1}}]]\n",
      "2023-07-28 09:36:59.374817: I tensorflow/core/common_runtime/executor.cc:1197] [/device:CPU:0] (DEBUG INFO) Executor start aborting (this does not indicate an error and you can ignore this message): INVALID_ARGUMENT: You must feed a value for placeholder tensor 'Placeholder/_1' with dtype string and shape [1000]\n",
      "\t [[{{node Placeholder/_1}}]]\n",
      "2023-07-28 09:37:25.317800: I tensorflow/core/common_runtime/executor.cc:1197] [/device:CPU:0] (DEBUG INFO) Executor start aborting (this does not indicate an error and you can ignore this message): INVALID_ARGUMENT: You must feed a value for placeholder tensor 'Placeholder/_1' with dtype string and shape [1000]\n",
      "\t [[{{node Placeholder/_1}}]]\n",
      "2023-07-28 09:37:50.970638: I tensorflow/core/common_runtime/executor.cc:1197] [/device:CPU:0] (DEBUG INFO) Executor start aborting (this does not indicate an error and you can ignore this message): INVALID_ARGUMENT: You must feed a value for placeholder tensor 'Placeholder/_1' with dtype string and shape [1000]\n",
      "\t [[{{node Placeholder/_1}}]]\n",
      "2023-07-28 09:38:16.660135: I tensorflow/core/common_runtime/executor.cc:1197] [/device:CPU:0] (DEBUG INFO) Executor start aborting (this does not indicate an error and you can ignore this message): INVALID_ARGUMENT: You must feed a value for placeholder tensor 'Placeholder/_1' with dtype string and shape [1000]\n",
      "\t [[{{node Placeholder/_1}}]]\n"
     ]
    },
    {
     "name": "stdout",
     "output_type": "stream",
     "text": [
      "current loss 0.85416067\n",
      "Min vall loss 1000\n",
      "Reached epoch: 0\n",
      "Saving checkpoint at epoch:0\n",
      "Step: 789, Train Loss:0.06414221227169037 , Val Loss:0.8541606664657593\n",
      "Epoch: 0, Train Loss:0.06414221227169037 , Val Loss:0.8541606664657593\n"
     ]
    },
    {
     "name": "stderr",
     "output_type": "stream",
     "text": [
      "2023-07-28 09:38:41.913258: I tensorflow/core/grappler/optimizers/data/replicate_on_split.cc:32] Running replicate on split optimization\n",
      "2023-07-28 09:38:41.916255: I tensorflow/core/common_runtime/executor.cc:1197] [/device:CPU:0] (DEBUG INFO) Executor start aborting (this does not indicate an error and you can ignore this message): INVALID_ARGUMENT: You must feed a value for placeholder tensor 'Placeholder/_5' with dtype string and shape [10000]\n",
      "\t [[{{node Placeholder/_5}}]]\n",
      "2023-07-28 09:38:43.575452: I tensorflow/core/common_runtime/executor.cc:1197] [/device:CPU:0] (DEBUG INFO) Executor start aborting (this does not indicate an error and you can ignore this message): INVALID_ARGUMENT: You must feed a value for placeholder tensor 'Placeholder/_1' with dtype string and shape [1000]\n",
      "\t [[{{node Placeholder/_1}}]]\n",
      "2023-07-28 09:39:10.173387: I tensorflow/core/common_runtime/executor.cc:1197] [/device:CPU:0] (DEBUG INFO) Executor start aborting (this does not indicate an error and you can ignore this message): INVALID_ARGUMENT: You must feed a value for placeholder tensor 'Placeholder/_1' with dtype string and shape [1000]\n",
      "\t [[{{node Placeholder/_1}}]]\n",
      "2023-07-28 09:39:36.899888: I tensorflow/core/common_runtime/executor.cc:1197] [/device:CPU:0] (DEBUG INFO) Executor start aborting (this does not indicate an error and you can ignore this message): INVALID_ARGUMENT: You must feed a value for placeholder tensor 'Placeholder/_1' with dtype string and shape [1000]\n",
      "\t [[{{node Placeholder/_1}}]]\n",
      "2023-07-28 09:40:03.581094: I tensorflow/core/common_runtime/executor.cc:1197] [/device:CPU:0] (DEBUG INFO) Executor start aborting (this does not indicate an error and you can ignore this message): INVALID_ARGUMENT: You must feed a value for placeholder tensor 'Placeholder/_1' with dtype string and shape [1000]\n",
      "\t [[{{node Placeholder/_1}}]]\n",
      "2023-07-28 09:40:30.208545: I tensorflow/core/common_runtime/executor.cc:1197] [/device:CPU:0] (DEBUG INFO) Executor start aborting (this does not indicate an error and you can ignore this message): INVALID_ARGUMENT: You must feed a value for placeholder tensor 'Placeholder/_1' with dtype string and shape [1000]\n",
      "\t [[{{node Placeholder/_1}}]]\n",
      "2023-07-28 09:40:55.719488: I tensorflow/core/common_runtime/executor.cc:1197] [/device:CPU:0] (DEBUG INFO) Executor start aborting (this does not indicate an error and you can ignore this message): INVALID_ARGUMENT: You must feed a value for placeholder tensor 'Placeholder/_1' with dtype string and shape [1000]\n",
      "\t [[{{node Placeholder/_1}}]]\n",
      "2023-07-28 09:41:21.329212: I tensorflow/core/common_runtime/executor.cc:1197] [/device:CPU:0] (DEBUG INFO) Executor start aborting (this does not indicate an error and you can ignore this message): INVALID_ARGUMENT: You must feed a value for placeholder tensor 'Placeholder/_1' with dtype string and shape [1000]\n",
      "\t [[{{node Placeholder/_1}}]]\n",
      "2023-07-28 09:41:46.952315: I tensorflow/core/common_runtime/executor.cc:1197] [/device:CPU:0] (DEBUG INFO) Executor start aborting (this does not indicate an error and you can ignore this message): INVALID_ARGUMENT: You must feed a value for placeholder tensor 'Placeholder/_1' with dtype string and shape [1000]\n",
      "\t [[{{node Placeholder/_1}}]]\n"
     ]
    },
    {
     "name": "stdout",
     "output_type": "stream",
     "text": [
      "current loss 0.018538397\n",
      "Min vall loss 1000\n",
      "Epoch: 1, Train Loss:0.012596243992447853 , Val Loss:0.018538396805524826\n"
     ]
    },
    {
     "name": "stderr",
     "output_type": "stream",
     "text": [
      "2023-07-28 09:42:11.131847: I tensorflow/core/grappler/optimizers/data/replicate_on_split.cc:32] Running replicate on split optimization\n",
      "2023-07-28 09:42:11.135008: I tensorflow/core/common_runtime/executor.cc:1197] [/device:CPU:0] (DEBUG INFO) Executor start aborting (this does not indicate an error and you can ignore this message): INVALID_ARGUMENT: You must feed a value for placeholder tensor 'Placeholder/_4' with dtype string and shape [10000]\n",
      "\t [[{{node Placeholder/_4}}]]\n",
      "2023-07-28 09:42:12.771063: I tensorflow/core/common_runtime/executor.cc:1197] [/device:CPU:0] (DEBUG INFO) Executor start aborting (this does not indicate an error and you can ignore this message): INVALID_ARGUMENT: You must feed a value for placeholder tensor 'Placeholder/_1' with dtype string and shape [1000]\n",
      "\t [[{{node Placeholder/_1}}]]\n",
      "2023-07-28 09:42:39.516303: I tensorflow/core/common_runtime/executor.cc:1197] [/device:CPU:0] (DEBUG INFO) Executor start aborting (this does not indicate an error and you can ignore this message): INVALID_ARGUMENT: You must feed a value for placeholder tensor 'Placeholder/_1' with dtype string and shape [1000]\n",
      "\t [[{{node Placeholder/_1}}]]\n",
      "2023-07-28 09:43:06.046653: I tensorflow/core/common_runtime/executor.cc:1197] [/device:CPU:0] (DEBUG INFO) Executor start aborting (this does not indicate an error and you can ignore this message): INVALID_ARGUMENT: You must feed a value for placeholder tensor 'Placeholder/_1' with dtype string and shape [1000]\n",
      "\t [[{{node Placeholder/_1}}]]\n",
      "2023-07-28 09:43:32.640207: I tensorflow/core/common_runtime/executor.cc:1197] [/device:CPU:0] (DEBUG INFO) Executor start aborting (this does not indicate an error and you can ignore this message): INVALID_ARGUMENT: You must feed a value for placeholder tensor 'Placeholder/_1' with dtype string and shape [1000]\n",
      "\t [[{{node Placeholder/_1}}]]\n",
      "2023-07-28 09:43:59.231712: I tensorflow/core/common_runtime/executor.cc:1197] [/device:CPU:0] (DEBUG INFO) Executor start aborting (this does not indicate an error and you can ignore this message): INVALID_ARGUMENT: You must feed a value for placeholder tensor 'Placeholder/_1' with dtype string and shape [1000]\n",
      "\t [[{{node Placeholder/_1}}]]\n",
      "2023-07-28 09:44:24.793388: I tensorflow/core/common_runtime/executor.cc:1197] [/device:CPU:0] (DEBUG INFO) Executor start aborting (this does not indicate an error and you can ignore this message): INVALID_ARGUMENT: You must feed a value for placeholder tensor 'Placeholder/_1' with dtype string and shape [1000]\n",
      "\t [[{{node Placeholder/_1}}]]\n",
      "2023-07-28 09:44:50.346123: I tensorflow/core/common_runtime/executor.cc:1197] [/device:CPU:0] (DEBUG INFO) Executor start aborting (this does not indicate an error and you can ignore this message): INVALID_ARGUMENT: You must feed a value for placeholder tensor 'Placeholder/_1' with dtype string and shape [1000]\n",
      "\t [[{{node Placeholder/_1}}]]\n",
      "2023-07-28 09:45:16.010584: I tensorflow/core/common_runtime/executor.cc:1197] [/device:CPU:0] (DEBUG INFO) Executor start aborting (this does not indicate an error and you can ignore this message): INVALID_ARGUMENT: You must feed a value for placeholder tensor 'Placeholder/_1' with dtype string and shape [1000]\n",
      "\t [[{{node Placeholder/_1}}]]\n"
     ]
    },
    {
     "name": "stdout",
     "output_type": "stream",
     "text": [
      "current loss 0.06059943\n",
      "Min vall loss 1000\n",
      "Epoch: 2, Train Loss:0.006775840185582638 , Val Loss:0.0605994313955307\n"
     ]
    },
    {
     "name": "stderr",
     "output_type": "stream",
     "text": [
      "2023-07-28 09:45:40.185522: I tensorflow/core/grappler/optimizers/data/replicate_on_split.cc:32] Running replicate on split optimization\n",
      "2023-07-28 09:45:40.188743: I tensorflow/core/common_runtime/executor.cc:1197] [/device:CPU:0] (DEBUG INFO) Executor start aborting (this does not indicate an error and you can ignore this message): INVALID_ARGUMENT: You must feed a value for placeholder tensor 'Placeholder/_4' with dtype string and shape [10000]\n",
      "\t [[{{node Placeholder/_4}}]]\n",
      "2023-07-28 09:45:41.814366: I tensorflow/core/common_runtime/executor.cc:1197] [/device:CPU:0] (DEBUG INFO) Executor start aborting (this does not indicate an error and you can ignore this message): INVALID_ARGUMENT: You must feed a value for placeholder tensor 'Placeholder/_1' with dtype string and shape [1000]\n",
      "\t [[{{node Placeholder/_1}}]]\n",
      "2023-07-28 09:46:08.625999: I tensorflow/core/common_runtime/executor.cc:1197] [/device:CPU:0] (DEBUG INFO) Executor start aborting (this does not indicate an error and you can ignore this message): INVALID_ARGUMENT: You must feed a value for placeholder tensor 'Placeholder/_1' with dtype string and shape [1000]\n",
      "\t [[{{node Placeholder/_1}}]]\n",
      "2023-07-28 09:46:35.234993: I tensorflow/core/common_runtime/executor.cc:1197] [/device:CPU:0] (DEBUG INFO) Executor start aborting (this does not indicate an error and you can ignore this message): INVALID_ARGUMENT: You must feed a value for placeholder tensor 'Placeholder/_1' with dtype string and shape [1000]\n",
      "\t [[{{node Placeholder/_1}}]]\n",
      "2023-07-28 09:47:01.994854: I tensorflow/core/common_runtime/executor.cc:1197] [/device:CPU:0] (DEBUG INFO) Executor start aborting (this does not indicate an error and you can ignore this message): INVALID_ARGUMENT: You must feed a value for placeholder tensor 'Placeholder/_1' with dtype string and shape [1000]\n",
      "\t [[{{node Placeholder/_1}}]]\n",
      "2023-07-28 09:47:28.659875: I tensorflow/core/common_runtime/executor.cc:1197] [/device:CPU:0] (DEBUG INFO) Executor start aborting (this does not indicate an error and you can ignore this message): INVALID_ARGUMENT: You must feed a value for placeholder tensor 'Placeholder/_1' with dtype string and shape [1000]\n",
      "\t [[{{node Placeholder/_1}}]]\n",
      "2023-07-28 09:47:54.953837: I tensorflow/core/common_runtime/executor.cc:1197] [/device:CPU:0] (DEBUG INFO) Executor start aborting (this does not indicate an error and you can ignore this message): INVALID_ARGUMENT: You must feed a value for placeholder tensor 'Placeholder/_1' with dtype string and shape [1000]\n",
      "\t [[{{node Placeholder/_1}}]]\n",
      "2023-07-28 09:48:20.522415: I tensorflow/core/common_runtime/executor.cc:1197] [/device:CPU:0] (DEBUG INFO) Executor start aborting (this does not indicate an error and you can ignore this message): INVALID_ARGUMENT: You must feed a value for placeholder tensor 'Placeholder/_1' with dtype string and shape [1000]\n",
      "\t [[{{node Placeholder/_1}}]]\n",
      "2023-07-28 09:48:46.107234: I tensorflow/core/common_runtime/executor.cc:1197] [/device:CPU:0] (DEBUG INFO) Executor start aborting (this does not indicate an error and you can ignore this message): INVALID_ARGUMENT: You must feed a value for placeholder tensor 'Placeholder/_1' with dtype string and shape [1000]\n",
      "\t [[{{node Placeholder/_1}}]]\n"
     ]
    },
    {
     "name": "stdout",
     "output_type": "stream",
     "text": [
      "current loss 0.011550485\n",
      "Min vall loss 1000\n",
      "Saving best weight with val loss:0.011550485156476498 to results/model_weights/best_mse_model\n",
      "Epoch: 3, Train Loss:0.005678285378962755 , Val Loss:0.011550485156476498\n"
     ]
    },
    {
     "name": "stderr",
     "output_type": "stream",
     "text": [
      "2023-07-28 09:49:11.007624: I tensorflow/core/grappler/optimizers/data/replicate_on_split.cc:32] Running replicate on split optimization\n",
      "2023-07-28 09:49:11.010746: I tensorflow/core/common_runtime/executor.cc:1197] [/device:CPU:0] (DEBUG INFO) Executor start aborting (this does not indicate an error and you can ignore this message): INVALID_ARGUMENT: You must feed a value for placeholder tensor 'Placeholder/_5' with dtype string and shape [10000]\n",
      "\t [[{{node Placeholder/_5}}]]\n",
      "2023-07-28 09:49:12.669349: I tensorflow/core/common_runtime/executor.cc:1197] [/device:CPU:0] (DEBUG INFO) Executor start aborting (this does not indicate an error and you can ignore this message): INVALID_ARGUMENT: You must feed a value for placeholder tensor 'Placeholder/_1' with dtype string and shape [1000]\n",
      "\t [[{{node Placeholder/_1}}]]\n",
      "2023-07-28 09:49:39.209454: I tensorflow/core/common_runtime/executor.cc:1197] [/device:CPU:0] (DEBUG INFO) Executor start aborting (this does not indicate an error and you can ignore this message): INVALID_ARGUMENT: You must feed a value for placeholder tensor 'Placeholder/_1' with dtype string and shape [1000]\n",
      "\t [[{{node Placeholder/_1}}]]\n",
      "2023-07-28 09:50:05.574698: I tensorflow/core/common_runtime/executor.cc:1197] [/device:CPU:0] (DEBUG INFO) Executor start aborting (this does not indicate an error and you can ignore this message): INVALID_ARGUMENT: You must feed a value for placeholder tensor 'Placeholder/_1' with dtype string and shape [1000]\n",
      "\t [[{{node Placeholder/_1}}]]\n",
      "2023-07-28 09:50:32.129593: I tensorflow/core/common_runtime/executor.cc:1197] [/device:CPU:0] (DEBUG INFO) Executor start aborting (this does not indicate an error and you can ignore this message): INVALID_ARGUMENT: You must feed a value for placeholder tensor 'Placeholder/_1' with dtype string and shape [1000]\n",
      "\t [[{{node Placeholder/_1}}]]\n",
      "2023-07-28 09:50:58.220045: I tensorflow/core/common_runtime/executor.cc:1197] [/device:CPU:0] (DEBUG INFO) Executor start aborting (this does not indicate an error and you can ignore this message): INVALID_ARGUMENT: You must feed a value for placeholder tensor 'Placeholder/_1' with dtype string and shape [1000]\n",
      "\t [[{{node Placeholder/_1}}]]\n",
      "2023-07-28 09:51:23.990476: I tensorflow/core/common_runtime/executor.cc:1197] [/device:CPU:0] (DEBUG INFO) Executor start aborting (this does not indicate an error and you can ignore this message): INVALID_ARGUMENT: You must feed a value for placeholder tensor 'Placeholder/_1' with dtype string and shape [1000]\n",
      "\t [[{{node Placeholder/_1}}]]\n",
      "2023-07-28 09:51:49.641595: I tensorflow/core/common_runtime/executor.cc:1197] [/device:CPU:0] (DEBUG INFO) Executor start aborting (this does not indicate an error and you can ignore this message): INVALID_ARGUMENT: You must feed a value for placeholder tensor 'Placeholder/_1' with dtype string and shape [1000]\n",
      "\t [[{{node Placeholder/_1}}]]\n",
      "2023-07-28 09:52:15.270817: I tensorflow/core/common_runtime/executor.cc:1197] [/device:CPU:0] (DEBUG INFO) Executor start aborting (this does not indicate an error and you can ignore this message): INVALID_ARGUMENT: You must feed a value for placeholder tensor 'Placeholder/_1' with dtype string and shape [1000]\n",
      "\t [[{{node Placeholder/_1}}]]\n"
     ]
    },
    {
     "name": "stdout",
     "output_type": "stream",
     "text": [
      "current loss 0.045644123\n",
      "Min vall loss 0.011550485\n",
      "Epoch: 4, Train Loss:0.005842060782015324 , Val Loss:0.0456441231071949\n",
      "\n",
      "Model saved to: results/model_weights/mse_model\n",
      "min_val_loss 0.011550485\n"
     ]
    },
    {
     "data": {
      "image/png": "[encoded data removed]",
      "text/plain": [
       "<Figure size 640x480 with 6 Axes>"
      ]
     },
     "metadata": {},
     "output_type": "display_data"
    }
   ],
   "source": [
    "fit(train_dataset,val_dataset, epochs=EPOCH)"
   ]
  },
  {
   "cell_type": "code",
   "execution_count": 81,
   "id": "e94e69e8-528e-47e9-8039-825f81eba09a",
   "metadata": {},
   "outputs": [
    {
     "data": {
      "text/plain": [
       "790"
      ]
     },
     "execution_count": 81,
     "metadata": {},
     "output_type": "execute_result"
    }
   ],
   "source": [
    "len(gen_total_loss_list)"
   ]
  },
  {
   "cell_type": "code",
   "execution_count": 82,
   "id": "9b79ff0b-043a-433d-b511-5a6245df1553",
   "metadata": {},
   "outputs": [
    {
     "data": {
      "text/plain": [
       "20000"
      ]
     },
     "execution_count": 82,
     "metadata": {},
     "output_type": "execute_result"
    }
   ],
   "source": [
    "len(gen_val_loss_list)"
   ]
  },
  {
   "cell_type": "code",
   "execution_count": 83,
   "id": "18a6743e-1a14-444b-a6ca-47cc741b4b6c",
   "metadata": {},
   "outputs": [
    {
     "data": {
      "image/png": "[encoded data removed]",
      "text/plain": [
       "<Figure size 640x480 with 1 Axes>"
      ]
     },
     "metadata": {},
     "output_type": "display_data"
    }
   ],
   "source": [
    "# plt.figure(figsize=(20, 15))\n",
    "plt.plot(gen_total_loss_list, label='train')\n",
    "plt.plot(gen_val_loss_list, label='val')\n",
    "plt.title(\"Training curve\")\n",
    "plt.xlabel(\"Steps\")\n",
    "plt.ylabel(\"MSE Loss\")\n",
    "plt.legend()\n",
    "plt.savefig('results/train_val_curve.png')\n",
    "plt.show()\n"
   ]
  },
  {
   "cell_type": "code",
   "execution_count": 84,
   "id": "7241fc35-0b6a-4e77-9367-af9c4bf16805",
   "metadata": {},
   "outputs": [
    {
     "name": "stdout",
     "output_type": "stream",
     "text": [
      "5\n",
      "5\n"
     ]
    }
   ],
   "source": [
    "l1 = len(epoch_wise_train_loss)\n",
    "l2 = len(epoch_wise_val_loss)\n",
    "print(l1)\n",
    "print(l2)\n",
    "a = range(1,l1+1)\n",
    "b = range(1,l2+1)"
   ]
  },
  {
   "cell_type": "code",
   "execution_count": 85,
   "id": "65278248-9162-4fc2-b927-883ce73c7b6b",
   "metadata": {},
   "outputs": [
    {
     "data": {
      "image/png": "[encoded data removed]",
      "text/plain": [
       "<Figure size 1500x500 with 1 Axes>"
      ]
     },
     "metadata": {},
     "output_type": "display_data"
    }
   ],
   "source": [
    "plt.figure(figsize=(15,5))\n",
    "plt.plot(a, epoch_wise_train_loss, label='train', linewidth=7.0)\n",
    "plt.plot(a, epoch_wise_val_loss, label='val', linewidth=7.0)\n",
    "plt.title(\"Training curve\")\n",
    "plt.xlabel(\"Epochs\")\n",
    "plt.ylabel(\"MSE Loss\")\n",
    "plt.legend()\n",
    "plt.savefig('results/train_val_epoch_curve.png')\n",
    "plt.show()"
   ]
  },
  {
   "cell_type": "code",
   "execution_count": 86,
   "id": "7ab1bce3-89e1-4481-9305-a81094cb6c94",
   "metadata": {},
   "outputs": [],
   "source": [
    "with open(\"epoch_wise_train_loss\", \"wb\") as fp:   \n",
    "    pickle.dump(epoch_wise_train_loss, fp)\n",
    "with open(\"epoch_wise_val_loss\", \"wb\") as fp:   \n",
    "    pickle.dump(epoch_wise_val_loss, fp)"
   ]
  },
  {
   "cell_type": "code",
   "execution_count": 87,
   "id": "2e134f23-1da1-4e1d-b38a-c03395044849",
   "metadata": {},
   "outputs": [
    {
     "name": "stdout",
     "output_type": "stream",
     "text": [
      "Train MSE at the end of training: 0.002524134237319231\n",
      "Val MSE at the end of training: 0.002184654353186488\n"
     ]
    }
   ],
   "source": [
    "print(f'Train MSE at the end of training: {gen_total_loss_list[-1]}')\n",
    "print(f'Val MSE at the end of training: {gen_val_loss_list[-1]}')"
   ]
  },
  {
   "cell_type": "code",
   "execution_count": null,
   "id": "ecea3e89-805b-42ee-b54f-a8e7cd59a0d7",
   "metadata": {},
   "outputs": [],
   "source": []
  },
  {
   "cell_type": "code",
   "execution_count": null,
   "id": "de4efd7d-f17d-4188-ab8a-65b26c0b9dbe",
   "metadata": {},
   "outputs": [],
   "source": []
  },
  {
   "cell_type": "code",
   "execution_count": null,
   "id": "3d96b301-cb03-45aa-93a5-138b7612dc86",
   "metadata": {},
   "outputs": [],
   "source": []
  },
  {
   "attachments": {},
   "cell_type": "markdown",
   "id": "f385c137-04c9-4b48-8978-31ff5d8849bf",
   "metadata": {},
   "source": [
    "### Testing"
   ]
  },
  {
   "cell_type": "code",
   "execution_count": 88,
   "id": "4c1a1afc-b6c6-47de-8a75-2ac8523cde45",
   "metadata": {},
   "outputs": [
    {
     "data": {
      "text/plain": [
       "<tensorflow.python.checkpoint.checkpoint.CheckpointLoadStatus at 0x7fb1e7b98130>"
      ]
     },
     "execution_count": 88,
     "metadata": {},
     "output_type": "execute_result"
    }
   ],
   "source": [
    "generator.load_weights(BEST_PATH)"
   ]
  },
  {
   "cell_type": "code",
   "execution_count": 89,
   "id": "a103fe0f-349e-427d-9623-9186b426c88c",
   "metadata": {},
   "outputs": [
    {
     "data": {
      "text/plain": [
       "1000"
      ]
     },
     "execution_count": 89,
     "metadata": {},
     "output_type": "execute_result"
    }
   ],
   "source": [
    "len(val_dataset)"
   ]
  },
  {
   "cell_type": "code",
   "execution_count": null,
   "id": "1dc89b73-4405-40d5-9815-7dc458084b07",
   "metadata": {},
   "outputs": [],
   "source": []
  },
  {
   "cell_type": "code",
   "execution_count": 90,
   "id": "1a47d801-425c-41e8-839f-a50c392ad1b7",
   "metadata": {},
   "outputs": [
    {
     "name": "stderr",
     "output_type": "stream",
     "text": [
      "2023-07-28 09:53:15.174684: I tensorflow/core/common_runtime/executor.cc:1197] [/device:CPU:0] (DEBUG INFO) Executor start aborting (this does not indicate an error and you can ignore this message): INVALID_ARGUMENT: You must feed a value for placeholder tensor 'Placeholder/_1' with dtype string and shape [1000]\n",
      "\t [[{{node Placeholder/_1}}]]\n"
     ]
    }
   ],
   "source": [
    "avg_mse_loss_list = []\n",
    "avg_mape_loss_list = []\n",
    "\n",
    "i = 0\n",
    "for test_image,test_target in val_dataset:\n",
    "    test_prediction = generator(test_image,training=True)\n",
    "    test_target = test_target\n",
    "    mse_loss = tf.keras.metrics.mean_squared_error(test_target, test_prediction)\n",
    "    avg_mse_loss = tf.math.reduce_mean(mse_loss).numpy()\n",
    "    avg_mse_loss_list.append(avg_mse_loss)\n",
    "\n",
    "    mape_loss =  tf.keras.metrics.mean_absolute_percentage_error(test_target, test_prediction)\n",
    "    avg_mape_loss = tf.math.reduce_mean(mape_loss).numpy()\n",
    "    avg_mape_loss_list.append(avg_mape_loss)\n",
    "\n",
    "    output = np.reshape(test_prediction, (128,128))\n",
    "    gt = np.reshape(test_target, (128,128))\n",
    "    i = i+1\n",
    "\n",
    "    file_name = f\"results/raw_vals/{i}-pred.raw\"\n",
    "    with open(file_name, 'wb') as fp:     \n",
    "        output.tofile(fp)\n",
    "    fp.close()\n",
    "\n",
    "    file_name2 = f\"results/raw_vals/{i}-gt.raw\"\n",
    "    with open(file_name2, 'wb') as fp:     \n",
    "        gt.tofile(fp)\n",
    "    fp.close()"
   ]
  },
  {
   "cell_type": "code",
   "execution_count": null,
   "id": "72615a12-91c0-47da-9b72-d215538ab9da",
   "metadata": {},
   "outputs": [],
   "source": []
  },
  {
   "cell_type": "code",
   "execution_count": null,
   "id": "c396f6d5-b193-451f-bbab-67b065c03170",
   "metadata": {},
   "outputs": [],
   "source": []
  },
  {
   "cell_type": "code",
   "execution_count": 91,
   "id": "1b658deb-5d99-4f57-9bf6-08952f28b412",
   "metadata": {},
   "outputs": [
    {
     "data": {
      "text/plain": [
       "1000"
      ]
     },
     "execution_count": 91,
     "metadata": {},
     "output_type": "execute_result"
    }
   ],
   "source": [
    "len(avg_mse_loss_list)"
   ]
  },
  {
   "cell_type": "code",
   "execution_count": null,
   "id": "4311c5a8-7b69-45f2-942e-b23eb533557b",
   "metadata": {},
   "outputs": [],
   "source": [
    "final_mse = sum(avg_mse_loss_list)/len(avg_mse_loss_list)\n",
    "with open(f'{RESULTS_FOLDER}/loss.txt','a') as f:\n",
    "    f.write(f'\\nFinal_MSE:{final_mse}')\n",
    "final_mse"
   ]
  },
  {
   "cell_type": "code",
   "execution_count": null,
   "id": "734bd714-0bdf-46da-88b9-3266ea34e18a",
   "metadata": {},
   "outputs": [],
   "source": [
    "len(avg_mape_loss_list)"
   ]
  },
  {
   "cell_type": "code",
   "execution_count": null,
   "id": "598347cb-87b3-46ea-a39d-ee856ebe5499",
   "metadata": {},
   "outputs": [],
   "source": [
    "final_mape = sum(avg_mape_loss_list)/len(avg_mape_loss_list)\n",
    "with open(f'{RESULTS_FOLDER}/loss.txt','a') as f:\n",
    "    f.write(f'\\nFinal_MAPE:{final_mape}')\n",
    "final_mape"
   ]
  },
  {
   "cell_type": "code",
   "execution_count": null,
   "id": "0a701266-31af-4822-8971-310264ba51fe",
   "metadata": {},
   "outputs": [],
   "source": [
    "i = 0\n",
    "for test_image,test_target in val_dataset:\n",
    "    i = i+1\n",
    "    generate_images(generator, test_image, test_target,'val-',i)"
   ]
  },
  {
   "cell_type": "code",
   "execution_count": null,
   "id": "7465c448-2920-4caf-bb7a-1d15134f1fae",
   "metadata": {
    "scrolled": true
   },
   "outputs": [],
   "source": [
    "i = 0\n",
    "for test_image,test_target in val_dataset:\n",
    "    i = i+1\n",
    "    generate_images8(generator, test_image, test_target,'val2222-',i)"
   ]
  },
  {
   "cell_type": "code",
   "execution_count": null,
   "id": "7dc5e390-12a0-4240-82bb-4ac48b6dd817",
   "metadata": {},
   "outputs": [],
   "source": [
    "# Generate plots for test set\n",
    "# for i, (test_input, test_target) in val_dataset.take(500).enumerate():\n",
    "#     generate_images(generator, test_input, test_target,'test',i)"
   ]
  },
  {
   "cell_type": "code",
   "execution_count": null,
   "id": "8b602af9-df99-4133-a5dd-e4fa3d2aa34f",
   "metadata": {},
   "outputs": [],
   "source": []
  },
  {
   "cell_type": "code",
   "execution_count": null,
   "id": "db708268-8b2b-4d23-a213-7fc917acecb9",
   "metadata": {},
   "outputs": [],
   "source": []
  },
  {
   "cell_type": "code",
   "execution_count": null,
   "id": "477d8179-ca98-41e3-8a95-c76cb74b1d93",
   "metadata": {},
   "outputs": [],
   "source": []
  },
  {
   "cell_type": "code",
   "execution_count": null,
   "id": "f5da453e-d8a9-4e63-89ec-0af5e4e0f7c2",
   "metadata": {},
   "outputs": [],
   "source": []
  },
  {
   "cell_type": "code",
   "execution_count": null,
   "id": "bc5bfbf8-174f-485c-9e31-94babe59cf8e",
   "metadata": {},
   "outputs": [],
   "source": [
    "## Calculate modulus"
   ]
  },
  {
   "cell_type": "code",
   "execution_count": null,
   "id": "2cd7cacb-b617-4a23-9488-7facef4f1095",
   "metadata": {},
   "outputs": [],
   "source": [
    "# all_raw_data_path = 'raw_exps/*.raw'\n",
    "# all_raw_data = glob.glob(all_raw_data_path)"
   ]
  },
  {
   "cell_type": "code",
   "execution_count": null,
   "id": "c77900e8-0d6c-4453-a8c4-220a336950d1",
   "metadata": {},
   "outputs": [],
   "source": [
    "# all_raw_data.sort(key=lambda x: int(x.split('/')[-1].split('.')[0]))\n",
    "# all_raw_data"
   ]
  },
  {
   "cell_type": "code",
   "execution_count": null,
   "id": "e90d6157-5581-438b-927a-e69994974072",
   "metadata": {},
   "outputs": [],
   "source": [
    "# threshold = 0.45"
   ]
  },
  {
   "cell_type": "code",
   "execution_count": null,
   "id": "5381d2f6-3b6b-4320-9578-ffaad78df10b",
   "metadata": {},
   "outputs": [],
   "source": [
    "# all_modulus = []"
   ]
  },
  {
   "cell_type": "code",
   "execution_count": null,
   "id": "782abffa-a719-4ad0-a0ea-6009a4fca146",
   "metadata": {},
   "outputs": [],
   "source": [
    "# for a_data in all_raw_data:\n",
    "#     img = np.fromfile(a_data,dtype = 'float32', sep=\"\")\n",
    "#     name = a_data.split('/')[-1].split('.')[0]\n",
    "#     modulus = img[img<threshold]\n",
    "#     if len(modulus) != 0:\n",
    "#         avg_modulus = sum(modulus)/len(modulus)\n",
    "    \n",
    "#     all_modulus.append((name,avg_modulus))\n",
    "\n",
    "#     with open('modulus_values.txt', 'a') as f:\n",
    "#         f.write(f\"{name},{avg_modulus}\\n\")\n",
    "    \n",
    "    "
   ]
  },
  {
   "cell_type": "code",
   "execution_count": null,
   "id": "47e07f20-2cb6-4489-aad3-f926aecab3b5",
   "metadata": {},
   "outputs": [],
   "source": [
    "# for i in all_modulus:\n",
    "#     print(i)"
   ]
  },
  {
   "cell_type": "code",
   "execution_count": null,
   "id": "44e3e294-dd41-4d45-afb7-6bde9d42ff8d",
   "metadata": {},
   "outputs": [],
   "source": []
  },
  {
   "cell_type": "code",
   "execution_count": null,
   "id": "04f60bed-2574-4fb1-acb3-5b31d8af824e",
   "metadata": {},
   "outputs": [],
   "source": []
  },
  {
   "cell_type": "code",
   "execution_count": null,
   "id": "b964d70c-0a8f-4ab0-8319-508e98a0456b",
   "metadata": {},
   "outputs": [],
   "source": []
  },
  {
   "cell_type": "code",
   "execution_count": null,
   "id": "8f4da147-1c48-4699-90c8-138db4dd4200",
   "metadata": {},
   "outputs": [],
   "source": []
  },
  {
   "cell_type": "code",
   "execution_count": null,
   "id": "02cf4ebd-cda0-44b4-8c32-59c08698b659",
   "metadata": {},
   "outputs": [],
   "source": []
  },
  {
   "cell_type": "code",
   "execution_count": null,
   "id": "7c94ee81-0b47-4da7-9003-6352a81093bd",
   "metadata": {},
   "outputs": [],
   "source": []
  },
  {
   "cell_type": "code",
   "execution_count": null,
   "id": "f78bf6f5-409a-4a79-84e7-1eac40c8be9e",
   "metadata": {},
   "outputs": [],
   "source": []
  }
 ],
 "metadata": {
  "kernelspec": {
   "display_name": "biomed",
   "language": "python",
   "name": "biomed"
  },
  "language_info": {
   "codemirror_mode": {
    "name": "ipython",
    "version": 3
   },
   "file_extension": ".py",
   "mimetype": "text/x-python",
   "name": "python",
   "nbconvert_exporter": "python",
   "pygments_lexer": "ipython3",
   "version": "3.9.16"
  }
 },
 "nbformat": 4,
 "nbformat_minor": 5
}
