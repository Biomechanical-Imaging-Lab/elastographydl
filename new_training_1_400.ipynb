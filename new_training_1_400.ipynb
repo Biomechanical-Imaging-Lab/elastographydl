{
 "cells": [
  {
   "cell_type": "code",
   "execution_count": 1,
   "id": "7611adb8-66e8-445b-a635-4b1389617a44",
   "metadata": {},
   "outputs": [],
   "source": [
    "import warnings\n",
    "warnings.filterwarnings('ignore')"
   ]
  },
  {
   "cell_type": "code",
   "execution_count": 2,
   "id": "2706799e-6c2c-4f37-a9e5-e5c58e1289fe",
   "metadata": {},
   "outputs": [
    {
     "name": "stderr",
     "output_type": "stream",
     "text": [
      "2023-08-11 16:10:54.579315: I tensorflow/core/util/port.cc:110] oneDNN custom operations are on. You may see slightly different numerical results due to floating-point round-off errors from different computation orders. To turn them off, set the environment variable `TF_ENABLE_ONEDNN_OPTS=0`.\n",
      "2023-08-11 16:10:54.649233: I tensorflow/core/platform/cpu_feature_guard.cc:182] This TensorFlow binary is optimized to use available CPU instructions in performance-critical operations.\n",
      "To enable the following instructions: AVX2 AVX512F AVX512_VNNI FMA, in other operations, rebuild TensorFlow with the appropriate compiler flags.\n",
      "2023-08-11 16:11:16.067232: W tensorflow/compiler/tf2tensorrt/utils/py_utils.cc:38] TF-TRT Warning: Could not find TensorRT\n"
     ]
    }
   ],
   "source": [
    "import numpy as np\n",
    "import tensorflow as tf\n",
    "import matplotlib.pyplot as plt\n",
    "import os\n",
    "import glob\n",
    "import time\n",
    "import pickle\n",
    "import random\n",
    "import pathlib\n",
    "import datetime\n",
    "\n",
    "# from IPython import display\n",
    "import matplotlib.pyplot as plt\n",
    "import matplotlib.colors as mcolors\n",
    "\n",
    "from scipy.ndimage import gaussian_filter"
   ]
  },
  {
   "cell_type": "code",
   "execution_count": null,
   "id": "3c88d310-d2ed-4e08-87f4-cb40d319e8ea",
   "metadata": {},
   "outputs": [],
   "source": []
  },
  {
   "cell_type": "code",
   "execution_count": 3,
   "id": "65760455-24e4-46f1-a59b-a61a36c674f7",
   "metadata": {},
   "outputs": [
    {
     "name": "stderr",
     "output_type": "stream",
     "text": [
      "2023-08-11 16:12:07.976312: I tensorflow/core/common_runtime/gpu/gpu_device.cc:1635] Created device /job:localhost/replica:0/task:0/device:GPU:0 with 6838 MB memory:  -> device: 0, name: Tesla P4, pci bus id: 0000:1d:00.0, compute capability: 6.1\n",
      "2023-08-11 16:12:07.977932: I tensorflow/core/common_runtime/gpu/gpu_device.cc:1635] Created device /job:localhost/replica:0/task:0/device:GPU:1 with 6838 MB memory:  -> device: 1, name: Tesla P4, pci bus id: 0000:1e:00.0, compute capability: 6.1\n",
      "2023-08-11 16:12:07.979386: I tensorflow/core/common_runtime/gpu/gpu_device.cc:1635] Created device /job:localhost/replica:0/task:0/device:GPU:2 with 6838 MB memory:  -> device: 2, name: Tesla P4, pci bus id: 0000:3d:00.0, compute capability: 6.1\n",
      "2023-08-11 16:12:07.980826: I tensorflow/core/common_runtime/gpu/gpu_device.cc:1635] Created device /job:localhost/replica:0/task:0/device:GPU:3 with 6838 MB memory:  -> device: 3, name: Tesla P4, pci bus id: 0000:3e:00.0, compute capability: 6.1\n"
     ]
    },
    {
     "name": "stdout",
     "output_type": "stream",
     "text": [
      "INFO:tensorflow:Single-worker MultiWorkerMirroredStrategy with local_devices = ('/device:GPU:0', '/device:GPU:1', '/device:GPU:2', '/device:GPU:3'), communication = CommunicationImplementation.AUTO\n"
     ]
    }
   ],
   "source": [
    "# strategy = tf.distribute.MirroredStrategy()\n",
    "strategy = tf.distribute.MultiWorkerMirroredStrategy()"
   ]
  },
  {
   "cell_type": "code",
   "execution_count": 4,
   "id": "5f003fff-f54d-4b48-a485-b63c8eba7d51",
   "metadata": {},
   "outputs": [
    {
     "name": "stdout",
     "output_type": "stream",
     "text": [
      "Number of devices: 4\n"
     ]
    }
   ],
   "source": [
    "print('Number of devices: {}'.format(strategy.num_replicas_in_sync))"
   ]
  },
  {
   "cell_type": "code",
   "execution_count": null,
   "id": "ed831ddf-4668-45e5-91f4-bf3ea8f79d8e",
   "metadata": {},
   "outputs": [],
   "source": []
  },
  {
   "cell_type": "code",
   "execution_count": 5,
   "id": "570bd686-c42a-40de-a7fe-c19c9b5860f4",
   "metadata": {},
   "outputs": [],
   "source": [
    "RESULTS_FOLDER = 'results_1_with400'"
   ]
  },
  {
   "cell_type": "code",
   "execution_count": null,
   "id": "f8a7f377-4252-4f6f-a18d-9de572da621f",
   "metadata": {},
   "outputs": [],
   "source": []
  },
  {
   "cell_type": "code",
   "execution_count": 6,
   "id": "63569aab-e00b-401c-8943-45b400ff1c38",
   "metadata": {},
   "outputs": [],
   "source": [
    "### Configuration\n",
    "os.mkdir(RESULTS_FOLDER) if not os.path.isdir(RESULTS_FOLDER) else None\n",
    "folders = ['all_exp_plots_g', 'all_exp_plots', 'exp_plots', 'model_weights', 'raw_exps', 'training_plots', 'all_val_plots', 'raw_vals',\n",
    "           'training_plots/train','training_plots/val','training_plots/val_c']\n",
    "for folder in folders:\n",
    "    if(not os.path.isdir(f'{RESULTS_FOLDER}/{folder}')):\n",
    "        os.mkdir(f'{RESULTS_FOLDER}/{folder}')"
   ]
  },
  {
   "cell_type": "code",
   "execution_count": null,
   "id": "c79446f6-214e-4ba8-8937-43bd3f573d62",
   "metadata": {},
   "outputs": [],
   "source": []
  },
  {
   "cell_type": "code",
   "execution_count": 7,
   "id": "6d1731c8-6425-4e98-b1cf-8443eee42bab",
   "metadata": {},
   "outputs": [],
   "source": [
    "tf.random.set_seed(seed=20)"
   ]
  },
  {
   "cell_type": "code",
   "execution_count": 8,
   "id": "98b4e2e6-9c78-4b05-b8b3-186ecc375b55",
   "metadata": {},
   "outputs": [],
   "source": [
    "### Hyperparameters\n",
    "# BATCH_SIZE = 128\n",
    "# EPOCH = 100\n",
    "# BATCH_SIZE = 32\n",
    "# EPOCH = 1"
   ]
  },
  {
   "cell_type": "code",
   "execution_count": 81,
   "id": "978e8d3b-a3d5-4442-8a42-8777bf8a11aa",
   "metadata": {},
   "outputs": [],
   "source": [
    "BATCH_SIZE_PER_REPLICA = 32\n",
    "GLOBAL_BATCH_SIZE = BATCH_SIZE_PER_REPLICA * strategy.num_replicas_in_sync\n",
    "\n",
    "EPOCHS = 200"
   ]
  },
  {
   "cell_type": "code",
   "execution_count": 82,
   "id": "1e35a01f-f852-4054-b39c-fdd6a31d5cf0",
   "metadata": {},
   "outputs": [],
   "source": [
    "BUFFER_SIZE = 90000"
   ]
  },
  {
   "cell_type": "code",
   "execution_count": null,
   "id": "1714dff1",
   "metadata": {},
   "outputs": [],
   "source": []
  },
  {
   "cell_type": "code",
   "execution_count": null,
   "id": "cba2fef9-6ad0-4001-842e-4b4232076e76",
   "metadata": {},
   "outputs": [],
   "source": []
  },
  {
   "cell_type": "code",
   "execution_count": null,
   "id": "b3008f84-4385-4a50-8324-ed71576a0ca8",
   "metadata": {},
   "outputs": [],
   "source": []
  },
  {
   "attachments": {},
   "cell_type": "markdown",
   "id": "fa5b0525-0a88-42bc-964e-4729628a8da8",
   "metadata": {},
   "source": [
    "### Load dataset "
   ]
  },
  {
   "cell_type": "code",
   "execution_count": 83,
   "id": "71e7dc34-f317-4913-b0aa-08ca041f4b5c",
   "metadata": {},
   "outputs": [],
   "source": [
    "### Normalization"
   ]
  },
  {
   "cell_type": "code",
   "execution_count": 84,
   "id": "ce4fa0ca-ad7f-4bc2-a9c9-20414d80bf9e",
   "metadata": {},
   "outputs": [],
   "source": [
    "def add_noise_blur(image, rows=128, cols=128):\n",
    "    #add random noise\n",
    "    scale = tf.random.uniform([1], minval = 0.01, maxval = 0.1, dtype = tf.float32 )\n",
    "    noise = tf.random.normal([rows, cols, 1], mean = 0.0, stddev = 1.0)\n",
    "    #blur with a random sigma\n",
    "    # sigmaIn = np.random.uniform(low = 1.0, high = 2.0 )\n",
    "    sigmaIn = tf.random.uniform(shape=[], minval = 1.0, maxval = 2.0 )\n",
    "    #image = gaussian_filter(image, sigma = sigmaIn)\n",
    "    noise = gaussian_filter(noise, sigma = sigmaIn.numpy())\n",
    "    image *= (1.0 + scale*noise)\n",
    "    #print(\"scale %f sigma %f\" % (scale, sigmaIn))\n",
    "    return image"
   ]
  },
  {
   "cell_type": "code",
   "execution_count": 85,
   "id": "cda5e1ce-f215-482d-bcb7-3355ce07f1b1",
   "metadata": {},
   "outputs": [],
   "source": [
    "def normalize(dataY):\n",
    "    max = tf.reduce_max(dataY)\n",
    "    min = tf.reduce_min(dataY)\n",
    "    # dataY = dataY / tf.math.abs(min)\n",
    "    dataY = (dataY - min)/(max - min)\n",
    "    return dataY"
   ]
  },
  {
   "cell_type": "code",
   "execution_count": 86,
   "id": "d0376397-4bb4-4dae-988a-0850aecd37c5",
   "metadata": {},
   "outputs": [],
   "source": [
    "def normalizeTarget(image, bFlag = False):\n",
    "    image = (image - 1.0) / (5.0)\n",
    "    if bFlag:\n",
    "        image = 2.0*image - 1.0\n",
    "    return image"
   ]
  },
  {
   "cell_type": "code",
   "execution_count": 87,
   "id": "71826347-9eb1-46b0-8c92-6b42a9555500",
   "metadata": {},
   "outputs": [],
   "source": [
    "### EoNormalization"
   ]
  },
  {
   "cell_type": "code",
   "execution_count": 88,
   "id": "450c0d3d-df3e-415c-9ce8-3c0fd1968779",
   "metadata": {},
   "outputs": [],
   "source": [
    "def load(image_file, image_size=(128,128)):\n",
    "    # input_image = np.fromfile(image_file, dtype = 'float32', sep=\"\")\n",
    "    input_image = tf.io.read_file(image_file)\n",
    "    input_image = tf.io.decode_raw(input_image, tf.float32)\n",
    "    input_image = tf.reshape(input_image, image_size)\n",
    "    input_image = tf.expand_dims(input_image, -1)\n",
    "    return input_image"
   ]
  },
  {
   "cell_type": "code",
   "execution_count": 89,
   "id": "94cccd80-933d-4845-9c65-11790f3f340d",
   "metadata": {},
   "outputs": [],
   "source": [
    "def normalize_val(image, target):\n",
    "    input_image = add_noise_blur(image)\n",
    "    return input_image , target"
   ]
  },
  {
   "cell_type": "code",
   "execution_count": 90,
   "id": "011a3fbe-b39c-4857-90eb-a5e00f320736",
   "metadata": {},
   "outputs": [],
   "source": [
    "def load_image_train(image_file, target_file):\n",
    "    input_image = load(image_file)\n",
    "    target_image = load(target_file)\n",
    "    input_image = normalize(input_image)\n",
    "    return input_image , target_image "
   ]
  },
  {
   "cell_type": "code",
   "execution_count": 91,
   "id": "d23f3100-641d-4313-8ff4-b974b5592aa6",
   "metadata": {},
   "outputs": [],
   "source": [
    "def load_image_val(image_file, target_file):    \n",
    "    input_image = load(image_file)\n",
    "    target_image = load(target_file)\n",
    "    # input_image = add_noise_blur(image_file)\n",
    "    input_image = normalize(input_image)\n",
    "    return input_image , target_image "
   ]
  },
  {
   "cell_type": "code",
   "execution_count": 92,
   "id": "03f9d7ca-5d35-44ec-a610-005e873509d8",
   "metadata": {},
   "outputs": [],
   "source": [
    "def check_count(log_path):\n",
    "    soft = 0\n",
    "    hard = 0\n",
    "    for lp in log_path:\n",
    "        with open(lp) as f:\n",
    "            data = f.read()\n",
    "        data = data.split(' ')\n",
    "        mod = data[9]\n",
    "        assert mod == 'mod1'\n",
    "        mod_value = float(data[10].splitlines()[0])\n",
    "        if mod_value < 1.0:\n",
    "            soft = soft + 1\n",
    "        if mod_value > 1.0:\n",
    "            hard = hard + 1\n",
    "    return soft, hard"
   ]
  },
  {
   "cell_type": "code",
   "execution_count": 93,
   "id": "2637343f-63d6-49af-886b-2599acff601d",
   "metadata": {},
   "outputs": [],
   "source": [
    "def get_dataset_partitions_tf(ds, ds_size, train_split=0.8, val_split=0.1, test_split=0.1, shuffle=False, shuffle_size=10000):\n",
    "    assert (train_split + test_split + val_split) == 1\n",
    "    \n",
    "    if shuffle:\n",
    "        # Specify seed to always have the same split distribution between runs\n",
    "        ds = ds.shuffle(shuffle_size, seed=12)\n",
    "    \n",
    "    train_size = int(train_split * ds_size)\n",
    "    val_size = int(val_split * ds_size)\n",
    "    \n",
    "    train_ds = ds.take(train_size)    \n",
    "    val_ds = ds.skip(train_size).take(val_size)\n",
    "    test_ds = ds.skip(train_size).skip(val_size)\n",
    "    \n",
    "    return train_ds, val_ds, test_ds"
   ]
  },
  {
   "cell_type": "code",
   "execution_count": null,
   "id": "38aa8933-18e8-4226-9d90-8061302f325c",
   "metadata": {},
   "outputs": [],
   "source": []
  },
  {
   "cell_type": "code",
   "execution_count": null,
   "id": "be1838ff-76cb-47b0-b23a-c8de9f75c2ab",
   "metadata": {},
   "outputs": [],
   "source": []
  },
  {
   "cell_type": "code",
   "execution_count": null,
   "id": "019e7772-3730-4ee0-8896-8bdb3e45a261",
   "metadata": {},
   "outputs": [],
   "source": []
  },
  {
   "cell_type": "code",
   "execution_count": 94,
   "id": "e4911f6f-dbd6-4c59-8827-d5cf27cf3eb4",
   "metadata": {},
   "outputs": [],
   "source": [
    "# input_path = glob.glob('data/TrainData*/*/uY_128x128*.raw')\n",
    "# target_path = glob.glob('data/TrainData*/*/modulus_128x128*.raw')\n",
    "# # input_path.sort(key= lambda x: int(x.split('/')[-2]))\n",
    "# # target_path.sort(key= lambda x: int(x.split('/')[-2]))"
   ]
  },
  {
   "cell_type": "code",
   "execution_count": 95,
   "id": "19786d8c-62fc-486e-b067-66d21962384b",
   "metadata": {},
   "outputs": [],
   "source": [
    "input_path = glob.glob('alldata/*TrainData*/*/uY_128x128*.raw')\n",
    "target_path = glob.glob('alldata/*TrainData*/*/modulus_128x128*.raw')\n",
    "log_path = glob.glob('alldata/*TrainData*/*/logFile.txt')\n",
    "input_path.sort(key= lambda x: (x.split('/')[-3], int(x.split('/')[-2]), x.split('/')[-1]))\n",
    "target_path.sort(key= lambda x: (x.split('/')[-3], int(x.split('/')[-2]), x.split('/')[-1]))\n",
    "log_path.sort(key= lambda x: (x.split('/')[-3], int(x.split('/')[-2]), x.split('/')[-1]))"
   ]
  },
  {
   "cell_type": "code",
   "execution_count": null,
   "id": "2418c201-a4b4-4696-86ba-27f3f53aa503",
   "metadata": {},
   "outputs": [],
   "source": []
  },
  {
   "cell_type": "code",
   "execution_count": 96,
   "id": "9393ce6e-c1f9-4e2d-855b-746870d026d7",
   "metadata": {},
   "outputs": [
    {
     "data": {
      "text/plain": [
       "(249984, 249984, 30000)"
      ]
     },
     "execution_count": 96,
     "metadata": {},
     "output_type": "execute_result"
    }
   ],
   "source": [
    "len(input_path), len(target_path), len(log_path)"
   ]
  },
  {
   "cell_type": "code",
   "execution_count": null,
   "id": "af1fb58e-a62b-433f-9e5d-4b6c3392261e",
   "metadata": {},
   "outputs": [],
   "source": []
  },
  {
   "cell_type": "code",
   "execution_count": 97,
   "id": "ed5b5b58-ec99-40d1-8d24-1075d218522e",
   "metadata": {},
   "outputs": [],
   "source": [
    "# input_path = glob.glob('data/TrainData*/*/uY_128x128*.raw')\n",
    "# target_path = glob.glob('data/TrainData*/*/modulus_128x128*.raw')"
   ]
  },
  {
   "cell_type": "code",
   "execution_count": 98,
   "id": "7f757b2d-cfee-455e-b143-3e6e90beafa8",
   "metadata": {},
   "outputs": [],
   "source": [
    "# len(input_path), len(target_path), len(log_path)"
   ]
  },
  {
   "cell_type": "code",
   "execution_count": 99,
   "id": "2d9c117d-de32-4ecc-a4be-db18da6de3fa",
   "metadata": {},
   "outputs": [],
   "source": [
    "# input_path[0:8]"
   ]
  },
  {
   "cell_type": "code",
   "execution_count": 100,
   "id": "f165de6a-faf4-4af8-a6f3-d47afe807b11",
   "metadata": {},
   "outputs": [],
   "source": [
    "# target_path[0:8]"
   ]
  },
  {
   "cell_type": "code",
   "execution_count": 101,
   "id": "8d169f73-cb04-4c3c-ad9a-85ae617219da",
   "metadata": {},
   "outputs": [],
   "source": [
    "# input_image = load(input_path[0:8][0])\n",
    "# target_image = load(target_path[0:8][0])"
   ]
  },
  {
   "cell_type": "code",
   "execution_count": 102,
   "id": "da00d27a-fa45-45ba-8f70-1fc8b264887c",
   "metadata": {},
   "outputs": [],
   "source": [
    "# plt.imshow(input_image, cmap='gray')"
   ]
  },
  {
   "cell_type": "code",
   "execution_count": 103,
   "id": "ca1ea2dd-3953-44b6-83d9-f1c27a749da9",
   "metadata": {},
   "outputs": [],
   "source": [
    "# plt.imshow(target_image, cmap='gray')"
   ]
  },
  {
   "cell_type": "code",
   "execution_count": 104,
   "id": "71b42dd4-1eb3-4173-b0f8-aa48664fdf48",
   "metadata": {},
   "outputs": [],
   "source": [
    "# t_image = target_image[:,:,0]\n",
    "# t_image.shape"
   ]
  },
  {
   "cell_type": "code",
   "execution_count": 105,
   "id": "ffe4a4c2-d5ac-42c9-82ce-3907592059c4",
   "metadata": {},
   "outputs": [],
   "source": [
    "# top_row = t_image[0, :]\n",
    "# bottom_row = t_image[-1, :]\n",
    "# left_column = t_image[:, 0]\n",
    "# right_column = t_image[:, -1]"
   ]
  },
  {
   "cell_type": "code",
   "execution_count": 106,
   "id": "db9c4e57-e272-4f46-b764-8efe2e1d2884",
   "metadata": {},
   "outputs": [],
   "source": [
    "# right_column"
   ]
  },
  {
   "cell_type": "code",
   "execution_count": 107,
   "id": "f278576b-9798-41f7-91c9-4986b559cf9c",
   "metadata": {},
   "outputs": [],
   "source": [
    "# bottom_row"
   ]
  },
  {
   "cell_type": "code",
   "execution_count": 108,
   "id": "ff82320e-eab8-4010-8262-77f03ace36e6",
   "metadata": {},
   "outputs": [],
   "source": [
    "# input_image = load(image_file)\n",
    "# target_image = load(target_file)\n",
    "# input_image = normalize(input_image)"
   ]
  },
  {
   "cell_type": "code",
   "execution_count": 109,
   "id": "e244ab90-68fd-4769-b9d8-a508da02f528",
   "metadata": {},
   "outputs": [],
   "source": [
    "# check_count(log_path)"
   ]
  },
  {
   "cell_type": "code",
   "execution_count": null,
   "id": "954f7ee4-b995-4f49-8d90-6ac3fc257021",
   "metadata": {},
   "outputs": [],
   "source": []
  },
  {
   "cell_type": "code",
   "execution_count": 110,
   "id": "e1772168-33c2-4bf4-881c-b784b2c39406",
   "metadata": {},
   "outputs": [],
   "source": [
    "input_val_path = glob.glob('alldata/*ValData*/*/uY_128x128*.raw')\n",
    "target_val_path = glob.glob('alldata/*ValData*/*/modulus_128x128*.raw')\n",
    "log_val_path = glob.glob('alldata/*ValData*/*/logFile.txt')\n",
    "input_val_path.sort(key= lambda x: (x.split('/')[-3], int(x.split('/')[-2]), x.split('/')[-1]))\n",
    "target_val_path.sort(key= lambda x: (x.split('/')[-3], int(x.split('/')[-2]), x.split('/')[-1]))\n",
    "log_val_path.sort(key= lambda x: (x.split('/')[-3], int(x.split('/')[-2]), x.split('/')[-1]))"
   ]
  },
  {
   "cell_type": "code",
   "execution_count": 111,
   "id": "5a0d45f5-6065-4e97-aafe-6048424cf136",
   "metadata": {},
   "outputs": [
    {
     "data": {
      "text/plain": [
       "(25000, 25000, 3000)"
      ]
     },
     "execution_count": 111,
     "metadata": {},
     "output_type": "execute_result"
    }
   ],
   "source": [
    "len(input_val_path), len(target_val_path), len(log_val_path)"
   ]
  },
  {
   "cell_type": "code",
   "execution_count": 112,
   "id": "2918d1d9-e260-4af5-ad88-ba759537a6ac",
   "metadata": {},
   "outputs": [
    {
     "data": {
      "text/plain": [
       "(1517, 1483)"
      ]
     },
     "execution_count": 112,
     "metadata": {},
     "output_type": "execute_result"
    }
   ],
   "source": [
    "check_count(log_val_path)"
   ]
  },
  {
   "cell_type": "code",
   "execution_count": null,
   "id": "f68b3988-3e5b-402e-a5c3-d136fc841461",
   "metadata": {},
   "outputs": [],
   "source": []
  },
  {
   "cell_type": "code",
   "execution_count": null,
   "id": "3972d926-2128-44e4-9ad5-7ab7d3362dda",
   "metadata": {},
   "outputs": [],
   "source": []
  },
  {
   "cell_type": "code",
   "execution_count": null,
   "id": "d0d393d2-792b-42f4-88ae-c1a732d9c0e6",
   "metadata": {},
   "outputs": [],
   "source": []
  },
  {
   "cell_type": "code",
   "execution_count": null,
   "id": "56ba1f9d-b9d1-423e-9257-903caefd2265",
   "metadata": {},
   "outputs": [],
   "source": []
  },
  {
   "cell_type": "code",
   "execution_count": 113,
   "id": "af35e3fc-5e0e-462d-a0ff-1a64dc479cc4",
   "metadata": {},
   "outputs": [],
   "source": [
    "# train_dataset\n",
    "train_dataset = tf.data.Dataset.from_tensor_slices((input_path, target_path))\n",
    "train_dataset = train_dataset.map(load_image_train)\n",
    "train_dataset = train_dataset.shuffle(buffer_size=len(input_path)) \n",
    "# train_dataset = train_dataset.shuffle(buffer_size=1000) \n",
    "train_dataset = train_dataset.batch(GLOBAL_BATCH_SIZE)"
   ]
  },
  {
   "cell_type": "code",
   "execution_count": 114,
   "id": "5b003f7c-ae50-4f6a-b24b-0af8642850de",
   "metadata": {},
   "outputs": [
    {
     "data": {
      "text/plain": [
       "1953"
      ]
     },
     "execution_count": 114,
     "metadata": {},
     "output_type": "execute_result"
    }
   ],
   "source": [
    "len(train_dataset)"
   ]
  },
  {
   "cell_type": "code",
   "execution_count": 115,
   "id": "20d055d6-fd31-47cc-ad3d-6923ca5c1cb6",
   "metadata": {
    "scrolled": true
   },
   "outputs": [
    {
     "name": "stderr",
     "output_type": "stream",
     "text": [
      "2023-08-11 16:17:03.363853: I tensorflow/core/common_runtime/executor.cc:1197] [/device:CPU:0] (DEBUG INFO) Executor start aborting (this does not indicate an error and you can ignore this message): INVALID_ARGUMENT: You must feed a value for placeholder tensor 'Placeholder/_0' with dtype string and shape [249984]\n",
      "\t [[{{node Placeholder/_0}}]]\n",
      "2023-08-11 16:17:03.364295: I tensorflow/core/common_runtime/executor.cc:1197] [/device:CPU:0] (DEBUG INFO) Executor start aborting (this does not indicate an error and you can ignore this message): INVALID_ARGUMENT: You must feed a value for placeholder tensor 'Placeholder/_1' with dtype string and shape [249984]\n",
      "\t [[{{node Placeholder/_1}}]]\n",
      "2023-08-11 16:17:03.365230: W tensorflow/core/grappler/optimizers/data/auto_shard.cc:786] AUTO sharding policy will apply DATA sharding policy as it failed to apply FILE sharding policy because of the following reason: Found an unshardable source dataset: name: \"TensorSliceDataset/_2\"\n",
      "op: \"TensorSliceDataset\"\n",
      "input: \"Placeholder/_0\"\n",
      "input: \"Placeholder/_1\"\n",
      "attr {\n",
      "  key: \"Toutput_types\"\n",
      "  value {\n",
      "    list {\n",
      "      type: DT_STRING\n",
      "      type: DT_STRING\n",
      "    }\n",
      "  }\n",
      "}\n",
      "attr {\n",
      "  key: \"_cardinality\"\n",
      "  value {\n",
      "    i: 249984\n",
      "  }\n",
      "}\n",
      "attr {\n",
      "  key: \"is_files\"\n",
      "  value {\n",
      "    b: false\n",
      "  }\n",
      "}\n",
      "attr {\n",
      "  key: \"metadata\"\n",
      "  value {\n",
      "    s: \"\\n\\025TensorSliceDataset:22\"\n",
      "  }\n",
      "}\n",
      "attr {\n",
      "  key: \"output_shapes\"\n",
      "  value {\n",
      "    list {\n",
      "      shape {\n",
      "      }\n",
      "      shape {\n",
      "      }\n",
      "    }\n",
      "  }\n",
      "}\n",
      "attr {\n",
      "  key: \"replicate_on_split\"\n",
      "  value {\n",
      "    b: false\n",
      "  }\n",
      "}\n",
      "experimental_type {\n",
      "  type_id: TFT_PRODUCT\n",
      "  args {\n",
      "    type_id: TFT_DATASET\n",
      "    args {\n",
      "      type_id: TFT_PRODUCT\n",
      "      args {\n",
      "        type_id: TFT_TENSOR\n",
      "        args {\n",
      "          type_id: TFT_STRING\n",
      "        }\n",
      "      }\n",
      "      args {\n",
      "        type_id: TFT_TENSOR\n",
      "        args {\n",
      "          type_id: TFT_STRING\n",
      "        }\n",
      "      }\n",
      "    }\n",
      "  }\n",
      "}\n",
      "\n"
     ]
    }
   ],
   "source": [
    "train_dist_dataset = strategy.experimental_distribute_dataset(train_dataset)"
   ]
  },
  {
   "cell_type": "code",
   "execution_count": null,
   "id": "65a59dc3-14c5-4d39-b1e7-9313d91bedf1",
   "metadata": {},
   "outputs": [],
   "source": []
  },
  {
   "cell_type": "code",
   "execution_count": 116,
   "id": "39c3f679-a067-4369-b204-b2e99b14af57",
   "metadata": {},
   "outputs": [],
   "source": [
    "# train_dataset, val_dataset, test_dataset = get_dataset_partitions_tf(train_dataset, len(train_dataset))\n",
    "# print(len(train_dataset), len(val_dataset), len(test_dataset))"
   ]
  },
  {
   "cell_type": "code",
   "execution_count": 117,
   "id": "6d3e2398-251d-4cf1-8b8e-b821b253f713",
   "metadata": {},
   "outputs": [],
   "source": [
    "## val_dataset\n",
    "val_dataset = tf.data.Dataset.from_tensor_slices((input_val_path, target_val_path))\n",
    "val_dataset = val_dataset.map(load_image_val)\n",
    "# val_dataset = val_dataset.shuffle(buffer_size=len(input_val_path)) \n",
    "# val_dataset = val_dataset.batch(BATCH_SIZE)\n",
    "val_dataset = val_dataset.batch(GLOBAL_BATCH_SIZE)"
   ]
  },
  {
   "cell_type": "code",
   "execution_count": 118,
   "id": "ee93032d-87d8-4500-866d-cee375e0a41f",
   "metadata": {
    "scrolled": true
   },
   "outputs": [
    {
     "name": "stderr",
     "output_type": "stream",
     "text": [
      "2023-08-11 16:17:05.797613: I tensorflow/core/common_runtime/executor.cc:1197] [/device:CPU:0] (DEBUG INFO) Executor start aborting (this does not indicate an error and you can ignore this message): INVALID_ARGUMENT: You must feed a value for placeholder tensor 'Placeholder/_0' with dtype string and shape [25000]\n",
      "\t [[{{node Placeholder/_0}}]]\n",
      "2023-08-11 16:17:05.797890: I tensorflow/core/common_runtime/executor.cc:1197] [/device:CPU:0] (DEBUG INFO) Executor start aborting (this does not indicate an error and you can ignore this message): INVALID_ARGUMENT: You must feed a value for placeholder tensor 'Placeholder/_1' with dtype string and shape [25000]\n",
      "\t [[{{node Placeholder/_1}}]]\n",
      "2023-08-11 16:17:05.798661: W tensorflow/core/grappler/optimizers/data/auto_shard.cc:786] AUTO sharding policy will apply DATA sharding policy as it failed to apply FILE sharding policy because of the following reason: Found an unshardable source dataset: name: \"TensorSliceDataset/_2\"\n",
      "op: \"TensorSliceDataset\"\n",
      "input: \"Placeholder/_0\"\n",
      "input: \"Placeholder/_1\"\n",
      "attr {\n",
      "  key: \"Toutput_types\"\n",
      "  value {\n",
      "    list {\n",
      "      type: DT_STRING\n",
      "      type: DT_STRING\n",
      "    }\n",
      "  }\n",
      "}\n",
      "attr {\n",
      "  key: \"_cardinality\"\n",
      "  value {\n",
      "    i: 25000\n",
      "  }\n",
      "}\n",
      "attr {\n",
      "  key: \"is_files\"\n",
      "  value {\n",
      "    b: false\n",
      "  }\n",
      "}\n",
      "attr {\n",
      "  key: \"metadata\"\n",
      "  value {\n",
      "    s: \"\\n\\025TensorSliceDataset:32\"\n",
      "  }\n",
      "}\n",
      "attr {\n",
      "  key: \"output_shapes\"\n",
      "  value {\n",
      "    list {\n",
      "      shape {\n",
      "      }\n",
      "      shape {\n",
      "      }\n",
      "    }\n",
      "  }\n",
      "}\n",
      "attr {\n",
      "  key: \"replicate_on_split\"\n",
      "  value {\n",
      "    b: false\n",
      "  }\n",
      "}\n",
      "experimental_type {\n",
      "  type_id: TFT_PRODUCT\n",
      "  args {\n",
      "    type_id: TFT_DATASET\n",
      "    args {\n",
      "      type_id: TFT_PRODUCT\n",
      "      args {\n",
      "        type_id: TFT_TENSOR\n",
      "        args {\n",
      "          type_id: TFT_STRING\n",
      "        }\n",
      "      }\n",
      "      args {\n",
      "        type_id: TFT_TENSOR\n",
      "        args {\n",
      "          type_id: TFT_STRING\n",
      "        }\n",
      "      }\n",
      "    }\n",
      "  }\n",
      "}\n",
      "\n"
     ]
    }
   ],
   "source": [
    "val_dist_dataset = strategy.experimental_distribute_dataset(val_dataset)"
   ]
  },
  {
   "cell_type": "code",
   "execution_count": null,
   "id": "ddd422e5-b0c0-41ca-844d-b7cc63c8765c",
   "metadata": {},
   "outputs": [],
   "source": []
  },
  {
   "cell_type": "code",
   "execution_count": 119,
   "id": "11d17814-3363-458c-b6c4-91009aee84ae",
   "metadata": {},
   "outputs": [],
   "source": [
    "# for x in val_dataset:\n",
    "#     print(x[0].shape)\n",
    "#     break"
   ]
  },
  {
   "cell_type": "code",
   "execution_count": 120,
   "id": "a77886a9-e830-445d-b07a-f0bc34f44e23",
   "metadata": {},
   "outputs": [
    {
     "name": "stdout",
     "output_type": "stream",
     "text": [
      "1953\n",
      "196\n"
     ]
    }
   ],
   "source": [
    "# print(len(dataset))\n",
    "print(len(train_dataset))\n",
    "print(len(val_dataset))\n",
    "# print(len(test_dataset))"
   ]
  },
  {
   "cell_type": "code",
   "execution_count": null,
   "id": "b3f79da3-4824-4532-8014-d18ce3e70bf5",
   "metadata": {},
   "outputs": [],
   "source": []
  },
  {
   "cell_type": "code",
   "execution_count": 121,
   "id": "25434b4a-ad00-411b-aca4-e396c50f62d7",
   "metadata": {},
   "outputs": [
    {
     "name": "stdout",
     "output_type": "stream",
     "text": [
      "2\n",
      "(128, 128, 128, 1)\n",
      "(128, 128, 128, 1)\n"
     ]
    },
    {
     "name": "stderr",
     "output_type": "stream",
     "text": [
      "2023-08-11 16:17:10.029947: I tensorflow/core/common_runtime/executor.cc:1197] [/device:CPU:0] (DEBUG INFO) Executor start aborting (this does not indicate an error and you can ignore this message): INVALID_ARGUMENT: You must feed a value for placeholder tensor 'Placeholder/_1' with dtype string and shape [25000]\n",
      "\t [[{{node Placeholder/_1}}]]\n"
     ]
    }
   ],
   "source": [
    "a = next(iter(val_dataset))\n",
    "print(len(a))\n",
    "print(a[0].shape)\n",
    "print(a[1].shape)"
   ]
  },
  {
   "cell_type": "code",
   "execution_count": 122,
   "id": "a62cd82d-254c-4315-9747-7be91d58609f",
   "metadata": {},
   "outputs": [],
   "source": [
    "inp, re = a[0][0], a[1][0]"
   ]
  },
  {
   "cell_type": "code",
   "execution_count": 123,
   "id": "489688b3-a43e-4a9a-ab19-8a061449d5b0",
   "metadata": {},
   "outputs": [
    {
     "data": {
      "text/plain": [
       "<matplotlib.image.AxesImage at 0x7f8c4e322b50>"
      ]
     },
     "execution_count": 123,
     "metadata": {},
     "output_type": "execute_result"
    },
    {
     "data": {
      "image/png": "[encoded data removed]",
      "text/plain": [
       "<Figure size 640x480 with 1 Axes>"
      ]
     },
     "metadata": {},
     "output_type": "display_data"
    },
    {
     "data": {
      "image/png": "[encoded data removed]",
      "text/plain": [
       "<Figure size 640x480 with 1 Axes>"
      ]
     },
     "metadata": {},
     "output_type": "display_data"
    }
   ],
   "source": [
    "plt.figure()\n",
    "plt.imshow(inp, cmap='gray')\n",
    "plt.figure()\n",
    "plt.imshow(re, cmap='gray')"
   ]
  },
  {
   "cell_type": "code",
   "execution_count": 124,
   "id": "2769df7a-d4f8-405b-9b9d-829b8d94b4c1",
   "metadata": {},
   "outputs": [
    {
     "data": {
      "text/plain": [
       "196"
      ]
     },
     "execution_count": 124,
     "metadata": {},
     "output_type": "execute_result"
    }
   ],
   "source": [
    "len(val_dataset)"
   ]
  },
  {
   "cell_type": "code",
   "execution_count": 125,
   "id": "66aae36a-a40d-4ad4-8768-3acc0d1988cc",
   "metadata": {},
   "outputs": [],
   "source": [
    "# val_dataset = val_dataset.batch(1)"
   ]
  },
  {
   "cell_type": "code",
   "execution_count": 126,
   "id": "ac09fb8d-149b-4647-9102-206909e7c6c5",
   "metadata": {},
   "outputs": [
    {
     "data": {
      "text/plain": [
       "196"
      ]
     },
     "execution_count": 126,
     "metadata": {},
     "output_type": "execute_result"
    }
   ],
   "source": [
    "len(val_dataset)"
   ]
  },
  {
   "cell_type": "code",
   "execution_count": null,
   "id": "13f51a71-dde4-423e-a75a-366cfccfb094",
   "metadata": {},
   "outputs": [],
   "source": []
  },
  {
   "cell_type": "code",
   "execution_count": 127,
   "id": "b93cb7a8-e279-49e4-9afc-9086cf572285",
   "metadata": {},
   "outputs": [
    {
     "data": {
      "text/plain": [
       "TensorShape([128, 128, 1])"
      ]
     },
     "execution_count": 127,
     "metadata": {},
     "output_type": "execute_result"
    }
   ],
   "source": [
    "inp.shape"
   ]
  },
  {
   "cell_type": "code",
   "execution_count": null,
   "id": "066a02ed-1455-46a0-9178-df528bb8a6e5",
   "metadata": {},
   "outputs": [],
   "source": []
  },
  {
   "attachments": {},
   "cell_type": "markdown",
   "id": "ce4b1124-8591-4d4c-8fd8-297a7788be99",
   "metadata": {},
   "source": [
    "### Generator Model"
   ]
  },
  {
   "cell_type": "code",
   "execution_count": 128,
   "id": "c4a5defa-ef45-451b-80f9-15e7a274445a",
   "metadata": {},
   "outputs": [],
   "source": [
    "OUTPUT_CHANNELS = 1"
   ]
  },
  {
   "cell_type": "code",
   "execution_count": 129,
   "id": "bfe45d5e-2938-418d-903f-84cba08652c3",
   "metadata": {},
   "outputs": [],
   "source": [
    "def downsample(filters, size, apply_batchnorm=True):\n",
    "    initializer = tf.random_normal_initializer(0., 0.02)\n",
    "    result = tf.keras.Sequential()\n",
    "    result.add(\n",
    "        tf.keras.layers.Conv2D(filters, size, strides=2, padding='same',\n",
    "                                kernel_initializer=initializer, use_bias=False))\n",
    "    if apply_batchnorm:\n",
    "        result.add(tf.keras.layers.BatchNormalization())\n",
    "    result.add(tf.keras.layers.LeakyReLU())\n",
    "    return result"
   ]
  },
  {
   "cell_type": "code",
   "execution_count": 130,
   "id": "c6556517-b3fc-47c0-bb1d-edcfad9cb123",
   "metadata": {},
   "outputs": [
    {
     "name": "stdout",
     "output_type": "stream",
     "text": [
      "(1, 64, 64, 3)\n"
     ]
    }
   ],
   "source": [
    "down_model = downsample(3, 4)\n",
    "down_result = down_model(tf.expand_dims(inp, 0))\n",
    "print (down_result.shape)"
   ]
  },
  {
   "cell_type": "code",
   "execution_count": null,
   "id": "2b3eb0fd-672e-4cd7-89f8-5f49e5270263",
   "metadata": {},
   "outputs": [],
   "source": []
  },
  {
   "cell_type": "code",
   "execution_count": null,
   "id": "4ecdc7d4-4a17-4a63-abe7-09eb6fde3bb6",
   "metadata": {},
   "outputs": [],
   "source": []
  },
  {
   "cell_type": "code",
   "execution_count": null,
   "id": "85a82902-7100-4e15-ba2c-c04288ebe43b",
   "metadata": {},
   "outputs": [],
   "source": []
  },
  {
   "cell_type": "code",
   "execution_count": 131,
   "id": "4456cb34-fe0e-4dc1-bea1-ed4e075a5acb",
   "metadata": {},
   "outputs": [],
   "source": [
    "def upsample(filters, size, apply_dropout=False):\n",
    "    initializer = tf.random_normal_initializer(0., 0.02)\n",
    "    result = tf.keras.Sequential()\n",
    "    result.add(\n",
    "        tf.keras.layers.Conv2DTranspose(filters, size, strides=2,\n",
    "                                        padding='same',\n",
    "                                        kernel_initializer=initializer,\n",
    "                                        use_bias=False))\n",
    "    result.add(tf.keras.layers.BatchNormalization())\n",
    "    if apply_dropout:\n",
    "        result.add(tf.keras.layers.Dropout(0.5))\n",
    "    result.add(tf.keras.layers.ReLU())\n",
    "    return result"
   ]
  },
  {
   "cell_type": "code",
   "execution_count": 132,
   "id": "e4a6cf7d-7a54-4342-8a14-0488ee27da17",
   "metadata": {},
   "outputs": [
    {
     "name": "stdout",
     "output_type": "stream",
     "text": [
      "(1, 128, 128, 3)\n"
     ]
    }
   ],
   "source": [
    "up_model = upsample(3, 4)\n",
    "up_result = up_model(down_result)\n",
    "print (up_result.shape)"
   ]
  },
  {
   "cell_type": "code",
   "execution_count": 133,
   "id": "36178a64-cb1e-4f21-a78a-f7ac6ad5b87c",
   "metadata": {},
   "outputs": [],
   "source": [
    "def Generator():\n",
    "    inputs = tf.keras.layers.Input(shape=[128, 128, 1])\n",
    "\n",
    "    # down_stack = [\n",
    "    #     downsample(64, 3, apply_batchnorm=False),  # (batch_size, 128, 128, 64)\n",
    "    #     downsample(128, 3),  # (batch_size, 64, 64, 128)\n",
    "    #     downsample(256, 3),  # (batch_size, 32, 32, 256)\n",
    "    #     downsample(512, 3),  # (batch_size, 16, 16, 512)\n",
    "    #     downsample(512, 3),  # (batch_size, 8, 8, 512)\n",
    "    #     downsample(512, 3),  # (batch_size, 4, 4, 512)\n",
    "    #     downsample(512, 3),  # (batch_size, 2, 2, 512)\n",
    "    #     # downsample(512, 4),  # (batch_size, 1, 1, 512)\n",
    "    # ]\n",
    "    down_stack = [\n",
    "        downsample(64, 4, apply_batchnorm=False),  # (batch_size, 128, 128, 64)\n",
    "        downsample(128, 4),  # (batch_size, 64, 64, 128)\n",
    "        downsample(256, 4),  # (batch_size, 32, 32, 256)\n",
    "        downsample(512, 4),  # (batch_size, 16, 16, 512)\n",
    "        downsample(512, 4),  # (batch_size, 8, 8, 512)\n",
    "        downsample(512, 4),  # (batch_size, 4, 4, 512)\n",
    "        downsample(512, 4),  # (batch_size, 2, 2, 512)\n",
    "        # downsample(512, 4),  # (batch_size, 1, 1, 512)\n",
    "    ]\n",
    "\n",
    "    # up_stack = [\n",
    "    #     # upsample(512, 4, apply_dropout=True),  # (batch_size, 2, 2, 1024)\n",
    "    #     upsample(512, 3, apply_dropout=True),  # (batch_size, 4, 4, 1024)\n",
    "    #     upsample(512, 3, apply_dropout=False),  # (batch_size, 8, 8, 1024)\n",
    "    #     upsample(512, 3),  # (batch_size, 16, 16, 1024)\n",
    "    #     upsample(256, 3),  # (batch_size, 32, 32, 512)\n",
    "    #     upsample(128, 3),  # (batch_size, 64, 64, 256)\n",
    "    #     upsample(64, 3),  # (batch_size, 128, 128, 128)\n",
    "    # ]\n",
    "\n",
    "    up_stack = [\n",
    "        upsample(512, 4, apply_dropout=True),  # (batch_size, 2, 2, 1024)\n",
    "        upsample(512, 4, apply_dropout=True),  # (batch_size, 4, 4, 1024)\n",
    "        upsample(512, 4, apply_dropout=True),  # (batch_size, 8, 8, 1024)\n",
    "        upsample(512, 4),  # (batch_size, 16, 16, 1024)\n",
    "        upsample(256, 4),  # (batch_size, 32, 32, 512)\n",
    "        upsample(128, 4),  # (batch_size, 64, 64, 256)\n",
    "        # upsample(64, 4),  # (batch_size, 128, 128, 128)\n",
    "    ]\n",
    "\n",
    "    \n",
    "    initializer = tf.random_normal_initializer(0., 0.02)\n",
    "    last = tf.keras.layers.Conv2DTranspose(OUTPUT_CHANNELS, 3,\n",
    "                                            strides=2,\n",
    "                                            padding='same',\n",
    "                                            kernel_initializer=initializer,\n",
    "                                            activation='sigmoid')  # (batch_size, 256, 256, 3)\n",
    "\n",
    "    x = inputs\n",
    "\n",
    "    # Downsampling through the model\n",
    "    skips = []\n",
    "    for down in down_stack:\n",
    "        x = down(x)\n",
    "        skips.append(x)\n",
    "\n",
    "    skips = reversed(skips[:-1])\n",
    "\n",
    "    # Upsampling and establishing the skip connections\n",
    "    for up, skip in zip(up_stack, skips):\n",
    "        x = up(x)\n",
    "        x = tf.keras.layers.Concatenate()([x, skip])\n",
    "\n",
    "    # x = last(x)\n",
    "    # x = 1.0 + (10.0 - 1.0)*x \n",
    "\n",
    "    upsampling = tf.keras.layers.UpSampling2D(size=2, interpolation = 'bilinear')\n",
    "    # last_conv = tf.keras.layers.Conv2D(1, kernel_size=3, strides=1, padding='same', activation='relu')\n",
    "    last_conv = tf.keras.layers.Conv2D(1, kernel_size=3, strides=1, padding='same', activation='sigmoid')\n",
    "    multiply = tf.keras.layers.Lambda(lambda x: 0.1 + (5.0 - 0.1)*x)\n",
    "    \n",
    "    x = upsampling(x)\n",
    "    x = last_conv(x)\n",
    "    x = multiply(x)\n",
    "    \n",
    "    # x = 0.1 + (10.0 - 0.1)*x\n",
    "    # this one for both!\n",
    "\n",
    "    return tf.keras.Model(inputs=inputs, outputs=x)"
   ]
  },
  {
   "cell_type": "code",
   "execution_count": 134,
   "id": "65ab5a3c-90c2-4ccc-9485-e28cf10868d3",
   "metadata": {},
   "outputs": [],
   "source": [
    "# Visualizing generator architecture\n",
    "generator = Generator()\n",
    "# tf.keras.utils.plot_model(generator, show_shapes=True, dpi=64)"
   ]
  },
  {
   "cell_type": "code",
   "execution_count": 135,
   "id": "61dd1010-9fa2-4473-81aa-4b88a531fd10",
   "metadata": {},
   "outputs": [
    {
     "data": {
      "text/plain": [
       "<matplotlib.image.AxesImage at 0x7f8c4fc10910>"
      ]
     },
     "execution_count": 135,
     "metadata": {},
     "output_type": "execute_result"
    },
    {
     "data": {
      "image/png": "[encoded data removed]",
      "text/plain": [
       "<Figure size 640x480 with 1 Axes>"
      ]
     },
     "metadata": {},
     "output_type": "display_data"
    }
   ],
   "source": [
    "# Testing the generator\n",
    "gen_output = generator(inp[tf.newaxis, ...], training=False)\n",
    "plt.imshow(gen_output[0, ...])"
   ]
  },
  {
   "cell_type": "code",
   "execution_count": 136,
   "id": "ec872ec5-6f09-4172-bf9a-dcb5245d7d02",
   "metadata": {},
   "outputs": [],
   "source": [
    "# gen_output[0]"
   ]
  },
  {
   "cell_type": "code",
   "execution_count": 137,
   "id": "d280517f-13e9-4259-b374-d2b9c68d8ae8",
   "metadata": {},
   "outputs": [
    {
     "data": {
      "text/plain": [
       "TensorShape([1, 128, 128, 1])"
      ]
     },
     "execution_count": 137,
     "metadata": {},
     "output_type": "execute_result"
    }
   ],
   "source": [
    "gen_output.shape"
   ]
  },
  {
   "cell_type": "code",
   "execution_count": null,
   "id": "b4f50e15-16bf-41ce-8209-45a50d9b386f",
   "metadata": {},
   "outputs": [],
   "source": []
  },
  {
   "cell_type": "code",
   "execution_count": 138,
   "id": "74cc242d-32f9-4c33-a3ed-5a8949f75582",
   "metadata": {
    "scrolled": true
   },
   "outputs": [
    {
     "name": "stdout",
     "output_type": "stream",
     "text": [
      "INFO:tensorflow:Collective all_reduce tensors: 1 all_reduces, num_devices = 4, group_size = 4, implementation = CommunicationImplementation.AUTO, num_packs = 1\n",
      "INFO:tensorflow:Collective all_reduce tensors: 1 all_reduces, num_devices = 4, group_size = 4, implementation = CommunicationImplementation.AUTO, num_packs = 1\n",
      "INFO:tensorflow:Collective all_reduce tensors: 1 all_reduces, num_devices = 4, group_size = 4, implementation = CommunicationImplementation.AUTO, num_packs = 1\n",
      "INFO:tensorflow:Collective all_reduce tensors: 1 all_reduces, num_devices = 4, group_size = 4, implementation = CommunicationImplementation.AUTO, num_packs = 1\n",
      "INFO:tensorflow:Collective all_reduce tensors: 1 all_reduces, num_devices = 4, group_size = 4, implementation = CommunicationImplementation.AUTO, num_packs = 1\n",
      "INFO:tensorflow:Collective all_reduce tensors: 1 all_reduces, num_devices = 4, group_size = 4, implementation = CommunicationImplementation.AUTO, num_packs = 1\n",
      "INFO:tensorflow:Collective all_reduce tensors: 1 all_reduces, num_devices = 4, group_size = 4, implementation = CommunicationImplementation.AUTO, num_packs = 1\n",
      "INFO:tensorflow:Collective all_reduce tensors: 1 all_reduces, num_devices = 4, group_size = 4, implementation = CommunicationImplementation.AUTO, num_packs = 1\n",
      "INFO:tensorflow:Collective all_reduce tensors: 1 all_reduces, num_devices = 4, group_size = 4, implementation = CommunicationImplementation.AUTO, num_packs = 1\n",
      "INFO:tensorflow:Collective all_reduce tensors: 1 all_reduces, num_devices = 4, group_size = 4, implementation = CommunicationImplementation.AUTO, num_packs = 1\n",
      "INFO:tensorflow:Collective all_reduce tensors: 1 all_reduces, num_devices = 4, group_size = 4, implementation = CommunicationImplementation.AUTO, num_packs = 1\n",
      "INFO:tensorflow:Collective all_reduce tensors: 1 all_reduces, num_devices = 4, group_size = 4, implementation = CommunicationImplementation.AUTO, num_packs = 1\n",
      "INFO:tensorflow:Collective all_reduce tensors: 1 all_reduces, num_devices = 4, group_size = 4, implementation = CommunicationImplementation.AUTO, num_packs = 1\n",
      "INFO:tensorflow:Collective all_reduce tensors: 1 all_reduces, num_devices = 4, group_size = 4, implementation = CommunicationImplementation.AUTO, num_packs = 1\n",
      "INFO:tensorflow:Collective all_reduce tensors: 1 all_reduces, num_devices = 4, group_size = 4, implementation = CommunicationImplementation.AUTO, num_packs = 1\n",
      "INFO:tensorflow:Collective all_reduce tensors: 1 all_reduces, num_devices = 4, group_size = 4, implementation = CommunicationImplementation.AUTO, num_packs = 1\n",
      "INFO:tensorflow:Collective all_reduce tensors: 1 all_reduces, num_devices = 4, group_size = 4, implementation = CommunicationImplementation.AUTO, num_packs = 1\n",
      "INFO:tensorflow:Collective all_reduce tensors: 1 all_reduces, num_devices = 4, group_size = 4, implementation = CommunicationImplementation.AUTO, num_packs = 1\n",
      "INFO:tensorflow:Collective all_reduce tensors: 1 all_reduces, num_devices = 4, group_size = 4, implementation = CommunicationImplementation.AUTO, num_packs = 1\n",
      "INFO:tensorflow:Collective all_reduce tensors: 1 all_reduces, num_devices = 4, group_size = 4, implementation = CommunicationImplementation.AUTO, num_packs = 1\n",
      "INFO:tensorflow:Collective all_reduce tensors: 1 all_reduces, num_devices = 4, group_size = 4, implementation = CommunicationImplementation.AUTO, num_packs = 1\n",
      "INFO:tensorflow:Collective all_reduce tensors: 1 all_reduces, num_devices = 4, group_size = 4, implementation = CommunicationImplementation.AUTO, num_packs = 1\n",
      "INFO:tensorflow:Collective all_reduce tensors: 1 all_reduces, num_devices = 4, group_size = 4, implementation = CommunicationImplementation.AUTO, num_packs = 1\n",
      "INFO:tensorflow:Collective all_reduce tensors: 1 all_reduces, num_devices = 4, group_size = 4, implementation = CommunicationImplementation.AUTO, num_packs = 1\n",
      "INFO:tensorflow:Collective all_reduce tensors: 1 all_reduces, num_devices = 4, group_size = 4, implementation = CommunicationImplementation.AUTO, num_packs = 1\n",
      "INFO:tensorflow:Collective all_reduce tensors: 1 all_reduces, num_devices = 4, group_size = 4, implementation = CommunicationImplementation.AUTO, num_packs = 1\n",
      "INFO:tensorflow:Collective all_reduce tensors: 1 all_reduces, num_devices = 4, group_size = 4, implementation = CommunicationImplementation.AUTO, num_packs = 1\n",
      "INFO:tensorflow:Collective all_reduce tensors: 1 all_reduces, num_devices = 4, group_size = 4, implementation = CommunicationImplementation.AUTO, num_packs = 1\n",
      "INFO:tensorflow:Collective all_reduce tensors: 1 all_reduces, num_devices = 4, group_size = 4, implementation = CommunicationImplementation.AUTO, num_packs = 1\n",
      "INFO:tensorflow:Collective all_reduce tensors: 1 all_reduces, num_devices = 4, group_size = 4, implementation = CommunicationImplementation.AUTO, num_packs = 1\n",
      "INFO:tensorflow:Collective all_reduce tensors: 1 all_reduces, num_devices = 4, group_size = 4, implementation = CommunicationImplementation.AUTO, num_packs = 1\n",
      "INFO:tensorflow:Collective all_reduce tensors: 1 all_reduces, num_devices = 4, group_size = 4, implementation = CommunicationImplementation.AUTO, num_packs = 1\n",
      "INFO:tensorflow:Collective all_reduce tensors: 1 all_reduces, num_devices = 4, group_size = 4, implementation = CommunicationImplementation.AUTO, num_packs = 1\n",
      "INFO:tensorflow:Collective all_reduce tensors: 1 all_reduces, num_devices = 4, group_size = 4, implementation = CommunicationImplementation.AUTO, num_packs = 1\n",
      "INFO:tensorflow:Collective all_reduce tensors: 1 all_reduces, num_devices = 4, group_size = 4, implementation = CommunicationImplementation.AUTO, num_packs = 1\n",
      "INFO:tensorflow:Collective all_reduce tensors: 1 all_reduces, num_devices = 4, group_size = 4, implementation = CommunicationImplementation.AUTO, num_packs = 1\n",
      "INFO:tensorflow:Collective all_reduce tensors: 1 all_reduces, num_devices = 4, group_size = 4, implementation = CommunicationImplementation.AUTO, num_packs = 1\n",
      "INFO:tensorflow:Collective all_reduce tensors: 1 all_reduces, num_devices = 4, group_size = 4, implementation = CommunicationImplementation.AUTO, num_packs = 1\n",
      "INFO:tensorflow:Collective all_reduce tensors: 1 all_reduces, num_devices = 4, group_size = 4, implementation = CommunicationImplementation.AUTO, num_packs = 1\n",
      "INFO:tensorflow:Collective all_reduce tensors: 1 all_reduces, num_devices = 4, group_size = 4, implementation = CommunicationImplementation.AUTO, num_packs = 1\n",
      "INFO:tensorflow:Collective all_reduce tensors: 1 all_reduces, num_devices = 4, group_size = 4, implementation = CommunicationImplementation.AUTO, num_packs = 1\n",
      "INFO:tensorflow:Collective all_reduce tensors: 1 all_reduces, num_devices = 4, group_size = 4, implementation = CommunicationImplementation.AUTO, num_packs = 1\n",
      "INFO:tensorflow:Collective all_reduce tensors: 1 all_reduces, num_devices = 4, group_size = 4, implementation = CommunicationImplementation.AUTO, num_packs = 1\n",
      "INFO:tensorflow:Collective all_reduce tensors: 1 all_reduces, num_devices = 4, group_size = 4, implementation = CommunicationImplementation.AUTO, num_packs = 1\n",
      "INFO:tensorflow:Collective all_reduce tensors: 1 all_reduces, num_devices = 4, group_size = 4, implementation = CommunicationImplementation.AUTO, num_packs = 1\n",
      "INFO:tensorflow:Collective all_reduce tensors: 1 all_reduces, num_devices = 4, group_size = 4, implementation = CommunicationImplementation.AUTO, num_packs = 1\n",
      "INFO:tensorflow:Collective all_reduce tensors: 1 all_reduces, num_devices = 4, group_size = 4, implementation = CommunicationImplementation.AUTO, num_packs = 1\n",
      "INFO:tensorflow:Collective all_reduce tensors: 1 all_reduces, num_devices = 4, group_size = 4, implementation = CommunicationImplementation.AUTO, num_packs = 1\n"
     ]
    }
   ],
   "source": [
    "with strategy.scope():\n",
    "    generator = Generator()"
   ]
  },
  {
   "cell_type": "code",
   "execution_count": 139,
   "id": "8d25002d-d516-467f-8f61-2117b75604b7",
   "metadata": {},
   "outputs": [],
   "source": [
    "# Generator loss\n",
    "LAMBDA = 100\n",
    "loss_object = tf.keras.losses.MeanSquaredError(reduction=tf.keras.losses.Reduction.NONE)\n",
    "loss_tracker = tf.keras.metrics.MeanSquaredError(name='train_mse')\n",
    "val_loss_tracker = tf.keras.metrics.MeanSquaredError(name='val_mse')"
   ]
  },
  {
   "cell_type": "code",
   "execution_count": 140,
   "id": "aa66de45-639b-42bb-93f9-0db859c198a0",
   "metadata": {},
   "outputs": [],
   "source": [
    "with strategy.scope():\n",
    "    loss_object = tf.keras.losses.MeanSquaredError(reduction=tf.keras.losses.Reduction.NONE)\n",
    "    def generator_loss(gen_output, target):\n",
    "        #Possible addition: regularizer\n",
    "        # gan_loss = loss_object(gen_output, target)\n",
    "        # return gan_loss\n",
    "        per_example_loss = loss_object(gen_output, target)\n",
    "        loss = tf.nn.compute_average_loss(per_example_loss, global_batch_size=GLOBAL_BATCH_SIZE)\n",
    "        return loss"
   ]
  },
  {
   "cell_type": "code",
   "execution_count": 141,
   "id": "716e518f-3383-4d73-8059-26408c94351e",
   "metadata": {},
   "outputs": [],
   "source": [
    "with strategy.scope():\n",
    "    # loss_tracker = tf.keras.metrics.Mean(name=\"train_loss\")\n",
    "    # val_loss_tracker = tf.keras.metrics.Mean(name=\"val_loss\")\n",
    "    # val_loss_mean = tf.keras.metrics.Mean(name='val_loss_mean')\n",
    "    loss_tracker = tf.keras.metrics.MeanSquaredError(name='train_mse')\n",
    "    val_loss_tracker = tf.keras.metrics.MeanSquaredError(name='val_mse')"
   ]
  },
  {
   "cell_type": "code",
   "execution_count": 142,
   "id": "33fa0d4c-67a5-48ab-9bdd-3cf3b37f2ff6",
   "metadata": {},
   "outputs": [],
   "source": [
    "# tf.keras.utils.plot_model(generator, show_shapes=True, dpi=64, to_file='results/model.png')"
   ]
  },
  {
   "cell_type": "code",
   "execution_count": 143,
   "id": "6b5c6410-aecd-455f-99f7-3b497493e063",
   "metadata": {},
   "outputs": [
    {
     "data": {
      "text/plain": [
       "<tf.Tensor: shape=(), dtype=float32, numpy=329.5042>"
      ]
     },
     "execution_count": 143,
     "metadata": {},
     "output_type": "execute_result"
    }
   ],
   "source": [
    "generator_loss(gen_output, re[tf.newaxis,...])"
   ]
  },
  {
   "cell_type": "code",
   "execution_count": 144,
   "id": "e4530291-a521-48d9-aada-03ddfbd33e74",
   "metadata": {},
   "outputs": [
    {
     "data": {
      "text/plain": [
       "TensorShape([1, 128, 128, 1])"
      ]
     },
     "execution_count": 144,
     "metadata": {},
     "output_type": "execute_result"
    }
   ],
   "source": [
    "re[tf.newaxis,...].shape"
   ]
  },
  {
   "cell_type": "code",
   "execution_count": 145,
   "id": "5d8ffbcd-d7dd-4c0e-acf2-0159b07a72ce",
   "metadata": {},
   "outputs": [
    {
     "data": {
      "text/plain": [
       "TensorShape([1, 128, 128, 1])"
      ]
     },
     "execution_count": 145,
     "metadata": {},
     "output_type": "execute_result"
    }
   ],
   "source": [
    "gen_output.shape"
   ]
  },
  {
   "attachments": {},
   "cell_type": "markdown",
   "id": "e1121ae4-74d5-4707-bda4-594153863e19",
   "metadata": {},
   "source": [
    "### Optimizers and checkpoints"
   ]
  },
  {
   "cell_type": "code",
   "execution_count": 146,
   "id": "7a8c033c-5049-439c-865d-51cd5fe233a5",
   "metadata": {},
   "outputs": [],
   "source": [
    "# generator_optimizer = tf.keras.optimizers.legacy.Adam(2e-4, beta_1=0.5)\n",
    "# discriminator_optimizer = tf.keras.optimizers.Adam(2e-4, beta_1=0.5)"
   ]
  },
  {
   "cell_type": "code",
   "execution_count": 147,
   "id": "205ecad3-472b-4b4e-80c8-59f54d05deea",
   "metadata": {},
   "outputs": [],
   "source": [
    "checkpoint_dir = f'{RESULTS_FOLDER}/training_checkpoints/'\n",
    "checkpoint_prefix = os.path.join(checkpoint_dir, \"ckpt\")"
   ]
  },
  {
   "cell_type": "code",
   "execution_count": 148,
   "id": "9fa39442-7f64-45ea-9f18-e349ce736555",
   "metadata": {},
   "outputs": [],
   "source": [
    "with strategy.scope():\n",
    "    generator_optimizer = tf.keras.optimizers.legacy.Adam(2e-4, beta_1=0.5)\n",
    "    checkpoint = tf.train.Checkpoint(generator_optimizer=generator_optimizer,\n",
    "                                     generator=generator,\n",
    "                                    )"
   ]
  },
  {
   "cell_type": "code",
   "execution_count": 149,
   "id": "68da0e83-3db7-4df1-afba-78c9c7203138",
   "metadata": {},
   "outputs": [],
   "source": [
    "class MidPointLogNorm(mcolors.LogNorm):\n",
    "    def __init__(self, vmin=None, vmax=None, midpoint=None, clip=False):\n",
    "        mcolors.LogNorm.__init__(self,vmin=vmin, vmax=vmax, clip=clip)\n",
    "        self.midpoint=midpoint\n",
    "    def __call__(self, value, clip=None):\n",
    "        # I'm ignoring masked values and all kinds of edge cases to make a\n",
    "        # simple example...\n",
    "        x, y = [np.log(self.vmin), np.log(self.midpoint), np.log(self.vmax)], [0, 0.5, 1]\n",
    "        return np.ma.masked_array(np.interp(np.log(value), x, y))"
   ]
  },
  {
   "cell_type": "code",
   "execution_count": 150,
   "id": "772c62e8-32e2-46e0-af5b-beb06d470c81",
   "metadata": {},
   "outputs": [],
   "source": [
    "def generate_images(model, test_input, tar, epoch, step):\n",
    "    prediction = model(test_input, training=False)\n",
    "    display_list = [test_input[0], tar[0], prediction[0]]\n",
    "    mse_loss = tf.keras.losses.MeanSquaredError()(tar[0], prediction[0]).numpy()\n",
    "    mape_loss = tf.keras.losses.MeanAbsolutePercentageError()(tar[0], prediction[0]).numpy()\n",
    "    title = ['Input Image', 'Ground Truth', f'Predicted {mse_loss:.2f} {mape_loss:.2f}%']\n",
    "    for i in range(3):\n",
    "        plt.subplot(1, 3, i+1)\n",
    "        plt.title(title[i])\n",
    "        plt.imshow(display_list[i], cmap='gray')\n",
    "        plt.colorbar(location='bottom')\n",
    "        plt.axis('off')\n",
    "    plt.savefig(f'{RESULTS_FOLDER}/training_plots/{epoch}-{step}.png')\n",
    "    plt.close()"
   ]
  },
  {
   "cell_type": "code",
   "execution_count": 151,
   "id": "2bed7ce8-eaf3-4265-9faa-2e147ac2817a",
   "metadata": {},
   "outputs": [
    {
     "data": {
      "text/plain": [
       "<Figure size 640x480 with 0 Axes>"
      ]
     },
     "metadata": {},
     "output_type": "display_data"
    }
   ],
   "source": [
    "plt.tight_layout()\n",
    "def generate_images8(model, test_input, tar, epoch, step):\n",
    "    prediction = model(test_input, training=False)\n",
    "    x = prediction.numpy()\n",
    "    # if np.amax(x) > 1.0:\n",
    "    #     x[x < 1.0] = 1.0\n",
    "    # else:\n",
    "    #     x[x > 1.0] = 1.0\n",
    "\n",
    "    display_list = [test_input[0], tar[0], x[0]]\n",
    "    mse_loss = tf.keras.losses.MeanSquaredError()(tar[0], prediction[0]).numpy()\n",
    "    mape_loss = tf.keras.losses.MeanAbsolutePercentageError()(tar[0], prediction[0]).numpy()\n",
    "    title = ['Input Image', 'Ground Truth', f'Predicted'] #{mse_loss:.2f} {mape_loss:.2f}%\n",
    "    plt.figure(figsize=(15, 8))\n",
    "\n",
    "    for i in range(3):\n",
    "        plt.subplot(1, 3, i+1)\n",
    "        plt.title(title[i], fontsize=25)\n",
    "        if i==0:\n",
    "            plt.imshow(display_list[i], cmap='bwr')\n",
    "            plt.colorbar(location='bottom',pad=0.1)\n",
    "        else:\n",
    "            plt.imshow(display_list[i], cmap='bwr', norm= MidPointLogNorm(vmin=0.01, vmax=5, midpoint=1))\n",
    "            plt.colorbar(location='bottom',pad=0.1)\n",
    "        plt.axis('on')\n",
    "    plt.savefig(f'{RESULTS_FOLDER}/training_plots/{epoch}-{step}.png', bbox_inches='tight')\n",
    "    plt.close()\n",
    "\n",
    "    # plt.imshow(target[i][0], cmap='bwr', norm= MidPointLogNorm(vmin=0.1, vmax=5, midpoint=1))\n",
    "    # plt.colorbar(location='bottom', pad=0.05)\n",
    "    # plt.suptitle('Modulus distribution', x=0.5, y = 0.48, fontsize=15)"
   ]
  },
  {
   "cell_type": "code",
   "execution_count": 152,
   "id": "833ca605-d2f5-4fde-991d-711b08047f40",
   "metadata": {},
   "outputs": [
    {
     "name": "stderr",
     "output_type": "stream",
     "text": [
      "2023-08-11 16:17:25.812425: I tensorflow/core/common_runtime/executor.cc:1197] [/device:CPU:0] (DEBUG INFO) Executor start aborting (this does not indicate an error and you can ignore this message): INVALID_ARGUMENT: You must feed a value for placeholder tensor 'Placeholder/_1' with dtype string and shape [25000]\n",
      "\t [[{{node Placeholder/_1}}]]\n"
     ]
    }
   ],
   "source": [
    "for example_input, example_target in val_dataset.take(1):\n",
    "    generate_images8(generator, example_input, example_target,6,6)"
   ]
  },
  {
   "cell_type": "code",
   "execution_count": 153,
   "id": "8cdd81a0-5e63-419e-b0ea-21a0bbf77d36",
   "metadata": {},
   "outputs": [],
   "source": [
    "# for i, (example_input, example_target) in enumerate(val_dataset.take(1000)):\n",
    "#     if i+1 == 49 or i+1 == 174:\n",
    "#         generate_images8(generator, example_input, example_target,i+1,i+1)"
   ]
  },
  {
   "cell_type": "code",
   "execution_count": null,
   "id": "0719e570-e6c1-489e-9f47-58fd223af60f",
   "metadata": {},
   "outputs": [],
   "source": []
  },
  {
   "cell_type": "code",
   "execution_count": null,
   "id": "b55e683e-0b76-4525-89c5-8f66e75d0882",
   "metadata": {},
   "outputs": [],
   "source": []
  },
  {
   "cell_type": "code",
   "execution_count": null,
   "id": "6bdf9d0c-4244-433f-97df-1b92891264c0",
   "metadata": {},
   "outputs": [],
   "source": []
  },
  {
   "cell_type": "code",
   "execution_count": null,
   "id": "efd38d18-0f65-4a31-9ac1-b66fe68e9a3e",
   "metadata": {},
   "outputs": [],
   "source": []
  },
  {
   "attachments": {},
   "cell_type": "markdown",
   "id": "e879447d-b9cf-4638-9dc6-150e086ff328",
   "metadata": {},
   "source": [
    "### Training"
   ]
  },
  {
   "cell_type": "code",
   "execution_count": 154,
   "id": "cabe3899-1b8e-4f39-8948-35c65b23531b",
   "metadata": {},
   "outputs": [],
   "source": [
    "MODEL_PATH = f\"{RESULTS_FOLDER}/model_weights/mse_model\"\n",
    "BEST_PATH = f\"{RESULTS_FOLDER}/model_weights/best_mse_model\""
   ]
  },
  {
   "cell_type": "code",
   "execution_count": 155,
   "id": "7bcfec04-9706-4323-95ea-9d8dbff9bcc9",
   "metadata": {},
   "outputs": [],
   "source": [
    "log_dir=f\"{RESULTS_FOLDER}/logs/\"\n",
    "summary_writer = tf.summary.create_file_writer(log_dir + \"fit/\" + datetime.datetime.now().strftime(\"%Y%m%d-%H%M%S\"))\n",
    "gen_total_loss_list = []\n",
    "gen_val_loss_list = []"
   ]
  },
  {
   "cell_type": "code",
   "execution_count": 156,
   "id": "483308e7-2097-4290-bd44-9d46db73aa9e",
   "metadata": {},
   "outputs": [],
   "source": [
    "# @tf.function\n",
    "def train_step(inputs):\n",
    "    input_image, target = inputs\n",
    "    with tf.GradientTape() as gen_tape:\n",
    "        gen_output = generator(input_image, training=True)\n",
    "        gen_total_loss = generator_loss(gen_output, target)\n",
    "\n",
    "    generator_gradients = gen_tape.gradient(gen_total_loss, generator.trainable_variables)\n",
    "    generator_optimizer.apply_gradients(zip(generator_gradients, generator.trainable_variables))\n",
    "    \n",
    "    loss_tracker.update_state(gen_output, target)\n",
    "    return gen_total_loss\n",
    "\n",
    "     # gen_total_loss_list.append(gen_total_loss.numpy())\n",
    "    # print(f'Result:{loss_tracker.result()}')\n",
    "\n",
    "    # with summary_writer.as_default():\n",
    "    #     tf.summary.scalar('gen_total_loss', gen_total_loss, step=step//1000)"
   ]
  },
  {
   "cell_type": "code",
   "execution_count": 157,
   "id": "9be27718-f134-42e7-b4b7-ec9ee2fd6536",
   "metadata": {},
   "outputs": [],
   "source": [
    "# @tf.function\n",
    "def val_step(inputs):\n",
    "    input_image, target = inputs\n",
    "    gen_output = generator(input_image, training=False)\n",
    "    # v_loss = loss_object(gen_output, target)\n",
    "    # val_loss_mean.update_state(v_loss)\n",
    "    val_loss_tracker.update_state(gen_output, target)\n",
    "    \n",
    "    # gen_val_loss = generator_loss(gen_output, target)\n",
    "    # gen_val_loss_list.append(gen_val_loss)\n",
    "    # val_loss_tracker.update_state(gen_val_loss)\n",
    "\n",
    "    # print(gen_val_loss)"
   ]
  },
  {
   "cell_type": "code",
   "execution_count": null,
   "id": "85c91e49-1b8c-4c5d-9f78-d5ad48427c70",
   "metadata": {},
   "outputs": [],
   "source": []
  },
  {
   "cell_type": "code",
   "execution_count": 158,
   "id": "6f46a2df-b5f0-4d91-a729-1d8cc719aaaf",
   "metadata": {},
   "outputs": [],
   "source": [
    "@tf.function\n",
    "def distributed_train_step(dataset_inputs):\n",
    "    per_replica_losses = strategy.run(train_step, args=(dataset_inputs,))\n",
    "    return strategy.reduce(tf.distribute.ReduceOp.SUM, per_replica_losses, axis=None)"
   ]
  },
  {
   "cell_type": "code",
   "execution_count": 159,
   "id": "3e49d4f7-f017-4e67-b05b-2c8ec430dbe3",
   "metadata": {},
   "outputs": [],
   "source": [
    "@tf.function\n",
    "def distributed_val_step(dataset_inputs):\n",
    "    return strategy.run(val_step, args=(dataset_inputs,))"
   ]
  },
  {
   "cell_type": "code",
   "execution_count": null,
   "id": "97bdc0b6-8edd-4c16-acdf-a91d20f2b33f",
   "metadata": {},
   "outputs": [],
   "source": []
  },
  {
   "cell_type": "code",
   "execution_count": 160,
   "id": "c970e2eb-6c9a-465b-a1fc-acf3a8673a8d",
   "metadata": {},
   "outputs": [],
   "source": [
    "min_val_loss = 100000;"
   ]
  },
  {
   "cell_type": "code",
   "execution_count": 161,
   "id": "69922983-99ee-4a25-ada1-c8037eff7300",
   "metadata": {},
   "outputs": [],
   "source": [
    "epoch_wise_train_loss = []\n",
    "epoch_wise_val_loss = []"
   ]
  },
  {
   "cell_type": "code",
   "execution_count": null,
   "id": "7874bd7c-6d55-4840-b895-dbc96f4fa7d0",
   "metadata": {},
   "outputs": [],
   "source": []
  },
  {
   "cell_type": "code",
   "execution_count": 162,
   "id": "15982bc2-991f-48c5-aa82-cbf019a7793d",
   "metadata": {},
   "outputs": [],
   "source": [
    "# for x in train_dataset:\n",
    "#     total_loss = distributed_train_step(x)\n",
    "#     break"
   ]
  },
  {
   "cell_type": "code",
   "execution_count": 163,
   "id": "c2aa990d-dc2b-42c9-aef6-6ffa87c7f7f6",
   "metadata": {},
   "outputs": [],
   "source": [
    "# total_loss"
   ]
  },
  {
   "cell_type": "code",
   "execution_count": 164,
   "id": "fd831088-345e-43c0-b266-efa3811c99c1",
   "metadata": {},
   "outputs": [],
   "source": [
    "# for x in val_dataset:\n",
    "#     total_loss = distributed_val_step(x)\n",
    "#     break"
   ]
  },
  {
   "cell_type": "code",
   "execution_count": 165,
   "id": "be29bb69-39e9-4455-b6a7-49279388b70e",
   "metadata": {},
   "outputs": [],
   "source": [
    "# total_loss"
   ]
  },
  {
   "cell_type": "code",
   "execution_count": 166,
   "id": "788ab4d1-7e27-40ba-bf39-409186986ba3",
   "metadata": {},
   "outputs": [],
   "source": [
    "# val_loss_mean.result()"
   ]
  },
  {
   "cell_type": "code",
   "execution_count": 167,
   "id": "52a79929-3b0c-4423-b3ae-cd52766723a2",
   "metadata": {},
   "outputs": [],
   "source": [
    "def fit(train_ds, val_ds, epochs, steps=1):\n",
    "    # example_input, example_target = next(iter(train_ds.take(1)))\n",
    "    # example_input, example_target = inp, re\n",
    "    start = time.time()\n",
    "    min_val_loss = 1000\n",
    "    \n",
    "    for epoch in range(epochs):\n",
    "        print(\"Iniside loop\")\n",
    "        total_loss = 0.0\n",
    "        num_batches = 0\n",
    "        for x in train_ds:\n",
    "            total_loss += distributed_train_step(x)\n",
    "            num_batches += 1\n",
    "        train_loss = total_loss / num_batches\n",
    "        print(\"training complete\")\n",
    "        for x in val_ds:\n",
    "            distributed_val_step(x)\n",
    "        print(\"val complete\")\n",
    "        if epoch % 10 == 0:\n",
    "            checkpoint.save(checkpoint_prefix)\n",
    "            generate_images(generator, inp[tf.newaxis,...], re[tf.newaxis,...], f'train/train-{epoch}', 10)\n",
    "            with open(f'{RESULTS_FOLDER}/epoch.txt','a') as f:\n",
    "                f.write(f\"{epoch} epoch: took {time.time()-start:.2f} sec\")\n",
    "                f.write('\\n')\n",
    "                \n",
    "        ## Save best model\n",
    "        current_loss = val_loss_tracker.result().numpy()\n",
    "        # current_loss = val_loss_mean.result().numpy()\n",
    "        print(\"current loss\",current_loss)\n",
    "        print(\"Min vall loss\",min_val_loss)\n",
    "        if(current_loss < min_val_loss and epoch > 0):\n",
    "            min_val_loss = current_loss\n",
    "            generator.save_weights(BEST_PATH)\n",
    "            print(f\"Saving best weight with val loss:{min_val_loss} to {BEST_PATH}\")\n",
    "\n",
    "        epoch_wise_train_loss.append(loss_tracker.result().numpy())\n",
    "        epoch_wise_val_loss.append(val_loss_tracker.result().numpy())\n",
    "        \n",
    "        loss_tracker.reset_states()\n",
    "        val_loss_tracker.reset_states()\n",
    "        # val_loss_mean.reset_states()\n",
    "    \n",
    "    generator.save_weights(MODEL_PATH)\n",
    "    print(f'\\nModel saved to: {MODEL_PATH}')\n",
    "    print('min_val_loss',min_val_loss)\n",
    "    with open(f'{RESULTS_FOLDER}/epoch.txt','a') as f:\n",
    "        f.write(f\"{epoch} epoch: took {time.time()-start:.2f} sec\")\n",
    "        f.write('\\n')\n",
    "        f.write(f'min_val_loss:{min_val_loss}')\n",
    "\n",
    "\n",
    "        # if (epoch) % 10 == 0:\n",
    "        #     # display.clear_output(wait=True)\n",
    "        #     if epoch != 0:\n",
    "        #         print(f'Time taken for 10 epochs: {time.time()-start:.2f} sec\\n')\n",
    "        #     start = time.time()\n",
    "        #     generate_images(generator, example_input, example_target, f'train/train-{epoch}', step)\n",
    "        #     print(f\"Reached epoch: {epoch}\")\n",
    "        #     with open(f'{RESULTS_FOLDER}/epoch.txt','w') as f:\n",
    "        #         f.write(\"\\n\")\n",
    "        #         f.write(str(epoch))\n",
    "        #     # generate_images(generator, exp_img, epoch, step)    \n",
    "\n",
    "        # # Save (checkpoint) the model every 25 EPOCH\n",
    "        # if (epoch)%25 == 0:\n",
    "        #     print(f\"Saving checkpoint at epoch:{epoch}\")\n",
    "        #     checkpoint.save(file_prefix=checkpoint_prefix)\n",
    "        #     print(f\"Step: {step}, Train Loss:{loss_tracker.result()} , Val Loss:{val_loss_tracker.result()}\")\n",
    "        \n",
    "        # print(f\"Epoch: {epoch}, Train Loss:{loss_tracker.result()} , Val Loss:{val_loss_tracker.result()}\")\n",
    "        # epoch_wise_train_loss.append(loss_tracker.result())\n",
    "        # epoch_wise_val_loss.append(val_loss_tracker.result())\n",
    "        # loss_tracker.reset_states()\n",
    "        # val_loss_tracker.reset_states()\n",
    "        # val_loss_mean.reset_states()\n",
    "          \n",
    "    # generator.save_weights(MODEL_PATH)\n",
    "    # print(f'\\nModel saved to: {MODEL_PATH}')\n",
    "    # print('min_val_loss',min_val_loss)\n",
    "    # with open(f'{RESULTS_FOLDER}/loss.txt','w') as f:\n",
    "    #     f.write(str(min_val_loss))\n",
    "    #     f.write(\"epoch\")\n",
    "    #     f.write(str(epoch))"
   ]
  },
  {
   "cell_type": "code",
   "execution_count": null,
   "id": "714664d7-1c4d-4c9d-8332-6dc42cbfe275",
   "metadata": {},
   "outputs": [],
   "source": []
  },
  {
   "cell_type": "code",
   "execution_count": null,
   "id": "05ddbc68-2ad1-4cf8-8082-7fda0bb26622",
   "metadata": {},
   "outputs": [],
   "source": []
  },
  {
   "cell_type": "code",
   "execution_count": null,
   "id": "57d6a8f1-9087-4905-a0ce-003b79a4142b",
   "metadata": {},
   "outputs": [],
   "source": []
  },
  {
   "cell_type": "code",
   "execution_count": null,
   "id": "fb0fd3f0-4c7a-4460-9638-613a91fa3c12",
   "metadata": {},
   "outputs": [],
   "source": []
  },
  {
   "cell_type": "code",
   "execution_count": 168,
   "id": "3fdffa19-b989-4bc7-95b6-0aa893087c8d",
   "metadata": {
    "scrolled": true
   },
   "outputs": [],
   "source": [
    "# total_loss = 0.0\n",
    "# num_batches = 0\n",
    "# for x in train_dist_dataset:\n",
    "#     total_loss += distributed_train_step(x)\n",
    "#     num_batches += 1\n",
    "#     break\n",
    "#     # print(num_batches)"
   ]
  },
  {
   "cell_type": "code",
   "execution_count": 169,
   "id": "5c619380-3329-43f8-9dc5-f6bdb06d1bdb",
   "metadata": {},
   "outputs": [],
   "source": [
    "# total_loss"
   ]
  },
  {
   "cell_type": "code",
   "execution_count": 170,
   "id": "dbeaedf2-09a7-45d9-899f-e41edc3dcc55",
   "metadata": {},
   "outputs": [],
   "source": [
    "# for x in val_dist_dataset:\n",
    "#     distributed_val_step(x)\n",
    "#     break"
   ]
  },
  {
   "cell_type": "code",
   "execution_count": null,
   "id": "2655dbfc-e1a5-4652-9271-b7f91951f511",
   "metadata": {},
   "outputs": [],
   "source": []
  },
  {
   "cell_type": "code",
   "execution_count": 171,
   "id": "470e7c8c-c6b1-4457-bbb8-d84d86dabfe1",
   "metadata": {
    "scrolled": true
   },
   "outputs": [],
   "source": [
    "# fit(train_dist_dataset,val_dist_dataset, epochs=EPOCHS)"
   ]
  },
  {
   "cell_type": "code",
   "execution_count": null,
   "id": "1984af4c-3132-42b8-b44a-a6edf17b1e84",
   "metadata": {},
   "outputs": [],
   "source": []
  },
  {
   "cell_type": "code",
   "execution_count": 172,
   "id": "a2a1a897-e548-45b9-be94-84b32d8fe09f",
   "metadata": {
    "scrolled": true
   },
   "outputs": [],
   "source": [
    "# a = next(iter(strategy.experimental_distribute_dataset(train_dataset)))"
   ]
  },
  {
   "cell_type": "code",
   "execution_count": 173,
   "id": "e94e69e8-528e-47e9-8039-825f81eba09a",
   "metadata": {},
   "outputs": [],
   "source": [
    "# len(gen_total_loss_list)"
   ]
  },
  {
   "cell_type": "code",
   "execution_count": 174,
   "id": "9b79ff0b-043a-433d-b511-5a6245df1553",
   "metadata": {},
   "outputs": [],
   "source": [
    "# len(gen_val_loss_list)"
   ]
  },
  {
   "cell_type": "code",
   "execution_count": 175,
   "id": "18a6743e-1a14-444b-a6ca-47cc741b4b6c",
   "metadata": {},
   "outputs": [],
   "source": [
    "# # plt.figure(figsize=(20, 15))\n",
    "# plt.plot(gen_total_loss_list, label='train')\n",
    "# plt.plot(gen_val_loss_list, label='val')\n",
    "# plt.title(\"Training curve\")\n",
    "# plt.xlabel(\"Steps\")\n",
    "# plt.ylabel(\"MSE Loss\")\n",
    "# plt.legend()\n",
    "# plt.savefig(f'{RESULTS_FOLDER}/train_val_curve.png')\n",
    "# plt.show()\n"
   ]
  },
  {
   "cell_type": "code",
   "execution_count": 176,
   "id": "7241fc35-0b6a-4e77-9367-af9c4bf16805",
   "metadata": {},
   "outputs": [
    {
     "name": "stdout",
     "output_type": "stream",
     "text": [
      "0\n",
      "0\n"
     ]
    }
   ],
   "source": [
    "l1 = len(epoch_wise_train_loss)\n",
    "l2 = len(epoch_wise_val_loss)\n",
    "print(l1)\n",
    "print(l2)\n",
    "a = range(1,l1+1)\n",
    "b = range(1,l2+1)"
   ]
  },
  {
   "cell_type": "code",
   "execution_count": 177,
   "id": "65278248-9162-4fc2-b927-883ce73c7b6b",
   "metadata": {},
   "outputs": [
    {
     "data": {
      "image/png": "[encoded data removed]",
      "text/plain": [
       "<Figure size 1500x500 with 1 Axes>"
      ]
     },
     "metadata": {},
     "output_type": "display_data"
    }
   ],
   "source": [
    "plt.figure(figsize=(15,5))\n",
    "plt.plot(a, epoch_wise_train_loss, label='train', linewidth=7.0)\n",
    "plt.plot(a, epoch_wise_val_loss, label='val', linewidth=7.0)\n",
    "plt.title(\"Training curve\")\n",
    "plt.xlabel(\"Epochs\")\n",
    "plt.ylabel(\"MSE Loss\")\n",
    "plt.legend()\n",
    "# plt.savefig(f'{RESULTS_FOLDER}/train_val_epoch_curve.png')\n",
    "plt.show()"
   ]
  },
  {
   "cell_type": "code",
   "execution_count": 178,
   "id": "7ab1bce3-89e1-4481-9305-a81094cb6c94",
   "metadata": {},
   "outputs": [],
   "source": [
    "# with open(f\"{}/epoch_wise_train_loss\", \"wb\") as fp:   \n",
    "#     pickle.dump(epoch_wise_train_loss, fp)\n",
    "# with open(\"epoch_wise_val_loss\", \"wb\") as fp:   \n",
    "#     pickle.dump(epoch_wise_val_loss, fp)"
   ]
  },
  {
   "cell_type": "code",
   "execution_count": 179,
   "id": "2e134f23-1da1-4e1d-b38a-c03395044849",
   "metadata": {},
   "outputs": [],
   "source": [
    "# print(f'Train MSE at the end of training: {gen_total_loss_list[-1]}')\n",
    "# print(f'Val MSE at the end of training: {gen_val_loss_list[-1]}')"
   ]
  },
  {
   "cell_type": "code",
   "execution_count": null,
   "id": "ecea3e89-805b-42ee-b54f-a8e7cd59a0d7",
   "metadata": {},
   "outputs": [],
   "source": []
  },
  {
   "cell_type": "code",
   "execution_count": null,
   "id": "de4efd7d-f17d-4188-ab8a-65b26c0b9dbe",
   "metadata": {},
   "outputs": [],
   "source": []
  },
  {
   "cell_type": "code",
   "execution_count": null,
   "id": "3d96b301-cb03-45aa-93a5-138b7612dc86",
   "metadata": {},
   "outputs": [],
   "source": []
  },
  {
   "attachments": {},
   "cell_type": "markdown",
   "id": "f385c137-04c9-4b48-8978-31ff5d8849bf",
   "metadata": {},
   "source": [
    "### Testing"
   ]
  },
  {
   "attachments": {},
   "cell_type": "markdown",
   "id": "9f85c934-8177-46c6-b2c7-7ee4b05f6c27",
   "metadata": {},
   "source": [
    "### Testing"
   ]
  },
  {
   "cell_type": "code",
   "execution_count": 180,
   "id": "d03c2980-d40d-42d6-b7c1-6a90fa798c14",
   "metadata": {},
   "outputs": [
    {
     "data": {
      "text/plain": [
       "<tensorflow.python.checkpoint.checkpoint.CheckpointLoadStatus at 0x7f8c7c316730>"
      ]
     },
     "execution_count": 180,
     "metadata": {},
     "output_type": "execute_result"
    }
   ],
   "source": [
    "generator.load_weights(BEST_PATH)"
   ]
  },
  {
   "cell_type": "code",
   "execution_count": 181,
   "id": "6db04c0d-6f14-4aab-8561-5f8a4717cb29",
   "metadata": {},
   "outputs": [
    {
     "data": {
      "text/plain": [
       "196"
      ]
     },
     "execution_count": 181,
     "metadata": {},
     "output_type": "execute_result"
    }
   ],
   "source": [
    "len(val_dataset)"
   ]
  },
  {
   "cell_type": "code",
   "execution_count": null,
   "id": "324659fc-6460-48b3-9f97-ad9b49d1928a",
   "metadata": {},
   "outputs": [],
   "source": []
  },
  {
   "cell_type": "code",
   "execution_count": null,
   "id": "7fc1163e-4ee0-43b0-b828-86871a36667c",
   "metadata": {},
   "outputs": [],
   "source": []
  },
  {
   "cell_type": "code",
   "execution_count": 182,
   "id": "a2969379-f7a3-4c26-8cb6-6568b29a51c6",
   "metadata": {},
   "outputs": [],
   "source": [
    "val_dataset = tf.data.Dataset.from_tensor_slices((input_val_path, target_val_path))\n",
    "val_dataset = val_dataset.map(load_image_val)\n",
    "# val_dataset = val_dataset.shuffle(buffer_size=len(input_val_path)) \n",
    "# val_dataset = val_dataset.batch(BATCH_SIZE)\n",
    "val_dataset = val_dataset.batch(1)"
   ]
  },
  {
   "cell_type": "code",
   "execution_count": 183,
   "id": "f7f1a123-180c-4e47-b19d-d0ddd348077e",
   "metadata": {},
   "outputs": [
    {
     "data": {
      "text/plain": [
       "25000"
      ]
     },
     "execution_count": 183,
     "metadata": {},
     "output_type": "execute_result"
    }
   ],
   "source": [
    "len(val_dataset)"
   ]
  },
  {
   "cell_type": "code",
   "execution_count": 184,
   "id": "9a8b2e2a-ecf4-4270-9aa8-4765410ed5e6",
   "metadata": {},
   "outputs": [],
   "source": [
    "from skimage import filters"
   ]
  },
  {
   "cell_type": "code",
   "execution_count": 185,
   "id": "5ff107d8-3918-4707-871b-069c795ed1de",
   "metadata": {},
   "outputs": [],
   "source": [
    "def display_otsus(extracted_mod_img):\n",
    "    numpy_data = extracted_mod_img[:,:,0].numpy()\n",
    "    val = filters.threshold_otsu(numpy_data)\n",
    "    thresholded_img = numpy_data > val\n",
    "    return thresholded_img"
   ]
  },
  {
   "cell_type": "code",
   "execution_count": 186,
   "id": "abf96de6-3025-496c-90db-000496f1d874",
   "metadata": {},
   "outputs": [],
   "source": [
    "def display_otsus2(extracted_mod_img):\n",
    "    numpy_data = extracted_mod_img[:,:,0].numpy()\n",
    "    val = filters.threshold_otsu(numpy_data)\n",
    "    thresholded_img = numpy_data > val\n",
    "    return thresholded_img,val"
   ]
  },
  {
   "cell_type": "code",
   "execution_count": 187,
   "id": "588e4916-517a-4eae-b2c1-e411de503dca",
   "metadata": {},
   "outputs": [],
   "source": [
    "def dice(pred, true, k = 1):\n",
    "    intersection = np.sum(pred[true==k]) * 2.0\n",
    "    dice = intersection / (np.sum(pred) + np.sum(true))\n",
    "    return dice"
   ]
  },
  {
   "cell_type": "code",
   "execution_count": 188,
   "id": "b00fb3bb-0338-4088-95e2-aae2fbb0e060",
   "metadata": {},
   "outputs": [],
   "source": [
    "def avg_modulus(taget_or_pred, val):\n",
    "    mod_at_each_point_soft = taget_or_pred[taget_or_pred < val]\n",
    "    avg_mod_soft = tf.reduce_mean(mod_at_each_point_soft).numpy()\n",
    "    mod_at_each_point_hard = taget_or_pred[taget_or_pred > val]\n",
    "    avg_mod_hard = tf.reduce_mean(mod_at_each_point_hard).numpy()\n",
    "    return avg_mod_soft, avg_mod_hard, mod_at_each_point_soft, mod_at_each_point_hard"
   ]
  },
  {
   "cell_type": "code",
   "execution_count": 189,
   "id": "1919234a-c9a6-4acb-b336-50cc05f28dee",
   "metadata": {},
   "outputs": [],
   "source": [
    "def calculate_obj_mse(predicted_mod_img, thresholded_pred_mod, extracted_mod_img, thresholded_gt_mod):\n",
    "    both_thresholded = np.logical_or(thresholded_pred_mod,thresholded_gt_mod)\n",
    "    valued = predicted_mod_img.numpy().squeeze()\n",
    "    numpy_data = extracted_mod_img.numpy().squeeze()\n",
    "    assert both_thresholded.shape == valued.shape == numpy_data.shape\n",
    "    ip = valued[both_thresholded]\n",
    "    op = numpy_data[both_thresholded]\n",
    "    mse_score_hard = np.mean(np.square(ip-op))\n",
    "    \n",
    "    ip = valued[np.logical_not(both_thresholded)]\n",
    "    op = numpy_data[np.logical_not(both_thresholded)]\n",
    "    mse_score_soft = np.mean(np.square(ip-op))\n",
    "    return mse_score_hard, mse_score_soft"
   ]
  },
  {
   "cell_type": "code",
   "execution_count": 190,
   "id": "66f22dc3-597d-44bc-9b86-caed3ca1e618",
   "metadata": {},
   "outputs": [],
   "source": [
    "# with open(f'{RESULTS_FOLDER}/analysis.csv','w') as f:\n",
    "#     f.write(f'index,mse,nmse,mape,dice, avg_mod_hard_gt,avg_mod_hard_pred,avg_mod_soft_gt, avg_mod_soft_pred,mod_err_hard,rel_mod_err_hard,mod_err_soft,rel_mod_err_soft,hard_obj_mse,soft_obj_mse\\n')"
   ]
  },
  {
   "cell_type": "code",
   "execution_count": 191,
   "id": "0465a544-d5ce-443d-ac2f-24951b07cb9f",
   "metadata": {},
   "outputs": [],
   "source": [
    "avg_mse_loss_list = []\n",
    "avg_mape_loss_list = []\n",
    "list_dice_scores = []"
   ]
  },
  {
   "cell_type": "code",
   "execution_count": 192,
   "id": "7a20ff8f-f72e-4813-bab0-d57666ce73f7",
   "metadata": {},
   "outputs": [
    {
     "name": "stderr",
     "output_type": "stream",
     "text": [
      "2023-08-11 16:18:14.355782: I tensorflow/core/common_runtime/executor.cc:1197] [/device:CPU:0] (DEBUG INFO) Executor start aborting (this does not indicate an error and you can ignore this message): INVALID_ARGUMENT: You must feed a value for placeholder tensor 'Placeholder/_1' with dtype string and shape [25000]\n",
      "\t [[{{node Placeholder/_1}}]]\n"
     ]
    }
   ],
   "source": [
    "i = 0\n",
    "for test_image,test_target in val_dataset:\n",
    "    \n",
    "    test_prediction = generator(test_image,training=False)\n",
    "    test_target = test_target\n",
    "    mse_loss = tf.keras.metrics.mean_squared_error(test_target, test_prediction)\n",
    "    avg_mse_loss = tf.math.reduce_mean(mse_loss).numpy()\n",
    "    avg_mse_loss_list.append(avg_mse_loss)\n",
    "\n",
    "    mape_loss =  tf.keras.metrics.mean_absolute_percentage_error(test_target, test_prediction)\n",
    "    avg_mape_loss = tf.math.reduce_mean(mape_loss).numpy()\n",
    "    avg_mape_loss_list.append(avg_mape_loss)\n",
    "\n",
    "    thresholded_pred_mod, value_pred = display_otsus2(test_prediction[0])\n",
    "    thresholded_gt_mod, value_gt = display_otsus2(test_target[0])\n",
    "    dice_score = dice(thresholded_pred_mod, thresholded_gt_mod, k = 1) \n",
    "    list_dice_scores.append(dice_score)\n",
    "\n",
    "    avg_mod_soft_pred, avg_mod_hard_pred, mod_aep_soft_pred, mod_aep_hard_pred = avg_modulus(test_prediction[0], value_pred)\n",
    "    avg_mod_soft_gt, avg_mod_hard_gt, mod_aep_soft_gt, mod_aep_hard_gt = avg_modulus(test_target[0], value_gt)\n",
    "\n",
    "\n",
    "    nmse_denominator = tf.math.reduce_mean(tf.keras.metrics.mean_squared_error(test_target, 0.0)).numpy()\n",
    "    nmse = avg_mse_loss/nmse_denominator\n",
    "\n",
    "    mod_err_hard = abs(avg_mod_hard_gt - avg_mod_hard_pred)\n",
    "    rel_mod_err_hard = mod_err_hard/avg_mod_hard_gt\n",
    "\n",
    "    mod_err_soft = abs(avg_mod_soft_gt - avg_mod_soft_pred)\n",
    "    rel_mod_err_soft = mod_err_soft/avg_mod_soft_gt\n",
    "\n",
    "    mse_score_hard, mse_score_soft = calculate_obj_mse(test_prediction[0], thresholded_pred_mod, test_target[0], thresholded_gt_mod)    \n",
    "    \n",
    "    \n",
    "    i = i+1\n",
    "    with open(f'{RESULTS_FOLDER}/analysis.csv','a') as f:\n",
    "        f.write(f'{i},{avg_mse_loss},{nmse},{avg_mape_loss},{dice_score},{avg_mod_hard_gt},{avg_mod_hard_pred},{avg_mod_soft_gt},{avg_mod_soft_pred},{mod_err_hard},{rel_mod_err_hard},{mod_err_soft},{rel_mod_err_soft},{mse_score_hard},{mse_score_soft}\\n')   \n",
    "\n",
    "    # if i == 2:\n",
    "    #     break\n",
    "\n",
    "    # output = np.reshape(test_prediction, (128,128))\n",
    "    # gt = np.reshape(test_target, (128,128))\n",
    "    # i = i+1\n",
    "\n",
    "    # file_name = f\"{RESULTS_FOLDER}/raw_vals/{i}-pred.raw\"\n",
    "    # with open(file_name, 'wb') as fp:     \n",
    "    #     output.tofile(fp)\n",
    "    # fp.close()\n",
    "\n",
    "    # file_name2 = f\"{RESULTS_FOLDER}/raw_vals/{i}-gt.raw\"\n",
    "    # with open(file_name2, 'wb') as fp:     \n",
    "    #     gt.tofile(fp)\n",
    "    # fp.close()"
   ]
  },
  {
   "cell_type": "code",
   "execution_count": null,
   "id": "572d555a-1067-4993-bbf9-0ab71b678796",
   "metadata": {},
   "outputs": [],
   "source": []
  },
  {
   "cell_type": "code",
   "execution_count": null,
   "id": "cceeca11-8697-43f1-b547-95cf50d22a31",
   "metadata": {},
   "outputs": [],
   "source": []
  },
  {
   "cell_type": "code",
   "execution_count": null,
   "id": "5a544529-245b-410d-9e25-bc9885a90cf4",
   "metadata": {},
   "outputs": [],
   "source": []
  },
  {
   "cell_type": "code",
   "execution_count": 193,
   "id": "4e14b820-df46-4875-a724-6107266ae3a4",
   "metadata": {},
   "outputs": [
    {
     "data": {
      "text/plain": [
       "0.00022623138334557552"
      ]
     },
     "execution_count": 193,
     "metadata": {},
     "output_type": "execute_result"
    }
   ],
   "source": [
    "final_mse = sum(avg_mse_loss_list)/len(avg_mse_loss_list)\n",
    "with open(f'{RESULTS_FOLDER}/loss.txt','a') as f:\n",
    "    f.write(f'\\nFinal_MSE:{final_mse}')\n",
    "final_mse"
   ]
  },
  {
   "cell_type": "code",
   "execution_count": 194,
   "id": "bb659fbf-123e-4444-bfc8-bf1cd5f835a3",
   "metadata": {},
   "outputs": [
    {
     "data": {
      "text/plain": [
       "25000"
      ]
     },
     "execution_count": 194,
     "metadata": {},
     "output_type": "execute_result"
    }
   ],
   "source": [
    "len(avg_mape_loss_list)"
   ]
  },
  {
   "cell_type": "code",
   "execution_count": 195,
   "id": "5ec733a7-1d3d-4fff-9a3d-307b6e0e485b",
   "metadata": {},
   "outputs": [
    {
     "data": {
      "text/plain": [
       "0.32348257682681086"
      ]
     },
     "execution_count": 195,
     "metadata": {},
     "output_type": "execute_result"
    }
   ],
   "source": [
    "final_mape = sum(avg_mape_loss_list)/len(avg_mape_loss_list)\n",
    "with open(f'{RESULTS_FOLDER}/loss.txt','a') as f:\n",
    "    f.write(f'\\nFinal_MAPE:{final_mape}')\n",
    "final_mape"
   ]
  },
  {
   "cell_type": "code",
   "execution_count": 196,
   "id": "57836e78-0bd1-468d-b1f6-2c6513ae64b9",
   "metadata": {},
   "outputs": [
    {
     "data": {
      "text/plain": [
       "25000"
      ]
     },
     "execution_count": 196,
     "metadata": {},
     "output_type": "execute_result"
    }
   ],
   "source": [
    "len(list_dice_scores)"
   ]
  },
  {
   "cell_type": "code",
   "execution_count": 197,
   "id": "a9b55666-0159-4296-9b26-90e3a12055b0",
   "metadata": {},
   "outputs": [
    {
     "data": {
      "text/plain": [
       "0.8543818455800665"
      ]
     },
     "execution_count": 197,
     "metadata": {},
     "output_type": "execute_result"
    }
   ],
   "source": [
    "final_dice = sum(list_dice_scores)/len(list_dice_scores)\n",
    "with open(f'{RESULTS_FOLDER}/loss.txt','a') as f:\n",
    "    f.write(f'\\nFinal Dice:{final_dice}')\n",
    "final_dice"
   ]
  },
  {
   "cell_type": "code",
   "execution_count": null,
   "id": "196aebe3-5149-4679-aa64-a9599361d830",
   "metadata": {},
   "outputs": [],
   "source": []
  },
  {
   "cell_type": "code",
   "execution_count": null,
   "id": "8b7a19af-8b39-4053-b271-dc643fb3c6d3",
   "metadata": {},
   "outputs": [],
   "source": []
  },
  {
   "cell_type": "markdown",
   "id": "fe64039e-1adb-4ccb-b342-e5f6538bf76d",
   "metadata": {},
   "source": [
    "### Post - analysis"
   ]
  },
  {
   "cell_type": "code",
   "execution_count": 198,
   "id": "d146a6ca-8861-4f39-9cba-fa83dcadbc95",
   "metadata": {},
   "outputs": [],
   "source": [
    "import pandas as pd"
   ]
  },
  {
   "cell_type": "code",
   "execution_count": 199,
   "id": "037a6333-cdbd-43d6-9223-e7251bb8ed61",
   "metadata": {},
   "outputs": [],
   "source": [
    "names = 'index,mse,nmse,mape,dice,avg_mod_hard_gt,avg_mod_hard_pred,avg_mod_soft_gt,avg_mod_soft_pred,mod_err_hard,rel_mod_err_hard,mod_err_soft,rel_mod_err_soft,hard_obj_mse,soft_obj_mse'"
   ]
  },
  {
   "cell_type": "code",
   "execution_count": 200,
   "id": "429f9045-1180-472e-b35d-e978e02cb334",
   "metadata": {},
   "outputs": [],
   "source": [
    "names = names.split(',')"
   ]
  },
  {
   "cell_type": "code",
   "execution_count": 201,
   "id": "d55bfe77-8476-4eee-8822-a3863b3df447",
   "metadata": {},
   "outputs": [],
   "source": [
    "df = pd.read_csv(f'{RESULTS_FOLDER}/analysis.csv',sep=\",\", header = 0, names=names)"
   ]
  },
  {
   "cell_type": "code",
   "execution_count": 202,
   "id": "7069c9be-e9f0-4c21-bdcb-cc55c0efa931",
   "metadata": {},
   "outputs": [
    {
     "data": {
      "text/html": [
       "<div>\n",
       "<style scoped>\n",
       "    .dataframe tbody tr th:only-of-type {\n",
       "        vertical-align: middle;\n",
       "    }\n",
       "\n",
       "    .dataframe tbody tr th {\n",
       "        vertical-align: top;\n",
       "    }\n",
       "\n",
       "    .dataframe thead th {\n",
       "        text-align: right;\n",
       "    }\n",
       "</style>\n",
       "<table border=\"1\" class=\"dataframe\">\n",
       "  <thead>\n",
       "    <tr style=\"text-align: right;\">\n",
       "      <th></th>\n",
       "      <th>index</th>\n",
       "      <th>mse</th>\n",
       "      <th>nmse</th>\n",
       "      <th>mape</th>\n",
       "      <th>dice</th>\n",
       "      <th>avg_mod_hard_gt</th>\n",
       "      <th>avg_mod_hard_pred</th>\n",
       "      <th>avg_mod_soft_gt</th>\n",
       "      <th>avg_mod_soft_pred</th>\n",
       "      <th>mod_err_hard</th>\n",
       "      <th>rel_mod_err_hard</th>\n",
       "      <th>mod_err_soft</th>\n",
       "      <th>rel_mod_err_soft</th>\n",
       "      <th>hard_obj_mse</th>\n",
       "      <th>soft_obj_mse</th>\n",
       "    </tr>\n",
       "  </thead>\n",
       "  <tbody>\n",
       "    <tr>\n",
       "      <th>0</th>\n",
       "      <td>1</td>\n",
       "      <td>0.000005</td>\n",
       "      <td>0.000005</td>\n",
       "      <td>0.177115</td>\n",
       "      <td>0.999510</td>\n",
       "      <td>0.997567</td>\n",
       "      <td>0.998923</td>\n",
       "      <td>0.744511</td>\n",
       "      <td>0.746311</td>\n",
       "      <td>0.001356</td>\n",
       "      <td>0.001359</td>\n",
       "      <td>0.001800</td>\n",
       "      <td>0.002417</td>\n",
       "      <td>0.000004</td>\n",
       "      <td>0.000023</td>\n",
       "    </tr>\n",
       "    <tr>\n",
       "      <th>1</th>\n",
       "      <td>2</td>\n",
       "      <td>0.000059</td>\n",
       "      <td>0.000054</td>\n",
       "      <td>0.317940</td>\n",
       "      <td>0.994619</td>\n",
       "      <td>1.469937</td>\n",
       "      <td>1.490860</td>\n",
       "      <td>1.003120</td>\n",
       "      <td>1.005118</td>\n",
       "      <td>0.020924</td>\n",
       "      <td>0.014234</td>\n",
       "      <td>0.001998</td>\n",
       "      <td>0.001992</td>\n",
       "      <td>0.000637</td>\n",
       "      <td>0.000016</td>\n",
       "    </tr>\n",
       "    <tr>\n",
       "      <th>2</th>\n",
       "      <td>3</td>\n",
       "      <td>0.000591</td>\n",
       "      <td>0.000300</td>\n",
       "      <td>0.388214</td>\n",
       "      <td>0.997340</td>\n",
       "      <td>3.835108</td>\n",
       "      <td>3.855762</td>\n",
       "      <td>1.008709</td>\n",
       "      <td>1.009683</td>\n",
       "      <td>0.020655</td>\n",
       "      <td>0.005386</td>\n",
       "      <td>0.000974</td>\n",
       "      <td>0.000966</td>\n",
       "      <td>0.006258</td>\n",
       "      <td>0.000170</td>\n",
       "    </tr>\n",
       "    <tr>\n",
       "      <th>3</th>\n",
       "      <td>4</td>\n",
       "      <td>0.000059</td>\n",
       "      <td>0.000034</td>\n",
       "      <td>0.246662</td>\n",
       "      <td>0.995486</td>\n",
       "      <td>3.205012</td>\n",
       "      <td>3.214258</td>\n",
       "      <td>1.022685</td>\n",
       "      <td>1.024147</td>\n",
       "      <td>0.009246</td>\n",
       "      <td>0.002885</td>\n",
       "      <td>0.001462</td>\n",
       "      <td>0.001430</td>\n",
       "      <td>0.000555</td>\n",
       "      <td>0.000019</td>\n",
       "    </tr>\n",
       "    <tr>\n",
       "      <th>4</th>\n",
       "      <td>5</td>\n",
       "      <td>0.000132</td>\n",
       "      <td>0.000063</td>\n",
       "      <td>0.303686</td>\n",
       "      <td>0.998549</td>\n",
       "      <td>3.652843</td>\n",
       "      <td>3.667607</td>\n",
       "      <td>1.019109</td>\n",
       "      <td>1.020727</td>\n",
       "      <td>0.014764</td>\n",
       "      <td>0.004042</td>\n",
       "      <td>0.001617</td>\n",
       "      <td>0.001587</td>\n",
       "      <td>0.001135</td>\n",
       "      <td>0.000040</td>\n",
       "    </tr>\n",
       "  </tbody>\n",
       "</table>\n",
       "</div>"
      ],
      "text/plain": [
       "   index       mse      nmse      mape      dice  avg_mod_hard_gt  \\\n",
       "0      1  0.000005  0.000005  0.177115  0.999510         0.997567   \n",
       "1      2  0.000059  0.000054  0.317940  0.994619         1.469937   \n",
       "2      3  0.000591  0.000300  0.388214  0.997340         3.835108   \n",
       "3      4  0.000059  0.000034  0.246662  0.995486         3.205012   \n",
       "4      5  0.000132  0.000063  0.303686  0.998549         3.652843   \n",
       "\n",
       "   avg_mod_hard_pred  avg_mod_soft_gt  avg_mod_soft_pred  mod_err_hard  \\\n",
       "0           0.998923         0.744511           0.746311      0.001356   \n",
       "1           1.490860         1.003120           1.005118      0.020924   \n",
       "2           3.855762         1.008709           1.009683      0.020655   \n",
       "3           3.214258         1.022685           1.024147      0.009246   \n",
       "4           3.667607         1.019109           1.020727      0.014764   \n",
       "\n",
       "   rel_mod_err_hard  mod_err_soft  rel_mod_err_soft  hard_obj_mse  \\\n",
       "0          0.001359      0.001800          0.002417      0.000004   \n",
       "1          0.014234      0.001998          0.001992      0.000637   \n",
       "2          0.005386      0.000974          0.000966      0.006258   \n",
       "3          0.002885      0.001462          0.001430      0.000555   \n",
       "4          0.004042      0.001617          0.001587      0.001135   \n",
       "\n",
       "   soft_obj_mse  \n",
       "0      0.000023  \n",
       "1      0.000016  \n",
       "2      0.000170  \n",
       "3      0.000019  \n",
       "4      0.000040  "
      ]
     },
     "execution_count": 202,
     "metadata": {},
     "output_type": "execute_result"
    }
   ],
   "source": [
    "df.head()"
   ]
  },
  {
   "cell_type": "code",
   "execution_count": 203,
   "id": "8039f070-e110-4fdc-a9da-91f55d79c271",
   "metadata": {},
   "outputs": [
    {
     "data": {
      "text/plain": [
       "(25000, 15)"
      ]
     },
     "execution_count": 203,
     "metadata": {},
     "output_type": "execute_result"
    }
   ],
   "source": [
    "df.shape"
   ]
  },
  {
   "cell_type": "code",
   "execution_count": null,
   "id": "f2ceabca-554e-4983-9988-167175f181f6",
   "metadata": {},
   "outputs": [],
   "source": []
  },
  {
   "cell_type": "code",
   "execution_count": 204,
   "id": "8437c36f-2c65-4c5b-9747-d5542eca514b",
   "metadata": {},
   "outputs": [],
   "source": [
    "inclusion = []\n",
    "for a_log_path in log_val_path:\n",
    "    with open(a_log_path) as f:\n",
    "        data = f.read()\n",
    "    data = data.split(' ')\n",
    "    mod = data[9]\n",
    "    assert mod == 'mod1'\n",
    "    foreground = float(data[10].splitlines()[0])\n",
    "    if foreground < 1.0:\n",
    "        inclusion.append('soft')\n",
    "    elif foreground > 1.0:\n",
    "        inclusion.append('hard')\n",
    "    else:\n",
    "        print('error')"
   ]
  },
  {
   "cell_type": "code",
   "execution_count": 205,
   "id": "5994377e-27bf-4429-bccc-013982cb194b",
   "metadata": {},
   "outputs": [
    {
     "data": {
      "text/plain": [
       "3000"
      ]
     },
     "execution_count": 205,
     "metadata": {},
     "output_type": "execute_result"
    }
   ],
   "source": [
    "len(inclusion)"
   ]
  },
  {
   "cell_type": "code",
   "execution_count": 206,
   "id": "5af2418e-a842-4710-8164-8b1fef89bf17",
   "metadata": {},
   "outputs": [],
   "source": [
    "s1 = inclusion[0:1000]\n",
    "s2 = inclusion[1000:2000]\n",
    "s2_updated = list(np.repeat(s2,8))\n",
    "s3 = inclusion[2000:3000]\n",
    "s3_updated = list(np.repeat(s3,16))\n",
    "inclusion = s1 + s2_updated + s3_updated"
   ]
  },
  {
   "cell_type": "code",
   "execution_count": 207,
   "id": "db677260-f2a2-46fe-afa1-47f413b00744",
   "metadata": {},
   "outputs": [
    {
     "data": {
      "text/plain": [
       "25000"
      ]
     },
     "execution_count": 207,
     "metadata": {},
     "output_type": "execute_result"
    }
   ],
   "source": [
    "len(inclusion)"
   ]
  },
  {
   "cell_type": "code",
   "execution_count": 208,
   "id": "094cb8f4-448c-42d9-a963-bea6107afda2",
   "metadata": {},
   "outputs": [],
   "source": [
    "df['inclusion'] = inclusion"
   ]
  },
  {
   "cell_type": "code",
   "execution_count": 209,
   "id": "9773d4c2-b59b-4cc3-9321-dec10cff245d",
   "metadata": {},
   "outputs": [
    {
     "data": {
      "text/plain": [
       "0        soft\n",
       "1        hard\n",
       "2        hard\n",
       "3        hard\n",
       "4        hard\n",
       "         ... \n",
       "24995    hard\n",
       "24996    hard\n",
       "24997    hard\n",
       "24998    hard\n",
       "24999    hard\n",
       "Name: inclusion, Length: 25000, dtype: object"
      ]
     },
     "execution_count": 209,
     "metadata": {},
     "output_type": "execute_result"
    }
   ],
   "source": [
    "df['inclusion']"
   ]
  },
  {
   "cell_type": "code",
   "execution_count": 210,
   "id": "7a54c773-6801-485e-8e91-2e9889537952",
   "metadata": {},
   "outputs": [
    {
     "data": {
      "text/html": [
       "<div>\n",
       "<style scoped>\n",
       "    .dataframe tbody tr th:only-of-type {\n",
       "        vertical-align: middle;\n",
       "    }\n",
       "\n",
       "    .dataframe tbody tr th {\n",
       "        vertical-align: top;\n",
       "    }\n",
       "\n",
       "    .dataframe thead th {\n",
       "        text-align: right;\n",
       "    }\n",
       "</style>\n",
       "<table border=\"1\" class=\"dataframe\">\n",
       "  <thead>\n",
       "    <tr style=\"text-align: right;\">\n",
       "      <th></th>\n",
       "      <th>index</th>\n",
       "      <th>mse</th>\n",
       "      <th>nmse</th>\n",
       "      <th>mape</th>\n",
       "      <th>dice</th>\n",
       "      <th>avg_mod_hard_gt</th>\n",
       "      <th>avg_mod_hard_pred</th>\n",
       "      <th>avg_mod_soft_gt</th>\n",
       "      <th>avg_mod_soft_pred</th>\n",
       "      <th>mod_err_hard</th>\n",
       "      <th>rel_mod_err_hard</th>\n",
       "      <th>mod_err_soft</th>\n",
       "      <th>rel_mod_err_soft</th>\n",
       "      <th>hard_obj_mse</th>\n",
       "      <th>soft_obj_mse</th>\n",
       "      <th>inclusion</th>\n",
       "    </tr>\n",
       "  </thead>\n",
       "  <tbody>\n",
       "    <tr>\n",
       "      <th>0</th>\n",
       "      <td>1</td>\n",
       "      <td>0.000005</td>\n",
       "      <td>0.000005</td>\n",
       "      <td>0.177115</td>\n",
       "      <td>0.999510</td>\n",
       "      <td>0.997567</td>\n",
       "      <td>0.998923</td>\n",
       "      <td>0.744511</td>\n",
       "      <td>0.746311</td>\n",
       "      <td>0.001356</td>\n",
       "      <td>0.001359</td>\n",
       "      <td>0.001800</td>\n",
       "      <td>0.002417</td>\n",
       "      <td>0.000004</td>\n",
       "      <td>0.000023</td>\n",
       "      <td>soft</td>\n",
       "    </tr>\n",
       "    <tr>\n",
       "      <th>1</th>\n",
       "      <td>2</td>\n",
       "      <td>0.000059</td>\n",
       "      <td>0.000054</td>\n",
       "      <td>0.317940</td>\n",
       "      <td>0.994619</td>\n",
       "      <td>1.469937</td>\n",
       "      <td>1.490860</td>\n",
       "      <td>1.003120</td>\n",
       "      <td>1.005118</td>\n",
       "      <td>0.020924</td>\n",
       "      <td>0.014234</td>\n",
       "      <td>0.001998</td>\n",
       "      <td>0.001992</td>\n",
       "      <td>0.000637</td>\n",
       "      <td>0.000016</td>\n",
       "      <td>hard</td>\n",
       "    </tr>\n",
       "    <tr>\n",
       "      <th>2</th>\n",
       "      <td>3</td>\n",
       "      <td>0.000591</td>\n",
       "      <td>0.000300</td>\n",
       "      <td>0.388214</td>\n",
       "      <td>0.997340</td>\n",
       "      <td>3.835108</td>\n",
       "      <td>3.855762</td>\n",
       "      <td>1.008709</td>\n",
       "      <td>1.009683</td>\n",
       "      <td>0.020655</td>\n",
       "      <td>0.005386</td>\n",
       "      <td>0.000974</td>\n",
       "      <td>0.000966</td>\n",
       "      <td>0.006258</td>\n",
       "      <td>0.000170</td>\n",
       "      <td>hard</td>\n",
       "    </tr>\n",
       "    <tr>\n",
       "      <th>3</th>\n",
       "      <td>4</td>\n",
       "      <td>0.000059</td>\n",
       "      <td>0.000034</td>\n",
       "      <td>0.246662</td>\n",
       "      <td>0.995486</td>\n",
       "      <td>3.205012</td>\n",
       "      <td>3.214258</td>\n",
       "      <td>1.022685</td>\n",
       "      <td>1.024147</td>\n",
       "      <td>0.009246</td>\n",
       "      <td>0.002885</td>\n",
       "      <td>0.001462</td>\n",
       "      <td>0.001430</td>\n",
       "      <td>0.000555</td>\n",
       "      <td>0.000019</td>\n",
       "      <td>hard</td>\n",
       "    </tr>\n",
       "    <tr>\n",
       "      <th>4</th>\n",
       "      <td>5</td>\n",
       "      <td>0.000132</td>\n",
       "      <td>0.000063</td>\n",
       "      <td>0.303686</td>\n",
       "      <td>0.998549</td>\n",
       "      <td>3.652843</td>\n",
       "      <td>3.667607</td>\n",
       "      <td>1.019109</td>\n",
       "      <td>1.020727</td>\n",
       "      <td>0.014764</td>\n",
       "      <td>0.004042</td>\n",
       "      <td>0.001617</td>\n",
       "      <td>0.001587</td>\n",
       "      <td>0.001135</td>\n",
       "      <td>0.000040</td>\n",
       "      <td>hard</td>\n",
       "    </tr>\n",
       "    <tr>\n",
       "      <th>5</th>\n",
       "      <td>6</td>\n",
       "      <td>0.000385</td>\n",
       "      <td>0.000428</td>\n",
       "      <td>1.922595</td>\n",
       "      <td>0.998440</td>\n",
       "      <td>0.997148</td>\n",
       "      <td>0.999696</td>\n",
       "      <td>0.120360</td>\n",
       "      <td>0.146425</td>\n",
       "      <td>0.002548</td>\n",
       "      <td>0.002555</td>\n",
       "      <td>0.026065</td>\n",
       "      <td>0.216556</td>\n",
       "      <td>0.000363</td>\n",
       "      <td>0.000583</td>\n",
       "      <td>soft</td>\n",
       "    </tr>\n",
       "  </tbody>\n",
       "</table>\n",
       "</div>"
      ],
      "text/plain": [
       "   index       mse      nmse      mape      dice  avg_mod_hard_gt  \\\n",
       "0      1  0.000005  0.000005  0.177115  0.999510         0.997567   \n",
       "1      2  0.000059  0.000054  0.317940  0.994619         1.469937   \n",
       "2      3  0.000591  0.000300  0.388214  0.997340         3.835108   \n",
       "3      4  0.000059  0.000034  0.246662  0.995486         3.205012   \n",
       "4      5  0.000132  0.000063  0.303686  0.998549         3.652843   \n",
       "5      6  0.000385  0.000428  1.922595  0.998440         0.997148   \n",
       "\n",
       "   avg_mod_hard_pred  avg_mod_soft_gt  avg_mod_soft_pred  mod_err_hard  \\\n",
       "0           0.998923         0.744511           0.746311      0.001356   \n",
       "1           1.490860         1.003120           1.005118      0.020924   \n",
       "2           3.855762         1.008709           1.009683      0.020655   \n",
       "3           3.214258         1.022685           1.024147      0.009246   \n",
       "4           3.667607         1.019109           1.020727      0.014764   \n",
       "5           0.999696         0.120360           0.146425      0.002548   \n",
       "\n",
       "   rel_mod_err_hard  mod_err_soft  rel_mod_err_soft  hard_obj_mse  \\\n",
       "0          0.001359      0.001800          0.002417      0.000004   \n",
       "1          0.014234      0.001998          0.001992      0.000637   \n",
       "2          0.005386      0.000974          0.000966      0.006258   \n",
       "3          0.002885      0.001462          0.001430      0.000555   \n",
       "4          0.004042      0.001617          0.001587      0.001135   \n",
       "5          0.002555      0.026065          0.216556      0.000363   \n",
       "\n",
       "   soft_obj_mse inclusion  \n",
       "0      0.000023      soft  \n",
       "1      0.000016      hard  \n",
       "2      0.000170      hard  \n",
       "3      0.000019      hard  \n",
       "4      0.000040      hard  \n",
       "5      0.000583      soft  "
      ]
     },
     "execution_count": 210,
     "metadata": {},
     "output_type": "execute_result"
    }
   ],
   "source": [
    "df.head(6)"
   ]
  },
  {
   "cell_type": "code",
   "execution_count": null,
   "id": "ba4f5166-64ba-4778-abf4-380dea85c338",
   "metadata": {},
   "outputs": [],
   "source": []
  },
  {
   "cell_type": "code",
   "execution_count": 211,
   "id": "b6ff621a-12be-4231-b71e-658f4487ff2c",
   "metadata": {},
   "outputs": [],
   "source": [
    "df_soft = df[df['inclusion']=='soft']"
   ]
  },
  {
   "cell_type": "code",
   "execution_count": 212,
   "id": "96daac70-5925-4517-b486-be93a836b3b8",
   "metadata": {},
   "outputs": [],
   "source": [
    "df_hard = df[df['inclusion']=='hard']"
   ]
  },
  {
   "cell_type": "code",
   "execution_count": 213,
   "id": "e467c89c-5996-4fe4-b42e-cb992b4f3b63",
   "metadata": {},
   "outputs": [],
   "source": [
    "df_hard['mape'] = df_hard['mape']\n",
    "df_soft['mape'] = df_soft['mape']"
   ]
  },
  {
   "cell_type": "code",
   "execution_count": 214,
   "id": "bbf893db-7291-4127-8995-0829b22d929d",
   "metadata": {},
   "outputs": [
    {
     "data": {
      "text/plain": [
       "(12735, 16)"
      ]
     },
     "execution_count": 214,
     "metadata": {},
     "output_type": "execute_result"
    }
   ],
   "source": [
    "df_soft.shape"
   ]
  },
  {
   "cell_type": "code",
   "execution_count": 215,
   "id": "97d7a048-8421-49c7-b72b-4db42731bd20",
   "metadata": {},
   "outputs": [
    {
     "data": {
      "text/plain": [
       "(12265, 16)"
      ]
     },
     "execution_count": 215,
     "metadata": {},
     "output_type": "execute_result"
    }
   ],
   "source": [
    "df_hard.shape"
   ]
  },
  {
   "cell_type": "code",
   "execution_count": 216,
   "id": "579f0029-5bc9-4523-bc46-757321861fab",
   "metadata": {},
   "outputs": [],
   "source": [
    "# df"
   ]
  },
  {
   "cell_type": "code",
   "execution_count": 217,
   "id": "baa8ccdd-5f88-4002-a790-09b2a2910e25",
   "metadata": {},
   "outputs": [],
   "source": [
    "# df_soft"
   ]
  },
  {
   "cell_type": "code",
   "execution_count": 218,
   "id": "1ae33126-8c08-45f8-b77e-90f20c306f57",
   "metadata": {},
   "outputs": [],
   "source": [
    "# df_hard"
   ]
  },
  {
   "cell_type": "code",
   "execution_count": 219,
   "id": "69693bef-fda3-4f72-b04f-a2d4d2666fe8",
   "metadata": {},
   "outputs": [],
   "source": [
    "df_hard = df_hard.drop(columns=['inclusion'])"
   ]
  },
  {
   "cell_type": "code",
   "execution_count": 220,
   "id": "08b88965-4e82-4840-af70-5709d7578e96",
   "metadata": {},
   "outputs": [
    {
     "data": {
      "text/plain": [
       "index                12589.233102\n",
       "mse                      0.000413\n",
       "nmse                     0.000222\n",
       "mape                     0.292849\n",
       "dice                     0.852085\n",
       "avg_mod_hard_gt          2.734836\n",
       "avg_mod_hard_pred        2.502704\n",
       "avg_mod_soft_gt          1.010533\n",
       "avg_mod_soft_pred        1.010535\n",
       "mod_err_hard             0.037478\n",
       "rel_mod_err_hard         0.013441\n",
       "mod_err_soft             0.001489\n",
       "rel_mod_err_soft         0.001477\n",
       "hard_obj_mse             0.009138\n",
       "soft_obj_mse             0.000074\n",
       "dtype: float64"
      ]
     },
     "execution_count": 220,
     "metadata": {},
     "output_type": "execute_result"
    }
   ],
   "source": [
    "df_hard.mean()"
   ]
  },
  {
   "cell_type": "code",
   "execution_count": 221,
   "id": "ffaaf00d-6211-4f92-b402-81eb6f912958",
   "metadata": {},
   "outputs": [
    {
     "data": {
      "text/plain": [
       "index                25000.000000\n",
       "mse                      0.012205\n",
       "nmse                     0.005500\n",
       "mape                     1.189531\n",
       "dice                     1.000000\n",
       "avg_mod_hard_gt          4.901711\n",
       "avg_mod_hard_pred        4.855330\n",
       "avg_mod_soft_gt          1.068278\n",
       "avg_mod_soft_pred        1.069587\n",
       "mod_err_hard             2.200212\n",
       "rel_mod_err_hard         0.650569\n",
       "mod_err_soft             0.026864\n",
       "rel_mod_err_soft         0.026862\n",
       "hard_obj_mse             2.295625\n",
       "soft_obj_mse             0.002005\n",
       "dtype: float64"
      ]
     },
     "execution_count": 221,
     "metadata": {},
     "output_type": "execute_result"
    }
   ],
   "source": [
    "df_hard.max()"
   ]
  },
  {
   "cell_type": "code",
   "execution_count": null,
   "id": "cd65ea9b-d66e-414e-b1b1-ace66b0d6a90",
   "metadata": {},
   "outputs": [],
   "source": []
  },
  {
   "cell_type": "code",
   "execution_count": 222,
   "id": "19d647d4-e14f-4689-88e4-a7d4af4abec8",
   "metadata": {},
   "outputs": [],
   "source": [
    "# df_hard.std()"
   ]
  },
  {
   "cell_type": "code",
   "execution_count": null,
   "id": "4bd5e761-92e1-4b51-8bc2-24cc8b851f43",
   "metadata": {},
   "outputs": [],
   "source": []
  },
  {
   "cell_type": "code",
   "execution_count": null,
   "id": "0f8b39a6-81bd-40df-8ddc-35e6c8d8d167",
   "metadata": {},
   "outputs": [],
   "source": []
  },
  {
   "cell_type": "code",
   "execution_count": 223,
   "id": "7d9e4198-e03e-486a-85f9-8bcb9c88333f",
   "metadata": {},
   "outputs": [],
   "source": [
    "df_soft = df_soft.drop(columns=['inclusion'])"
   ]
  },
  {
   "cell_type": "code",
   "execution_count": 224,
   "id": "f12610c6-c59a-47f0-a329-afe0feb7edee",
   "metadata": {},
   "outputs": [
    {
     "data": {
      "text/plain": [
       "index                12415.041696\n",
       "mse                      0.000046\n",
       "nmse                     0.000049\n",
       "mape                     0.352986\n",
       "dice                     0.856594\n",
       "avg_mod_hard_gt          0.997342\n",
       "avg_mod_hard_pred        0.999293\n",
       "avg_mod_soft_gt          0.573110\n",
       "avg_mod_soft_pred        0.634598\n",
       "mod_err_hard             0.001479\n",
       "rel_mod_err_hard         0.001483\n",
       "mod_err_soft             0.009820\n",
       "rel_mod_err_soft         0.024891\n",
       "hard_obj_mse             0.000034\n",
       "soft_obj_mse             0.000755\n",
       "dtype: float64"
      ]
     },
     "execution_count": 224,
     "metadata": {},
     "output_type": "execute_result"
    }
   ],
   "source": [
    "df_soft.mean()"
   ]
  },
  {
   "cell_type": "code",
   "execution_count": 225,
   "id": "0d1445f3-2fbb-4905-a0fd-45258eef083d",
   "metadata": {},
   "outputs": [],
   "source": [
    "# df_soft.std()"
   ]
  },
  {
   "cell_type": "code",
   "execution_count": 226,
   "id": "a57572af-b16d-40bf-98a7-290b17cde073",
   "metadata": {},
   "outputs": [
    {
     "data": {
      "text/plain": [
       "index                1.000000e+00\n",
       "mse                  2.414387e-06\n",
       "nmse                 2.414386e-06\n",
       "mape                 1.284138e-01\n",
       "dice                 0.000000e+00\n",
       "avg_mod_hard_gt      9.845751e-01\n",
       "avg_mod_hard_pred    9.860791e-01\n",
       "avg_mod_soft_gt      1.042571e-01\n",
       "avg_mod_soft_pred    1.358417e-01\n",
       "mod_err_hard         1.251698e-06\n",
       "rel_mod_err_hard     1.255434e-06\n",
       "mod_err_soft         7.748604e-07\n",
       "rel_mod_err_soft     1.513742e-06\n",
       "hard_obj_mse         2.404527e-06\n",
       "soft_obj_mse         2.164243e-07\n",
       "dtype: float64"
      ]
     },
     "execution_count": 226,
     "metadata": {},
     "output_type": "execute_result"
    }
   ],
   "source": [
    "df_soft.min()"
   ]
  },
  {
   "cell_type": "code",
   "execution_count": null,
   "id": "9fc91f13-5bce-4c64-83c1-abdf4db45310",
   "metadata": {},
   "outputs": [],
   "source": []
  },
  {
   "cell_type": "code",
   "execution_count": 227,
   "id": "24312c68-d2ab-4bb4-a22a-3676a2c408ca",
   "metadata": {},
   "outputs": [],
   "source": [
    "### EOF - Analysis"
   ]
  },
  {
   "cell_type": "code",
   "execution_count": null,
   "id": "08aaf4d2-7bab-4ad0-bc18-15efb4e0d484",
   "metadata": {},
   "outputs": [],
   "source": []
  },
  {
   "cell_type": "code",
   "execution_count": null,
   "id": "f7bc1230-0dd2-4fc4-824c-59eb56ae4420",
   "metadata": {},
   "outputs": [],
   "source": []
  },
  {
   "cell_type": "code",
   "execution_count": 139,
   "id": "4c1a1afc-b6c6-47de-8a75-2ac8523cde45",
   "metadata": {},
   "outputs": [
    {
     "data": {
      "text/plain": [
       "<tensorflow.python.checkpoint.checkpoint.CheckpointLoadStatus at 0x7f333658dfd0>"
      ]
     },
     "execution_count": 139,
     "metadata": {},
     "output_type": "execute_result"
    }
   ],
   "source": [
    "generator.load_weights(BEST_PATH)"
   ]
  },
  {
   "cell_type": "code",
   "execution_count": 140,
   "id": "a103fe0f-349e-427d-9623-9186b426c88c",
   "metadata": {},
   "outputs": [
    {
     "data": {
      "text/plain": [
       "36"
      ]
     },
     "execution_count": 140,
     "metadata": {},
     "output_type": "execute_result"
    }
   ],
   "source": [
    "len(val_dataset)"
   ]
  },
  {
   "cell_type": "code",
   "execution_count": null,
   "id": "1dc89b73-4405-40d5-9815-7dc458084b07",
   "metadata": {},
   "outputs": [],
   "source": []
  },
  {
   "cell_type": "code",
   "execution_count": null,
   "id": "4c2e1581-be35-4729-8700-c138a80b8b45",
   "metadata": {},
   "outputs": [],
   "source": []
  },
  {
   "cell_type": "code",
   "execution_count": null,
   "id": "54889def-8d33-455e-a55c-a6b2ba6b4619",
   "metadata": {},
   "outputs": [],
   "source": [
    "val_dataset = tf.data.Dataset.from_tensor_slices((input_val_path, target_val_path))\n",
    "val_dataset = val_dataset.map(load_image_val)\n",
    "# val_dataset = val_dataset.shuffle(buffer_size=len(input_val_path)) \n",
    "# val_dataset = val_dataset.batch(BATCH_SIZE)\n",
    "val_dataset = val_dataset.batch(1)"
   ]
  },
  {
   "cell_type": "code",
   "execution_count": null,
   "id": "f62bc04f-b3ae-4cb1-a7b3-d54a77df9c5d",
   "metadata": {},
   "outputs": [],
   "source": []
  },
  {
   "cell_type": "code",
   "execution_count": 122,
   "id": "1a47d801-425c-41e8-839f-a50c392ad1b7",
   "metadata": {},
   "outputs": [],
   "source": [
    "avg_mse_loss_list = []\n",
    "avg_mape_loss_list = []\n",
    "\n",
    "i = 0\n",
    "for test_image,test_target in val_dataset:\n",
    "    test_prediction = generator(test_image,training=False)\n",
    "    test_target = test_target\n",
    "    mse_loss = tf.keras.metrics.mean_squared_error(test_target, test_prediction)\n",
    "    avg_mse_loss = tf.math.reduce_mean(mse_loss).numpy()\n",
    "    avg_mse_loss_list.append(avg_mse_loss)\n",
    "\n",
    "    mape_loss =  tf.keras.metrics.mean_absolute_percentage_error(test_target, test_prediction)\n",
    "    avg_mape_loss = tf.math.reduce_mean(mape_loss).numpy()\n",
    "    avg_mape_loss_list.append(avg_mape_loss)\n",
    "\n",
    "    output = np.reshape(test_prediction, (128,128))\n",
    "    gt = np.reshape(test_target, (128,128))\n",
    "    i = i+1\n",
    "\n",
    "    file_name = f\"{RESULTS_FOLDER}/raw_vals/{i}-pred.raw\"\n",
    "    with open(file_name, 'wb') as fp:     \n",
    "        output.tofile(fp)\n",
    "    fp.close()\n",
    "\n",
    "    file_name2 = f\"{RESULTS_FOLDER}/raw_vals/{i}-gt.raw\"\n",
    "    with open(file_name2, 'wb') as fp:     \n",
    "        gt.tofile(fp)\n",
    "    fp.close()"
   ]
  },
  {
   "cell_type": "code",
   "execution_count": null,
   "id": "72615a12-91c0-47da-9b72-d215538ab9da",
   "metadata": {},
   "outputs": [],
   "source": []
  },
  {
   "cell_type": "code",
   "execution_count": null,
   "id": "c396f6d5-b193-451f-bbab-67b065c03170",
   "metadata": {},
   "outputs": [],
   "source": []
  },
  {
   "cell_type": "code",
   "execution_count": 123,
   "id": "1b658deb-5d99-4f57-9bf6-08952f28b412",
   "metadata": {},
   "outputs": [],
   "source": [
    "len(avg_mse_loss_list)"
   ]
  },
  {
   "cell_type": "code",
   "execution_count": 124,
   "id": "4311c5a8-7b69-45f2-942e-b23eb533557b",
   "metadata": {},
   "outputs": [],
   "source": [
    "final_mse = sum(avg_mse_loss_list)/len(avg_mse_loss_list)\n",
    "with open(f'{RESULTS_FOLDER}/loss.txt','a') as f:\n",
    "    f.write(f'\\nFinal_MSE:{final_mse}')\n",
    "final_mse"
   ]
  },
  {
   "cell_type": "code",
   "execution_count": 125,
   "id": "734bd714-0bdf-46da-88b9-3266ea34e18a",
   "metadata": {},
   "outputs": [],
   "source": [
    "len(avg_mape_loss_list)"
   ]
  },
  {
   "cell_type": "code",
   "execution_count": 126,
   "id": "598347cb-87b3-46ea-a39d-ee856ebe5499",
   "metadata": {},
   "outputs": [],
   "source": [
    "final_mape = sum(avg_mape_loss_list)/len(avg_mape_loss_list)\n",
    "with open(f'{RESULTS_FOLDER}/loss.txt','a') as f:\n",
    "    f.write(f'\\nFinal_MAPE:{final_mape}')\n",
    "final_mape"
   ]
  },
  {
   "cell_type": "code",
   "execution_count": 127,
   "id": "5193bbe4-b7bb-43b5-a20a-f8dd2ca62178",
   "metadata": {},
   "outputs": [],
   "source": []
  },
  {
   "cell_type": "code",
   "execution_count": 128,
   "id": "0a701266-31af-4822-8971-310264ba51fe",
   "metadata": {},
   "outputs": [
    {
     "name": "stderr",
     "output_type": "stream",
     "text": [
      "2023-07-31 14:46:02.935510: I tensorflow/core/common_runtime/executor.cc:1197] [/device:CPU:0] (DEBUG INFO) Executor start aborting (this does not indicate an error and you can ignore this message): INVALID_ARGUMENT: You must feed a value for placeholder tensor 'Placeholder/_1' with dtype string and shape [9000]\n",
      "\t [[{{node Placeholder/_1}}]]\n",
      "2023-07-31 14:46:07.195764: I tensorflow/compiler/xla/stream_executor/cuda/cuda_dnn.cc:424] Loaded cuDNN version 8902\n",
      "2023-07-31 14:46:12.033163: W tensorflow/compiler/xla/stream_executor/gpu/asm_compiler.cc:109] Couldn't get ptxas version : FAILED_PRECONDITION: Couldn't get ptxas/nvlink version string: INTERNAL: Running ptxas --version returned 32512\n",
      "2023-07-31 14:46:12.074995: W tensorflow/compiler/xla/stream_executor/gpu/redzone_allocator.cc:317] INTERNAL: ptxas exited with non-zero error code 32512, output: \n",
      "Relying on driver to perform ptx compilation. \n",
      "Modify $PATH to customize ptxas location.\n",
      "This message will be only logged once.\n"
     ]
    }
   ],
   "source": [
    "i = 0\n",
    "for test_image,test_target in val_dataset:\n",
    "    i = i+1\n",
    "    generate_images(generator, test_image, test_target,'val/valfull-',i)"
   ]
  },
  {
   "cell_type": "code",
   "execution_count": 129,
   "id": "94114961-2ceb-44b0-b9b9-cc574748b738",
   "metadata": {},
   "outputs": [
    {
     "data": {
      "text/plain": [
       "<tensorflow.python.checkpoint.checkpoint.CheckpointLoadStatus at 0x7f5036576d90>"
      ]
     },
     "execution_count": 129,
     "metadata": {},
     "output_type": "execute_result"
    }
   ],
   "source": [
    "# generator.load_weights(BEST_PATH)"
   ]
  },
  {
   "cell_type": "code",
   "execution_count": null,
   "id": "7465c448-2920-4caf-bb7a-1d15134f1fae",
   "metadata": {
    "scrolled": true
   },
   "outputs": [],
   "source": [
    "i = 0\n",
    "for test_image,test_target in val_dataset:\n",
    "    i = i+1\n",
    "    generate_images8(generator, test_image, test_target,'val_c/valfull_c-',i)"
   ]
  },
  {
   "cell_type": "code",
   "execution_count": null,
   "id": "7dc5e390-12a0-4240-82bb-4ac48b6dd817",
   "metadata": {},
   "outputs": [],
   "source": [
    "# Generate plots for test set\n",
    "# for i, (test_input, test_target) in val_dataset.take(500).enumerate():\n",
    "#     generate_images(generator, test_input, test_target,'test',i)"
   ]
  },
  {
   "cell_type": "code",
   "execution_count": 49,
   "id": "8b602af9-df99-4133-a5dd-e4fa3d2aa34f",
   "metadata": {},
   "outputs": [],
   "source": []
  },
  {
   "cell_type": "code",
   "execution_count": 50,
   "id": "db708268-8b2b-4d23-a213-7fc917acecb9",
   "metadata": {},
   "outputs": [
    {
     "data": {
      "text/plain": [
       "9000"
      ]
     },
     "execution_count": 50,
     "metadata": {},
     "output_type": "execute_result"
    }
   ],
   "source": [
    "len(val_dataset)"
   ]
  },
  {
   "cell_type": "code",
   "execution_count": null,
   "id": "477d8179-ca98-41e3-8a95-c76cb74b1d93",
   "metadata": {},
   "outputs": [],
   "source": []
  },
  {
   "cell_type": "code",
   "execution_count": null,
   "id": "f5da453e-d8a9-4e63-89ec-0af5e4e0f7c2",
   "metadata": {},
   "outputs": [],
   "source": []
  },
  {
   "cell_type": "code",
   "execution_count": null,
   "id": "bc5bfbf8-174f-485c-9e31-94babe59cf8e",
   "metadata": {},
   "outputs": [],
   "source": [
    "## Calculate modulus"
   ]
  },
  {
   "cell_type": "code",
   "execution_count": null,
   "id": "2cd7cacb-b617-4a23-9488-7facef4f1095",
   "metadata": {},
   "outputs": [],
   "source": [
    "# all_raw_data_path = 'raw_exps/*.raw'\n",
    "# all_raw_data = glob.glob(all_raw_data_path)"
   ]
  },
  {
   "cell_type": "code",
   "execution_count": null,
   "id": "c77900e8-0d6c-4453-a8c4-220a336950d1",
   "metadata": {},
   "outputs": [],
   "source": [
    "# all_raw_data.sort(key=lambda x: int(x.split('/')[-1].split('.')[0]))\n",
    "# all_raw_data"
   ]
  },
  {
   "cell_type": "code",
   "execution_count": null,
   "id": "e90d6157-5581-438b-927a-e69994974072",
   "metadata": {},
   "outputs": [],
   "source": [
    "# threshold = 0.45"
   ]
  },
  {
   "cell_type": "code",
   "execution_count": null,
   "id": "5381d2f6-3b6b-4320-9578-ffaad78df10b",
   "metadata": {},
   "outputs": [],
   "source": [
    "# all_modulus = []"
   ]
  },
  {
   "cell_type": "code",
   "execution_count": null,
   "id": "782abffa-a719-4ad0-a0ea-6009a4fca146",
   "metadata": {},
   "outputs": [],
   "source": [
    "# for a_data in all_raw_data:\n",
    "#     img = np.fromfile(a_data,dtype = 'float32', sep=\"\")\n",
    "#     name = a_data.split('/')[-1].split('.')[0]\n",
    "#     modulus = img[img<threshold]\n",
    "#     if len(modulus) != 0:\n",
    "#         avg_modulus = sum(modulus)/len(modulus)\n",
    "    \n",
    "#     all_modulus.append((name,avg_modulus))\n",
    "\n",
    "#     with open('modulus_values.txt', 'a') as f:\n",
    "#         f.write(f\"{name},{avg_modulus}\\n\")\n",
    "    \n",
    "    "
   ]
  },
  {
   "cell_type": "code",
   "execution_count": null,
   "id": "47e07f20-2cb6-4489-aad3-f926aecab3b5",
   "metadata": {},
   "outputs": [],
   "source": [
    "# for i in all_modulus:\n",
    "#     print(i)"
   ]
  },
  {
   "cell_type": "code",
   "execution_count": null,
   "id": "44e3e294-dd41-4d45-afb7-6bde9d42ff8d",
   "metadata": {},
   "outputs": [],
   "source": []
  },
  {
   "cell_type": "code",
   "execution_count": null,
   "id": "04f60bed-2574-4fb1-acb3-5b31d8af824e",
   "metadata": {},
   "outputs": [],
   "source": []
  },
  {
   "cell_type": "code",
   "execution_count": null,
   "id": "b964d70c-0a8f-4ab0-8319-508e98a0456b",
   "metadata": {},
   "outputs": [],
   "source": []
  },
  {
   "cell_type": "code",
   "execution_count": null,
   "id": "8f4da147-1c48-4699-90c8-138db4dd4200",
   "metadata": {},
   "outputs": [],
   "source": []
  },
  {
   "cell_type": "code",
   "execution_count": null,
   "id": "02cf4ebd-cda0-44b4-8c32-59c08698b659",
   "metadata": {},
   "outputs": [],
   "source": []
  },
  {
   "cell_type": "code",
   "execution_count": null,
   "id": "7c94ee81-0b47-4da7-9003-6352a81093bd",
   "metadata": {},
   "outputs": [],
   "source": []
  },
  {
   "cell_type": "code",
   "execution_count": null,
   "id": "f78bf6f5-409a-4a79-84e7-1eac40c8be9e",
   "metadata": {},
   "outputs": [],
   "source": []
  }
 ],
 "metadata": {
  "kernelspec": {
   "display_name": "biomed",
   "language": "python",
   "name": "biomed"
  },
  "language_info": {
   "codemirror_mode": {
    "name": "ipython",
    "version": 3
   },
   "file_extension": ".py",
   "mimetype": "text/x-python",
   "name": "python",
   "nbconvert_exporter": "python",
   "pygments_lexer": "ipython3",
   "version": "3.9.16"
  }
 },
 "nbformat": 4,
 "nbformat_minor": 5
}
