{
 "cells": [
  {
   "cell_type": "code",
   "execution_count": 1,
   "id": "7611adb8-66e8-445b-a635-4b1389617a44",
   "metadata": {},
   "outputs": [],
   "source": [
    "import warnings\n",
    "warnings.filterwarnings('ignore')"
   ]
  },
  {
   "cell_type": "code",
   "execution_count": 2,
   "id": "2706799e-6c2c-4f37-a9e5-e5c58e1289fe",
   "metadata": {},
   "outputs": [
    {
     "name": "stderr",
     "output_type": "stream",
     "text": [
      "2023-07-30 10:41:03.459664: I tensorflow/core/util/port.cc:110] oneDNN custom operations are on. You may see slightly different numerical results due to floating-point round-off errors from different computation orders. To turn them off, set the environment variable `TF_ENABLE_ONEDNN_OPTS=0`.\n",
      "2023-07-30 10:41:03.523248: I tensorflow/core/platform/cpu_feature_guard.cc:182] This TensorFlow binary is optimized to use available CPU instructions in performance-critical operations.\n",
      "To enable the following instructions: AVX2 AVX512F AVX512_VNNI FMA, in other operations, rebuild TensorFlow with the appropriate compiler flags.\n",
      "2023-07-30 10:41:18.831400: W tensorflow/compiler/tf2tensorrt/utils/py_utils.cc:38] TF-TRT Warning: Could not find TensorRT\n"
     ]
    }
   ],
   "source": [
    "import numpy as np\n",
    "import tensorflow as tf\n",
    "import matplotlib.pyplot as plt\n",
    "import os\n",
    "import glob\n",
    "import time\n",
    "import pickle\n",
    "import random\n",
    "import pathlib\n",
    "import datetime\n",
    "\n",
    "# from IPython import display\n",
    "import matplotlib.pyplot as plt\n",
    "import matplotlib.colors as mcolors\n",
    "\n",
    "from scipy.ndimage import gaussian_filter"
   ]
  },
  {
   "cell_type": "code",
   "execution_count": null,
   "id": "ed831ddf-4668-45e5-91f4-bf3ea8f79d8e",
   "metadata": {},
   "outputs": [],
   "source": []
  },
  {
   "cell_type": "code",
   "execution_count": 3,
   "id": "570bd686-c42a-40de-a7fe-c19c9b5860f4",
   "metadata": {},
   "outputs": [],
   "source": [
    "RESULTS_FOLDER = 'results'"
   ]
  },
  {
   "cell_type": "code",
   "execution_count": null,
   "id": "f8a7f377-4252-4f6f-a18d-9de572da621f",
   "metadata": {},
   "outputs": [],
   "source": []
  },
  {
   "cell_type": "code",
   "execution_count": 4,
   "id": "63569aab-e00b-401c-8943-45b400ff1c38",
   "metadata": {},
   "outputs": [],
   "source": [
    "### Configuration\n",
    "os.mkdir(RESULTS_FOLDER) if not os.path.isdir(RESULTS_FOLDER) else None\n",
    "folders = ['all_exp_plots_g', 'all_exp_plots', 'exp_plots', 'model_weights', 'raw_exps', 'training_plots', 'all_val_plots', 'raw_vals']\n",
    "for folder in folders:\n",
    "    if(not os.path.isdir(f'{RESULTS_FOLDER}/{folder}')):\n",
    "        os.mkdir(f'{RESULTS_FOLDER}/{folder}')"
   ]
  },
  {
   "cell_type": "code",
   "execution_count": null,
   "id": "c79446f6-214e-4ba8-8937-43bd3f573d62",
   "metadata": {},
   "outputs": [],
   "source": []
  },
  {
   "cell_type": "code",
   "execution_count": 5,
   "id": "6d1731c8-6425-4e98-b1cf-8443eee42bab",
   "metadata": {},
   "outputs": [],
   "source": [
    "tf.random.set_seed(seed=20)"
   ]
  },
  {
   "cell_type": "code",
   "execution_count": 6,
   "id": "98b4e2e6-9c78-4b05-b8b3-186ecc375b55",
   "metadata": {},
   "outputs": [],
   "source": [
    "### Hyperparameters\n",
    "BATCH_SIZE = 128\n",
    "EPOCH = 100\n",
    "# BATCH_SIZE = 32\n",
    "# EPOCH = 1"
   ]
  },
  {
   "attachments": {},
   "cell_type": "markdown",
   "id": "fa5b0525-0a88-42bc-964e-4729628a8da8",
   "metadata": {},
   "source": [
    "### Load dataset "
   ]
  },
  {
   "cell_type": "code",
   "execution_count": 7,
   "id": "71e7dc34-f317-4913-b0aa-08ca041f4b5c",
   "metadata": {},
   "outputs": [],
   "source": [
    "### Normalization"
   ]
  },
  {
   "cell_type": "code",
   "execution_count": 8,
   "id": "ce4fa0ca-ad7f-4bc2-a9c9-20414d80bf9e",
   "metadata": {},
   "outputs": [],
   "source": [
    "def add_noise_blur(image, rows=128, cols=128):\n",
    "    #add random noise\n",
    "    scale = tf.random.uniform([1], minval = 0.01, maxval = 0.1, dtype = tf.float32 )\n",
    "    noise = tf.random.normal([rows, cols, 1], mean = 0.0, stddev = 1.0)\n",
    "    #blur with a random sigma\n",
    "    # sigmaIn = np.random.uniform(low = 1.0, high = 2.0 )\n",
    "    sigmaIn = tf.random.uniform(shape=[], minval = 1.0, maxval = 2.0 )\n",
    "    #image = gaussian_filter(image, sigma = sigmaIn)\n",
    "    noise = gaussian_filter(noise, sigma = sigmaIn.numpy())\n",
    "    image *= (1.0 + scale*noise)\n",
    "    #print(\"scale %f sigma %f\" % (scale, sigmaIn))\n",
    "    return image"
   ]
  },
  {
   "cell_type": "code",
   "execution_count": 9,
   "id": "cda5e1ce-f215-482d-bcb7-3355ce07f1b1",
   "metadata": {},
   "outputs": [],
   "source": [
    "def normalize(dataY):\n",
    "    max = tf.reduce_max(dataY)\n",
    "    min = tf.reduce_min(dataY)\n",
    "    # dataY = dataY / tf.math.abs(min)\n",
    "    dataY = (dataY - min)/(max - min)\n",
    "    return dataY"
   ]
  },
  {
   "cell_type": "code",
   "execution_count": 10,
   "id": "d0376397-4bb4-4dae-988a-0850aecd37c5",
   "metadata": {},
   "outputs": [],
   "source": [
    "def normalizeTarget(image, bFlag = False):\n",
    "    image = (image - 1.0) / (5.0)\n",
    "    if bFlag:\n",
    "        image = 2.0*image - 1.0\n",
    "    return image"
   ]
  },
  {
   "cell_type": "code",
   "execution_count": 11,
   "id": "71826347-9eb1-46b0-8c92-6b42a9555500",
   "metadata": {},
   "outputs": [],
   "source": [
    "### EoNormalization"
   ]
  },
  {
   "cell_type": "code",
   "execution_count": 12,
   "id": "450c0d3d-df3e-415c-9ce8-3c0fd1968779",
   "metadata": {},
   "outputs": [],
   "source": [
    "def load(image_file, image_size=(128,128)):\n",
    "    # input_image = np.fromfile(image_file, dtype = 'float32', sep=\"\")\n",
    "    input_image = tf.io.read_file(image_file)\n",
    "    input_image = tf.io.decode_raw(input_image, tf.float32)\n",
    "    input_image = tf.reshape(input_image, image_size)\n",
    "    input_image = tf.expand_dims(input_image, -1)\n",
    "    return input_image"
   ]
  },
  {
   "cell_type": "code",
   "execution_count": 13,
   "id": "94cccd80-933d-4845-9c65-11790f3f340d",
   "metadata": {},
   "outputs": [],
   "source": [
    "def normalize_val(image, target):\n",
    "    input_image = add_noise_blur(image)\n",
    "    return input_image , target"
   ]
  },
  {
   "cell_type": "code",
   "execution_count": 14,
   "id": "011a3fbe-b39c-4857-90eb-a5e00f320736",
   "metadata": {},
   "outputs": [],
   "source": [
    "def load_image_train(image_file, target_file):\n",
    "    input_image = load(image_file)\n",
    "    target_image = load(target_file)\n",
    "    input_image = normalize(input_image)\n",
    "    return input_image , target_image "
   ]
  },
  {
   "cell_type": "code",
   "execution_count": 15,
   "id": "d23f3100-641d-4313-8ff4-b974b5592aa6",
   "metadata": {},
   "outputs": [],
   "source": [
    "def load_image_val(image_file, target_file):    \n",
    "    input_image = load(image_file)\n",
    "    target_image = load(target_file)\n",
    "    # input_image = add_noise_blur(image_file)\n",
    "    input_image = normalize(input_image)\n",
    "    return input_image , target_image "
   ]
  },
  {
   "cell_type": "code",
   "execution_count": 16,
   "id": "03f9d7ca-5d35-44ec-a610-005e873509d8",
   "metadata": {},
   "outputs": [],
   "source": [
    "def check_count(log_path):\n",
    "    soft = 0\n",
    "    hard = 0\n",
    "    for lp in log_path:\n",
    "        with open(lp) as f:\n",
    "            data = f.read()\n",
    "        data = data.split(' ')\n",
    "        mod = data[9]\n",
    "        assert mod == 'mod1'\n",
    "        mod_value = float(data[10].splitlines()[0])\n",
    "        if mod_value < 1.0:\n",
    "            soft = soft + 1\n",
    "        if mod_value > 1.0:\n",
    "            hard = hard + 1\n",
    "    return soft, hard"
   ]
  },
  {
   "cell_type": "code",
   "execution_count": 17,
   "id": "2637343f-63d6-49af-886b-2599acff601d",
   "metadata": {},
   "outputs": [],
   "source": [
    "def get_dataset_partitions_tf(ds, ds_size, train_split=0.8, val_split=0.1, test_split=0.1, shuffle=False, shuffle_size=10000):\n",
    "    assert (train_split + test_split + val_split) == 1\n",
    "    \n",
    "    if shuffle:\n",
    "        # Specify seed to always have the same split distribution between runs\n",
    "        ds = ds.shuffle(shuffle_size, seed=12)\n",
    "    \n",
    "    train_size = int(train_split * ds_size)\n",
    "    val_size = int(val_split * ds_size)\n",
    "    \n",
    "    train_ds = ds.take(train_size)    \n",
    "    val_ds = ds.skip(train_size).take(val_size)\n",
    "    test_ds = ds.skip(train_size).skip(val_size)\n",
    "    \n",
    "    return train_ds, val_ds, test_ds"
   ]
  },
  {
   "cell_type": "code",
   "execution_count": null,
   "id": "38aa8933-18e8-4226-9d90-8061302f325c",
   "metadata": {},
   "outputs": [],
   "source": []
  },
  {
   "cell_type": "code",
   "execution_count": null,
   "id": "be1838ff-76cb-47b0-b23a-c8de9f75c2ab",
   "metadata": {},
   "outputs": [],
   "source": []
  },
  {
   "cell_type": "code",
   "execution_count": null,
   "id": "019e7772-3730-4ee0-8896-8bdb3e45a261",
   "metadata": {},
   "outputs": [],
   "source": []
  },
  {
   "cell_type": "code",
   "execution_count": 18,
   "id": "e4911f6f-dbd6-4c59-8827-d5cf27cf3eb4",
   "metadata": {},
   "outputs": [],
   "source": [
    "# input_path = glob.glob('data/TrainData*/*/uY_128x128*.raw')\n",
    "# target_path = glob.glob('data/TrainData*/*/modulus_128x128*.raw')\n",
    "# # input_path.sort(key= lambda x: int(x.split('/')[-2]))\n",
    "# # target_path.sort(key= lambda x: int(x.split('/')[-2]))"
   ]
  },
  {
   "cell_type": "code",
   "execution_count": 19,
   "id": "19786d8c-62fc-486e-b067-66d21962384b",
   "metadata": {},
   "outputs": [],
   "source": [
    "input_path = glob.glob('alldata/TrainData/*/uY_128x128.raw')\n",
    "target_path = glob.glob('alldata/TrainData/*/modulus_128x128.raw')\n",
    "log_path = glob.glob('alldata/TrainData/*/logFile.txt')\n",
    "input_path.sort(key= lambda x: int(x.split('/')[-2]))\n",
    "target_path.sort(key= lambda x: int(x.split('/')[-2]))\n",
    "log_path.sort(key= lambda x: int(x.split('/')[-2]))"
   ]
  },
  {
   "cell_type": "code",
   "execution_count": 20,
   "id": "4b19bf79-f6bb-4d57-9369-37622a5bda0b",
   "metadata": {},
   "outputs": [
    {
     "data": {
      "text/plain": [
       "10000"
      ]
     },
     "execution_count": 20,
     "metadata": {},
     "output_type": "execute_result"
    }
   ],
   "source": [
    "len(input_path)"
   ]
  },
  {
   "cell_type": "code",
   "execution_count": 21,
   "id": "e0c55259-729a-49d7-8493-303502550d64",
   "metadata": {},
   "outputs": [
    {
     "data": {
      "text/plain": [
       "10000"
      ]
     },
     "execution_count": 21,
     "metadata": {},
     "output_type": "execute_result"
    }
   ],
   "source": [
    "len(target_path)"
   ]
  },
  {
   "cell_type": "code",
   "execution_count": 22,
   "id": "e244ab90-68fd-4769-b9d8-a508da02f528",
   "metadata": {},
   "outputs": [
    {
     "data": {
      "text/plain": [
       "(4966, 5034)"
      ]
     },
     "execution_count": 22,
     "metadata": {},
     "output_type": "execute_result"
    }
   ],
   "source": [
    "check_count(log_path)"
   ]
  },
  {
   "cell_type": "code",
   "execution_count": 23,
   "id": "e1772168-33c2-4bf4-881c-b784b2c39406",
   "metadata": {},
   "outputs": [],
   "source": [
    "input_val_path = glob.glob('alldata/ValData/*/uY_128x128.raw')\n",
    "target_val_path = glob.glob('alldata/ValData/*/modulus_128x128.raw')\n",
    "log_val_path = glob.glob('alldata/ValData/*/logFile.txt')\n",
    "input_val_path.sort(key= lambda x: int(x.split('/')[-2]))\n",
    "target_val_path.sort(key= lambda x: int(x.split('/')[-2]))\n",
    "log_val_path.sort(key= lambda x: int(x.split('/')[-2]))"
   ]
  },
  {
   "cell_type": "code",
   "execution_count": 24,
   "id": "2918d1d9-e260-4af5-ad88-ba759537a6ac",
   "metadata": {},
   "outputs": [
    {
     "data": {
      "text/plain": [
       "(495, 505)"
      ]
     },
     "execution_count": 24,
     "metadata": {},
     "output_type": "execute_result"
    }
   ],
   "source": [
    "check_count(log_val_path)"
   ]
  },
  {
   "cell_type": "code",
   "execution_count": null,
   "id": "f68b3988-3e5b-402e-a5c3-d136fc841461",
   "metadata": {},
   "outputs": [],
   "source": []
  },
  {
   "cell_type": "code",
   "execution_count": null,
   "id": "3972d926-2128-44e4-9ad5-7ab7d3362dda",
   "metadata": {},
   "outputs": [],
   "source": []
  },
  {
   "cell_type": "code",
   "execution_count": null,
   "id": "d0d393d2-792b-42f4-88ae-c1a732d9c0e6",
   "metadata": {},
   "outputs": [],
   "source": []
  },
  {
   "cell_type": "code",
   "execution_count": null,
   "id": "56ba1f9d-b9d1-423e-9257-903caefd2265",
   "metadata": {},
   "outputs": [],
   "source": []
  },
  {
   "cell_type": "code",
   "execution_count": 25,
   "id": "af35e3fc-5e0e-462d-a0ff-1a64dc479cc4",
   "metadata": {},
   "outputs": [
    {
     "name": "stderr",
     "output_type": "stream",
     "text": [
      "2023-07-30 10:44:22.237062: I tensorflow/core/common_runtime/gpu/gpu_device.cc:1635] Created device /job:localhost/replica:0/task:0/device:GPU:0 with 38201 MB memory:  -> device: 0, name: NVIDIA A100-PCIE-40GB, pci bus id: 0000:1b:00.0, compute capability: 8.0\n",
      "2023-07-30 10:44:22.238249: I tensorflow/core/common_runtime/gpu/gpu_device.cc:1635] Created device /job:localhost/replica:0/task:0/device:GPU:1 with 6838 MB memory:  -> device: 1, name: Tesla P4, pci bus id: 0000:1c:00.0, compute capability: 6.1\n"
     ]
    }
   ],
   "source": [
    "# train_dataset\n",
    "train_dataset = tf.data.Dataset.from_tensor_slices((input_path, target_path))\n",
    "train_dataset = train_dataset.map(load_image_train)\n",
    "train_dataset = train_dataset.shuffle(buffer_size=len(input_path)) \n",
    "train_dataset = train_dataset.batch(BATCH_SIZE)"
   ]
  },
  {
   "cell_type": "code",
   "execution_count": 26,
   "id": "5b003f7c-ae50-4f6a-b24b-0af8642850de",
   "metadata": {},
   "outputs": [
    {
     "data": {
      "text/plain": [
       "79"
      ]
     },
     "execution_count": 26,
     "metadata": {},
     "output_type": "execute_result"
    }
   ],
   "source": [
    "len(train_dataset)"
   ]
  },
  {
   "cell_type": "code",
   "execution_count": 27,
   "id": "39c3f679-a067-4369-b204-b2e99b14af57",
   "metadata": {},
   "outputs": [],
   "source": [
    "# train_dataset, val_dataset, test_dataset = get_dataset_partitions_tf(train_dataset, len(train_dataset))\n",
    "# print(len(train_dataset), len(val_dataset), len(test_dataset))"
   ]
  },
  {
   "cell_type": "code",
   "execution_count": 28,
   "id": "6d3e2398-251d-4cf1-8b8e-b821b253f713",
   "metadata": {},
   "outputs": [],
   "source": [
    "## val_dataset\n",
    "val_dataset = tf.data.Dataset.from_tensor_slices((input_val_path, target_val_path))\n",
    "val_dataset = val_dataset.map(load_image_val)\n",
    "# val_dataset = val_dataset.shuffle(buffer_size=len(input_val_path)) \n",
    "# val_dataset = val_dataset.batch(BATCH_SIZE)\n",
    "val_dataset = val_dataset.batch(1)"
   ]
  },
  {
   "cell_type": "code",
   "execution_count": null,
   "id": "ee93032d-87d8-4500-866d-cee375e0a41f",
   "metadata": {},
   "outputs": [],
   "source": []
  },
  {
   "cell_type": "code",
   "execution_count": 29,
   "id": "a77886a9-e830-445d-b07a-f0bc34f44e23",
   "metadata": {},
   "outputs": [
    {
     "name": "stdout",
     "output_type": "stream",
     "text": [
      "79\n",
      "1000\n"
     ]
    }
   ],
   "source": [
    "# print(len(dataset))\n",
    "print(len(train_dataset))\n",
    "print(len(val_dataset))\n",
    "# print(len(test_dataset))"
   ]
  },
  {
   "cell_type": "code",
   "execution_count": null,
   "id": "b3f79da3-4824-4532-8014-d18ce3e70bf5",
   "metadata": {},
   "outputs": [],
   "source": []
  },
  {
   "cell_type": "code",
   "execution_count": 30,
   "id": "25434b4a-ad00-411b-aca4-e396c50f62d7",
   "metadata": {},
   "outputs": [
    {
     "name": "stderr",
     "output_type": "stream",
     "text": [
      "2023-07-30 10:44:23.045102: I tensorflow/core/common_runtime/executor.cc:1197] [/device:CPU:0] (DEBUG INFO) Executor start aborting (this does not indicate an error and you can ignore this message): INVALID_ARGUMENT: You must feed a value for placeholder tensor 'Placeholder/_1' with dtype string and shape [10000]\n",
      "\t [[{{node Placeholder/_1}}]]\n",
      "2023-07-30 10:44:33.154115: I tensorflow/core/kernels/data/shuffle_dataset_op.cc:392] Filling up shuffle buffer (this may take a while): 550 of 10000\n",
      "2023-07-30 10:44:43.081376: I tensorflow/core/kernels/data/shuffle_dataset_op.cc:392] Filling up shuffle buffer (this may take a while): 1205 of 10000\n",
      "2023-07-30 10:44:53.061384: I tensorflow/core/kernels/data/shuffle_dataset_op.cc:392] Filling up shuffle buffer (this may take a while): 2117 of 10000\n",
      "2023-07-30 10:45:03.055199: I tensorflow/core/kernels/data/shuffle_dataset_op.cc:392] Filling up shuffle buffer (this may take a while): 3081 of 10000\n",
      "2023-07-30 10:45:13.056540: I tensorflow/core/kernels/data/shuffle_dataset_op.cc:392] Filling up shuffle buffer (this may take a while): 3877 of 10000\n",
      "2023-07-30 10:45:23.061905: I tensorflow/core/kernels/data/shuffle_dataset_op.cc:392] Filling up shuffle buffer (this may take a while): 4464 of 10000\n",
      "2023-07-30 10:45:33.060765: I tensorflow/core/kernels/data/shuffle_dataset_op.cc:392] Filling up shuffle buffer (this may take a while): 5347 of 10000\n",
      "2023-07-30 10:45:43.063400: I tensorflow/core/kernels/data/shuffle_dataset_op.cc:392] Filling up shuffle buffer (this may take a while): 6297 of 10000\n",
      "2023-07-30 10:45:53.070376: I tensorflow/core/kernels/data/shuffle_dataset_op.cc:392] Filling up shuffle buffer (this may take a while): 7259 of 10000\n",
      "2023-07-30 10:46:03.068454: I tensorflow/core/kernels/data/shuffle_dataset_op.cc:392] Filling up shuffle buffer (this may take a while): 8182 of 10000\n",
      "2023-07-30 10:46:13.061354: I tensorflow/core/kernels/data/shuffle_dataset_op.cc:392] Filling up shuffle buffer (this may take a while): 9097 of 10000\n"
     ]
    },
    {
     "name": "stdout",
     "output_type": "stream",
     "text": [
      "2\n",
      "(128, 128, 128, 1)\n",
      "(128, 128, 128, 1)\n"
     ]
    },
    {
     "name": "stderr",
     "output_type": "stream",
     "text": [
      "2023-07-30 10:46:22.779872: I tensorflow/core/kernels/data/shuffle_dataset_op.cc:417] Shuffle buffer filled.\n"
     ]
    }
   ],
   "source": [
    "a = next(iter(train_dataset))\n",
    "print(len(a))\n",
    "print(a[0].shape)\n",
    "print(a[1].shape)"
   ]
  },
  {
   "cell_type": "code",
   "execution_count": 31,
   "id": "a62cd82d-254c-4315-9747-7be91d58609f",
   "metadata": {},
   "outputs": [],
   "source": [
    "inp, re = a[0][0], a[1][0]"
   ]
  },
  {
   "cell_type": "code",
   "execution_count": 32,
   "id": "489688b3-a43e-4a9a-ab19-8a061449d5b0",
   "metadata": {},
   "outputs": [
    {
     "data": {
      "text/plain": [
       "<matplotlib.image.AxesImage at 0x7f24a1428970>"
      ]
     },
     "execution_count": 32,
     "metadata": {},
     "output_type": "execute_result"
    },
    {
     "data": {
      "image/png": "[encoded data removed]",
      "text/plain": [
       "<Figure size 640x480 with 1 Axes>"
      ]
     },
     "metadata": {},
     "output_type": "display_data"
    },
    {
     "data": {
      "image/png": "[encoded data removed]",
      "text/plain": [
       "<Figure size 640x480 with 1 Axes>"
      ]
     },
     "metadata": {},
     "output_type": "display_data"
    }
   ],
   "source": [
    "plt.figure()\n",
    "plt.imshow(inp, cmap='gray')\n",
    "plt.figure()\n",
    "plt.imshow(re, cmap='gray')"
   ]
  },
  {
   "cell_type": "code",
   "execution_count": 33,
   "id": "2769df7a-d4f8-405b-9b9d-829b8d94b4c1",
   "metadata": {},
   "outputs": [
    {
     "data": {
      "text/plain": [
       "1000"
      ]
     },
     "execution_count": 33,
     "metadata": {},
     "output_type": "execute_result"
    }
   ],
   "source": [
    "len(val_dataset)"
   ]
  },
  {
   "cell_type": "code",
   "execution_count": 34,
   "id": "66aae36a-a40d-4ad4-8768-3acc0d1988cc",
   "metadata": {},
   "outputs": [],
   "source": [
    "# val_dataset = val_dataset.batch(1)"
   ]
  },
  {
   "cell_type": "code",
   "execution_count": 35,
   "id": "ac09fb8d-149b-4647-9102-206909e7c6c5",
   "metadata": {},
   "outputs": [
    {
     "data": {
      "text/plain": [
       "1000"
      ]
     },
     "execution_count": 35,
     "metadata": {},
     "output_type": "execute_result"
    }
   ],
   "source": [
    "len(val_dataset)"
   ]
  },
  {
   "cell_type": "code",
   "execution_count": null,
   "id": "65015fe0-526b-41c8-8e87-838f946dd063",
   "metadata": {},
   "outputs": [],
   "source": []
  },
  {
   "cell_type": "code",
   "execution_count": null,
   "id": "13f51a71-dde4-423e-a75a-366cfccfb094",
   "metadata": {},
   "outputs": [],
   "source": []
  },
  {
   "cell_type": "code",
   "execution_count": null,
   "id": "b93cb7a8-e279-49e4-9afc-9086cf572285",
   "metadata": {},
   "outputs": [],
   "source": []
  },
  {
   "cell_type": "code",
   "execution_count": null,
   "id": "066a02ed-1455-46a0-9178-df528bb8a6e5",
   "metadata": {},
   "outputs": [],
   "source": []
  },
  {
   "attachments": {},
   "cell_type": "markdown",
   "id": "ce4b1124-8591-4d4c-8fd8-297a7788be99",
   "metadata": {},
   "source": [
    "### Generator Model"
   ]
  },
  {
   "cell_type": "code",
   "execution_count": 36,
   "id": "c4a5defa-ef45-451b-80f9-15e7a274445a",
   "metadata": {},
   "outputs": [],
   "source": [
    "OUTPUT_CHANNELS = 1"
   ]
  },
  {
   "cell_type": "code",
   "execution_count": 37,
   "id": "bfe45d5e-2938-418d-903f-84cba08652c3",
   "metadata": {},
   "outputs": [],
   "source": [
    "def downsample(filters, size, apply_batchnorm=True):\n",
    "    initializer = tf.random_normal_initializer(0., 0.02)\n",
    "    result = tf.keras.Sequential()\n",
    "    result.add(\n",
    "        tf.keras.layers.Conv2D(filters, size, strides=2, padding='same',\n",
    "                                kernel_initializer=initializer, use_bias=False))\n",
    "    if apply_batchnorm:\n",
    "        result.add(tf.keras.layers.BatchNormalization())\n",
    "    result.add(tf.keras.layers.LeakyReLU())\n",
    "    return result"
   ]
  },
  {
   "cell_type": "code",
   "execution_count": 38,
   "id": "c6556517-b3fc-47c0-bb1d-edcfad9cb123",
   "metadata": {},
   "outputs": [
    {
     "name": "stderr",
     "output_type": "stream",
     "text": [
      "2023-07-30 10:46:27.378789: I tensorflow/compiler/xla/stream_executor/cuda/cuda_dnn.cc:424] Loaded cuDNN version 8902\n",
      "2023-07-30 10:46:31.524276: W tensorflow/compiler/xla/stream_executor/gpu/asm_compiler.cc:109] Couldn't get ptxas version : FAILED_PRECONDITION: Couldn't get ptxas/nvlink version string: INTERNAL: Running ptxas --version returned 32512\n",
      "2023-07-30 10:46:31.614040: W tensorflow/compiler/xla/stream_executor/gpu/redzone_allocator.cc:317] INTERNAL: ptxas exited with non-zero error code 32512, output: \n",
      "Relying on driver to perform ptx compilation. \n",
      "Modify $PATH to customize ptxas location.\n",
      "This message will be only logged once.\n"
     ]
    },
    {
     "name": "stdout",
     "output_type": "stream",
     "text": [
      "(1, 64, 64, 3)\n"
     ]
    }
   ],
   "source": [
    "down_model = downsample(3, 4)\n",
    "down_result = down_model(tf.expand_dims(inp, 0))\n",
    "print (down_result.shape)"
   ]
  },
  {
   "cell_type": "code",
   "execution_count": 39,
   "id": "4456cb34-fe0e-4dc1-bea1-ed4e075a5acb",
   "metadata": {},
   "outputs": [],
   "source": [
    "def upsample(filters, size, apply_dropout=False):\n",
    "    initializer = tf.random_normal_initializer(0., 0.02)\n",
    "    result = tf.keras.Sequential()\n",
    "    result.add(\n",
    "        tf.keras.layers.Conv2DTranspose(filters, size, strides=2,\n",
    "                                        padding='same',\n",
    "                                        kernel_initializer=initializer,\n",
    "                                        use_bias=False))\n",
    "    result.add(tf.keras.layers.BatchNormalization())\n",
    "    if apply_dropout:\n",
    "        result.add(tf.keras.layers.Dropout(0.5))\n",
    "    result.add(tf.keras.layers.ReLU())\n",
    "    return result"
   ]
  },
  {
   "cell_type": "code",
   "execution_count": 40,
   "id": "e4a6cf7d-7a54-4342-8a14-0488ee27da17",
   "metadata": {},
   "outputs": [
    {
     "name": "stdout",
     "output_type": "stream",
     "text": [
      "(1, 128, 128, 3)\n"
     ]
    }
   ],
   "source": [
    "up_model = upsample(3, 4)\n",
    "up_result = up_model(down_result)\n",
    "print (up_result.shape)"
   ]
  },
  {
   "cell_type": "code",
   "execution_count": 41,
   "id": "36178a64-cb1e-4f21-a78a-f7ac6ad5b87c",
   "metadata": {},
   "outputs": [],
   "source": [
    "def Generator():\n",
    "    inputs = tf.keras.layers.Input(shape=[128, 128, 1])\n",
    "\n",
    "    # down_stack = [\n",
    "    #     downsample(64, 3, apply_batchnorm=False),  # (batch_size, 128, 128, 64)\n",
    "    #     downsample(128, 3),  # (batch_size, 64, 64, 128)\n",
    "    #     downsample(256, 3),  # (batch_size, 32, 32, 256)\n",
    "    #     downsample(512, 3),  # (batch_size, 16, 16, 512)\n",
    "    #     downsample(512, 3),  # (batch_size, 8, 8, 512)\n",
    "    #     downsample(512, 3),  # (batch_size, 4, 4, 512)\n",
    "    #     downsample(512, 3),  # (batch_size, 2, 2, 512)\n",
    "    #     # downsample(512, 4),  # (batch_size, 1, 1, 512)\n",
    "    # ]\n",
    "    down_stack = [\n",
    "        downsample(64, 4, apply_batchnorm=False),  # (batch_size, 128, 128, 64)\n",
    "        downsample(128, 4),  # (batch_size, 64, 64, 128)\n",
    "        downsample(256, 4),  # (batch_size, 32, 32, 256)\n",
    "        downsample(512, 4),  # (batch_size, 16, 16, 512)\n",
    "        downsample(512, 4),  # (batch_size, 8, 8, 512)\n",
    "        downsample(512, 4),  # (batch_size, 4, 4, 512)\n",
    "        downsample(512, 4),  # (batch_size, 2, 2, 512)\n",
    "        # downsample(512, 4),  # (batch_size, 1, 1, 512)\n",
    "    ]\n",
    "\n",
    "    # up_stack = [\n",
    "    #     # upsample(512, 4, apply_dropout=True),  # (batch_size, 2, 2, 1024)\n",
    "    #     upsample(512, 3, apply_dropout=True),  # (batch_size, 4, 4, 1024)\n",
    "    #     upsample(512, 3, apply_dropout=False),  # (batch_size, 8, 8, 1024)\n",
    "    #     upsample(512, 3),  # (batch_size, 16, 16, 1024)\n",
    "    #     upsample(256, 3),  # (batch_size, 32, 32, 512)\n",
    "    #     upsample(128, 3),  # (batch_size, 64, 64, 256)\n",
    "    #     upsample(64, 3),  # (batch_size, 128, 128, 128)\n",
    "    # ]\n",
    "\n",
    "    up_stack = [\n",
    "        upsample(512, 4, apply_dropout=True),  # (batch_size, 2, 2, 1024)\n",
    "        upsample(512, 4, apply_dropout=True),  # (batch_size, 4, 4, 1024)\n",
    "        upsample(512, 4, apply_dropout=True),  # (batch_size, 8, 8, 1024)\n",
    "        upsample(512, 4),  # (batch_size, 16, 16, 1024)\n",
    "        upsample(256, 4),  # (batch_size, 32, 32, 512)\n",
    "        upsample(128, 4),  # (batch_size, 64, 64, 256)\n",
    "        # upsample(64, 4),  # (batch_size, 128, 128, 128)\n",
    "    ]\n",
    "\n",
    "    \n",
    "    initializer = tf.random_normal_initializer(0., 0.02)\n",
    "    last = tf.keras.layers.Conv2DTranspose(OUTPUT_CHANNELS, 3,\n",
    "                                            strides=2,\n",
    "                                            padding='same',\n",
    "                                            kernel_initializer=initializer,\n",
    "                                            activation='sigmoid')  # (batch_size, 256, 256, 3)\n",
    "\n",
    "    x = inputs\n",
    "\n",
    "    # Downsampling through the model\n",
    "    skips = []\n",
    "    for down in down_stack:\n",
    "        x = down(x)\n",
    "        skips.append(x)\n",
    "\n",
    "    skips = reversed(skips[:-1])\n",
    "\n",
    "    # Upsampling and establishing the skip connections\n",
    "    for up, skip in zip(up_stack, skips):\n",
    "        x = up(x)\n",
    "        x = tf.keras.layers.Concatenate()([x, skip])\n",
    "\n",
    "    # x = last(x)\n",
    "    # x = 1.0 + (10.0 - 1.0)*x \n",
    "\n",
    "    upsampling = tf.keras.layers.UpSampling2D(size=2, interpolation = 'bilinear')\n",
    "    # last_conv = tf.keras.layers.Conv2D(1, kernel_size=3, strides=1, padding='same', activation='relu')\n",
    "    last_conv = tf.keras.layers.Conv2D(1, kernel_size=3, strides=1, padding='same', activation='sigmoid')\n",
    "    multiply = tf.keras.layers.Lambda(lambda x: 0.1 + (5.0 - 0.1)*x)\n",
    "    \n",
    "    x = upsampling(x)\n",
    "    x = last_conv(x)\n",
    "    x = multiply(x)\n",
    "    \n",
    "    # x = 0.1 + (10.0 - 0.1)*x\n",
    "    # this one for both!\n",
    "\n",
    "    return tf.keras.Model(inputs=inputs, outputs=x)"
   ]
  },
  {
   "cell_type": "code",
   "execution_count": 42,
   "id": "65ab5a3c-90c2-4ccc-9485-e28cf10868d3",
   "metadata": {},
   "outputs": [],
   "source": [
    "# Visualizing generator architecture\n",
    "generator = Generator()\n",
    "# tf.keras.utils.plot_model(generator, show_shapes=True, dpi=64)"
   ]
  },
  {
   "cell_type": "code",
   "execution_count": 43,
   "id": "61dd1010-9fa2-4473-81aa-4b88a531fd10",
   "metadata": {},
   "outputs": [
    {
     "data": {
      "text/plain": [
       "<matplotlib.image.AxesImage at 0x7f24a0fe7f70>"
      ]
     },
     "execution_count": 43,
     "metadata": {},
     "output_type": "execute_result"
    },
    {
     "data": {
      "image/png": "[encoded data removed]",
      "text/plain": [
       "<Figure size 640x480 with 1 Axes>"
      ]
     },
     "metadata": {},
     "output_type": "display_data"
    }
   ],
   "source": [
    "# Testing the generator\n",
    "gen_output = generator(inp[tf.newaxis, ...], training=False)\n",
    "plt.imshow(gen_output[0, ...])"
   ]
  },
  {
   "cell_type": "code",
   "execution_count": 44,
   "id": "ec872ec5-6f09-4172-bf9a-dcb5245d7d02",
   "metadata": {},
   "outputs": [],
   "source": [
    "# gen_output[0]"
   ]
  },
  {
   "cell_type": "code",
   "execution_count": 45,
   "id": "d280517f-13e9-4259-b374-d2b9c68d8ae8",
   "metadata": {},
   "outputs": [
    {
     "data": {
      "text/plain": [
       "TensorShape([1, 128, 128, 1])"
      ]
     },
     "execution_count": 45,
     "metadata": {},
     "output_type": "execute_result"
    }
   ],
   "source": [
    "gen_output.shape"
   ]
  },
  {
   "cell_type": "code",
   "execution_count": null,
   "id": "b4f50e15-16bf-41ce-8209-45a50d9b386f",
   "metadata": {},
   "outputs": [],
   "source": []
  },
  {
   "cell_type": "code",
   "execution_count": 46,
   "id": "8d25002d-d516-467f-8f61-2117b75604b7",
   "metadata": {},
   "outputs": [],
   "source": [
    "# Generator loss\n",
    "LAMBDA = 100\n",
    "loss_object = tf.keras.losses.MeanSquaredError()\n",
    "loss_tracker = tf.keras.metrics.Mean(name=\"loss\")\n",
    "val_loss_tracker = tf.keras.metrics.Mean(name=\"loss\")"
   ]
  },
  {
   "cell_type": "code",
   "execution_count": 47,
   "id": "aa66de45-639b-42bb-93f9-0db859c198a0",
   "metadata": {},
   "outputs": [],
   "source": [
    "def generator_loss(gen_output, target):\n",
    "    #Possible addition: regularizer\n",
    "    gan_loss = loss_object(gen_output, target)\n",
    "    return gan_loss"
   ]
  },
  {
   "cell_type": "code",
   "execution_count": 48,
   "id": "33fa0d4c-67a5-48ab-9bdd-3cf3b37f2ff6",
   "metadata": {},
   "outputs": [],
   "source": [
    "# tf.keras.utils.plot_model(generator, show_shapes=True, dpi=64, to_file='results/model.png')"
   ]
  },
  {
   "cell_type": "code",
   "execution_count": 49,
   "id": "6b5c6410-aecd-455f-99f7-3b497493e063",
   "metadata": {},
   "outputs": [
    {
     "data": {
      "text/plain": [
       "<tf.Tensor: shape=(), dtype=float32, numpy=2.3445272>"
      ]
     },
     "execution_count": 49,
     "metadata": {},
     "output_type": "execute_result"
    }
   ],
   "source": [
    "generator_loss(gen_output, re[tf.newaxis,...])"
   ]
  },
  {
   "cell_type": "code",
   "execution_count": 50,
   "id": "e4530291-a521-48d9-aada-03ddfbd33e74",
   "metadata": {},
   "outputs": [
    {
     "data": {
      "text/plain": [
       "TensorShape([1, 128, 128, 1])"
      ]
     },
     "execution_count": 50,
     "metadata": {},
     "output_type": "execute_result"
    }
   ],
   "source": [
    "re[tf.newaxis,...].shape"
   ]
  },
  {
   "cell_type": "code",
   "execution_count": 51,
   "id": "5d8ffbcd-d7dd-4c0e-acf2-0159b07a72ce",
   "metadata": {},
   "outputs": [
    {
     "data": {
      "text/plain": [
       "TensorShape([1, 128, 128, 1])"
      ]
     },
     "execution_count": 51,
     "metadata": {},
     "output_type": "execute_result"
    }
   ],
   "source": [
    "gen_output.shape"
   ]
  },
  {
   "attachments": {},
   "cell_type": "markdown",
   "id": "e1121ae4-74d5-4707-bda4-594153863e19",
   "metadata": {},
   "source": [
    "### Optimizers and checkpoints"
   ]
  },
  {
   "cell_type": "code",
   "execution_count": 52,
   "id": "7a8c033c-5049-439c-865d-51cd5fe233a5",
   "metadata": {},
   "outputs": [],
   "source": [
    "generator_optimizer = tf.keras.optimizers.legacy.Adam(2e-4, beta_1=0.5)\n",
    "# discriminator_optimizer = tf.keras.optimizers.Adam(2e-4, beta_1=0.5)"
   ]
  },
  {
   "cell_type": "code",
   "execution_count": 53,
   "id": "9fa39442-7f64-45ea-9f18-e349ce736555",
   "metadata": {},
   "outputs": [],
   "source": [
    "checkpoint_dir = 'training_checkpoints/'\n",
    "checkpoint_prefix = os.path.join(checkpoint_dir, \"ckpt\")\n",
    "checkpoint = tf.train.Checkpoint(generator_optimizer=generator_optimizer,\n",
    "                                 generator=generator,\n",
    "                                )"
   ]
  },
  {
   "cell_type": "code",
   "execution_count": 54,
   "id": "68da0e83-3db7-4df1-afba-78c9c7203138",
   "metadata": {},
   "outputs": [],
   "source": [
    "class MidPointLogNorm(mcolors.LogNorm):\n",
    "    def __init__(self, vmin=None, vmax=None, midpoint=None, clip=False):\n",
    "        mcolors.LogNorm.__init__(self,vmin=vmin, vmax=vmax, clip=clip)\n",
    "        self.midpoint=midpoint\n",
    "    def __call__(self, value, clip=None):\n",
    "        # I'm ignoring masked values and all kinds of edge cases to make a\n",
    "        # simple example...\n",
    "        x, y = [np.log(self.vmin), np.log(self.midpoint), np.log(self.vmax)], [0, 0.5, 1]\n",
    "        return np.ma.masked_array(np.interp(np.log(value), x, y))"
   ]
  },
  {
   "cell_type": "code",
   "execution_count": 55,
   "id": "772c62e8-32e2-46e0-af5b-beb06d470c81",
   "metadata": {},
   "outputs": [],
   "source": [
    "def generate_images(model, test_input, tar, epoch, step):\n",
    "    prediction = model(test_input, training=False)\n",
    "    display_list = [test_input[0], tar[0], prediction[0]]\n",
    "    mse_loss = tf.keras.losses.MeanSquaredError()(tar[0], prediction[0]).numpy()\n",
    "    mape_loss = tf.keras.losses.MeanAbsolutePercentageError()(tar[0], prediction[0]).numpy()\n",
    "    title = ['Input Image', 'Ground Truth', f'Predicted {mse_loss:.2f} {mape_loss:.2f}%']\n",
    "    for i in range(3):\n",
    "        plt.subplot(1, 3, i+1)\n",
    "        plt.title(title[i])\n",
    "        plt.imshow(display_list[i], cmap='gray')\n",
    "        plt.colorbar(location='bottom')\n",
    "        plt.axis('off')\n",
    "    plt.savefig(f'results/training_plots/{epoch}-{step}.png')"
   ]
  },
  {
   "cell_type": "code",
   "execution_count": 98,
   "id": "2bed7ce8-eaf3-4265-9faa-2e147ac2817a",
   "metadata": {},
   "outputs": [
    {
     "data": {
      "text/plain": [
       "<Figure size 640x480 with 0 Axes>"
      ]
     },
     "metadata": {},
     "output_type": "display_data"
    }
   ],
   "source": [
    "plt.tight_layout()\n",
    "def generate_images8(model, test_input, tar, epoch, step):\n",
    "    prediction = model(test_input, training=False)\n",
    "    x = prediction.numpy()\n",
    "    # if np.amax(x) > 1.0:\n",
    "    #     x[x < 1.0] = 1.0\n",
    "    # else:\n",
    "    #     x[x > 1.0] = 1.0\n",
    "\n",
    "    display_list = [test_input[0], tar[0], x[0]]\n",
    "    mse_loss = tf.keras.losses.MeanSquaredError()(tar[0], prediction[0]).numpy()\n",
    "    mape_loss = tf.keras.losses.MeanAbsolutePercentageError()(tar[0], prediction[0]).numpy()\n",
    "    title = ['Input Image', 'Ground Truth', f'Predicted'] #{mse_loss:.2f} {mape_loss:.2f}%\n",
    "    plt.figure(figsize=(15, 8))\n",
    "\n",
    "    for i in range(3):\n",
    "        plt.subplot(1, 3, i+1)\n",
    "        plt.title(title[i], fontsize=25)\n",
    "        if i==0:\n",
    "            plt.imshow(display_list[i], cmap='bwr')\n",
    "            plt.colorbar(location='bottom',pad=0.1)\n",
    "        else:\n",
    "            plt.imshow(display_list[i], cmap='bwr', norm= MidPointLogNorm(vmin=0.01, vmax=5.0, midpoint=1.0))\n",
    "            plt.colorbar(location='bottom',pad=0.1)\n",
    "        plt.axis('on')\n",
    "    plt.savefig(f'{RESULTS_FOLDER}/training_plots/{epoch}-{step}.png', bbox_inches='tight')\n",
    "    plt.close()\n",
    "\n",
    "    # plt.imshow(target[i][0], cmap='bwr', norm= MidPointLogNorm(vmin=0.1, vmax=5, midpoint=1))\n",
    "    # plt.colorbar(location='bottom', pad=0.05)\n",
    "    # plt.suptitle('Modulus distribution', x=0.5, y = 0.48, fontsize=15)"
   ]
  },
  {
   "cell_type": "code",
   "execution_count": 57,
   "id": "833ca605-d2f5-4fde-991d-711b08047f40",
   "metadata": {},
   "outputs": [
    {
     "name": "stderr",
     "output_type": "stream",
     "text": [
      "2023-07-30 10:46:35.226993: I tensorflow/core/common_runtime/executor.cc:1197] [/device:CPU:0] (DEBUG INFO) Executor start aborting (this does not indicate an error and you can ignore this message): INVALID_ARGUMENT: You must feed a value for placeholder tensor 'Placeholder/_1' with dtype string and shape [1000]\n",
      "\t [[{{node Placeholder/_1}}]]\n",
      "2023-07-30 10:46:35.227236: I tensorflow/core/common_runtime/executor.cc:1197] [/device:CPU:0] (DEBUG INFO) Executor start aborting (this does not indicate an error and you can ignore this message): INVALID_ARGUMENT: You must feed a value for placeholder tensor 'Placeholder/_1' with dtype string and shape [1000]\n",
      "\t [[{{node Placeholder/_1}}]]\n"
     ]
    }
   ],
   "source": [
    "for example_input, example_target in val_dataset.take(1):\n",
    "    generate_images8(generator, example_input, example_target,6,6)"
   ]
  },
  {
   "cell_type": "code",
   "execution_count": 58,
   "id": "8cdd81a0-5e63-419e-b0ea-21a0bbf77d36",
   "metadata": {},
   "outputs": [],
   "source": [
    "# for i, (example_input, example_target) in enumerate(val_dataset.take(1000)):\n",
    "#     if i+1 == 49 or i+1 == 174:\n",
    "#         generate_images8(generator, example_input, example_target,i+1,i+1)"
   ]
  },
  {
   "cell_type": "code",
   "execution_count": null,
   "id": "0719e570-e6c1-489e-9f47-58fd223af60f",
   "metadata": {},
   "outputs": [],
   "source": []
  },
  {
   "cell_type": "code",
   "execution_count": null,
   "id": "b55e683e-0b76-4525-89c5-8f66e75d0882",
   "metadata": {},
   "outputs": [],
   "source": []
  },
  {
   "cell_type": "code",
   "execution_count": null,
   "id": "6bdf9d0c-4244-433f-97df-1b92891264c0",
   "metadata": {},
   "outputs": [],
   "source": []
  },
  {
   "cell_type": "code",
   "execution_count": null,
   "id": "efd38d18-0f65-4a31-9ac1-b66fe68e9a3e",
   "metadata": {},
   "outputs": [],
   "source": []
  },
  {
   "attachments": {},
   "cell_type": "markdown",
   "id": "e879447d-b9cf-4638-9dc6-150e086ff328",
   "metadata": {},
   "source": [
    "### Training"
   ]
  },
  {
   "cell_type": "code",
   "execution_count": 59,
   "id": "cabe3899-1b8e-4f39-8948-35c65b23531b",
   "metadata": {},
   "outputs": [],
   "source": [
    "MODEL_PATH = f\"{RESULTS_FOLDER}/model_weights/mse_model\"\n",
    "BEST_PATH = f\"{RESULTS_FOLDER}/model_weights/best_mse_model\""
   ]
  },
  {
   "cell_type": "code",
   "execution_count": 60,
   "id": "7bcfec04-9706-4323-95ea-9d8dbff9bcc9",
   "metadata": {},
   "outputs": [],
   "source": [
    "log_dir=f\"{RESULTS_FOLDER}/logs/\"\n",
    "summary_writer = tf.summary.create_file_writer(log_dir + \"fit/\" + datetime.datetime.now().strftime(\"%Y%m%d-%H%M%S\"))\n",
    "gen_total_loss_list = []\n",
    "gen_val_loss_list = []"
   ]
  },
  {
   "cell_type": "code",
   "execution_count": 61,
   "id": "483308e7-2097-4290-bd44-9d46db73aa9e",
   "metadata": {},
   "outputs": [],
   "source": [
    "# @tf.function\n",
    "def train_step(input_image, target, step):\n",
    "    with tf.GradientTape() as gen_tape:\n",
    "        gen_output = generator(input_image, training=True)\n",
    "        gen_total_loss = generator_loss(gen_output, target)\n",
    "\n",
    "    generator_gradients = gen_tape.gradient(gen_total_loss, generator.trainable_variables)\n",
    "    generator_optimizer.apply_gradients(zip(generator_gradients, generator.trainable_variables))\n",
    "    \n",
    "    if step%5 == 0:\n",
    "        gen_total_loss_list.append(gen_total_loss.numpy())\n",
    "        loss_tracker.update_state(gen_total_loss)\n",
    "    # print(f'Result:{loss_tracker.result()}')\n",
    "\n",
    "    # with summary_writer.as_default():\n",
    "    #     tf.summary.scalar('gen_total_loss', gen_total_loss, step=step//1000)"
   ]
  },
  {
   "cell_type": "code",
   "execution_count": 62,
   "id": "9be27718-f134-42e7-b4b7-ec9ee2fd6536",
   "metadata": {},
   "outputs": [],
   "source": [
    "def val_step(input_image, target, step):\n",
    "    gen_output = generator(input_image, training=False)\n",
    "    gen_val_loss = generator_loss(gen_output, target)\n",
    "    gen_val_loss_list.append(gen_val_loss)\n",
    "    val_loss_tracker.update_state(gen_val_loss)\n",
    "\n",
    "    # print(gen_val_loss)"
   ]
  },
  {
   "cell_type": "code",
   "execution_count": null,
   "id": "85c91e49-1b8c-4c5d-9f78-d5ad48427c70",
   "metadata": {},
   "outputs": [],
   "source": []
  },
  {
   "cell_type": "code",
   "execution_count": 63,
   "id": "c970e2eb-6c9a-465b-a1fc-acf3a8673a8d",
   "metadata": {
    "execution": {
     "iopub.execute_input": "2023-07-29T00:35:55.680847Z",
     "iopub.status.busy": "2023-07-29T00:35:55.680605Z",
     "iopub.status.idle": "2023-07-29T00:35:55.702775Z",
     "shell.execute_reply": "2023-07-29T00:35:55.702216Z"
    }
   },
   "outputs": [],
   "source": [
    "min_val_loss = 100000;"
   ]
  },
  {
   "cell_type": "code",
   "execution_count": 64,
   "id": "69922983-99ee-4a25-ada1-c8037eff7300",
   "metadata": {
    "execution": {
     "iopub.execute_input": "2023-07-29T00:35:55.705803Z",
     "iopub.status.busy": "2023-07-29T00:35:55.705578Z",
     "iopub.status.idle": "2023-07-29T00:35:55.733068Z",
     "shell.execute_reply": "2023-07-29T00:35:55.732086Z"
    }
   },
   "outputs": [],
   "source": [
    "epoch_wise_train_loss = []\n",
    "epoch_wise_val_loss = []"
   ]
  },
  {
   "cell_type": "code",
   "execution_count": 65,
   "id": "172f5cf2-d2e0-4c5e-84a6-e7813659ebac",
   "metadata": {
    "execution": {
     "iopub.execute_input": "2023-07-29T00:35:55.737429Z",
     "iopub.status.busy": "2023-07-29T00:35:55.737083Z",
     "iopub.status.idle": "2023-07-29T00:35:55.783110Z",
     "shell.execute_reply": "2023-07-29T00:35:55.781690Z"
    }
   },
   "outputs": [],
   "source": [
    "def fit(train_ds, val_ds, epochs, steps=10*len(train_dataset)):\n",
    "    example_input, example_target = next(iter(train_ds.take(1)))\n",
    "    start = time.time()\n",
    "    min_val_loss = 1000\n",
    "    \n",
    "    for epoch in range(epochs):\n",
    "        for step, (input_image, target) in train_ds.repeat().take(steps).enumerate():\n",
    "            train_step(input_image, target, step)\n",
    "            if (step)%100==0:\n",
    "                # 3 times per batch \n",
    "                for (input_image, target) in val_ds.take(500):\n",
    "                    val_step(input_image, target, step)\n",
    "            # display.clear_output(wait=True)\n",
    "\n",
    "        ## Save best model\n",
    "        current_loss = val_loss_tracker.result().numpy()\n",
    "        print(\"current loss\",current_loss)\n",
    "        print(\"Min vall loss\",min_val_loss)\n",
    "        if(current_loss < min_val_loss and epoch > 2):\n",
    "            min_val_loss = current_loss\n",
    "            generator.save_weights(BEST_PATH)\n",
    "            print(f\"Saving best weight with val loss:{min_val_loss} to {BEST_PATH}\")\n",
    "\n",
    "        if (epoch) % 10 == 0:\n",
    "            # display.clear_output(wait=True)\n",
    "            if epoch != 0:\n",
    "                print(f'Time taken for 10 epochs: {time.time()-start:.2f} sec\\n')\n",
    "            start = time.time()\n",
    "            generate_images(generator, example_input, example_target, epoch, step)\n",
    "            print(f\"Reached epoch: {epoch}\")\n",
    "            # generate_images2(generator, exp_img, epoch, step)    \n",
    "\n",
    "        # Save (checkpoint) the model every 25 EPOCH\n",
    "        if (epoch)%25 == 0:\n",
    "            print(f\"Saving checkpoint at epoch:{epoch}\")\n",
    "            checkpoint.save(file_prefix=checkpoint_prefix)\n",
    "            print(f\"Step: {step}, Train Loss:{loss_tracker.result()} , Val Loss:{val_loss_tracker.result()}\")\n",
    "        \n",
    "        print(f\"Epoch: {epoch}, Train Loss:{loss_tracker.result()} , Val Loss:{val_loss_tracker.result()}\")\n",
    "        epoch_wise_train_loss.append(loss_tracker.result())\n",
    "        epoch_wise_val_loss.append(val_loss_tracker.result())\n",
    "        loss_tracker.reset_states()\n",
    "        val_loss_tracker.reset_states()\n",
    "\n",
    "    generator.save_weights(MODEL_PATH)\n",
    "    print(f'\\nModel saved to: {MODEL_PATH}')\n",
    "    print('min_val_loss',min_val_loss)\n",
    "    with open(f'{RESULTS_FOLDER}/loss.txt','w') as f:\n",
    "        f.write(str(min_val_loss))\n",
    "        f.write(\"epoch\")\n",
    "        f.write(str(epoch))"
   ]
  },
  {
   "cell_type": "code",
   "execution_count": null,
   "id": "5a25416f-8ac0-4b43-a241-0d6b73f5ebfb",
   "metadata": {},
   "outputs": [],
   "source": []
  },
  {
   "cell_type": "code",
   "execution_count": null,
   "id": "86098f7d-2edf-46e6-bee1-75e908c9944f",
   "metadata": {},
   "outputs": [],
   "source": []
  },
  {
   "cell_type": "code",
   "execution_count": 66,
   "id": "470e7c8c-c6b1-4457-bbb8-d84d86dabfe1",
   "metadata": {
    "execution": {
     "iopub.execute_input": "2023-07-29T00:35:55.788142Z",
     "iopub.status.busy": "2023-07-29T00:35:55.787732Z",
     "iopub.status.idle": "2023-07-29T09:34:26.541749Z",
     "shell.execute_reply": "2023-07-29T09:34:26.540960Z"
    },
    "scrolled": true
   },
   "outputs": [
    {
     "name": "stderr",
     "output_type": "stream",
     "text": [
      "2023-07-28 20:35:55.831711: I tensorflow/core/common_runtime/executor.cc:1197] [/device:CPU:0] (DEBUG INFO) Executor start aborting (this does not indicate an error and you can ignore this message): INVALID_ARGUMENT: You must feed a value for placeholder tensor 'Placeholder/_0' with dtype string and shape [10000]\n",
      "\t [[{{node Placeholder/_0}}]]\n",
      "2023-07-28 20:35:58.036252: I tensorflow/core/grappler/optimizers/data/replicate_on_split.cc:32] Running replicate on split optimization\n",
      "2023-07-28 20:35:58.063308: I tensorflow/core/common_runtime/executor.cc:1197] [/device:CPU:0] (DEBUG INFO) Executor start aborting (this does not indicate an error and you can ignore this message): INVALID_ARGUMENT: You must feed a value for placeholder tensor 'Placeholder/_5' with dtype string and shape [10000]\n",
      "\t [[{{node Placeholder/_5}}]]\n",
      "2023-07-28 20:36:25.969674: W tensorflow/compiler/xla/service/gpu/llvm_gpu_backend/gpu_backend_lib.cc:530] Can't find libdevice directory ${CUDA_DIR}/nvvm/libdevice. This may result in compilation or runtime failures, if the program we try to run uses routines from libdevice.\n",
      "Searched for CUDA in the following directories:\n",
      "  ./cuda_sdk_lib\n",
      "  /usr/local/cuda-11.8\n",
      "  /usr/local/cuda\n",
      "  .\n",
      "You can choose the search directory by setting xla_gpu_cuda_data_dir in HloModule's DebugOptions.  For most apps, setting the environment variable XLA_FLAGS=--xla_gpu_cuda_data_dir=/path/to/cuda will work.\n",
      "2023-07-28 20:36:26.195693: W tensorflow/compiler/xla/stream_executor/gpu/asm_compiler.cc:109] Couldn't get ptxas version : FAILED_PRECONDITION: Couldn't get ptxas/nvlink version string: INTERNAL: Running ptxas --version returned 32512\n",
      "2023-07-28 20:36:26.304863: W tensorflow/compiler/mlir/tools/kernel_gen/transforms/gpu_kernel_to_blob_pass.cc:189] Failed to compile generated PTX with ptxas. Falling back to compilation by driver.\n",
      "2023-07-28 20:36:26.430017: W tensorflow/compiler/xla/stream_executor/gpu/asm_compiler.cc:109] Couldn't get ptxas version : FAILED_PRECONDITION: Couldn't get ptxas/nvlink version string: INTERNAL: Running ptxas --version returned 32512\n",
      "2023-07-28 20:36:26.571512: W tensorflow/compiler/mlir/tools/kernel_gen/transforms/gpu_kernel_to_blob_pass.cc:189] Failed to compile generated PTX with ptxas. Falling back to compilation by driver.\n",
      "2023-07-28 20:36:26.707689: W tensorflow/compiler/xla/stream_executor/gpu/asm_compiler.cc:109] Couldn't get ptxas version : FAILED_PRECONDITION: Couldn't get ptxas/nvlink version string: INTERNAL: Running ptxas --version returned 32512\n",
      "2023-07-28 20:36:26.833298: W tensorflow/compiler/mlir/tools/kernel_gen/transforms/gpu_kernel_to_blob_pass.cc:189] Failed to compile generated PTX with ptxas. Falling back to compilation by driver.\n",
      "2023-07-28 20:36:26.975868: W tensorflow/compiler/xla/stream_executor/gpu/asm_compiler.cc:109] Couldn't get ptxas version : FAILED_PRECONDITION: Couldn't get ptxas/nvlink version string: INTERNAL: Running ptxas --version returned 32512\n",
      "2023-07-28 20:36:27.104307: W tensorflow/compiler/mlir/tools/kernel_gen/transforms/gpu_kernel_to_blob_pass.cc:189] Failed to compile generated PTX with ptxas. Falling back to compilation by driver.\n",
      "2023-07-28 20:36:27.249037: W tensorflow/compiler/xla/stream_executor/gpu/asm_compiler.cc:109] Couldn't get ptxas version : FAILED_PRECONDITION: Couldn't get ptxas/nvlink version string: INTERNAL: Running ptxas --version returned 32512\n",
      "2023-07-28 20:36:27.382723: W tensorflow/compiler/mlir/tools/kernel_gen/transforms/gpu_kernel_to_blob_pass.cc:189] Failed to compile generated PTX with ptxas. Falling back to compilation by driver.\n",
      "2023-07-28 20:36:27.529607: W tensorflow/compiler/xla/stream_executor/gpu/asm_compiler.cc:109] Couldn't get ptxas version : FAILED_PRECONDITION: Couldn't get ptxas/nvlink version string: INTERNAL: Running ptxas --version returned 32512\n",
      "2023-07-28 20:36:27.654715: W tensorflow/compiler/mlir/tools/kernel_gen/transforms/gpu_kernel_to_blob_pass.cc:189] Failed to compile generated PTX with ptxas. Falling back to compilation by driver.\n",
      "2023-07-28 20:36:27.797699: W tensorflow/compiler/xla/stream_executor/gpu/asm_compiler.cc:109] Couldn't get ptxas version : FAILED_PRECONDITION: Couldn't get ptxas/nvlink version string: INTERNAL: Running ptxas --version returned 32512\n",
      "2023-07-28 20:36:27.893670: W tensorflow/compiler/mlir/tools/kernel_gen/transforms/gpu_kernel_to_blob_pass.cc:189] Failed to compile generated PTX with ptxas. Falling back to compilation by driver.\n",
      "2023-07-28 20:36:27.994872: W tensorflow/compiler/xla/stream_executor/gpu/asm_compiler.cc:109] Couldn't get ptxas version : FAILED_PRECONDITION: Couldn't get ptxas/nvlink version string: INTERNAL: Running ptxas --version returned 32512\n",
      "2023-07-28 20:36:28.094210: W tensorflow/compiler/mlir/tools/kernel_gen/transforms/gpu_kernel_to_blob_pass.cc:189] Failed to compile generated PTX with ptxas. Falling back to compilation by driver.\n",
      "2023-07-28 20:36:28.198599: W tensorflow/compiler/xla/stream_executor/gpu/asm_compiler.cc:109] Couldn't get ptxas version : FAILED_PRECONDITION: Couldn't get ptxas/nvlink version string: INTERNAL: Running ptxas --version returned 32512\n",
      "2023-07-28 20:36:28.321894: W tensorflow/compiler/mlir/tools/kernel_gen/transforms/gpu_kernel_to_blob_pass.cc:189] Failed to compile generated PTX with ptxas. Falling back to compilation by driver.\n",
      "2023-07-28 20:36:28.478293: W tensorflow/compiler/xla/stream_executor/gpu/asm_compiler.cc:109] Couldn't get ptxas version : FAILED_PRECONDITION: Couldn't get ptxas/nvlink version string: INTERNAL: Running ptxas --version returned 32512\n",
      "2023-07-28 20:36:28.594063: W tensorflow/compiler/mlir/tools/kernel_gen/transforms/gpu_kernel_to_blob_pass.cc:189] Failed to compile generated PTX with ptxas. Falling back to compilation by driver.\n",
      "2023-07-28 20:36:28.716414: W tensorflow/compiler/xla/stream_executor/gpu/asm_compiler.cc:109] Couldn't get ptxas version : FAILED_PRECONDITION: Couldn't get ptxas/nvlink version string: INTERNAL: Running ptxas --version returned 32512\n",
      "2023-07-28 20:36:28.821886: W tensorflow/compiler/mlir/tools/kernel_gen/transforms/gpu_kernel_to_blob_pass.cc:189] Failed to compile generated PTX with ptxas. Falling back to compilation by driver.\n",
      "2023-07-28 20:36:28.933796: W tensorflow/compiler/xla/stream_executor/gpu/asm_compiler.cc:109] Couldn't get ptxas version : FAILED_PRECONDITION: Couldn't get ptxas/nvlink version string: INTERNAL: Running ptxas --version returned 32512\n",
      "2023-07-28 20:36:29.037293: W tensorflow/compiler/mlir/tools/kernel_gen/transforms/gpu_kernel_to_blob_pass.cc:189] Failed to compile generated PTX with ptxas. Falling back to compilation by driver.\n",
      "2023-07-28 20:36:29.153008: W tensorflow/compiler/xla/stream_executor/gpu/asm_compiler.cc:109] Couldn't get ptxas version : FAILED_PRECONDITION: Couldn't get ptxas/nvlink version string: INTERNAL: Running ptxas --version returned 32512\n",
      "2023-07-28 20:36:29.259228: W tensorflow/compiler/mlir/tools/kernel_gen/transforms/gpu_kernel_to_blob_pass.cc:189] Failed to compile generated PTX with ptxas. Falling back to compilation by driver.\n",
      "2023-07-28 20:36:29.771466: I tensorflow/core/common_runtime/executor.cc:1197] [/device:CPU:0] (DEBUG INFO) Executor start aborting (this does not indicate an error and you can ignore this message): INVALID_ARGUMENT: You must feed a value for placeholder tensor 'Placeholder/_1' with dtype string and shape [1000]\n",
      "\t [[{{node Placeholder/_1}}]]\n",
      "2023-07-28 20:37:09.532516: I tensorflow/core/common_runtime/executor.cc:1197] [/device:CPU:0] (DEBUG INFO) Executor start aborting (this does not indicate an error and you can ignore this message): INVALID_ARGUMENT: You must feed a value for placeholder tensor 'Placeholder/_1' with dtype string and shape [1000]\n",
      "\t [[{{node Placeholder/_1}}]]\n",
      "2023-07-28 20:37:46.578433: I tensorflow/core/common_runtime/executor.cc:1197] [/device:CPU:0] (DEBUG INFO) Executor start aborting (this does not indicate an error and you can ignore this message): INVALID_ARGUMENT: You must feed a value for placeholder tensor 'Placeholder/_1' with dtype string and shape [1000]\n",
      "\t [[{{node Placeholder/_1}}]]\n",
      "2023-07-28 20:38:24.157558: I tensorflow/core/common_runtime/executor.cc:1197] [/device:CPU:0] (DEBUG INFO) Executor start aborting (this does not indicate an error and you can ignore this message): INVALID_ARGUMENT: You must feed a value for placeholder tensor 'Placeholder/_1' with dtype string and shape [1000]\n",
      "\t [[{{node Placeholder/_1}}]]\n",
      "2023-07-28 20:39:02.638085: I tensorflow/core/common_runtime/executor.cc:1197] [/device:CPU:0] (DEBUG INFO) Executor start aborting (this does not indicate an error and you can ignore this message): INVALID_ARGUMENT: You must feed a value for placeholder tensor 'Placeholder/_1' with dtype string and shape [1000]\n",
      "\t [[{{node Placeholder/_1}}]]\n",
      "2023-07-28 20:39:39.763277: I tensorflow/core/common_runtime/executor.cc:1197] [/device:CPU:0] (DEBUG INFO) Executor start aborting (this does not indicate an error and you can ignore this message): INVALID_ARGUMENT: You must feed a value for placeholder tensor 'Placeholder/_1' with dtype string and shape [1000]\n",
      "\t [[{{node Placeholder/_1}}]]\n",
      "2023-07-28 20:40:16.053881: I tensorflow/core/common_runtime/executor.cc:1197] [/device:CPU:0] (DEBUG INFO) Executor start aborting (this does not indicate an error and you can ignore this message): INVALID_ARGUMENT: You must feed a value for placeholder tensor 'Placeholder/_1' with dtype string and shape [1000]\n",
      "\t [[{{node Placeholder/_1}}]]\n",
      "2023-07-28 20:40:55.025857: I tensorflow/core/common_runtime/executor.cc:1197] [/device:CPU:0] (DEBUG INFO) Executor start aborting (this does not indicate an error and you can ignore this message): INVALID_ARGUMENT: You must feed a value for placeholder tensor 'Placeholder/_1' with dtype string and shape [1000]\n",
      "\t [[{{node Placeholder/_1}}]]\n"
     ]
    },
    {
     "name": "stdout",
     "output_type": "stream",
     "text": [
      "current loss 0.8577072\n",
      "Min vall loss 1000\n",
      "Reached epoch: 0\n",
      "Saving checkpoint at epoch:0\n",
      "Step: 789, Train Loss:0.06340323388576508 , Val Loss:0.8577072024345398\n",
      "Epoch: 0, Train Loss:0.06340323388576508 , Val Loss:0.8577072024345398\n"
     ]
    },
    {
     "name": "stderr",
     "output_type": "stream",
     "text": [
      "2023-07-28 20:41:28.648688: I tensorflow/core/grappler/optimizers/data/replicate_on_split.cc:32] Running replicate on split optimization\n",
      "2023-07-28 20:41:28.653033: I tensorflow/core/common_runtime/executor.cc:1197] [/device:CPU:0] (DEBUG INFO) Executor start aborting (this does not indicate an error and you can ignore this message): INVALID_ARGUMENT: You must feed a value for placeholder tensor 'Placeholder/_4' with dtype string and shape [10000]\n",
      "\t [[{{node Placeholder/_4}}]]\n",
      "2023-07-28 20:41:31.350185: I tensorflow/core/common_runtime/executor.cc:1197] [/device:CPU:0] (DEBUG INFO) Executor start aborting (this does not indicate an error and you can ignore this message): INVALID_ARGUMENT: You must feed a value for placeholder tensor 'Placeholder/_1' with dtype string and shape [1000]\n",
      "\t [[{{node Placeholder/_1}}]]\n",
      "2023-07-28 20:42:07.543927: I tensorflow/core/common_runtime/executor.cc:1197] [/device:CPU:0] (DEBUG INFO) Executor start aborting (this does not indicate an error and you can ignore this message): INVALID_ARGUMENT: You must feed a value for placeholder tensor 'Placeholder/_1' with dtype string and shape [1000]\n",
      "\t [[{{node Placeholder/_1}}]]\n",
      "2023-07-28 20:42:42.930054: I tensorflow/core/common_runtime/executor.cc:1197] [/device:CPU:0] (DEBUG INFO) Executor start aborting (this does not indicate an error and you can ignore this message): INVALID_ARGUMENT: You must feed a value for placeholder tensor 'Placeholder/_1' with dtype string and shape [1000]\n",
      "\t [[{{node Placeholder/_1}}]]\n",
      "2023-07-28 20:43:19.061473: I tensorflow/core/common_runtime/executor.cc:1197] [/device:CPU:0] (DEBUG INFO) Executor start aborting (this does not indicate an error and you can ignore this message): INVALID_ARGUMENT: You must feed a value for placeholder tensor 'Placeholder/_1' with dtype string and shape [1000]\n",
      "\t [[{{node Placeholder/_1}}]]\n",
      "2023-07-28 20:43:57.209671: I tensorflow/core/common_runtime/executor.cc:1197] [/device:CPU:0] (DEBUG INFO) Executor start aborting (this does not indicate an error and you can ignore this message): INVALID_ARGUMENT: You must feed a value for placeholder tensor 'Placeholder/_1' with dtype string and shape [1000]\n",
      "\t [[{{node Placeholder/_1}}]]\n",
      "2023-07-28 20:44:33.731555: I tensorflow/core/common_runtime/executor.cc:1197] [/device:CPU:0] (DEBUG INFO) Executor start aborting (this does not indicate an error and you can ignore this message): INVALID_ARGUMENT: You must feed a value for placeholder tensor 'Placeholder/_1' with dtype string and shape [1000]\n",
      "\t [[{{node Placeholder/_1}}]]\n",
      "2023-07-28 20:45:09.913110: I tensorflow/core/common_runtime/executor.cc:1197] [/device:CPU:0] (DEBUG INFO) Executor start aborting (this does not indicate an error and you can ignore this message): INVALID_ARGUMENT: You must feed a value for placeholder tensor 'Placeholder/_1' with dtype string and shape [1000]\n",
      "\t [[{{node Placeholder/_1}}]]\n",
      "2023-07-28 20:45:48.847806: I tensorflow/core/common_runtime/executor.cc:1197] [/device:CPU:0] (DEBUG INFO) Executor start aborting (this does not indicate an error and you can ignore this message): INVALID_ARGUMENT: You must feed a value for placeholder tensor 'Placeholder/_1' with dtype string and shape [1000]\n",
      "\t [[{{node Placeholder/_1}}]]\n"
     ]
    },
    {
     "name": "stdout",
     "output_type": "stream",
     "text": [
      "current loss 0.5548771\n",
      "Min vall loss 1000\n",
      "Epoch: 1, Train Loss:0.011678358539938927 , Val Loss:0.5548771023750305\n"
     ]
    },
    {
     "name": "stderr",
     "output_type": "stream",
     "text": [
      "2023-07-28 20:46:21.753251: I tensorflow/core/grappler/optimizers/data/replicate_on_split.cc:32] Running replicate on split optimization\n",
      "2023-07-28 20:46:21.756829: I tensorflow/core/common_runtime/executor.cc:1197] [/device:CPU:0] (DEBUG INFO) Executor start aborting (this does not indicate an error and you can ignore this message): INVALID_ARGUMENT: You must feed a value for placeholder tensor 'Placeholder/_5' with dtype string and shape [10000]\n",
      "\t [[{{node Placeholder/_5}}]]\n",
      "2023-07-28 20:46:24.093903: I tensorflow/core/common_runtime/executor.cc:1197] [/device:CPU:0] (DEBUG INFO) Executor start aborting (this does not indicate an error and you can ignore this message): INVALID_ARGUMENT: You must feed a value for placeholder tensor 'Placeholder/_1' with dtype string and shape [1000]\n",
      "\t [[{{node Placeholder/_1}}]]\n",
      "2023-07-28 20:47:01.189630: I tensorflow/core/common_runtime/executor.cc:1197] [/device:CPU:0] (DEBUG INFO) Executor start aborting (this does not indicate an error and you can ignore this message): INVALID_ARGUMENT: You must feed a value for placeholder tensor 'Placeholder/_1' with dtype string and shape [1000]\n",
      "\t [[{{node Placeholder/_1}}]]\n",
      "2023-07-28 20:47:36.980237: I tensorflow/core/common_runtime/executor.cc:1197] [/device:CPU:0] (DEBUG INFO) Executor start aborting (this does not indicate an error and you can ignore this message): INVALID_ARGUMENT: You must feed a value for placeholder tensor 'Placeholder/_1' with dtype string and shape [1000]\n",
      "\t [[{{node Placeholder/_1}}]]\n",
      "2023-07-28 20:48:12.602751: I tensorflow/core/common_runtime/executor.cc:1197] [/device:CPU:0] (DEBUG INFO) Executor start aborting (this does not indicate an error and you can ignore this message): INVALID_ARGUMENT: You must feed a value for placeholder tensor 'Placeholder/_1' with dtype string and shape [1000]\n",
      "\t [[{{node Placeholder/_1}}]]\n",
      "2023-07-28 20:48:51.175072: I tensorflow/core/common_runtime/executor.cc:1197] [/device:CPU:0] (DEBUG INFO) Executor start aborting (this does not indicate an error and you can ignore this message): INVALID_ARGUMENT: You must feed a value for placeholder tensor 'Placeholder/_1' with dtype string and shape [1000]\n",
      "\t [[{{node Placeholder/_1}}]]\n",
      "2023-07-28 20:49:28.227549: I tensorflow/core/common_runtime/executor.cc:1197] [/device:CPU:0] (DEBUG INFO) Executor start aborting (this does not indicate an error and you can ignore this message): INVALID_ARGUMENT: You must feed a value for placeholder tensor 'Placeholder/_1' with dtype string and shape [1000]\n",
      "\t [[{{node Placeholder/_1}}]]\n",
      "2023-07-28 20:50:04.704702: I tensorflow/core/common_runtime/executor.cc:1197] [/device:CPU:0] (DEBUG INFO) Executor start aborting (this does not indicate an error and you can ignore this message): INVALID_ARGUMENT: You must feed a value for placeholder tensor 'Placeholder/_1' with dtype string and shape [1000]\n",
      "\t [[{{node Placeholder/_1}}]]\n",
      "2023-07-28 20:50:40.984514: I tensorflow/core/common_runtime/executor.cc:1197] [/device:CPU:0] (DEBUG INFO) Executor start aborting (this does not indicate an error and you can ignore this message): INVALID_ARGUMENT: You must feed a value for placeholder tensor 'Placeholder/_1' with dtype string and shape [1000]\n",
      "\t [[{{node Placeholder/_1}}]]\n"
     ]
    },
    {
     "name": "stdout",
     "output_type": "stream",
     "text": [
      "current loss 0.018635787\n",
      "Min vall loss 1000\n",
      "Epoch: 2, Train Loss:0.005951732397079468 , Val Loss:0.018635787069797516\n"
     ]
    },
    {
     "name": "stderr",
     "output_type": "stream",
     "text": [
      "2023-07-28 20:51:12.978307: I tensorflow/core/grappler/optimizers/data/replicate_on_split.cc:32] Running replicate on split optimization\n",
      "2023-07-28 20:51:12.983112: I tensorflow/core/common_runtime/executor.cc:1197] [/device:CPU:0] (DEBUG INFO) Executor start aborting (this does not indicate an error and you can ignore this message): INVALID_ARGUMENT: You must feed a value for placeholder tensor 'Placeholder/_4' with dtype string and shape [10000]\n",
      "\t [[{{node Placeholder/_4}}]]\n",
      "2023-07-28 20:51:15.684986: I tensorflow/core/common_runtime/executor.cc:1197] [/device:CPU:0] (DEBUG INFO) Executor start aborting (this does not indicate an error and you can ignore this message): INVALID_ARGUMENT: You must feed a value for placeholder tensor 'Placeholder/_1' with dtype string and shape [1000]\n",
      "\t [[{{node Placeholder/_1}}]]\n",
      "2023-07-28 20:51:53.131551: I tensorflow/core/common_runtime/executor.cc:1197] [/device:CPU:0] (DEBUG INFO) Executor start aborting (this does not indicate an error and you can ignore this message): INVALID_ARGUMENT: You must feed a value for placeholder tensor 'Placeholder/_1' with dtype string and shape [1000]\n",
      "\t [[{{node Placeholder/_1}}]]\n",
      "2023-07-28 20:52:30.280671: I tensorflow/core/common_runtime/executor.cc:1197] [/device:CPU:0] (DEBUG INFO) Executor start aborting (this does not indicate an error and you can ignore this message): INVALID_ARGUMENT: You must feed a value for placeholder tensor 'Placeholder/_1' with dtype string and shape [1000]\n",
      "\t [[{{node Placeholder/_1}}]]\n",
      "2023-07-28 20:53:07.216704: I tensorflow/core/common_runtime/executor.cc:1197] [/device:CPU:0] (DEBUG INFO) Executor start aborting (this does not indicate an error and you can ignore this message): INVALID_ARGUMENT: You must feed a value for placeholder tensor 'Placeholder/_1' with dtype string and shape [1000]\n",
      "\t [[{{node Placeholder/_1}}]]\n",
      "2023-07-28 20:53:45.461855: I tensorflow/core/common_runtime/executor.cc:1197] [/device:CPU:0] (DEBUG INFO) Executor start aborting (this does not indicate an error and you can ignore this message): INVALID_ARGUMENT: You must feed a value for placeholder tensor 'Placeholder/_1' with dtype string and shape [1000]\n",
      "\t [[{{node Placeholder/_1}}]]\n",
      "2023-07-28 20:54:22.168758: I tensorflow/core/common_runtime/executor.cc:1197] [/device:CPU:0] (DEBUG INFO) Executor start aborting (this does not indicate an error and you can ignore this message): INVALID_ARGUMENT: You must feed a value for placeholder tensor 'Placeholder/_1' with dtype string and shape [1000]\n",
      "\t [[{{node Placeholder/_1}}]]\n",
      "2023-07-28 20:54:58.103905: I tensorflow/core/common_runtime/executor.cc:1197] [/device:CPU:0] (DEBUG INFO) Executor start aborting (this does not indicate an error and you can ignore this message): INVALID_ARGUMENT: You must feed a value for placeholder tensor 'Placeholder/_1' with dtype string and shape [1000]\n",
      "\t [[{{node Placeholder/_1}}]]\n",
      "2023-07-28 20:55:35.490140: I tensorflow/core/common_runtime/executor.cc:1197] [/device:CPU:0] (DEBUG INFO) Executor start aborting (this does not indicate an error and you can ignore this message): INVALID_ARGUMENT: You must feed a value for placeholder tensor 'Placeholder/_1' with dtype string and shape [1000]\n",
      "\t [[{{node Placeholder/_1}}]]\n"
     ]
    },
    {
     "name": "stdout",
     "output_type": "stream",
     "text": [
      "current loss 0.009035932\n",
      "Min vall loss 1000\n",
      "Saving best weight with val loss:0.009035931900143623 to results/model_weights/best_mse_model\n",
      "Epoch: 3, Train Loss:0.00533153023570776 , Val Loss:0.009035931900143623\n"
     ]
    },
    {
     "name": "stderr",
     "output_type": "stream",
     "text": [
      "2023-07-28 20:56:09.417312: I tensorflow/core/grappler/optimizers/data/replicate_on_split.cc:32] Running replicate on split optimization\n",
      "2023-07-28 20:56:09.421216: I tensorflow/core/common_runtime/executor.cc:1197] [/device:CPU:0] (DEBUG INFO) Executor start aborting (this does not indicate an error and you can ignore this message): INVALID_ARGUMENT: You must feed a value for placeholder tensor 'Placeholder/_4' with dtype string and shape [10000]\n",
      "\t [[{{node Placeholder/_4}}]]\n",
      "2023-07-28 20:56:12.165396: I tensorflow/core/common_runtime/executor.cc:1197] [/device:CPU:0] (DEBUG INFO) Executor start aborting (this does not indicate an error and you can ignore this message): INVALID_ARGUMENT: You must feed a value for placeholder tensor 'Placeholder/_1' with dtype string and shape [1000]\n",
      "\t [[{{node Placeholder/_1}}]]\n",
      "2023-07-28 20:56:48.782209: I tensorflow/core/common_runtime/executor.cc:1197] [/device:CPU:0] (DEBUG INFO) Executor start aborting (this does not indicate an error and you can ignore this message): INVALID_ARGUMENT: You must feed a value for placeholder tensor 'Placeholder/_1' with dtype string and shape [1000]\n",
      "\t [[{{node Placeholder/_1}}]]\n",
      "2023-07-28 20:57:25.940685: I tensorflow/core/common_runtime/executor.cc:1197] [/device:CPU:0] (DEBUG INFO) Executor start aborting (this does not indicate an error and you can ignore this message): INVALID_ARGUMENT: You must feed a value for placeholder tensor 'Placeholder/_1' with dtype string and shape [1000]\n",
      "\t [[{{node Placeholder/_1}}]]\n",
      "2023-07-28 20:58:02.770361: I tensorflow/core/common_runtime/executor.cc:1197] [/device:CPU:0] (DEBUG INFO) Executor start aborting (this does not indicate an error and you can ignore this message): INVALID_ARGUMENT: You must feed a value for placeholder tensor 'Placeholder/_1' with dtype string and shape [1000]\n",
      "\t [[{{node Placeholder/_1}}]]\n",
      "2023-07-28 20:58:41.387446: I tensorflow/core/common_runtime/executor.cc:1197] [/device:CPU:0] (DEBUG INFO) Executor start aborting (this does not indicate an error and you can ignore this message): INVALID_ARGUMENT: You must feed a value for placeholder tensor 'Placeholder/_1' with dtype string and shape [1000]\n",
      "\t [[{{node Placeholder/_1}}]]\n",
      "2023-07-28 20:59:16.813383: I tensorflow/core/common_runtime/executor.cc:1197] [/device:CPU:0] (DEBUG INFO) Executor start aborting (this does not indicate an error and you can ignore this message): INVALID_ARGUMENT: You must feed a value for placeholder tensor 'Placeholder/_1' with dtype string and shape [1000]\n",
      "\t [[{{node Placeholder/_1}}]]\n",
      "2023-07-28 20:59:53.078788: I tensorflow/core/common_runtime/executor.cc:1197] [/device:CPU:0] (DEBUG INFO) Executor start aborting (this does not indicate an error and you can ignore this message): INVALID_ARGUMENT: You must feed a value for placeholder tensor 'Placeholder/_1' with dtype string and shape [1000]\n",
      "\t [[{{node Placeholder/_1}}]]\n",
      "2023-07-28 21:00:31.180122: I tensorflow/core/common_runtime/executor.cc:1197] [/device:CPU:0] (DEBUG INFO) Executor start aborting (this does not indicate an error and you can ignore this message): INVALID_ARGUMENT: You must feed a value for placeholder tensor 'Placeholder/_1' with dtype string and shape [1000]\n",
      "\t [[{{node Placeholder/_1}}]]\n"
     ]
    },
    {
     "name": "stdout",
     "output_type": "stream",
     "text": [
      "current loss 0.007799718\n",
      "Min vall loss 0.009035932\n",
      "Saving best weight with val loss:0.00779971806332469 to results/model_weights/best_mse_model\n",
      "Epoch: 4, Train Loss:0.0038249827921390533 , Val Loss:0.00779971806332469\n"
     ]
    },
    {
     "name": "stderr",
     "output_type": "stream",
     "text": [
      "2023-07-28 21:01:03.570751: I tensorflow/core/grappler/optimizers/data/replicate_on_split.cc:32] Running replicate on split optimization\n",
      "2023-07-28 21:01:03.575632: I tensorflow/core/common_runtime/executor.cc:1197] [/device:CPU:0] (DEBUG INFO) Executor start aborting (this does not indicate an error and you can ignore this message): INVALID_ARGUMENT: You must feed a value for placeholder tensor 'Placeholder/_5' with dtype string and shape [10000]\n",
      "\t [[{{node Placeholder/_5}}]]\n",
      "2023-07-28 21:01:06.106348: I tensorflow/core/common_runtime/executor.cc:1197] [/device:CPU:0] (DEBUG INFO) Executor start aborting (this does not indicate an error and you can ignore this message): INVALID_ARGUMENT: You must feed a value for placeholder tensor 'Placeholder/_1' with dtype string and shape [1000]\n",
      "\t [[{{node Placeholder/_1}}]]\n",
      "2023-07-28 21:01:42.173184: I tensorflow/core/common_runtime/executor.cc:1197] [/device:CPU:0] (DEBUG INFO) Executor start aborting (this does not indicate an error and you can ignore this message): INVALID_ARGUMENT: You must feed a value for placeholder tensor 'Placeholder/_1' with dtype string and shape [1000]\n",
      "\t [[{{node Placeholder/_1}}]]\n",
      "2023-07-28 21:02:19.041479: I tensorflow/core/common_runtime/executor.cc:1197] [/device:CPU:0] (DEBUG INFO) Executor start aborting (this does not indicate an error and you can ignore this message): INVALID_ARGUMENT: You must feed a value for placeholder tensor 'Placeholder/_1' with dtype string and shape [1000]\n",
      "\t [[{{node Placeholder/_1}}]]\n",
      "2023-07-28 21:02:53.885618: I tensorflow/core/common_runtime/executor.cc:1197] [/device:CPU:0] (DEBUG INFO) Executor start aborting (this does not indicate an error and you can ignore this message): INVALID_ARGUMENT: You must feed a value for placeholder tensor 'Placeholder/_1' with dtype string and shape [1000]\n",
      "\t [[{{node Placeholder/_1}}]]\n",
      "2023-07-28 21:03:31.634275: I tensorflow/core/common_runtime/executor.cc:1197] [/device:CPU:0] (DEBUG INFO) Executor start aborting (this does not indicate an error and you can ignore this message): INVALID_ARGUMENT: You must feed a value for placeholder tensor 'Placeholder/_1' with dtype string and shape [1000]\n",
      "\t [[{{node Placeholder/_1}}]]\n",
      "2023-07-28 21:04:07.047363: I tensorflow/core/common_runtime/executor.cc:1197] [/device:CPU:0] (DEBUG INFO) Executor start aborting (this does not indicate an error and you can ignore this message): INVALID_ARGUMENT: You must feed a value for placeholder tensor 'Placeholder/_1' with dtype string and shape [1000]\n",
      "\t [[{{node Placeholder/_1}}]]\n",
      "2023-07-28 21:04:42.670626: I tensorflow/core/common_runtime/executor.cc:1197] [/device:CPU:0] (DEBUG INFO) Executor start aborting (this does not indicate an error and you can ignore this message): INVALID_ARGUMENT: You must feed a value for placeholder tensor 'Placeholder/_1' with dtype string and shape [1000]\n",
      "\t [[{{node Placeholder/_1}}]]\n",
      "2023-07-28 21:05:21.800102: I tensorflow/core/common_runtime/executor.cc:1197] [/device:CPU:0] (DEBUG INFO) Executor start aborting (this does not indicate an error and you can ignore this message): INVALID_ARGUMENT: You must feed a value for placeholder tensor 'Placeholder/_1' with dtype string and shape [1000]\n",
      "\t [[{{node Placeholder/_1}}]]\n"
     ]
    },
    {
     "name": "stdout",
     "output_type": "stream",
     "text": [
      "current loss 0.112027876\n",
      "Min vall loss 0.007799718\n",
      "Epoch: 5, Train Loss:0.008884218521416187 , Val Loss:0.11202787607908249\n"
     ]
    },
    {
     "name": "stderr",
     "output_type": "stream",
     "text": [
      "2023-07-28 21:05:53.607122: I tensorflow/core/grappler/optimizers/data/replicate_on_split.cc:32] Running replicate on split optimization\n",
      "2023-07-28 21:05:53.612137: I tensorflow/core/common_runtime/executor.cc:1197] [/device:CPU:0] (DEBUG INFO) Executor start aborting (this does not indicate an error and you can ignore this message): INVALID_ARGUMENT: You must feed a value for placeholder tensor 'Placeholder/_4' with dtype string and shape [10000]\n",
      "\t [[{{node Placeholder/_4}}]]\n",
      "2023-07-28 21:05:56.233834: I tensorflow/core/common_runtime/executor.cc:1197] [/device:CPU:0] (DEBUG INFO) Executor start aborting (this does not indicate an error and you can ignore this message): INVALID_ARGUMENT: You must feed a value for placeholder tensor 'Placeholder/_1' with dtype string and shape [1000]\n",
      "\t [[{{node Placeholder/_1}}]]\n",
      "2023-07-28 21:06:33.211686: I tensorflow/core/common_runtime/executor.cc:1197] [/device:CPU:0] (DEBUG INFO) Executor start aborting (this does not indicate an error and you can ignore this message): INVALID_ARGUMENT: You must feed a value for placeholder tensor 'Placeholder/_1' with dtype string and shape [1000]\n",
      "\t [[{{node Placeholder/_1}}]]\n",
      "2023-07-28 21:07:10.437803: I tensorflow/core/common_runtime/executor.cc:1197] [/device:CPU:0] (DEBUG INFO) Executor start aborting (this does not indicate an error and you can ignore this message): INVALID_ARGUMENT: You must feed a value for placeholder tensor 'Placeholder/_1' with dtype string and shape [1000]\n",
      "\t [[{{node Placeholder/_1}}]]\n",
      "2023-07-28 21:07:47.313611: I tensorflow/core/common_runtime/executor.cc:1197] [/device:CPU:0] (DEBUG INFO) Executor start aborting (this does not indicate an error and you can ignore this message): INVALID_ARGUMENT: You must feed a value for placeholder tensor 'Placeholder/_1' with dtype string and shape [1000]\n",
      "\t [[{{node Placeholder/_1}}]]\n",
      "2023-07-28 21:08:26.573404: I tensorflow/core/common_runtime/executor.cc:1197] [/device:CPU:0] (DEBUG INFO) Executor start aborting (this does not indicate an error and you can ignore this message): INVALID_ARGUMENT: You must feed a value for placeholder tensor 'Placeholder/_1' with dtype string and shape [1000]\n",
      "\t [[{{node Placeholder/_1}}]]\n",
      "2023-07-28 21:09:03.204521: I tensorflow/core/common_runtime/executor.cc:1197] [/device:CPU:0] (DEBUG INFO) Executor start aborting (this does not indicate an error and you can ignore this message): INVALID_ARGUMENT: You must feed a value for placeholder tensor 'Placeholder/_1' with dtype string and shape [1000]\n",
      "\t [[{{node Placeholder/_1}}]]\n",
      "2023-07-28 21:09:38.541315: I tensorflow/core/common_runtime/executor.cc:1197] [/device:CPU:0] (DEBUG INFO) Executor start aborting (this does not indicate an error and you can ignore this message): INVALID_ARGUMENT: You must feed a value for placeholder tensor 'Placeholder/_1' with dtype string and shape [1000]\n",
      "\t [[{{node Placeholder/_1}}]]\n",
      "2023-07-28 21:10:16.843153: I tensorflow/core/common_runtime/executor.cc:1197] [/device:CPU:0] (DEBUG INFO) Executor start aborting (this does not indicate an error and you can ignore this message): INVALID_ARGUMENT: You must feed a value for placeholder tensor 'Placeholder/_1' with dtype string and shape [1000]\n",
      "\t [[{{node Placeholder/_1}}]]\n"
     ]
    },
    {
     "name": "stdout",
     "output_type": "stream",
     "text": [
      "current loss 0.06528904\n",
      "Min vall loss 0.007799718\n",
      "Epoch: 6, Train Loss:0.003934287466108799 , Val Loss:0.06528904289007187\n"
     ]
    },
    {
     "name": "stderr",
     "output_type": "stream",
     "text": [
      "2023-07-28 21:10:50.454476: I tensorflow/core/grappler/optimizers/data/replicate_on_split.cc:32] Running replicate on split optimization\n",
      "2023-07-28 21:10:50.458702: I tensorflow/core/common_runtime/executor.cc:1197] [/device:CPU:0] (DEBUG INFO) Executor start aborting (this does not indicate an error and you can ignore this message): INVALID_ARGUMENT: You must feed a value for placeholder tensor 'Placeholder/_4' with dtype string and shape [10000]\n",
      "\t [[{{node Placeholder/_4}}]]\n",
      "2023-07-28 21:10:53.060897: I tensorflow/core/common_runtime/executor.cc:1197] [/device:CPU:0] (DEBUG INFO) Executor start aborting (this does not indicate an error and you can ignore this message): INVALID_ARGUMENT: You must feed a value for placeholder tensor 'Placeholder/_1' with dtype string and shape [1000]\n",
      "\t [[{{node Placeholder/_1}}]]\n",
      "2023-07-28 21:11:29.536996: I tensorflow/core/common_runtime/executor.cc:1197] [/device:CPU:0] (DEBUG INFO) Executor start aborting (this does not indicate an error and you can ignore this message): INVALID_ARGUMENT: You must feed a value for placeholder tensor 'Placeholder/_1' with dtype string and shape [1000]\n",
      "\t [[{{node Placeholder/_1}}]]\n",
      "2023-07-28 21:12:05.853207: I tensorflow/core/common_runtime/executor.cc:1197] [/device:CPU:0] (DEBUG INFO) Executor start aborting (this does not indicate an error and you can ignore this message): INVALID_ARGUMENT: You must feed a value for placeholder tensor 'Placeholder/_1' with dtype string and shape [1000]\n",
      "\t [[{{node Placeholder/_1}}]]\n",
      "2023-07-28 21:12:42.606835: I tensorflow/core/common_runtime/executor.cc:1197] [/device:CPU:0] (DEBUG INFO) Executor start aborting (this does not indicate an error and you can ignore this message): INVALID_ARGUMENT: You must feed a value for placeholder tensor 'Placeholder/_1' with dtype string and shape [1000]\n",
      "\t [[{{node Placeholder/_1}}]]\n",
      "2023-07-28 21:13:21.810768: I tensorflow/core/common_runtime/executor.cc:1197] [/device:CPU:0] (DEBUG INFO) Executor start aborting (this does not indicate an error and you can ignore this message): INVALID_ARGUMENT: You must feed a value for placeholder tensor 'Placeholder/_1' with dtype string and shape [1000]\n",
      "\t [[{{node Placeholder/_1}}]]\n",
      "2023-07-28 21:13:58.280456: I tensorflow/core/common_runtime/executor.cc:1197] [/device:CPU:0] (DEBUG INFO) Executor start aborting (this does not indicate an error and you can ignore this message): INVALID_ARGUMENT: You must feed a value for placeholder tensor 'Placeholder/_1' with dtype string and shape [1000]\n",
      "\t [[{{node Placeholder/_1}}]]\n",
      "2023-07-28 21:14:35.052912: I tensorflow/core/common_runtime/executor.cc:1197] [/device:CPU:0] (DEBUG INFO) Executor start aborting (this does not indicate an error and you can ignore this message): INVALID_ARGUMENT: You must feed a value for placeholder tensor 'Placeholder/_1' with dtype string and shape [1000]\n",
      "\t [[{{node Placeholder/_1}}]]\n",
      "2023-07-28 21:15:14.238744: I tensorflow/core/common_runtime/executor.cc:1197] [/device:CPU:0] (DEBUG INFO) Executor start aborting (this does not indicate an error and you can ignore this message): INVALID_ARGUMENT: You must feed a value for placeholder tensor 'Placeholder/_1' with dtype string and shape [1000]\n",
      "\t [[{{node Placeholder/_1}}]]\n"
     ]
    },
    {
     "name": "stdout",
     "output_type": "stream",
     "text": [
      "current loss 0.010117912\n",
      "Min vall loss 0.007799718\n",
      "Epoch: 7, Train Loss:0.0027480872813612223 , Val Loss:0.010117911733686924\n"
     ]
    },
    {
     "name": "stderr",
     "output_type": "stream",
     "text": [
      "2023-07-28 21:15:46.817144: I tensorflow/core/grappler/optimizers/data/replicate_on_split.cc:32] Running replicate on split optimization\n",
      "2023-07-28 21:15:46.821115: I tensorflow/core/common_runtime/executor.cc:1197] [/device:CPU:0] (DEBUG INFO) Executor start aborting (this does not indicate an error and you can ignore this message): INVALID_ARGUMENT: You must feed a value for placeholder tensor 'Placeholder/_4' with dtype string and shape [10000]\n",
      "\t [[{{node Placeholder/_4}}]]\n",
      "2023-07-28 21:15:49.565815: I tensorflow/core/common_runtime/executor.cc:1197] [/device:CPU:0] (DEBUG INFO) Executor start aborting (this does not indicate an error and you can ignore this message): INVALID_ARGUMENT: You must feed a value for placeholder tensor 'Placeholder/_1' with dtype string and shape [1000]\n",
      "\t [[{{node Placeholder/_1}}]]\n",
      "2023-07-28 21:16:27.046070: I tensorflow/core/common_runtime/executor.cc:1197] [/device:CPU:0] (DEBUG INFO) Executor start aborting (this does not indicate an error and you can ignore this message): INVALID_ARGUMENT: You must feed a value for placeholder tensor 'Placeholder/_1' with dtype string and shape [1000]\n",
      "\t [[{{node Placeholder/_1}}]]\n",
      "2023-07-28 21:17:04.217156: I tensorflow/core/common_runtime/executor.cc:1197] [/device:CPU:0] (DEBUG INFO) Executor start aborting (this does not indicate an error and you can ignore this message): INVALID_ARGUMENT: You must feed a value for placeholder tensor 'Placeholder/_1' with dtype string and shape [1000]\n",
      "\t [[{{node Placeholder/_1}}]]\n",
      "2023-07-28 21:17:41.241449: I tensorflow/core/common_runtime/executor.cc:1197] [/device:CPU:0] (DEBUG INFO) Executor start aborting (this does not indicate an error and you can ignore this message): INVALID_ARGUMENT: You must feed a value for placeholder tensor 'Placeholder/_1' with dtype string and shape [1000]\n",
      "\t [[{{node Placeholder/_1}}]]\n",
      "2023-07-28 21:18:20.149028: I tensorflow/core/common_runtime/executor.cc:1197] [/device:CPU:0] (DEBUG INFO) Executor start aborting (this does not indicate an error and you can ignore this message): INVALID_ARGUMENT: You must feed a value for placeholder tensor 'Placeholder/_1' with dtype string and shape [1000]\n",
      "\t [[{{node Placeholder/_1}}]]\n",
      "2023-07-28 21:18:56.739474: I tensorflow/core/common_runtime/executor.cc:1197] [/device:CPU:0] (DEBUG INFO) Executor start aborting (this does not indicate an error and you can ignore this message): INVALID_ARGUMENT: You must feed a value for placeholder tensor 'Placeholder/_1' with dtype string and shape [1000]\n",
      "\t [[{{node Placeholder/_1}}]]\n",
      "2023-07-28 21:19:31.026641: I tensorflow/core/kernels/data/shuffle_dataset_op.cc:392] Filling up shuffle buffer (this may take a while): 132 of 10000\n",
      "2023-07-28 21:19:40.985782: I tensorflow/core/kernels/data/shuffle_dataset_op.cc:392] Filling up shuffle buffer (this may take a while): 309 of 10000\n",
      "2023-07-28 21:19:50.976749: I tensorflow/core/kernels/data/shuffle_dataset_op.cc:392] Filling up shuffle buffer (this may take a while): 559 of 10000\n",
      "2023-07-28 21:20:00.998701: I tensorflow/core/kernels/data/shuffle_dataset_op.cc:392] Filling up shuffle buffer (this may take a while): 841 of 10000\n",
      "2023-07-28 21:20:10.979696: I tensorflow/core/kernels/data/shuffle_dataset_op.cc:392] Filling up shuffle buffer (this may take a while): 1106 of 10000\n",
      "2023-07-28 21:20:20.966623: I tensorflow/core/kernels/data/shuffle_dataset_op.cc:392] Filling up shuffle buffer (this may take a while): 1469 of 10000\n",
      "2023-07-28 21:20:30.967595: I tensorflow/core/kernels/data/shuffle_dataset_op.cc:392] Filling up shuffle buffer (this may take a while): 1836 of 10000\n",
      "2023-07-28 21:20:40.977665: I tensorflow/core/kernels/data/shuffle_dataset_op.cc:392] Filling up shuffle buffer (this may take a while): 2211 of 10000\n",
      "2023-07-28 21:20:50.979762: I tensorflow/core/kernels/data/shuffle_dataset_op.cc:392] Filling up shuffle buffer (this may take a while): 2598 of 10000\n",
      "2023-07-28 21:21:00.982625: I tensorflow/core/kernels/data/shuffle_dataset_op.cc:392] Filling up shuffle buffer (this may take a while): 2981 of 10000\n",
      "2023-07-28 21:21:10.975693: I tensorflow/core/kernels/data/shuffle_dataset_op.cc:392] Filling up shuffle buffer (this may take a while): 3333 of 10000\n",
      "2023-07-28 21:21:20.979781: I tensorflow/core/kernels/data/shuffle_dataset_op.cc:392] Filling up shuffle buffer (this may take a while): 3647 of 10000\n",
      "2023-07-28 21:21:23.447059: I tensorflow/core/kernels/data/shuffle_dataset_op.cc:417] Shuffle buffer filled.\n",
      "2023-07-28 21:21:32.794449: I tensorflow/core/common_runtime/executor.cc:1197] [/device:CPU:0] (DEBUG INFO) Executor start aborting (this does not indicate an error and you can ignore this message): INVALID_ARGUMENT: You must feed a value for placeholder tensor 'Placeholder/_1' with dtype string and shape [1000]\n",
      "\t [[{{node Placeholder/_1}}]]\n",
      "2023-07-28 21:22:09.790509: I tensorflow/core/common_runtime/executor.cc:1197] [/device:CPU:0] (DEBUG INFO) Executor start aborting (this does not indicate an error and you can ignore this message): INVALID_ARGUMENT: You must feed a value for placeholder tensor 'Placeholder/_1' with dtype string and shape [1000]\n",
      "\t [[{{node Placeholder/_1}}]]\n"
     ]
    },
    {
     "name": "stdout",
     "output_type": "stream",
     "text": [
      "current loss 0.0323298\n",
      "Min vall loss 0.007799718\n",
      "Epoch: 8, Train Loss:0.002873486839234829 , Val Loss:0.032329801470041275\n"
     ]
    },
    {
     "name": "stderr",
     "output_type": "stream",
     "text": [
      "2023-07-28 21:22:42.931834: I tensorflow/core/grappler/optimizers/data/replicate_on_split.cc:32] Running replicate on split optimization\n",
      "2023-07-28 21:22:42.935860: I tensorflow/core/common_runtime/executor.cc:1197] [/device:CPU:0] (DEBUG INFO) Executor start aborting (this does not indicate an error and you can ignore this message): INVALID_ARGUMENT: You must feed a value for placeholder tensor 'Placeholder/_5' with dtype string and shape [10000]\n",
      "\t [[{{node Placeholder/_5}}]]\n",
      "2023-07-28 21:22:45.591959: I tensorflow/core/common_runtime/executor.cc:1197] [/device:CPU:0] (DEBUG INFO) Executor start aborting (this does not indicate an error and you can ignore this message): INVALID_ARGUMENT: You must feed a value for placeholder tensor 'Placeholder/_1' with dtype string and shape [1000]\n",
      "\t [[{{node Placeholder/_1}}]]\n",
      "2023-07-28 21:23:21.273601: I tensorflow/core/common_runtime/executor.cc:1197] [/device:CPU:0] (DEBUG INFO) Executor start aborting (this does not indicate an error and you can ignore this message): INVALID_ARGUMENT: You must feed a value for placeholder tensor 'Placeholder/_1' with dtype string and shape [1000]\n",
      "\t [[{{node Placeholder/_1}}]]\n",
      "2023-07-28 21:23:58.672409: I tensorflow/core/common_runtime/executor.cc:1197] [/device:CPU:0] (DEBUG INFO) Executor start aborting (this does not indicate an error and you can ignore this message): INVALID_ARGUMENT: You must feed a value for placeholder tensor 'Placeholder/_1' with dtype string and shape [1000]\n",
      "\t [[{{node Placeholder/_1}}]]\n",
      "2023-07-28 21:24:35.462956: I tensorflow/core/common_runtime/executor.cc:1197] [/device:CPU:0] (DEBUG INFO) Executor start aborting (this does not indicate an error and you can ignore this message): INVALID_ARGUMENT: You must feed a value for placeholder tensor 'Placeholder/_1' with dtype string and shape [1000]\n",
      "\t [[{{node Placeholder/_1}}]]\n",
      "2023-07-28 21:25:13.560170: I tensorflow/core/common_runtime/executor.cc:1197] [/device:CPU:0] (DEBUG INFO) Executor start aborting (this does not indicate an error and you can ignore this message): INVALID_ARGUMENT: You must feed a value for placeholder tensor 'Placeholder/_1' with dtype string and shape [1000]\n",
      "\t [[{{node Placeholder/_1}}]]\n",
      "2023-07-28 21:25:50.422087: I tensorflow/core/common_runtime/executor.cc:1197] [/device:CPU:0] (DEBUG INFO) Executor start aborting (this does not indicate an error and you can ignore this message): INVALID_ARGUMENT: You must feed a value for placeholder tensor 'Placeholder/_1' with dtype string and shape [1000]\n",
      "\t [[{{node Placeholder/_1}}]]\n",
      "2023-07-28 21:26:26.768614: I tensorflow/core/common_runtime/executor.cc:1197] [/device:CPU:0] (DEBUG INFO) Executor start aborting (this does not indicate an error and you can ignore this message): INVALID_ARGUMENT: You must feed a value for placeholder tensor 'Placeholder/_1' with dtype string and shape [1000]\n",
      "\t [[{{node Placeholder/_1}}]]\n",
      "2023-07-28 21:27:06.279181: I tensorflow/core/common_runtime/executor.cc:1197] [/device:CPU:0] (DEBUG INFO) Executor start aborting (this does not indicate an error and you can ignore this message): INVALID_ARGUMENT: You must feed a value for placeholder tensor 'Placeholder/_1' with dtype string and shape [1000]\n",
      "\t [[{{node Placeholder/_1}}]]\n"
     ]
    },
    {
     "name": "stdout",
     "output_type": "stream",
     "text": [
      "current loss 0.111849256\n",
      "Min vall loss 0.007799718\n",
      "Epoch: 9, Train Loss:0.0054935552179813385 , Val Loss:0.11184925585985184\n"
     ]
    },
    {
     "name": "stderr",
     "output_type": "stream",
     "text": [
      "2023-07-28 21:27:39.037890: I tensorflow/core/grappler/optimizers/data/replicate_on_split.cc:32] Running replicate on split optimization\n",
      "2023-07-28 21:27:39.043969: I tensorflow/core/common_runtime/executor.cc:1197] [/device:CPU:0] (DEBUG INFO) Executor start aborting (this does not indicate an error and you can ignore this message): INVALID_ARGUMENT: You must feed a value for placeholder tensor 'Placeholder/_4' with dtype string and shape [10000]\n",
      "\t [[{{node Placeholder/_4}}]]\n",
      "2023-07-28 21:27:41.760783: I tensorflow/core/common_runtime/executor.cc:1197] [/device:CPU:0] (DEBUG INFO) Executor start aborting (this does not indicate an error and you can ignore this message): INVALID_ARGUMENT: You must feed a value for placeholder tensor 'Placeholder/_1' with dtype string and shape [1000]\n",
      "\t [[{{node Placeholder/_1}}]]\n",
      "2023-07-28 21:28:18.695047: I tensorflow/core/common_runtime/executor.cc:1197] [/device:CPU:0] (DEBUG INFO) Executor start aborting (this does not indicate an error and you can ignore this message): INVALID_ARGUMENT: You must feed a value for placeholder tensor 'Placeholder/_1' with dtype string and shape [1000]\n",
      "\t [[{{node Placeholder/_1}}]]\n",
      "2023-07-28 21:28:56.308216: I tensorflow/core/common_runtime/executor.cc:1197] [/device:CPU:0] (DEBUG INFO) Executor start aborting (this does not indicate an error and you can ignore this message): INVALID_ARGUMENT: You must feed a value for placeholder tensor 'Placeholder/_1' with dtype string and shape [1000]\n",
      "\t [[{{node Placeholder/_1}}]]\n",
      "2023-07-28 21:29:33.410213: I tensorflow/core/common_runtime/executor.cc:1197] [/device:CPU:0] (DEBUG INFO) Executor start aborting (this does not indicate an error and you can ignore this message): INVALID_ARGUMENT: You must feed a value for placeholder tensor 'Placeholder/_1' with dtype string and shape [1000]\n",
      "\t [[{{node Placeholder/_1}}]]\n",
      "2023-07-28 21:30:12.648602: I tensorflow/core/common_runtime/executor.cc:1197] [/device:CPU:0] (DEBUG INFO) Executor start aborting (this does not indicate an error and you can ignore this message): INVALID_ARGUMENT: You must feed a value for placeholder tensor 'Placeholder/_1' with dtype string and shape [1000]\n",
      "\t [[{{node Placeholder/_1}}]]\n",
      "2023-07-28 21:30:47.680822: I tensorflow/core/common_runtime/executor.cc:1197] [/device:CPU:0] (DEBUG INFO) Executor start aborting (this does not indicate an error and you can ignore this message): INVALID_ARGUMENT: You must feed a value for placeholder tensor 'Placeholder/_1' with dtype string and shape [1000]\n",
      "\t [[{{node Placeholder/_1}}]]\n",
      "2023-07-28 21:31:24.090232: I tensorflow/core/common_runtime/executor.cc:1197] [/device:CPU:0] (DEBUG INFO) Executor start aborting (this does not indicate an error and you can ignore this message): INVALID_ARGUMENT: You must feed a value for placeholder tensor 'Placeholder/_1' with dtype string and shape [1000]\n",
      "\t [[{{node Placeholder/_1}}]]\n",
      "2023-07-28 21:32:02.731243: I tensorflow/core/common_runtime/executor.cc:1197] [/device:CPU:0] (DEBUG INFO) Executor start aborting (this does not indicate an error and you can ignore this message): INVALID_ARGUMENT: You must feed a value for placeholder tensor 'Placeholder/_1' with dtype string and shape [1000]\n",
      "\t [[{{node Placeholder/_1}}]]\n"
     ]
    },
    {
     "name": "stdout",
     "output_type": "stream",
     "text": [
      "current loss 0.0063446015\n",
      "Min vall loss 0.007799718\n",
      "Saving best weight with val loss:0.006344601511955261 to results/model_weights/best_mse_model\n",
      "Time taken for 10 epochs: 3069.23 sec\n",
      "\n",
      "Reached epoch: 10\n",
      "Epoch: 10, Train Loss:0.0021493243984878063 , Val Loss:0.006344601511955261\n"
     ]
    },
    {
     "name": "stderr",
     "output_type": "stream",
     "text": [
      "2023-07-28 21:32:36.371938: I tensorflow/core/grappler/optimizers/data/replicate_on_split.cc:32] Running replicate on split optimization\n",
      "2023-07-28 21:32:36.375552: I tensorflow/core/common_runtime/executor.cc:1197] [/device:CPU:0] (DEBUG INFO) Executor start aborting (this does not indicate an error and you can ignore this message): INVALID_ARGUMENT: You must feed a value for placeholder tensor 'Placeholder/_4' with dtype string and shape [10000]\n",
      "\t [[{{node Placeholder/_4}}]]\n",
      "2023-07-28 21:32:39.032300: I tensorflow/core/common_runtime/executor.cc:1197] [/device:CPU:0] (DEBUG INFO) Executor start aborting (this does not indicate an error and you can ignore this message): INVALID_ARGUMENT: You must feed a value for placeholder tensor 'Placeholder/_1' with dtype string and shape [1000]\n",
      "\t [[{{node Placeholder/_1}}]]\n",
      "2023-07-28 21:33:16.019461: I tensorflow/core/common_runtime/executor.cc:1197] [/device:CPU:0] (DEBUG INFO) Executor start aborting (this does not indicate an error and you can ignore this message): INVALID_ARGUMENT: You must feed a value for placeholder tensor 'Placeholder/_1' with dtype string and shape [1000]\n",
      "\t [[{{node Placeholder/_1}}]]\n",
      "2023-07-28 21:33:53.374926: I tensorflow/core/common_runtime/executor.cc:1197] [/device:CPU:0] (DEBUG INFO) Executor start aborting (this does not indicate an error and you can ignore this message): INVALID_ARGUMENT: You must feed a value for placeholder tensor 'Placeholder/_1' with dtype string and shape [1000]\n",
      "\t [[{{node Placeholder/_1}}]]\n",
      "2023-07-28 21:34:30.625173: I tensorflow/core/common_runtime/executor.cc:1197] [/device:CPU:0] (DEBUG INFO) Executor start aborting (this does not indicate an error and you can ignore this message): INVALID_ARGUMENT: You must feed a value for placeholder tensor 'Placeholder/_1' with dtype string and shape [1000]\n",
      "\t [[{{node Placeholder/_1}}]]\n",
      "2023-07-28 21:35:03.803356: I tensorflow/core/common_runtime/executor.cc:1197] [/device:CPU:0] (DEBUG INFO) Executor start aborting (this does not indicate an error and you can ignore this message): INVALID_ARGUMENT: You must feed a value for placeholder tensor 'Placeholder/_1' with dtype string and shape [1000]\n",
      "\t [[{{node Placeholder/_1}}]]\n",
      "2023-07-28 21:35:40.363835: I tensorflow/core/common_runtime/executor.cc:1197] [/device:CPU:0] (DEBUG INFO) Executor start aborting (this does not indicate an error and you can ignore this message): INVALID_ARGUMENT: You must feed a value for placeholder tensor 'Placeholder/_1' with dtype string and shape [1000]\n",
      "\t [[{{node Placeholder/_1}}]]\n",
      "2023-07-28 21:36:16.352846: I tensorflow/core/common_runtime/executor.cc:1197] [/device:CPU:0] (DEBUG INFO) Executor start aborting (this does not indicate an error and you can ignore this message): INVALID_ARGUMENT: You must feed a value for placeholder tensor 'Placeholder/_1' with dtype string and shape [1000]\n",
      "\t [[{{node Placeholder/_1}}]]\n",
      "2023-07-28 21:36:54.709888: I tensorflow/core/common_runtime/executor.cc:1197] [/device:CPU:0] (DEBUG INFO) Executor start aborting (this does not indicate an error and you can ignore this message): INVALID_ARGUMENT: You must feed a value for placeholder tensor 'Placeholder/_1' with dtype string and shape [1000]\n",
      "\t [[{{node Placeholder/_1}}]]\n"
     ]
    },
    {
     "name": "stdout",
     "output_type": "stream",
     "text": [
      "current loss 0.0059077214\n",
      "Min vall loss 0.0063446015\n",
      "Saving best weight with val loss:0.005907721351832151 to results/model_weights/best_mse_model\n",
      "Epoch: 11, Train Loss:0.0017539100954309106 , Val Loss:0.005907721351832151\n"
     ]
    },
    {
     "name": "stderr",
     "output_type": "stream",
     "text": [
      "2023-07-28 21:37:27.886663: I tensorflow/core/grappler/optimizers/data/replicate_on_split.cc:32] Running replicate on split optimization\n",
      "2023-07-28 21:37:27.892135: I tensorflow/core/common_runtime/executor.cc:1197] [/device:CPU:0] (DEBUG INFO) Executor start aborting (this does not indicate an error and you can ignore this message): INVALID_ARGUMENT: You must feed a value for placeholder tensor 'Placeholder/_5' with dtype string and shape [10000]\n",
      "\t [[{{node Placeholder/_5}}]]\n",
      "2023-07-28 21:37:30.689645: I tensorflow/core/common_runtime/executor.cc:1197] [/device:CPU:0] (DEBUG INFO) Executor start aborting (this does not indicate an error and you can ignore this message): INVALID_ARGUMENT: You must feed a value for placeholder tensor 'Placeholder/_1' with dtype string and shape [1000]\n",
      "\t [[{{node Placeholder/_1}}]]\n",
      "2023-07-28 21:38:07.718581: I tensorflow/core/common_runtime/executor.cc:1197] [/device:CPU:0] (DEBUG INFO) Executor start aborting (this does not indicate an error and you can ignore this message): INVALID_ARGUMENT: You must feed a value for placeholder tensor 'Placeholder/_1' with dtype string and shape [1000]\n",
      "\t [[{{node Placeholder/_1}}]]\n",
      "2023-07-28 21:38:44.852280: I tensorflow/core/common_runtime/executor.cc:1197] [/device:CPU:0] (DEBUG INFO) Executor start aborting (this does not indicate an error and you can ignore this message): INVALID_ARGUMENT: You must feed a value for placeholder tensor 'Placeholder/_1' with dtype string and shape [1000]\n",
      "\t [[{{node Placeholder/_1}}]]\n",
      "2023-07-28 21:39:21.496971: I tensorflow/core/common_runtime/executor.cc:1197] [/device:CPU:0] (DEBUG INFO) Executor start aborting (this does not indicate an error and you can ignore this message): INVALID_ARGUMENT: You must feed a value for placeholder tensor 'Placeholder/_1' with dtype string and shape [1000]\n",
      "\t [[{{node Placeholder/_1}}]]\n",
      "2023-07-28 21:40:00.580909: I tensorflow/core/common_runtime/executor.cc:1197] [/device:CPU:0] (DEBUG INFO) Executor start aborting (this does not indicate an error and you can ignore this message): INVALID_ARGUMENT: You must feed a value for placeholder tensor 'Placeholder/_1' with dtype string and shape [1000]\n",
      "\t [[{{node Placeholder/_1}}]]\n",
      "2023-07-28 21:40:37.368390: I tensorflow/core/common_runtime/executor.cc:1197] [/device:CPU:0] (DEBUG INFO) Executor start aborting (this does not indicate an error and you can ignore this message): INVALID_ARGUMENT: You must feed a value for placeholder tensor 'Placeholder/_1' with dtype string and shape [1000]\n",
      "\t [[{{node Placeholder/_1}}]]\n",
      "2023-07-28 21:41:13.404440: I tensorflow/core/common_runtime/executor.cc:1197] [/device:CPU:0] (DEBUG INFO) Executor start aborting (this does not indicate an error and you can ignore this message): INVALID_ARGUMENT: You must feed a value for placeholder tensor 'Placeholder/_1' with dtype string and shape [1000]\n",
      "\t [[{{node Placeholder/_1}}]]\n",
      "2023-07-28 21:41:52.028733: I tensorflow/core/common_runtime/executor.cc:1197] [/device:CPU:0] (DEBUG INFO) Executor start aborting (this does not indicate an error and you can ignore this message): INVALID_ARGUMENT: You must feed a value for placeholder tensor 'Placeholder/_1' with dtype string and shape [1000]\n",
      "\t [[{{node Placeholder/_1}}]]\n"
     ]
    },
    {
     "name": "stdout",
     "output_type": "stream",
     "text": [
      "current loss 0.028404148\n",
      "Min vall loss 0.0059077214\n",
      "Epoch: 12, Train Loss:0.003757634898647666 , Val Loss:0.028404148295521736\n"
     ]
    },
    {
     "name": "stderr",
     "output_type": "stream",
     "text": [
      "2023-07-28 21:42:24.573027: I tensorflow/core/grappler/optimizers/data/replicate_on_split.cc:32] Running replicate on split optimization\n",
      "2023-07-28 21:42:24.577563: I tensorflow/core/common_runtime/executor.cc:1197] [/device:CPU:0] (DEBUG INFO) Executor start aborting (this does not indicate an error and you can ignore this message): INVALID_ARGUMENT: You must feed a value for placeholder tensor 'Placeholder/_5' with dtype string and shape [10000]\n",
      "\t [[{{node Placeholder/_5}}]]\n",
      "2023-07-28 21:42:27.130672: I tensorflow/core/common_runtime/executor.cc:1197] [/device:CPU:0] (DEBUG INFO) Executor start aborting (this does not indicate an error and you can ignore this message): INVALID_ARGUMENT: You must feed a value for placeholder tensor 'Placeholder/_1' with dtype string and shape [1000]\n",
      "\t [[{{node Placeholder/_1}}]]\n",
      "2023-07-28 21:43:04.111265: I tensorflow/core/common_runtime/executor.cc:1197] [/device:CPU:0] (DEBUG INFO) Executor start aborting (this does not indicate an error and you can ignore this message): INVALID_ARGUMENT: You must feed a value for placeholder tensor 'Placeholder/_1' with dtype string and shape [1000]\n",
      "\t [[{{node Placeholder/_1}}]]\n",
      "2023-07-28 21:43:41.175738: I tensorflow/core/common_runtime/executor.cc:1197] [/device:CPU:0] (DEBUG INFO) Executor start aborting (this does not indicate an error and you can ignore this message): INVALID_ARGUMENT: You must feed a value for placeholder tensor 'Placeholder/_1' with dtype string and shape [1000]\n",
      "\t [[{{node Placeholder/_1}}]]\n",
      "2023-07-28 21:44:18.078585: I tensorflow/core/common_runtime/executor.cc:1197] [/device:CPU:0] (DEBUG INFO) Executor start aborting (this does not indicate an error and you can ignore this message): INVALID_ARGUMENT: You must feed a value for placeholder tensor 'Placeholder/_1' with dtype string and shape [1000]\n",
      "\t [[{{node Placeholder/_1}}]]\n",
      "2023-07-28 21:44:57.785755: I tensorflow/core/common_runtime/executor.cc:1197] [/device:CPU:0] (DEBUG INFO) Executor start aborting (this does not indicate an error and you can ignore this message): INVALID_ARGUMENT: You must feed a value for placeholder tensor 'Placeholder/_1' with dtype string and shape [1000]\n",
      "\t [[{{node Placeholder/_1}}]]\n",
      "2023-07-28 21:45:34.057452: I tensorflow/core/common_runtime/executor.cc:1197] [/device:CPU:0] (DEBUG INFO) Executor start aborting (this does not indicate an error and you can ignore this message): INVALID_ARGUMENT: You must feed a value for placeholder tensor 'Placeholder/_1' with dtype string and shape [1000]\n",
      "\t [[{{node Placeholder/_1}}]]\n",
      "2023-07-28 21:46:12.037912: I tensorflow/core/common_runtime/executor.cc:1197] [/device:CPU:0] (DEBUG INFO) Executor start aborting (this does not indicate an error and you can ignore this message): INVALID_ARGUMENT: You must feed a value for placeholder tensor 'Placeholder/_1' with dtype string and shape [1000]\n",
      "\t [[{{node Placeholder/_1}}]]\n",
      "2023-07-28 21:46:51.469484: I tensorflow/core/common_runtime/executor.cc:1197] [/device:CPU:0] (DEBUG INFO) Executor start aborting (this does not indicate an error and you can ignore this message): INVALID_ARGUMENT: You must feed a value for placeholder tensor 'Placeholder/_1' with dtype string and shape [1000]\n",
      "\t [[{{node Placeholder/_1}}]]\n"
     ]
    },
    {
     "name": "stdout",
     "output_type": "stream",
     "text": [
      "current loss 0.018767405\n",
      "Min vall loss 0.0059077214\n",
      "Epoch: 13, Train Loss:0.0016121066873893142 , Val Loss:0.018767405301332474\n"
     ]
    },
    {
     "name": "stderr",
     "output_type": "stream",
     "text": [
      "2023-07-28 21:47:24.921087: I tensorflow/core/grappler/optimizers/data/replicate_on_split.cc:32] Running replicate on split optimization\n",
      "2023-07-28 21:47:24.925020: I tensorflow/core/common_runtime/executor.cc:1197] [/device:CPU:0] (DEBUG INFO) Executor start aborting (this does not indicate an error and you can ignore this message): INVALID_ARGUMENT: You must feed a value for placeholder tensor 'Placeholder/_5' with dtype string and shape [10000]\n",
      "\t [[{{node Placeholder/_5}}]]\n",
      "2023-07-28 21:47:27.564734: I tensorflow/core/common_runtime/executor.cc:1197] [/device:CPU:0] (DEBUG INFO) Executor start aborting (this does not indicate an error and you can ignore this message): INVALID_ARGUMENT: You must feed a value for placeholder tensor 'Placeholder/_1' with dtype string and shape [1000]\n",
      "\t [[{{node Placeholder/_1}}]]\n",
      "2023-07-28 21:48:05.077662: I tensorflow/core/common_runtime/executor.cc:1197] [/device:CPU:0] (DEBUG INFO) Executor start aborting (this does not indicate an error and you can ignore this message): INVALID_ARGUMENT: You must feed a value for placeholder tensor 'Placeholder/_1' with dtype string and shape [1000]\n",
      "\t [[{{node Placeholder/_1}}]]\n",
      "2023-07-28 21:48:43.121769: I tensorflow/core/common_runtime/executor.cc:1197] [/device:CPU:0] (DEBUG INFO) Executor start aborting (this does not indicate an error and you can ignore this message): INVALID_ARGUMENT: You must feed a value for placeholder tensor 'Placeholder/_1' with dtype string and shape [1000]\n",
      "\t [[{{node Placeholder/_1}}]]\n",
      "2023-07-28 21:49:21.302314: I tensorflow/core/common_runtime/executor.cc:1197] [/device:CPU:0] (DEBUG INFO) Executor start aborting (this does not indicate an error and you can ignore this message): INVALID_ARGUMENT: You must feed a value for placeholder tensor 'Placeholder/_1' with dtype string and shape [1000]\n",
      "\t [[{{node Placeholder/_1}}]]\n",
      "2023-07-28 21:50:01.468418: I tensorflow/core/common_runtime/executor.cc:1197] [/device:CPU:0] (DEBUG INFO) Executor start aborting (this does not indicate an error and you can ignore this message): INVALID_ARGUMENT: You must feed a value for placeholder tensor 'Placeholder/_1' with dtype string and shape [1000]\n",
      "\t [[{{node Placeholder/_1}}]]\n",
      "2023-07-28 21:50:38.462592: I tensorflow/core/common_runtime/executor.cc:1197] [/device:CPU:0] (DEBUG INFO) Executor start aborting (this does not indicate an error and you can ignore this message): INVALID_ARGUMENT: You must feed a value for placeholder tensor 'Placeholder/_1' with dtype string and shape [1000]\n",
      "\t [[{{node Placeholder/_1}}]]\n",
      "2023-07-28 21:51:15.954418: I tensorflow/core/common_runtime/executor.cc:1197] [/device:CPU:0] (DEBUG INFO) Executor start aborting (this does not indicate an error and you can ignore this message): INVALID_ARGUMENT: You must feed a value for placeholder tensor 'Placeholder/_1' with dtype string and shape [1000]\n",
      "\t [[{{node Placeholder/_1}}]]\n",
      "2023-07-28 21:51:55.372289: I tensorflow/core/common_runtime/executor.cc:1197] [/device:CPU:0] (DEBUG INFO) Executor start aborting (this does not indicate an error and you can ignore this message): INVALID_ARGUMENT: You must feed a value for placeholder tensor 'Placeholder/_1' with dtype string and shape [1000]\n",
      "\t [[{{node Placeholder/_1}}]]\n"
     ]
    },
    {
     "name": "stdout",
     "output_type": "stream",
     "text": [
      "current loss 0.018745173\n",
      "Min vall loss 0.0059077214\n",
      "Epoch: 14, Train Loss:0.0016028460813686252 , Val Loss:0.018745172768831253\n"
     ]
    },
    {
     "name": "stderr",
     "output_type": "stream",
     "text": [
      "2023-07-28 21:52:29.501274: I tensorflow/core/grappler/optimizers/data/replicate_on_split.cc:32] Running replicate on split optimization\n",
      "2023-07-28 21:52:29.506231: I tensorflow/core/common_runtime/executor.cc:1197] [/device:CPU:0] (DEBUG INFO) Executor start aborting (this does not indicate an error and you can ignore this message): INVALID_ARGUMENT: You must feed a value for placeholder tensor 'Placeholder/_4' with dtype string and shape [10000]\n",
      "\t [[{{node Placeholder/_4}}]]\n",
      "2023-07-28 21:52:32.283237: I tensorflow/core/common_runtime/executor.cc:1197] [/device:CPU:0] (DEBUG INFO) Executor start aborting (this does not indicate an error and you can ignore this message): INVALID_ARGUMENT: You must feed a value for placeholder tensor 'Placeholder/_1' with dtype string and shape [1000]\n",
      "\t [[{{node Placeholder/_1}}]]\n",
      "2023-07-28 21:53:09.497226: I tensorflow/core/common_runtime/executor.cc:1197] [/device:CPU:0] (DEBUG INFO) Executor start aborting (this does not indicate an error and you can ignore this message): INVALID_ARGUMENT: You must feed a value for placeholder tensor 'Placeholder/_1' with dtype string and shape [1000]\n",
      "\t [[{{node Placeholder/_1}}]]\n",
      "2023-07-28 21:53:46.465631: I tensorflow/core/common_runtime/executor.cc:1197] [/device:CPU:0] (DEBUG INFO) Executor start aborting (this does not indicate an error and you can ignore this message): INVALID_ARGUMENT: You must feed a value for placeholder tensor 'Placeholder/_1' with dtype string and shape [1000]\n",
      "\t [[{{node Placeholder/_1}}]]\n",
      "2023-07-28 21:54:24.072504: I tensorflow/core/common_runtime/executor.cc:1197] [/device:CPU:0] (DEBUG INFO) Executor start aborting (this does not indicate an error and you can ignore this message): INVALID_ARGUMENT: You must feed a value for placeholder tensor 'Placeholder/_1' with dtype string and shape [1000]\n",
      "\t [[{{node Placeholder/_1}}]]\n",
      "2023-07-28 21:55:02.821417: I tensorflow/core/common_runtime/executor.cc:1197] [/device:CPU:0] (DEBUG INFO) Executor start aborting (this does not indicate an error and you can ignore this message): INVALID_ARGUMENT: You must feed a value for placeholder tensor 'Placeholder/_1' with dtype string and shape [1000]\n",
      "\t [[{{node Placeholder/_1}}]]\n",
      "2023-07-28 21:55:40.703935: I tensorflow/core/common_runtime/executor.cc:1197] [/device:CPU:0] (DEBUG INFO) Executor start aborting (this does not indicate an error and you can ignore this message): INVALID_ARGUMENT: You must feed a value for placeholder tensor 'Placeholder/_1' with dtype string and shape [1000]\n",
      "\t [[{{node Placeholder/_1}}]]\n",
      "2023-07-28 21:56:17.726805: I tensorflow/core/common_runtime/executor.cc:1197] [/device:CPU:0] (DEBUG INFO) Executor start aborting (this does not indicate an error and you can ignore this message): INVALID_ARGUMENT: You must feed a value for placeholder tensor 'Placeholder/_1' with dtype string and shape [1000]\n",
      "\t [[{{node Placeholder/_1}}]]\n",
      "2023-07-28 21:56:56.671203: I tensorflow/core/common_runtime/executor.cc:1197] [/device:CPU:0] (DEBUG INFO) Executor start aborting (this does not indicate an error and you can ignore this message): INVALID_ARGUMENT: You must feed a value for placeholder tensor 'Placeholder/_1' with dtype string and shape [1000]\n",
      "\t [[{{node Placeholder/_1}}]]\n"
     ]
    },
    {
     "name": "stdout",
     "output_type": "stream",
     "text": [
      "current loss 0.009637729\n",
      "Min vall loss 0.0059077214\n",
      "Epoch: 15, Train Loss:0.001427948009222746 , Val Loss:0.00963772926479578\n"
     ]
    },
    {
     "name": "stderr",
     "output_type": "stream",
     "text": [
      "2023-07-28 21:57:29.486109: I tensorflow/core/grappler/optimizers/data/replicate_on_split.cc:32] Running replicate on split optimization\n",
      "2023-07-28 21:57:29.489313: I tensorflow/core/common_runtime/executor.cc:1197] [/device:CPU:0] (DEBUG INFO) Executor start aborting (this does not indicate an error and you can ignore this message): INVALID_ARGUMENT: You must feed a value for placeholder tensor 'Placeholder/_4' with dtype string and shape [10000]\n",
      "\t [[{{node Placeholder/_4}}]]\n",
      "2023-07-28 21:57:32.120920: I tensorflow/core/common_runtime/executor.cc:1197] [/device:CPU:0] (DEBUG INFO) Executor start aborting (this does not indicate an error and you can ignore this message): INVALID_ARGUMENT: You must feed a value for placeholder tensor 'Placeholder/_1' with dtype string and shape [1000]\n",
      "\t [[{{node Placeholder/_1}}]]\n",
      "2023-07-28 21:58:10.157293: I tensorflow/core/common_runtime/executor.cc:1197] [/device:CPU:0] (DEBUG INFO) Executor start aborting (this does not indicate an error and you can ignore this message): INVALID_ARGUMENT: You must feed a value for placeholder tensor 'Placeholder/_1' with dtype string and shape [1000]\n",
      "\t [[{{node Placeholder/_1}}]]\n",
      "2023-07-28 21:58:47.352253: I tensorflow/core/common_runtime/executor.cc:1197] [/device:CPU:0] (DEBUG INFO) Executor start aborting (this does not indicate an error and you can ignore this message): INVALID_ARGUMENT: You must feed a value for placeholder tensor 'Placeholder/_1' with dtype string and shape [1000]\n",
      "\t [[{{node Placeholder/_1}}]]\n",
      "2023-07-28 21:59:24.755139: I tensorflow/core/common_runtime/executor.cc:1197] [/device:CPU:0] (DEBUG INFO) Executor start aborting (this does not indicate an error and you can ignore this message): INVALID_ARGUMENT: You must feed a value for placeholder tensor 'Placeholder/_1' with dtype string and shape [1000]\n",
      "\t [[{{node Placeholder/_1}}]]\n",
      "2023-07-28 22:00:04.124882: I tensorflow/core/common_runtime/executor.cc:1197] [/device:CPU:0] (DEBUG INFO) Executor start aborting (this does not indicate an error and you can ignore this message): INVALID_ARGUMENT: You must feed a value for placeholder tensor 'Placeholder/_1' with dtype string and shape [1000]\n",
      "\t [[{{node Placeholder/_1}}]]\n",
      "2023-07-28 22:00:42.239532: I tensorflow/core/common_runtime/executor.cc:1197] [/device:CPU:0] (DEBUG INFO) Executor start aborting (this does not indicate an error and you can ignore this message): INVALID_ARGUMENT: You must feed a value for placeholder tensor 'Placeholder/_1' with dtype string and shape [1000]\n",
      "\t [[{{node Placeholder/_1}}]]\n",
      "2023-07-28 22:01:18.623809: I tensorflow/core/common_runtime/executor.cc:1197] [/device:CPU:0] (DEBUG INFO) Executor start aborting (this does not indicate an error and you can ignore this message): INVALID_ARGUMENT: You must feed a value for placeholder tensor 'Placeholder/_1' with dtype string and shape [1000]\n",
      "\t [[{{node Placeholder/_1}}]]\n",
      "2023-07-28 22:01:58.345247: I tensorflow/core/common_runtime/executor.cc:1197] [/device:CPU:0] (DEBUG INFO) Executor start aborting (this does not indicate an error and you can ignore this message): INVALID_ARGUMENT: You must feed a value for placeholder tensor 'Placeholder/_1' with dtype string and shape [1000]\n",
      "\t [[{{node Placeholder/_1}}]]\n"
     ]
    },
    {
     "name": "stdout",
     "output_type": "stream",
     "text": [
      "current loss 0.0164148\n",
      "Min vall loss 0.0059077214\n",
      "Epoch: 16, Train Loss:0.0014376952312886715 , Val Loss:0.01641480065882206\n"
     ]
    },
    {
     "name": "stderr",
     "output_type": "stream",
     "text": [
      "2023-07-28 22:02:31.064190: I tensorflow/core/grappler/optimizers/data/replicate_on_split.cc:32] Running replicate on split optimization\n",
      "2023-07-28 22:02:31.067150: I tensorflow/core/common_runtime/executor.cc:1197] [/device:CPU:0] (DEBUG INFO) Executor start aborting (this does not indicate an error and you can ignore this message): INVALID_ARGUMENT: You must feed a value for placeholder tensor 'Placeholder/_5' with dtype string and shape [10000]\n",
      "\t [[{{node Placeholder/_5}}]]\n",
      "2023-07-28 22:02:33.643468: I tensorflow/core/common_runtime/executor.cc:1197] [/device:CPU:0] (DEBUG INFO) Executor start aborting (this does not indicate an error and you can ignore this message): INVALID_ARGUMENT: You must feed a value for placeholder tensor 'Placeholder/_1' with dtype string and shape [1000]\n",
      "\t [[{{node Placeholder/_1}}]]\n",
      "2023-07-28 22:03:10.946223: I tensorflow/core/common_runtime/executor.cc:1197] [/device:CPU:0] (DEBUG INFO) Executor start aborting (this does not indicate an error and you can ignore this message): INVALID_ARGUMENT: You must feed a value for placeholder tensor 'Placeholder/_1' with dtype string and shape [1000]\n",
      "\t [[{{node Placeholder/_1}}]]\n",
      "2023-07-28 22:03:48.201849: I tensorflow/core/common_runtime/executor.cc:1197] [/device:CPU:0] (DEBUG INFO) Executor start aborting (this does not indicate an error and you can ignore this message): INVALID_ARGUMENT: You must feed a value for placeholder tensor 'Placeholder/_1' with dtype string and shape [1000]\n",
      "\t [[{{node Placeholder/_1}}]]\n",
      "2023-07-28 22:04:25.931459: I tensorflow/core/common_runtime/executor.cc:1197] [/device:CPU:0] (DEBUG INFO) Executor start aborting (this does not indicate an error and you can ignore this message): INVALID_ARGUMENT: You must feed a value for placeholder tensor 'Placeholder/_1' with dtype string and shape [1000]\n",
      "\t [[{{node Placeholder/_1}}]]\n",
      "2023-07-28 22:05:03.724703: I tensorflow/core/kernels/data/shuffle_dataset_op.cc:392] Filling up shuffle buffer (this may take a while): 185 of 10000\n",
      "2023-07-28 22:05:13.730767: I tensorflow/core/kernels/data/shuffle_dataset_op.cc:392] Filling up shuffle buffer (this may take a while): 429 of 10000\n",
      "2023-07-28 22:05:23.706740: I tensorflow/core/kernels/data/shuffle_dataset_op.cc:392] Filling up shuffle buffer (this may take a while): 711 of 10000\n",
      "2023-07-28 22:05:33.711768: I tensorflow/core/kernels/data/shuffle_dataset_op.cc:392] Filling up shuffle buffer (this may take a while): 960 of 10000\n",
      "2023-07-28 22:05:43.701757: I tensorflow/core/kernels/data/shuffle_dataset_op.cc:392] Filling up shuffle buffer (this may take a while): 1265 of 10000\n",
      "2023-07-28 22:05:53.704775: I tensorflow/core/kernels/data/shuffle_dataset_op.cc:392] Filling up shuffle buffer (this may take a while): 1626 of 10000\n",
      "2023-07-28 22:06:03.698698: I tensorflow/core/kernels/data/shuffle_dataset_op.cc:392] Filling up shuffle buffer (this may take a while): 2010 of 10000\n",
      "2023-07-28 22:06:13.690673: I tensorflow/core/kernels/data/shuffle_dataset_op.cc:392] Filling up shuffle buffer (this may take a while): 2387 of 10000\n",
      "2023-07-28 22:06:23.716722: I tensorflow/core/kernels/data/shuffle_dataset_op.cc:392] Filling up shuffle buffer (this may take a while): 2783 of 10000\n",
      "2023-07-28 22:06:33.714437: I tensorflow/core/kernels/data/shuffle_dataset_op.cc:392] Filling up shuffle buffer (this may take a while): 3126 of 10000\n",
      "2023-07-28 22:06:43.709666: I tensorflow/core/kernels/data/shuffle_dataset_op.cc:392] Filling up shuffle buffer (this may take a while): 3446 of 10000\n",
      "2023-07-28 22:06:53.710351: I tensorflow/core/kernels/data/shuffle_dataset_op.cc:392] Filling up shuffle buffer (this may take a while): 3774 of 10000\n",
      "2023-07-28 22:07:03.708687: I tensorflow/core/kernels/data/shuffle_dataset_op.cc:392] Filling up shuffle buffer (this may take a while): 4114 of 10000\n",
      "2023-07-28 22:07:13.710919: I tensorflow/core/kernels/data/shuffle_dataset_op.cc:392] Filling up shuffle buffer (this may take a while): 4482 of 10000\n",
      "2023-07-28 22:07:23.744718: I tensorflow/core/kernels/data/shuffle_dataset_op.cc:392] Filling up shuffle buffer (this may take a while): 4837 of 10000\n",
      "2023-07-28 22:07:33.709927: I tensorflow/core/kernels/data/shuffle_dataset_op.cc:392] Filling up shuffle buffer (this may take a while): 5248 of 10000\n",
      "2023-07-28 22:07:43.717716: I tensorflow/core/kernels/data/shuffle_dataset_op.cc:392] Filling up shuffle buffer (this may take a while): 5639 of 10000\n",
      "2023-07-28 22:07:53.691637: I tensorflow/core/kernels/data/shuffle_dataset_op.cc:392] Filling up shuffle buffer (this may take a while): 5998 of 10000\n",
      "2023-07-28 22:08:03.714681: I tensorflow/core/kernels/data/shuffle_dataset_op.cc:392] Filling up shuffle buffer (this may take a while): 6344 of 10000\n",
      "2023-07-28 22:08:13.699641: I tensorflow/core/kernels/data/shuffle_dataset_op.cc:392] Filling up shuffle buffer (this may take a while): 6756 of 10000\n",
      "2023-07-28 22:08:23.705660: I tensorflow/core/kernels/data/shuffle_dataset_op.cc:392] Filling up shuffle buffer (this may take a while): 7153 of 10000\n",
      "2023-07-28 22:08:33.722733: I tensorflow/core/kernels/data/shuffle_dataset_op.cc:392] Filling up shuffle buffer (this may take a while): 7558 of 10000\n",
      "2023-07-28 22:08:43.690659: I tensorflow/core/kernels/data/shuffle_dataset_op.cc:392] Filling up shuffle buffer (this may take a while): 7909 of 10000\n",
      "2023-07-28 22:08:53.727239: I tensorflow/core/kernels/data/shuffle_dataset_op.cc:392] Filling up shuffle buffer (this may take a while): 8271 of 10000\n",
      "2023-07-28 22:09:03.700908: I tensorflow/core/kernels/data/shuffle_dataset_op.cc:392] Filling up shuffle buffer (this may take a while): 8666 of 10000\n",
      "2023-07-28 22:09:13.705720: I tensorflow/core/kernels/data/shuffle_dataset_op.cc:392] Filling up shuffle buffer (this may take a while): 9013 of 10000\n",
      "2023-07-28 22:09:23.705611: I tensorflow/core/kernels/data/shuffle_dataset_op.cc:392] Filling up shuffle buffer (this may take a while): 9400 of 10000\n",
      "2023-07-28 22:09:33.692828: I tensorflow/core/kernels/data/shuffle_dataset_op.cc:392] Filling up shuffle buffer (this may take a while): 9801 of 10000\n",
      "2023-07-28 22:09:38.489347: I tensorflow/core/kernels/data/shuffle_dataset_op.cc:417] Shuffle buffer filled.\n",
      "2023-07-28 22:09:52.172186: I tensorflow/core/common_runtime/executor.cc:1197] [/device:CPU:0] (DEBUG INFO) Executor start aborting (this does not indicate an error and you can ignore this message): INVALID_ARGUMENT: You must feed a value for placeholder tensor 'Placeholder/_1' with dtype string and shape [1000]\n",
      "\t [[{{node Placeholder/_1}}]]\n",
      "2023-07-28 22:10:32.401403: I tensorflow/core/common_runtime/executor.cc:1197] [/device:CPU:0] (DEBUG INFO) Executor start aborting (this does not indicate an error and you can ignore this message): INVALID_ARGUMENT: You must feed a value for placeholder tensor 'Placeholder/_1' with dtype string and shape [1000]\n",
      "\t [[{{node Placeholder/_1}}]]\n",
      "2023-07-28 22:11:09.733768: I tensorflow/core/common_runtime/executor.cc:1197] [/device:CPU:0] (DEBUG INFO) Executor start aborting (this does not indicate an error and you can ignore this message): INVALID_ARGUMENT: You must feed a value for placeholder tensor 'Placeholder/_1' with dtype string and shape [1000]\n",
      "\t [[{{node Placeholder/_1}}]]\n",
      "2023-07-28 22:11:49.857478: I tensorflow/core/common_runtime/executor.cc:1197] [/device:CPU:0] (DEBUG INFO) Executor start aborting (this does not indicate an error and you can ignore this message): INVALID_ARGUMENT: You must feed a value for placeholder tensor 'Placeholder/_1' with dtype string and shape [1000]\n",
      "\t [[{{node Placeholder/_1}}]]\n"
     ]
    },
    {
     "name": "stdout",
     "output_type": "stream",
     "text": [
      "current loss 0.076249205\n",
      "Min vall loss 0.0059077214\n",
      "Epoch: 17, Train Loss:0.0032770445104688406 , Val Loss:0.07624920457601547\n"
     ]
    },
    {
     "name": "stderr",
     "output_type": "stream",
     "text": [
      "2023-07-28 22:12:23.218795: I tensorflow/core/grappler/optimizers/data/replicate_on_split.cc:32] Running replicate on split optimization\n",
      "2023-07-28 22:12:23.222860: I tensorflow/core/common_runtime/executor.cc:1197] [/device:CPU:0] (DEBUG INFO) Executor start aborting (this does not indicate an error and you can ignore this message): INVALID_ARGUMENT: You must feed a value for placeholder tensor 'Placeholder/_4' with dtype string and shape [10000]\n",
      "\t [[{{node Placeholder/_4}}]]\n",
      "2023-07-28 22:12:25.988391: I tensorflow/core/common_runtime/executor.cc:1197] [/device:CPU:0] (DEBUG INFO) Executor start aborting (this does not indicate an error and you can ignore this message): INVALID_ARGUMENT: You must feed a value for placeholder tensor 'Placeholder/_1' with dtype string and shape [1000]\n",
      "\t [[{{node Placeholder/_1}}]]\n",
      "2023-07-28 22:13:03.326286: I tensorflow/core/common_runtime/executor.cc:1197] [/device:CPU:0] (DEBUG INFO) Executor start aborting (this does not indicate an error and you can ignore this message): INVALID_ARGUMENT: You must feed a value for placeholder tensor 'Placeholder/_1' with dtype string and shape [1000]\n",
      "\t [[{{node Placeholder/_1}}]]\n",
      "2023-07-28 22:13:41.218691: I tensorflow/core/common_runtime/executor.cc:1197] [/device:CPU:0] (DEBUG INFO) Executor start aborting (this does not indicate an error and you can ignore this message): INVALID_ARGUMENT: You must feed a value for placeholder tensor 'Placeholder/_1' with dtype string and shape [1000]\n",
      "\t [[{{node Placeholder/_1}}]]\n",
      "2023-07-28 22:14:18.467947: I tensorflow/core/common_runtime/executor.cc:1197] [/device:CPU:0] (DEBUG INFO) Executor start aborting (this does not indicate an error and you can ignore this message): INVALID_ARGUMENT: You must feed a value for placeholder tensor 'Placeholder/_1' with dtype string and shape [1000]\n",
      "\t [[{{node Placeholder/_1}}]]\n",
      "2023-07-28 22:14:57.940054: I tensorflow/core/common_runtime/executor.cc:1197] [/device:CPU:0] (DEBUG INFO) Executor start aborting (this does not indicate an error and you can ignore this message): INVALID_ARGUMENT: You must feed a value for placeholder tensor 'Placeholder/_1' with dtype string and shape [1000]\n",
      "\t [[{{node Placeholder/_1}}]]\n",
      "2023-07-28 22:15:35.344595: I tensorflow/core/common_runtime/executor.cc:1197] [/device:CPU:0] (DEBUG INFO) Executor start aborting (this does not indicate an error and you can ignore this message): INVALID_ARGUMENT: You must feed a value for placeholder tensor 'Placeholder/_1' with dtype string and shape [1000]\n",
      "\t [[{{node Placeholder/_1}}]]\n",
      "2023-07-28 22:16:11.930978: I tensorflow/core/common_runtime/executor.cc:1197] [/device:CPU:0] (DEBUG INFO) Executor start aborting (this does not indicate an error and you can ignore this message): INVALID_ARGUMENT: You must feed a value for placeholder tensor 'Placeholder/_1' with dtype string and shape [1000]\n",
      "\t [[{{node Placeholder/_1}}]]\n",
      "2023-07-28 22:16:50.983252: I tensorflow/core/common_runtime/executor.cc:1197] [/device:CPU:0] (DEBUG INFO) Executor start aborting (this does not indicate an error and you can ignore this message): INVALID_ARGUMENT: You must feed a value for placeholder tensor 'Placeholder/_1' with dtype string and shape [1000]\n",
      "\t [[{{node Placeholder/_1}}]]\n"
     ]
    },
    {
     "name": "stdout",
     "output_type": "stream",
     "text": [
      "current loss 0.006070824\n",
      "Min vall loss 0.0059077214\n",
      "Epoch: 18, Train Loss:0.0013600070960819721 , Val Loss:0.00607082387432456\n"
     ]
    },
    {
     "name": "stderr",
     "output_type": "stream",
     "text": [
      "2023-07-28 22:17:24.329394: I tensorflow/core/grappler/optimizers/data/replicate_on_split.cc:32] Running replicate on split optimization\n",
      "2023-07-28 22:17:24.334417: I tensorflow/core/common_runtime/executor.cc:1197] [/device:CPU:0] (DEBUG INFO) Executor start aborting (this does not indicate an error and you can ignore this message): INVALID_ARGUMENT: You must feed a value for placeholder tensor 'Placeholder/_5' with dtype string and shape [10000]\n",
      "\t [[{{node Placeholder/_5}}]]\n",
      "2023-07-28 22:17:27.103428: I tensorflow/core/common_runtime/executor.cc:1197] [/device:CPU:0] (DEBUG INFO) Executor start aborting (this does not indicate an error and you can ignore this message): INVALID_ARGUMENT: You must feed a value for placeholder tensor 'Placeholder/_1' with dtype string and shape [1000]\n",
      "\t [[{{node Placeholder/_1}}]]\n",
      "2023-07-28 22:18:04.676674: I tensorflow/core/common_runtime/executor.cc:1197] [/device:CPU:0] (DEBUG INFO) Executor start aborting (this does not indicate an error and you can ignore this message): INVALID_ARGUMENT: You must feed a value for placeholder tensor 'Placeholder/_1' with dtype string and shape [1000]\n",
      "\t [[{{node Placeholder/_1}}]]\n",
      "2023-07-28 22:18:42.480888: I tensorflow/core/common_runtime/executor.cc:1197] [/device:CPU:0] (DEBUG INFO) Executor start aborting (this does not indicate an error and you can ignore this message): INVALID_ARGUMENT: You must feed a value for placeholder tensor 'Placeholder/_1' with dtype string and shape [1000]\n",
      "\t [[{{node Placeholder/_1}}]]\n",
      "2023-07-28 22:19:20.028667: I tensorflow/core/common_runtime/executor.cc:1197] [/device:CPU:0] (DEBUG INFO) Executor start aborting (this does not indicate an error and you can ignore this message): INVALID_ARGUMENT: You must feed a value for placeholder tensor 'Placeholder/_1' with dtype string and shape [1000]\n",
      "\t [[{{node Placeholder/_1}}]]\n",
      "2023-07-28 22:20:00.659008: I tensorflow/core/common_runtime/executor.cc:1197] [/device:CPU:0] (DEBUG INFO) Executor start aborting (this does not indicate an error and you can ignore this message): INVALID_ARGUMENT: You must feed a value for placeholder tensor 'Placeholder/_1' with dtype string and shape [1000]\n",
      "\t [[{{node Placeholder/_1}}]]\n",
      "2023-07-28 22:20:38.567713: I tensorflow/core/common_runtime/executor.cc:1197] [/device:CPU:0] (DEBUG INFO) Executor start aborting (this does not indicate an error and you can ignore this message): INVALID_ARGUMENT: You must feed a value for placeholder tensor 'Placeholder/_1' with dtype string and shape [1000]\n",
      "\t [[{{node Placeholder/_1}}]]\n",
      "2023-07-28 22:21:16.455694: I tensorflow/core/common_runtime/executor.cc:1197] [/device:CPU:0] (DEBUG INFO) Executor start aborting (this does not indicate an error and you can ignore this message): INVALID_ARGUMENT: You must feed a value for placeholder tensor 'Placeholder/_1' with dtype string and shape [1000]\n",
      "\t [[{{node Placeholder/_1}}]]\n",
      "2023-07-28 22:21:56.603487: I tensorflow/core/common_runtime/executor.cc:1197] [/device:CPU:0] (DEBUG INFO) Executor start aborting (this does not indicate an error and you can ignore this message): INVALID_ARGUMENT: You must feed a value for placeholder tensor 'Placeholder/_1' with dtype string and shape [1000]\n",
      "\t [[{{node Placeholder/_1}}]]\n"
     ]
    },
    {
     "name": "stdout",
     "output_type": "stream",
     "text": [
      "current loss 0.0076725055\n",
      "Min vall loss 0.0059077214\n",
      "Epoch: 19, Train Loss:0.0018428971525281668 , Val Loss:0.0076725054532289505\n"
     ]
    },
    {
     "name": "stderr",
     "output_type": "stream",
     "text": [
      "2023-07-28 22:22:30.767487: I tensorflow/core/grappler/optimizers/data/replicate_on_split.cc:32] Running replicate on split optimization\n",
      "2023-07-28 22:22:30.772216: I tensorflow/core/common_runtime/executor.cc:1197] [/device:CPU:0] (DEBUG INFO) Executor start aborting (this does not indicate an error and you can ignore this message): INVALID_ARGUMENT: You must feed a value for placeholder tensor 'Placeholder/_5' with dtype string and shape [10000]\n",
      "\t [[{{node Placeholder/_5}}]]\n",
      "2023-07-28 22:22:33.387923: I tensorflow/core/common_runtime/executor.cc:1197] [/device:CPU:0] (DEBUG INFO) Executor start aborting (this does not indicate an error and you can ignore this message): INVALID_ARGUMENT: You must feed a value for placeholder tensor 'Placeholder/_1' with dtype string and shape [1000]\n",
      "\t [[{{node Placeholder/_1}}]]\n",
      "2023-07-28 22:23:10.297685: I tensorflow/core/common_runtime/executor.cc:1197] [/device:CPU:0] (DEBUG INFO) Executor start aborting (this does not indicate an error and you can ignore this message): INVALID_ARGUMENT: You must feed a value for placeholder tensor 'Placeholder/_1' with dtype string and shape [1000]\n",
      "\t [[{{node Placeholder/_1}}]]\n",
      "2023-07-28 22:23:47.186641: I tensorflow/core/common_runtime/executor.cc:1197] [/device:CPU:0] (DEBUG INFO) Executor start aborting (this does not indicate an error and you can ignore this message): INVALID_ARGUMENT: You must feed a value for placeholder tensor 'Placeholder/_1' with dtype string and shape [1000]\n",
      "\t [[{{node Placeholder/_1}}]]\n",
      "2023-07-28 22:24:25.171875: I tensorflow/core/common_runtime/executor.cc:1197] [/device:CPU:0] (DEBUG INFO) Executor start aborting (this does not indicate an error and you can ignore this message): INVALID_ARGUMENT: You must feed a value for placeholder tensor 'Placeholder/_1' with dtype string and shape [1000]\n",
      "\t [[{{node Placeholder/_1}}]]\n",
      "2023-07-28 22:25:04.162283: I tensorflow/core/common_runtime/executor.cc:1197] [/device:CPU:0] (DEBUG INFO) Executor start aborting (this does not indicate an error and you can ignore this message): INVALID_ARGUMENT: You must feed a value for placeholder tensor 'Placeholder/_1' with dtype string and shape [1000]\n",
      "\t [[{{node Placeholder/_1}}]]\n",
      "2023-07-28 22:25:41.353406: I tensorflow/core/common_runtime/executor.cc:1197] [/device:CPU:0] (DEBUG INFO) Executor start aborting (this does not indicate an error and you can ignore this message): INVALID_ARGUMENT: You must feed a value for placeholder tensor 'Placeholder/_1' with dtype string and shape [1000]\n",
      "\t [[{{node Placeholder/_1}}]]\n",
      "2023-07-28 22:26:18.842703: I tensorflow/core/common_runtime/executor.cc:1197] [/device:CPU:0] (DEBUG INFO) Executor start aborting (this does not indicate an error and you can ignore this message): INVALID_ARGUMENT: You must feed a value for placeholder tensor 'Placeholder/_1' with dtype string and shape [1000]\n",
      "\t [[{{node Placeholder/_1}}]]\n",
      "2023-07-28 22:26:59.461447: I tensorflow/core/common_runtime/executor.cc:1197] [/device:CPU:0] (DEBUG INFO) Executor start aborting (this does not indicate an error and you can ignore this message): INVALID_ARGUMENT: You must feed a value for placeholder tensor 'Placeholder/_1' with dtype string and shape [1000]\n",
      "\t [[{{node Placeholder/_1}}]]\n"
     ]
    },
    {
     "name": "stdout",
     "output_type": "stream",
     "text": [
      "current loss 0.008175427\n",
      "Min vall loss 0.0059077214\n",
      "Time taken for 10 epochs: 3297.15 sec\n",
      "\n",
      "Reached epoch: 20\n",
      "Epoch: 20, Train Loss:0.001190466107800603 , Val Loss:0.008175427094101906\n"
     ]
    },
    {
     "name": "stderr",
     "output_type": "stream",
     "text": [
      "2023-07-28 22:27:33.873018: I tensorflow/core/grappler/optimizers/data/replicate_on_split.cc:32] Running replicate on split optimization\n",
      "2023-07-28 22:27:33.877437: I tensorflow/core/common_runtime/executor.cc:1197] [/device:CPU:0] (DEBUG INFO) Executor start aborting (this does not indicate an error and you can ignore this message): INVALID_ARGUMENT: You must feed a value for placeholder tensor 'Placeholder/_5' with dtype string and shape [10000]\n",
      "\t [[{{node Placeholder/_5}}]]\n",
      "2023-07-28 22:27:36.667026: I tensorflow/core/common_runtime/executor.cc:1197] [/device:CPU:0] (DEBUG INFO) Executor start aborting (this does not indicate an error and you can ignore this message): INVALID_ARGUMENT: You must feed a value for placeholder tensor 'Placeholder/_1' with dtype string and shape [1000]\n",
      "\t [[{{node Placeholder/_1}}]]\n",
      "2023-07-28 22:28:14.880968: I tensorflow/core/common_runtime/executor.cc:1197] [/device:CPU:0] (DEBUG INFO) Executor start aborting (this does not indicate an error and you can ignore this message): INVALID_ARGUMENT: You must feed a value for placeholder tensor 'Placeholder/_1' with dtype string and shape [1000]\n",
      "\t [[{{node Placeholder/_1}}]]\n",
      "2023-07-28 22:28:52.151180: I tensorflow/core/common_runtime/executor.cc:1197] [/device:CPU:0] (DEBUG INFO) Executor start aborting (this does not indicate an error and you can ignore this message): INVALID_ARGUMENT: You must feed a value for placeholder tensor 'Placeholder/_1' with dtype string and shape [1000]\n",
      "\t [[{{node Placeholder/_1}}]]\n",
      "2023-07-28 22:29:28.627792: I tensorflow/core/common_runtime/executor.cc:1197] [/device:CPU:0] (DEBUG INFO) Executor start aborting (this does not indicate an error and you can ignore this message): INVALID_ARGUMENT: You must feed a value for placeholder tensor 'Placeholder/_1' with dtype string and shape [1000]\n",
      "\t [[{{node Placeholder/_1}}]]\n",
      "2023-07-28 22:30:07.788566: I tensorflow/core/common_runtime/executor.cc:1197] [/device:CPU:0] (DEBUG INFO) Executor start aborting (this does not indicate an error and you can ignore this message): INVALID_ARGUMENT: You must feed a value for placeholder tensor 'Placeholder/_1' with dtype string and shape [1000]\n",
      "\t [[{{node Placeholder/_1}}]]\n",
      "2023-07-28 22:30:44.439147: I tensorflow/core/common_runtime/executor.cc:1197] [/device:CPU:0] (DEBUG INFO) Executor start aborting (this does not indicate an error and you can ignore this message): INVALID_ARGUMENT: You must feed a value for placeholder tensor 'Placeholder/_1' with dtype string and shape [1000]\n",
      "\t [[{{node Placeholder/_1}}]]\n",
      "2023-07-28 22:31:21.493891: I tensorflow/core/common_runtime/executor.cc:1197] [/device:CPU:0] (DEBUG INFO) Executor start aborting (this does not indicate an error and you can ignore this message): INVALID_ARGUMENT: You must feed a value for placeholder tensor 'Placeholder/_1' with dtype string and shape [1000]\n",
      "\t [[{{node Placeholder/_1}}]]\n",
      "2023-07-28 22:32:00.242237: I tensorflow/core/common_runtime/executor.cc:1197] [/device:CPU:0] (DEBUG INFO) Executor start aborting (this does not indicate an error and you can ignore this message): INVALID_ARGUMENT: You must feed a value for placeholder tensor 'Placeholder/_1' with dtype string and shape [1000]\n",
      "\t [[{{node Placeholder/_1}}]]\n"
     ]
    },
    {
     "name": "stdout",
     "output_type": "stream",
     "text": [
      "current loss 0.10507782\n",
      "Min vall loss 0.0059077214\n",
      "Epoch: 21, Train Loss:0.001302690478041768 , Val Loss:0.1050778180360794\n"
     ]
    },
    {
     "name": "stderr",
     "output_type": "stream",
     "text": [
      "2023-07-28 22:32:34.908645: I tensorflow/core/grappler/optimizers/data/replicate_on_split.cc:32] Running replicate on split optimization\n",
      "2023-07-28 22:32:34.912450: I tensorflow/core/common_runtime/executor.cc:1197] [/device:CPU:0] (DEBUG INFO) Executor start aborting (this does not indicate an error and you can ignore this message): INVALID_ARGUMENT: You must feed a value for placeholder tensor 'Placeholder/_4' with dtype string and shape [10000]\n",
      "\t [[{{node Placeholder/_4}}]]\n",
      "2023-07-28 22:32:37.557542: I tensorflow/core/common_runtime/executor.cc:1197] [/device:CPU:0] (DEBUG INFO) Executor start aborting (this does not indicate an error and you can ignore this message): INVALID_ARGUMENT: You must feed a value for placeholder tensor 'Placeholder/_1' with dtype string and shape [1000]\n",
      "\t [[{{node Placeholder/_1}}]]\n",
      "2023-07-28 22:33:14.749213: I tensorflow/core/common_runtime/executor.cc:1197] [/device:CPU:0] (DEBUG INFO) Executor start aborting (this does not indicate an error and you can ignore this message): INVALID_ARGUMENT: You must feed a value for placeholder tensor 'Placeholder/_1' with dtype string and shape [1000]\n",
      "\t [[{{node Placeholder/_1}}]]\n",
      "2023-07-28 22:33:52.096908: I tensorflow/core/common_runtime/executor.cc:1197] [/device:CPU:0] (DEBUG INFO) Executor start aborting (this does not indicate an error and you can ignore this message): INVALID_ARGUMENT: You must feed a value for placeholder tensor 'Placeholder/_1' with dtype string and shape [1000]\n",
      "\t [[{{node Placeholder/_1}}]]\n",
      "2023-07-28 22:34:29.683091: I tensorflow/core/common_runtime/executor.cc:1197] [/device:CPU:0] (DEBUG INFO) Executor start aborting (this does not indicate an error and you can ignore this message): INVALID_ARGUMENT: You must feed a value for placeholder tensor 'Placeholder/_1' with dtype string and shape [1000]\n",
      "\t [[{{node Placeholder/_1}}]]\n",
      "2023-07-28 22:35:09.665165: I tensorflow/core/common_runtime/executor.cc:1197] [/device:CPU:0] (DEBUG INFO) Executor start aborting (this does not indicate an error and you can ignore this message): INVALID_ARGUMENT: You must feed a value for placeholder tensor 'Placeholder/_1' with dtype string and shape [1000]\n",
      "\t [[{{node Placeholder/_1}}]]\n",
      "2023-07-28 22:35:46.587393: I tensorflow/core/common_runtime/executor.cc:1197] [/device:CPU:0] (DEBUG INFO) Executor start aborting (this does not indicate an error and you can ignore this message): INVALID_ARGUMENT: You must feed a value for placeholder tensor 'Placeholder/_1' with dtype string and shape [1000]\n",
      "\t [[{{node Placeholder/_1}}]]\n",
      "2023-07-28 22:36:23.726830: I tensorflow/core/common_runtime/executor.cc:1197] [/device:CPU:0] (DEBUG INFO) Executor start aborting (this does not indicate an error and you can ignore this message): INVALID_ARGUMENT: You must feed a value for placeholder tensor 'Placeholder/_1' with dtype string and shape [1000]\n",
      "\t [[{{node Placeholder/_1}}]]\n",
      "2023-07-28 22:37:03.654882: I tensorflow/core/common_runtime/executor.cc:1197] [/device:CPU:0] (DEBUG INFO) Executor start aborting (this does not indicate an error and you can ignore this message): INVALID_ARGUMENT: You must feed a value for placeholder tensor 'Placeholder/_1' with dtype string and shape [1000]\n",
      "\t [[{{node Placeholder/_1}}]]\n"
     ]
    },
    {
     "name": "stdout",
     "output_type": "stream",
     "text": [
      "current loss 0.0039583016\n",
      "Min vall loss 0.0059077214\n",
      "Saving best weight with val loss:0.003958301618695259 to results/model_weights/best_mse_model\n",
      "Epoch: 22, Train Loss:0.001077219843864441 , Val Loss:0.003958301618695259\n"
     ]
    },
    {
     "name": "stderr",
     "output_type": "stream",
     "text": [
      "2023-07-28 22:37:36.876713: I tensorflow/core/grappler/optimizers/data/replicate_on_split.cc:32] Running replicate on split optimization\n",
      "2023-07-28 22:37:36.882151: I tensorflow/core/common_runtime/executor.cc:1197] [/device:CPU:0] (DEBUG INFO) Executor start aborting (this does not indicate an error and you can ignore this message): INVALID_ARGUMENT: You must feed a value for placeholder tensor 'Placeholder/_5' with dtype string and shape [10000]\n",
      "\t [[{{node Placeholder/_5}}]]\n",
      "2023-07-28 22:37:39.450710: I tensorflow/core/common_runtime/executor.cc:1197] [/device:CPU:0] (DEBUG INFO) Executor start aborting (this does not indicate an error and you can ignore this message): INVALID_ARGUMENT: You must feed a value for placeholder tensor 'Placeholder/_1' with dtype string and shape [1000]\n",
      "\t [[{{node Placeholder/_1}}]]\n",
      "2023-07-28 22:38:17.140264: I tensorflow/core/common_runtime/executor.cc:1197] [/device:CPU:0] (DEBUG INFO) Executor start aborting (this does not indicate an error and you can ignore this message): INVALID_ARGUMENT: You must feed a value for placeholder tensor 'Placeholder/_1' with dtype string and shape [1000]\n",
      "\t [[{{node Placeholder/_1}}]]\n",
      "2023-07-28 22:38:53.851067: I tensorflow/core/common_runtime/executor.cc:1197] [/device:CPU:0] (DEBUG INFO) Executor start aborting (this does not indicate an error and you can ignore this message): INVALID_ARGUMENT: You must feed a value for placeholder tensor 'Placeholder/_1' with dtype string and shape [1000]\n",
      "\t [[{{node Placeholder/_1}}]]\n",
      "2023-07-28 22:39:31.790121: I tensorflow/core/common_runtime/executor.cc:1197] [/device:CPU:0] (DEBUG INFO) Executor start aborting (this does not indicate an error and you can ignore this message): INVALID_ARGUMENT: You must feed a value for placeholder tensor 'Placeholder/_1' with dtype string and shape [1000]\n",
      "\t [[{{node Placeholder/_1}}]]\n",
      "2023-07-28 22:40:11.396666: I tensorflow/core/common_runtime/executor.cc:1197] [/device:CPU:0] (DEBUG INFO) Executor start aborting (this does not indicate an error and you can ignore this message): INVALID_ARGUMENT: You must feed a value for placeholder tensor 'Placeholder/_1' with dtype string and shape [1000]\n",
      "\t [[{{node Placeholder/_1}}]]\n",
      "2023-07-28 22:40:49.432305: I tensorflow/core/common_runtime/executor.cc:1197] [/device:CPU:0] (DEBUG INFO) Executor start aborting (this does not indicate an error and you can ignore this message): INVALID_ARGUMENT: You must feed a value for placeholder tensor 'Placeholder/_1' with dtype string and shape [1000]\n",
      "\t [[{{node Placeholder/_1}}]]\n",
      "2023-07-28 22:41:26.530508: I tensorflow/core/common_runtime/executor.cc:1197] [/device:CPU:0] (DEBUG INFO) Executor start aborting (this does not indicate an error and you can ignore this message): INVALID_ARGUMENT: You must feed a value for placeholder tensor 'Placeholder/_1' with dtype string and shape [1000]\n",
      "\t [[{{node Placeholder/_1}}]]\n",
      "2023-07-28 22:42:06.132513: I tensorflow/core/common_runtime/executor.cc:1197] [/device:CPU:0] (DEBUG INFO) Executor start aborting (this does not indicate an error and you can ignore this message): INVALID_ARGUMENT: You must feed a value for placeholder tensor 'Placeholder/_1' with dtype string and shape [1000]\n",
      "\t [[{{node Placeholder/_1}}]]\n"
     ]
    },
    {
     "name": "stdout",
     "output_type": "stream",
     "text": [
      "current loss 0.014308761\n",
      "Min vall loss 0.0039583016\n",
      "Epoch: 23, Train Loss:0.0010120933875441551 , Val Loss:0.01430876087397337\n"
     ]
    },
    {
     "name": "stderr",
     "output_type": "stream",
     "text": [
      "2023-07-28 22:42:39.399325: I tensorflow/core/grappler/optimizers/data/replicate_on_split.cc:32] Running replicate on split optimization\n",
      "2023-07-28 22:42:39.402483: I tensorflow/core/common_runtime/executor.cc:1197] [/device:CPU:0] (DEBUG INFO) Executor start aborting (this does not indicate an error and you can ignore this message): INVALID_ARGUMENT: You must feed a value for placeholder tensor 'Placeholder/_5' with dtype string and shape [10000]\n",
      "\t [[{{node Placeholder/_5}}]]\n",
      "2023-07-28 22:42:41.916313: I tensorflow/core/common_runtime/executor.cc:1197] [/device:CPU:0] (DEBUG INFO) Executor start aborting (this does not indicate an error and you can ignore this message): INVALID_ARGUMENT: You must feed a value for placeholder tensor 'Placeholder/_1' with dtype string and shape [1000]\n",
      "\t [[{{node Placeholder/_1}}]]\n",
      "2023-07-28 22:43:18.039166: I tensorflow/core/common_runtime/executor.cc:1197] [/device:CPU:0] (DEBUG INFO) Executor start aborting (this does not indicate an error and you can ignore this message): INVALID_ARGUMENT: You must feed a value for placeholder tensor 'Placeholder/_1' with dtype string and shape [1000]\n",
      "\t [[{{node Placeholder/_1}}]]\n",
      "2023-07-28 22:43:55.331215: I tensorflow/core/common_runtime/executor.cc:1197] [/device:CPU:0] (DEBUG INFO) Executor start aborting (this does not indicate an error and you can ignore this message): INVALID_ARGUMENT: You must feed a value for placeholder tensor 'Placeholder/_1' with dtype string and shape [1000]\n",
      "\t [[{{node Placeholder/_1}}]]\n",
      "2023-07-28 22:44:32.151324: I tensorflow/core/common_runtime/executor.cc:1197] [/device:CPU:0] (DEBUG INFO) Executor start aborting (this does not indicate an error and you can ignore this message): INVALID_ARGUMENT: You must feed a value for placeholder tensor 'Placeholder/_1' with dtype string and shape [1000]\n",
      "\t [[{{node Placeholder/_1}}]]\n",
      "2023-07-28 22:45:12.736230: I tensorflow/core/common_runtime/executor.cc:1197] [/device:CPU:0] (DEBUG INFO) Executor start aborting (this does not indicate an error and you can ignore this message): INVALID_ARGUMENT: You must feed a value for placeholder tensor 'Placeholder/_1' with dtype string and shape [1000]\n",
      "\t [[{{node Placeholder/_1}}]]\n",
      "2023-07-28 22:45:50.427376: I tensorflow/core/common_runtime/executor.cc:1197] [/device:CPU:0] (DEBUG INFO) Executor start aborting (this does not indicate an error and you can ignore this message): INVALID_ARGUMENT: You must feed a value for placeholder tensor 'Placeholder/_1' with dtype string and shape [1000]\n",
      "\t [[{{node Placeholder/_1}}]]\n",
      "2023-07-28 22:46:26.708836: I tensorflow/core/common_runtime/executor.cc:1197] [/device:CPU:0] (DEBUG INFO) Executor start aborting (this does not indicate an error and you can ignore this message): INVALID_ARGUMENT: You must feed a value for placeholder tensor 'Placeholder/_1' with dtype string and shape [1000]\n",
      "\t [[{{node Placeholder/_1}}]]\n",
      "2023-07-28 22:47:05.882266: I tensorflow/core/common_runtime/executor.cc:1197] [/device:CPU:0] (DEBUG INFO) Executor start aborting (this does not indicate an error and you can ignore this message): INVALID_ARGUMENT: You must feed a value for placeholder tensor 'Placeholder/_1' with dtype string and shape [1000]\n",
      "\t [[{{node Placeholder/_1}}]]\n"
     ]
    },
    {
     "name": "stdout",
     "output_type": "stream",
     "text": [
      "current loss 0.012417613\n",
      "Min vall loss 0.0039583016\n",
      "Epoch: 24, Train Loss:0.0013641247060149908 , Val Loss:0.012417612597346306\n"
     ]
    },
    {
     "name": "stderr",
     "output_type": "stream",
     "text": [
      "2023-07-28 22:47:39.293302: I tensorflow/core/grappler/optimizers/data/replicate_on_split.cc:32] Running replicate on split optimization\n",
      "2023-07-28 22:47:39.298438: I tensorflow/core/common_runtime/executor.cc:1197] [/device:CPU:0] (DEBUG INFO) Executor start aborting (this does not indicate an error and you can ignore this message): INVALID_ARGUMENT: You must feed a value for placeholder tensor 'Placeholder/_4' with dtype string and shape [10000]\n",
      "\t [[{{node Placeholder/_4}}]]\n",
      "2023-07-28 22:47:42.194693: I tensorflow/core/common_runtime/executor.cc:1197] [/device:CPU:0] (DEBUG INFO) Executor start aborting (this does not indicate an error and you can ignore this message): INVALID_ARGUMENT: You must feed a value for placeholder tensor 'Placeholder/_1' with dtype string and shape [1000]\n",
      "\t [[{{node Placeholder/_1}}]]\n",
      "2023-07-28 22:48:19.572180: I tensorflow/core/common_runtime/executor.cc:1197] [/device:CPU:0] (DEBUG INFO) Executor start aborting (this does not indicate an error and you can ignore this message): INVALID_ARGUMENT: You must feed a value for placeholder tensor 'Placeholder/_1' with dtype string and shape [1000]\n",
      "\t [[{{node Placeholder/_1}}]]\n",
      "2023-07-28 22:48:56.456821: I tensorflow/core/common_runtime/executor.cc:1197] [/device:CPU:0] (DEBUG INFO) Executor start aborting (this does not indicate an error and you can ignore this message): INVALID_ARGUMENT: You must feed a value for placeholder tensor 'Placeholder/_1' with dtype string and shape [1000]\n",
      "\t [[{{node Placeholder/_1}}]]\n",
      "2023-07-28 22:49:34.071452: I tensorflow/core/common_runtime/executor.cc:1197] [/device:CPU:0] (DEBUG INFO) Executor start aborting (this does not indicate an error and you can ignore this message): INVALID_ARGUMENT: You must feed a value for placeholder tensor 'Placeholder/_1' with dtype string and shape [1000]\n",
      "\t [[{{node Placeholder/_1}}]]\n",
      "2023-07-28 22:50:12.991467: I tensorflow/core/common_runtime/executor.cc:1197] [/device:CPU:0] (DEBUG INFO) Executor start aborting (this does not indicate an error and you can ignore this message): INVALID_ARGUMENT: You must feed a value for placeholder tensor 'Placeholder/_1' with dtype string and shape [1000]\n",
      "\t [[{{node Placeholder/_1}}]]\n",
      "2023-07-28 22:50:49.162763: I tensorflow/core/common_runtime/executor.cc:1197] [/device:CPU:0] (DEBUG INFO) Executor start aborting (this does not indicate an error and you can ignore this message): INVALID_ARGUMENT: You must feed a value for placeholder tensor 'Placeholder/_1' with dtype string and shape [1000]\n",
      "\t [[{{node Placeholder/_1}}]]\n",
      "2023-07-28 22:51:26.445964: I tensorflow/core/common_runtime/executor.cc:1197] [/device:CPU:0] (DEBUG INFO) Executor start aborting (this does not indicate an error and you can ignore this message): INVALID_ARGUMENT: You must feed a value for placeholder tensor 'Placeholder/_1' with dtype string and shape [1000]\n",
      "\t [[{{node Placeholder/_1}}]]\n",
      "2023-07-28 22:52:05.458583: I tensorflow/core/common_runtime/executor.cc:1197] [/device:CPU:0] (DEBUG INFO) Executor start aborting (this does not indicate an error and you can ignore this message): INVALID_ARGUMENT: You must feed a value for placeholder tensor 'Placeholder/_1' with dtype string and shape [1000]\n",
      "\t [[{{node Placeholder/_1}}]]\n"
     ]
    },
    {
     "name": "stdout",
     "output_type": "stream",
     "text": [
      "current loss 0.0065523386\n",
      "Min vall loss 0.0039583016\n",
      "Saving checkpoint at epoch:25\n",
      "Step: 789, Train Loss:0.0009557523881085217 , Val Loss:0.006552338600158691\n",
      "Epoch: 25, Train Loss:0.0009557523881085217 , Val Loss:0.006552338600158691\n"
     ]
    },
    {
     "name": "stderr",
     "output_type": "stream",
     "text": [
      "2023-07-28 22:52:39.628998: I tensorflow/core/grappler/optimizers/data/replicate_on_split.cc:32] Running replicate on split optimization\n",
      "2023-07-28 22:52:39.633520: I tensorflow/core/common_runtime/executor.cc:1197] [/device:CPU:0] (DEBUG INFO) Executor start aborting (this does not indicate an error and you can ignore this message): INVALID_ARGUMENT: You must feed a value for placeholder tensor 'Placeholder/_4' with dtype string and shape [10000]\n",
      "\t [[{{node Placeholder/_4}}]]\n",
      "2023-07-28 22:52:42.247287: I tensorflow/core/common_runtime/executor.cc:1197] [/device:CPU:0] (DEBUG INFO) Executor start aborting (this does not indicate an error and you can ignore this message): INVALID_ARGUMENT: You must feed a value for placeholder tensor 'Placeholder/_1' with dtype string and shape [1000]\n",
      "\t [[{{node Placeholder/_1}}]]\n",
      "2023-07-28 22:53:19.497673: I tensorflow/core/common_runtime/executor.cc:1197] [/device:CPU:0] (DEBUG INFO) Executor start aborting (this does not indicate an error and you can ignore this message): INVALID_ARGUMENT: You must feed a value for placeholder tensor 'Placeholder/_1' with dtype string and shape [1000]\n",
      "\t [[{{node Placeholder/_1}}]]\n",
      "2023-07-28 22:53:57.264079: I tensorflow/core/common_runtime/executor.cc:1197] [/device:CPU:0] (DEBUG INFO) Executor start aborting (this does not indicate an error and you can ignore this message): INVALID_ARGUMENT: You must feed a value for placeholder tensor 'Placeholder/_1' with dtype string and shape [1000]\n",
      "\t [[{{node Placeholder/_1}}]]\n",
      "2023-07-28 22:54:34.200569: I tensorflow/core/common_runtime/executor.cc:1197] [/device:CPU:0] (DEBUG INFO) Executor start aborting (this does not indicate an error and you can ignore this message): INVALID_ARGUMENT: You must feed a value for placeholder tensor 'Placeholder/_1' with dtype string and shape [1000]\n",
      "\t [[{{node Placeholder/_1}}]]\n",
      "2023-07-28 22:55:13.701696: I tensorflow/core/common_runtime/executor.cc:1197] [/device:CPU:0] (DEBUG INFO) Executor start aborting (this does not indicate an error and you can ignore this message): INVALID_ARGUMENT: You must feed a value for placeholder tensor 'Placeholder/_1' with dtype string and shape [1000]\n",
      "\t [[{{node Placeholder/_1}}]]\n",
      "2023-07-28 22:55:49.735244: I tensorflow/core/common_runtime/executor.cc:1197] [/device:CPU:0] (DEBUG INFO) Executor start aborting (this does not indicate an error and you can ignore this message): INVALID_ARGUMENT: You must feed a value for placeholder tensor 'Placeholder/_1' with dtype string and shape [1000]\n",
      "\t [[{{node Placeholder/_1}}]]\n",
      "2023-07-28 22:56:24.803611: I tensorflow/core/common_runtime/executor.cc:1197] [/device:CPU:0] (DEBUG INFO) Executor start aborting (this does not indicate an error and you can ignore this message): INVALID_ARGUMENT: You must feed a value for placeholder tensor 'Placeholder/_1' with dtype string and shape [1000]\n",
      "\t [[{{node Placeholder/_1}}]]\n",
      "2023-07-28 22:57:02.846044: I tensorflow/core/common_runtime/executor.cc:1197] [/device:CPU:0] (DEBUG INFO) Executor start aborting (this does not indicate an error and you can ignore this message): INVALID_ARGUMENT: You must feed a value for placeholder tensor 'Placeholder/_1' with dtype string and shape [1000]\n",
      "\t [[{{node Placeholder/_1}}]]\n"
     ]
    },
    {
     "name": "stdout",
     "output_type": "stream",
     "text": [
      "current loss 0.007685214\n",
      "Min vall loss 0.0039583016\n",
      "Epoch: 26, Train Loss:0.0009355697548016906 , Val Loss:0.007685213815420866\n"
     ]
    },
    {
     "name": "stderr",
     "output_type": "stream",
     "text": [
      "2023-07-28 22:57:35.133535: I tensorflow/core/grappler/optimizers/data/replicate_on_split.cc:32] Running replicate on split optimization\n",
      "2023-07-28 22:57:35.138567: I tensorflow/core/common_runtime/executor.cc:1197] [/device:CPU:0] (DEBUG INFO) Executor start aborting (this does not indicate an error and you can ignore this message): INVALID_ARGUMENT: You must feed a value for placeholder tensor 'Placeholder/_4' with dtype string and shape [10000]\n",
      "\t [[{{node Placeholder/_4}}]]\n",
      "2023-07-28 22:57:37.848792: I tensorflow/core/common_runtime/executor.cc:1197] [/device:CPU:0] (DEBUG INFO) Executor start aborting (this does not indicate an error and you can ignore this message): INVALID_ARGUMENT: You must feed a value for placeholder tensor 'Placeholder/_1' with dtype string and shape [1000]\n",
      "\t [[{{node Placeholder/_1}}]]\n",
      "2023-07-28 22:58:14.577242: I tensorflow/core/common_runtime/executor.cc:1197] [/device:CPU:0] (DEBUG INFO) Executor start aborting (this does not indicate an error and you can ignore this message): INVALID_ARGUMENT: You must feed a value for placeholder tensor 'Placeholder/_1' with dtype string and shape [1000]\n",
      "\t [[{{node Placeholder/_1}}]]\n",
      "2023-07-28 22:58:51.343716: I tensorflow/core/common_runtime/executor.cc:1197] [/device:CPU:0] (DEBUG INFO) Executor start aborting (this does not indicate an error and you can ignore this message): INVALID_ARGUMENT: You must feed a value for placeholder tensor 'Placeholder/_1' with dtype string and shape [1000]\n",
      "\t [[{{node Placeholder/_1}}]]\n",
      "2023-07-28 22:59:27.210666: I tensorflow/core/common_runtime/executor.cc:1197] [/device:CPU:0] (DEBUG INFO) Executor start aborting (this does not indicate an error and you can ignore this message): INVALID_ARGUMENT: You must feed a value for placeholder tensor 'Placeholder/_1' with dtype string and shape [1000]\n",
      "\t [[{{node Placeholder/_1}}]]\n",
      "2023-07-28 23:00:04.889581: I tensorflow/core/common_runtime/executor.cc:1197] [/device:CPU:0] (DEBUG INFO) Executor start aborting (this does not indicate an error and you can ignore this message): INVALID_ARGUMENT: You must feed a value for placeholder tensor 'Placeholder/_1' with dtype string and shape [1000]\n",
      "\t [[{{node Placeholder/_1}}]]\n",
      "2023-07-28 23:00:42.196378: I tensorflow/core/common_runtime/executor.cc:1197] [/device:CPU:0] (DEBUG INFO) Executor start aborting (this does not indicate an error and you can ignore this message): INVALID_ARGUMENT: You must feed a value for placeholder tensor 'Placeholder/_1' with dtype string and shape [1000]\n",
      "\t [[{{node Placeholder/_1}}]]\n",
      "2023-07-28 23:01:18.954159: I tensorflow/core/common_runtime/executor.cc:1197] [/device:CPU:0] (DEBUG INFO) Executor start aborting (this does not indicate an error and you can ignore this message): INVALID_ARGUMENT: You must feed a value for placeholder tensor 'Placeholder/_1' with dtype string and shape [1000]\n",
      "\t [[{{node Placeholder/_1}}]]\n",
      "2023-07-28 23:01:58.430147: I tensorflow/core/common_runtime/executor.cc:1197] [/device:CPU:0] (DEBUG INFO) Executor start aborting (this does not indicate an error and you can ignore this message): INVALID_ARGUMENT: You must feed a value for placeholder tensor 'Placeholder/_1' with dtype string and shape [1000]\n",
      "\t [[{{node Placeholder/_1}}]]\n"
     ]
    },
    {
     "name": "stdout",
     "output_type": "stream",
     "text": [
      "current loss 0.09722182\n",
      "Min vall loss 0.0039583016\n",
      "Epoch: 27, Train Loss:0.0032427043188363314 , Val Loss:0.09722182154655457\n"
     ]
    },
    {
     "name": "stderr",
     "output_type": "stream",
     "text": [
      "2023-07-28 23:02:30.030093: I tensorflow/core/grappler/optimizers/data/replicate_on_split.cc:32] Running replicate on split optimization\n",
      "2023-07-28 23:02:30.035744: I tensorflow/core/common_runtime/executor.cc:1197] [/device:CPU:0] (DEBUG INFO) Executor start aborting (this does not indicate an error and you can ignore this message): INVALID_ARGUMENT: You must feed a value for placeholder tensor 'Placeholder/_5' with dtype string and shape [10000]\n",
      "\t [[{{node Placeholder/_5}}]]\n",
      "2023-07-28 23:02:32.620647: I tensorflow/core/common_runtime/executor.cc:1197] [/device:CPU:0] (DEBUG INFO) Executor start aborting (this does not indicate an error and you can ignore this message): INVALID_ARGUMENT: You must feed a value for placeholder tensor 'Placeholder/_1' with dtype string and shape [1000]\n",
      "\t [[{{node Placeholder/_1}}]]\n",
      "2023-07-28 23:03:08.730486: I tensorflow/core/common_runtime/executor.cc:1197] [/device:CPU:0] (DEBUG INFO) Executor start aborting (this does not indicate an error and you can ignore this message): INVALID_ARGUMENT: You must feed a value for placeholder tensor 'Placeholder/_1' with dtype string and shape [1000]\n",
      "\t [[{{node Placeholder/_1}}]]\n",
      "2023-07-28 23:03:50.387580: I tensorflow/core/kernels/data/shuffle_dataset_op.cc:392] Filling up shuffle buffer (this may take a while): 184 of 10000\n",
      "2023-07-28 23:04:00.415889: I tensorflow/core/kernels/data/shuffle_dataset_op.cc:392] Filling up shuffle buffer (this may take a while): 428 of 10000\n",
      "2023-07-28 23:04:10.406697: I tensorflow/core/kernels/data/shuffle_dataset_op.cc:392] Filling up shuffle buffer (this may take a while): 727 of 10000\n",
      "2023-07-28 23:04:20.390356: I tensorflow/core/kernels/data/shuffle_dataset_op.cc:392] Filling up shuffle buffer (this may take a while): 1018 of 10000\n",
      "2023-07-28 23:04:30.435761: I tensorflow/core/kernels/data/shuffle_dataset_op.cc:392] Filling up shuffle buffer (this may take a while): 1346 of 10000\n",
      "2023-07-28 23:04:40.395688: I tensorflow/core/kernels/data/shuffle_dataset_op.cc:392] Filling up shuffle buffer (this may take a while): 1719 of 10000\n",
      "2023-07-28 23:04:50.397843: I tensorflow/core/kernels/data/shuffle_dataset_op.cc:392] Filling up shuffle buffer (this may take a while): 2103 of 10000\n",
      "2023-07-28 23:05:00.392881: I tensorflow/core/kernels/data/shuffle_dataset_op.cc:392] Filling up shuffle buffer (this may take a while): 2503 of 10000\n",
      "2023-07-28 23:05:10.388711: I tensorflow/core/kernels/data/shuffle_dataset_op.cc:392] Filling up shuffle buffer (this may take a while): 2889 of 10000\n",
      "2023-07-28 23:05:20.426912: I tensorflow/core/kernels/data/shuffle_dataset_op.cc:392] Filling up shuffle buffer (this may take a while): 3215 of 10000\n",
      "2023-07-28 23:05:30.391605: I tensorflow/core/kernels/data/shuffle_dataset_op.cc:392] Filling up shuffle buffer (this may take a while): 3573 of 10000\n",
      "2023-07-28 23:05:40.396585: I tensorflow/core/kernels/data/shuffle_dataset_op.cc:392] Filling up shuffle buffer (this may take a while): 3942 of 10000\n",
      "2023-07-28 23:05:50.404702: I tensorflow/core/kernels/data/shuffle_dataset_op.cc:392] Filling up shuffle buffer (this may take a while): 4317 of 10000\n",
      "2023-07-28 23:06:00.383299: I tensorflow/core/kernels/data/shuffle_dataset_op.cc:392] Filling up shuffle buffer (this may take a while): 4702 of 10000\n",
      "2023-07-28 23:06:10.423769: I tensorflow/core/kernels/data/shuffle_dataset_op.cc:392] Filling up shuffle buffer (this may take a while): 5097 of 10000\n",
      "2023-07-28 23:06:20.420732: I tensorflow/core/kernels/data/shuffle_dataset_op.cc:392] Filling up shuffle buffer (this may take a while): 5506 of 10000\n",
      "2023-07-28 23:06:30.397749: I tensorflow/core/kernels/data/shuffle_dataset_op.cc:392] Filling up shuffle buffer (this may take a while): 5908 of 10000\n",
      "2023-07-28 23:06:40.405741: I tensorflow/core/kernels/data/shuffle_dataset_op.cc:392] Filling up shuffle buffer (this may take a while): 6283 of 10000\n",
      "2023-07-28 23:06:50.519702: I tensorflow/core/kernels/data/shuffle_dataset_op.cc:392] Filling up shuffle buffer (this may take a while): 6715 of 10000\n",
      "2023-07-28 23:07:00.388638: I tensorflow/core/kernels/data/shuffle_dataset_op.cc:392] Filling up shuffle buffer (this may take a while): 7117 of 10000\n",
      "2023-07-28 23:07:10.387665: I tensorflow/core/kernels/data/shuffle_dataset_op.cc:392] Filling up shuffle buffer (this may take a while): 7572 of 10000\n",
      "2023-07-28 23:07:20.391141: I tensorflow/core/kernels/data/shuffle_dataset_op.cc:392] Filling up shuffle buffer (this may take a while): 7976 of 10000\n",
      "2023-07-28 23:07:30.388671: I tensorflow/core/kernels/data/shuffle_dataset_op.cc:392] Filling up shuffle buffer (this may take a while): 8426 of 10000\n",
      "2023-07-28 23:07:40.410121: I tensorflow/core/kernels/data/shuffle_dataset_op.cc:392] Filling up shuffle buffer (this may take a while): 8835 of 10000\n",
      "2023-07-28 23:07:50.394785: I tensorflow/core/kernels/data/shuffle_dataset_op.cc:392] Filling up shuffle buffer (this may take a while): 9202 of 10000\n",
      "2023-07-28 23:08:00.383210: I tensorflow/core/kernels/data/shuffle_dataset_op.cc:392] Filling up shuffle buffer (this may take a while): 9616 of 10000\n",
      "2023-07-28 23:08:09.651722: I tensorflow/core/kernels/data/shuffle_dataset_op.cc:417] Shuffle buffer filled.\n",
      "2023-07-28 23:08:15.290201: I tensorflow/core/common_runtime/executor.cc:1197] [/device:CPU:0] (DEBUG INFO) Executor start aborting (this does not indicate an error and you can ignore this message): INVALID_ARGUMENT: You must feed a value for placeholder tensor 'Placeholder/_1' with dtype string and shape [1000]\n",
      "\t [[{{node Placeholder/_1}}]]\n",
      "2023-07-28 23:08:54.722610: I tensorflow/core/common_runtime/executor.cc:1197] [/device:CPU:0] (DEBUG INFO) Executor start aborting (this does not indicate an error and you can ignore this message): INVALID_ARGUMENT: You must feed a value for placeholder tensor 'Placeholder/_1' with dtype string and shape [1000]\n",
      "\t [[{{node Placeholder/_1}}]]\n",
      "2023-07-28 23:09:32.421972: I tensorflow/core/common_runtime/executor.cc:1197] [/device:CPU:0] (DEBUG INFO) Executor start aborting (this does not indicate an error and you can ignore this message): INVALID_ARGUMENT: You must feed a value for placeholder tensor 'Placeholder/_1' with dtype string and shape [1000]\n",
      "\t [[{{node Placeholder/_1}}]]\n",
      "2023-07-28 23:10:08.729017: I tensorflow/core/common_runtime/executor.cc:1197] [/device:CPU:0] (DEBUG INFO) Executor start aborting (this does not indicate an error and you can ignore this message): INVALID_ARGUMENT: You must feed a value for placeholder tensor 'Placeholder/_1' with dtype string and shape [1000]\n",
      "\t [[{{node Placeholder/_1}}]]\n",
      "2023-07-28 23:10:44.077465: I tensorflow/core/common_runtime/executor.cc:1197] [/device:CPU:0] (DEBUG INFO) Executor start aborting (this does not indicate an error and you can ignore this message): INVALID_ARGUMENT: You must feed a value for placeholder tensor 'Placeholder/_1' with dtype string and shape [1000]\n",
      "\t [[{{node Placeholder/_1}}]]\n",
      "2023-07-28 23:11:21.435645: I tensorflow/core/common_runtime/executor.cc:1197] [/device:CPU:0] (DEBUG INFO) Executor start aborting (this does not indicate an error and you can ignore this message): INVALID_ARGUMENT: You must feed a value for placeholder tensor 'Placeholder/_1' with dtype string and shape [1000]\n",
      "\t [[{{node Placeholder/_1}}]]\n"
     ]
    },
    {
     "name": "stdout",
     "output_type": "stream",
     "text": [
      "current loss 0.0049465788\n",
      "Min vall loss 0.0039583016\n",
      "Epoch: 28, Train Loss:0.0009385774610564113 , Val Loss:0.00494657875970006\n"
     ]
    },
    {
     "name": "stderr",
     "output_type": "stream",
     "text": [
      "2023-07-28 23:11:54.127938: I tensorflow/core/grappler/optimizers/data/replicate_on_split.cc:32] Running replicate on split optimization\n",
      "2023-07-28 23:11:54.131349: I tensorflow/core/common_runtime/executor.cc:1197] [/device:CPU:0] (DEBUG INFO) Executor start aborting (this does not indicate an error and you can ignore this message): INVALID_ARGUMENT: You must feed a value for placeholder tensor 'Placeholder/_4' with dtype string and shape [10000]\n",
      "\t [[{{node Placeholder/_4}}]]\n",
      "2023-07-28 23:11:56.416522: I tensorflow/core/common_runtime/executor.cc:1197] [/device:CPU:0] (DEBUG INFO) Executor start aborting (this does not indicate an error and you can ignore this message): INVALID_ARGUMENT: You must feed a value for placeholder tensor 'Placeholder/_1' with dtype string and shape [1000]\n",
      "\t [[{{node Placeholder/_1}}]]\n",
      "2023-07-28 23:12:32.574092: I tensorflow/core/common_runtime/executor.cc:1197] [/device:CPU:0] (DEBUG INFO) Executor start aborting (this does not indicate an error and you can ignore this message): INVALID_ARGUMENT: You must feed a value for placeholder tensor 'Placeholder/_1' with dtype string and shape [1000]\n",
      "\t [[{{node Placeholder/_1}}]]\n",
      "2023-07-28 23:13:09.242077: I tensorflow/core/common_runtime/executor.cc:1197] [/device:CPU:0] (DEBUG INFO) Executor start aborting (this does not indicate an error and you can ignore this message): INVALID_ARGUMENT: You must feed a value for placeholder tensor 'Placeholder/_1' with dtype string and shape [1000]\n",
      "\t [[{{node Placeholder/_1}}]]\n",
      "2023-07-28 23:13:44.806876: I tensorflow/core/common_runtime/executor.cc:1197] [/device:CPU:0] (DEBUG INFO) Executor start aborting (this does not indicate an error and you can ignore this message): INVALID_ARGUMENT: You must feed a value for placeholder tensor 'Placeholder/_1' with dtype string and shape [1000]\n",
      "\t [[{{node Placeholder/_1}}]]\n",
      "2023-07-28 23:14:22.813528: I tensorflow/core/common_runtime/executor.cc:1197] [/device:CPU:0] (DEBUG INFO) Executor start aborting (this does not indicate an error and you can ignore this message): INVALID_ARGUMENT: You must feed a value for placeholder tensor 'Placeholder/_1' with dtype string and shape [1000]\n",
      "\t [[{{node Placeholder/_1}}]]\n",
      "2023-07-28 23:14:58.942078: I tensorflow/core/common_runtime/executor.cc:1197] [/device:CPU:0] (DEBUG INFO) Executor start aborting (this does not indicate an error and you can ignore this message): INVALID_ARGUMENT: You must feed a value for placeholder tensor 'Placeholder/_1' with dtype string and shape [1000]\n",
      "\t [[{{node Placeholder/_1}}]]\n",
      "2023-07-28 23:15:35.754675: I tensorflow/core/common_runtime/executor.cc:1197] [/device:CPU:0] (DEBUG INFO) Executor start aborting (this does not indicate an error and you can ignore this message): INVALID_ARGUMENT: You must feed a value for placeholder tensor 'Placeholder/_1' with dtype string and shape [1000]\n",
      "\t [[{{node Placeholder/_1}}]]\n",
      "2023-07-28 23:16:13.307139: I tensorflow/core/common_runtime/executor.cc:1197] [/device:CPU:0] (DEBUG INFO) Executor start aborting (this does not indicate an error and you can ignore this message): INVALID_ARGUMENT: You must feed a value for placeholder tensor 'Placeholder/_1' with dtype string and shape [1000]\n",
      "\t [[{{node Placeholder/_1}}]]\n"
     ]
    },
    {
     "name": "stdout",
     "output_type": "stream",
     "text": [
      "current loss 0.011521165\n",
      "Min vall loss 0.0039583016\n",
      "Epoch: 29, Train Loss:0.0009096835274249315 , Val Loss:0.011521165259182453\n"
     ]
    },
    {
     "name": "stderr",
     "output_type": "stream",
     "text": [
      "2023-07-28 23:16:45.930430: I tensorflow/core/grappler/optimizers/data/replicate_on_split.cc:32] Running replicate on split optimization\n",
      "2023-07-28 23:16:45.933706: I tensorflow/core/common_runtime/executor.cc:1197] [/device:CPU:0] (DEBUG INFO) Executor start aborting (this does not indicate an error and you can ignore this message): INVALID_ARGUMENT: You must feed a value for placeholder tensor 'Placeholder/_4' with dtype string and shape [10000]\n",
      "\t [[{{node Placeholder/_4}}]]\n",
      "2023-07-28 23:16:48.259109: I tensorflow/core/common_runtime/executor.cc:1197] [/device:CPU:0] (DEBUG INFO) Executor start aborting (this does not indicate an error and you can ignore this message): INVALID_ARGUMENT: You must feed a value for placeholder tensor 'Placeholder/_1' with dtype string and shape [1000]\n",
      "\t [[{{node Placeholder/_1}}]]\n",
      "2023-07-28 23:17:24.224681: I tensorflow/core/common_runtime/executor.cc:1197] [/device:CPU:0] (DEBUG INFO) Executor start aborting (this does not indicate an error and you can ignore this message): INVALID_ARGUMENT: You must feed a value for placeholder tensor 'Placeholder/_1' with dtype string and shape [1000]\n",
      "\t [[{{node Placeholder/_1}}]]\n",
      "2023-07-28 23:18:01.169544: I tensorflow/core/common_runtime/executor.cc:1197] [/device:CPU:0] (DEBUG INFO) Executor start aborting (this does not indicate an error and you can ignore this message): INVALID_ARGUMENT: You must feed a value for placeholder tensor 'Placeholder/_1' with dtype string and shape [1000]\n",
      "\t [[{{node Placeholder/_1}}]]\n",
      "2023-07-28 23:18:38.488617: I tensorflow/core/common_runtime/executor.cc:1197] [/device:CPU:0] (DEBUG INFO) Executor start aborting (this does not indicate an error and you can ignore this message): INVALID_ARGUMENT: You must feed a value for placeholder tensor 'Placeholder/_1' with dtype string and shape [1000]\n",
      "\t [[{{node Placeholder/_1}}]]\n",
      "2023-07-28 23:19:17.536252: I tensorflow/core/common_runtime/executor.cc:1197] [/device:CPU:0] (DEBUG INFO) Executor start aborting (this does not indicate an error and you can ignore this message): INVALID_ARGUMENT: You must feed a value for placeholder tensor 'Placeholder/_1' with dtype string and shape [1000]\n",
      "\t [[{{node Placeholder/_1}}]]\n",
      "2023-07-28 23:19:51.887359: I tensorflow/core/common_runtime/executor.cc:1197] [/device:CPU:0] (DEBUG INFO) Executor start aborting (this does not indicate an error and you can ignore this message): INVALID_ARGUMENT: You must feed a value for placeholder tensor 'Placeholder/_1' with dtype string and shape [1000]\n",
      "\t [[{{node Placeholder/_1}}]]\n",
      "2023-07-28 23:20:23.988323: I tensorflow/core/common_runtime/executor.cc:1197] [/device:CPU:0] (DEBUG INFO) Executor start aborting (this does not indicate an error and you can ignore this message): INVALID_ARGUMENT: You must feed a value for placeholder tensor 'Placeholder/_1' with dtype string and shape [1000]\n",
      "\t [[{{node Placeholder/_1}}]]\n",
      "2023-07-28 23:21:01.906895: I tensorflow/core/common_runtime/executor.cc:1197] [/device:CPU:0] (DEBUG INFO) Executor start aborting (this does not indicate an error and you can ignore this message): INVALID_ARGUMENT: You must feed a value for placeholder tensor 'Placeholder/_1' with dtype string and shape [1000]\n",
      "\t [[{{node Placeholder/_1}}]]\n"
     ]
    },
    {
     "name": "stdout",
     "output_type": "stream",
     "text": [
      "current loss 0.017230215\n",
      "Min vall loss 0.0039583016\n",
      "Time taken for 10 epochs: 3240.66 sec\n",
      "\n",
      "Reached epoch: 30\n",
      "Epoch: 30, Train Loss:0.0008255043649114668 , Val Loss:0.017230214551091194\n"
     ]
    },
    {
     "name": "stderr",
     "output_type": "stream",
     "text": [
      "2023-07-28 23:21:34.190511: I tensorflow/core/grappler/optimizers/data/replicate_on_split.cc:32] Running replicate on split optimization\n",
      "2023-07-28 23:21:34.195176: I tensorflow/core/common_runtime/executor.cc:1197] [/device:CPU:0] (DEBUG INFO) Executor start aborting (this does not indicate an error and you can ignore this message): INVALID_ARGUMENT: You must feed a value for placeholder tensor 'Placeholder/_4' with dtype string and shape [10000]\n",
      "\t [[{{node Placeholder/_4}}]]\n",
      "2023-07-28 23:21:36.760161: I tensorflow/core/common_runtime/executor.cc:1197] [/device:CPU:0] (DEBUG INFO) Executor start aborting (this does not indicate an error and you can ignore this message): INVALID_ARGUMENT: You must feed a value for placeholder tensor 'Placeholder/_1' with dtype string and shape [1000]\n",
      "\t [[{{node Placeholder/_1}}]]\n",
      "2023-07-28 23:22:12.259447: I tensorflow/core/common_runtime/executor.cc:1197] [/device:CPU:0] (DEBUG INFO) Executor start aborting (this does not indicate an error and you can ignore this message): INVALID_ARGUMENT: You must feed a value for placeholder tensor 'Placeholder/_1' with dtype string and shape [1000]\n",
      "\t [[{{node Placeholder/_1}}]]\n",
      "2023-07-28 23:22:48.509493: I tensorflow/core/common_runtime/executor.cc:1197] [/device:CPU:0] (DEBUG INFO) Executor start aborting (this does not indicate an error and you can ignore this message): INVALID_ARGUMENT: You must feed a value for placeholder tensor 'Placeholder/_1' with dtype string and shape [1000]\n",
      "\t [[{{node Placeholder/_1}}]]\n",
      "2023-07-28 23:23:25.098319: I tensorflow/core/common_runtime/executor.cc:1197] [/device:CPU:0] (DEBUG INFO) Executor start aborting (this does not indicate an error and you can ignore this message): INVALID_ARGUMENT: You must feed a value for placeholder tensor 'Placeholder/_1' with dtype string and shape [1000]\n",
      "\t [[{{node Placeholder/_1}}]]\n",
      "2023-07-28 23:24:03.879387: I tensorflow/core/common_runtime/executor.cc:1197] [/device:CPU:0] (DEBUG INFO) Executor start aborting (this does not indicate an error and you can ignore this message): INVALID_ARGUMENT: You must feed a value for placeholder tensor 'Placeholder/_1' with dtype string and shape [1000]\n",
      "\t [[{{node Placeholder/_1}}]]\n",
      "2023-07-28 23:24:39.715068: I tensorflow/core/common_runtime/executor.cc:1197] [/device:CPU:0] (DEBUG INFO) Executor start aborting (this does not indicate an error and you can ignore this message): INVALID_ARGUMENT: You must feed a value for placeholder tensor 'Placeholder/_1' with dtype string and shape [1000]\n",
      "\t [[{{node Placeholder/_1}}]]\n",
      "2023-07-28 23:25:16.247854: I tensorflow/core/common_runtime/executor.cc:1197] [/device:CPU:0] (DEBUG INFO) Executor start aborting (this does not indicate an error and you can ignore this message): INVALID_ARGUMENT: You must feed a value for placeholder tensor 'Placeholder/_1' with dtype string and shape [1000]\n",
      "\t [[{{node Placeholder/_1}}]]\n",
      "2023-07-28 23:25:55.329614: I tensorflow/core/common_runtime/executor.cc:1197] [/device:CPU:0] (DEBUG INFO) Executor start aborting (this does not indicate an error and you can ignore this message): INVALID_ARGUMENT: You must feed a value for placeholder tensor 'Placeholder/_1' with dtype string and shape [1000]\n",
      "\t [[{{node Placeholder/_1}}]]\n"
     ]
    },
    {
     "name": "stdout",
     "output_type": "stream",
     "text": [
      "current loss 0.031218005\n",
      "Min vall loss 0.0039583016\n",
      "Epoch: 31, Train Loss:0.00101201341021806 , Val Loss:0.03121800534427166\n"
     ]
    },
    {
     "name": "stderr",
     "output_type": "stream",
     "text": [
      "2023-07-28 23:26:26.766027: I tensorflow/core/grappler/optimizers/data/replicate_on_split.cc:32] Running replicate on split optimization\n",
      "2023-07-28 23:26:26.769425: I tensorflow/core/common_runtime/executor.cc:1197] [/device:CPU:0] (DEBUG INFO) Executor start aborting (this does not indicate an error and you can ignore this message): INVALID_ARGUMENT: You must feed a value for placeholder tensor 'Placeholder/_5' with dtype string and shape [10000]\n",
      "\t [[{{node Placeholder/_5}}]]\n",
      "2023-07-28 23:26:29.118184: I tensorflow/core/common_runtime/executor.cc:1197] [/device:CPU:0] (DEBUG INFO) Executor start aborting (this does not indicate an error and you can ignore this message): INVALID_ARGUMENT: You must feed a value for placeholder tensor 'Placeholder/_1' with dtype string and shape [1000]\n",
      "\t [[{{node Placeholder/_1}}]]\n",
      "2023-07-28 23:27:05.439607: I tensorflow/core/common_runtime/executor.cc:1197] [/device:CPU:0] (DEBUG INFO) Executor start aborting (this does not indicate an error and you can ignore this message): INVALID_ARGUMENT: You must feed a value for placeholder tensor 'Placeholder/_1' with dtype string and shape [1000]\n",
      "\t [[{{node Placeholder/_1}}]]\n",
      "2023-07-28 23:27:40.245637: I tensorflow/core/common_runtime/executor.cc:1197] [/device:CPU:0] (DEBUG INFO) Executor start aborting (this does not indicate an error and you can ignore this message): INVALID_ARGUMENT: You must feed a value for placeholder tensor 'Placeholder/_1' with dtype string and shape [1000]\n",
      "\t [[{{node Placeholder/_1}}]]\n",
      "2023-07-28 23:28:16.307162: I tensorflow/core/common_runtime/executor.cc:1197] [/device:CPU:0] (DEBUG INFO) Executor start aborting (this does not indicate an error and you can ignore this message): INVALID_ARGUMENT: You must feed a value for placeholder tensor 'Placeholder/_1' with dtype string and shape [1000]\n",
      "\t [[{{node Placeholder/_1}}]]\n",
      "2023-07-28 23:28:55.612581: I tensorflow/core/common_runtime/executor.cc:1197] [/device:CPU:0] (DEBUG INFO) Executor start aborting (this does not indicate an error and you can ignore this message): INVALID_ARGUMENT: You must feed a value for placeholder tensor 'Placeholder/_1' with dtype string and shape [1000]\n",
      "\t [[{{node Placeholder/_1}}]]\n",
      "2023-07-28 23:29:32.386057: I tensorflow/core/common_runtime/executor.cc:1197] [/device:CPU:0] (DEBUG INFO) Executor start aborting (this does not indicate an error and you can ignore this message): INVALID_ARGUMENT: You must feed a value for placeholder tensor 'Placeholder/_1' with dtype string and shape [1000]\n",
      "\t [[{{node Placeholder/_1}}]]\n",
      "2023-07-28 23:30:08.913266: I tensorflow/core/common_runtime/executor.cc:1197] [/device:CPU:0] (DEBUG INFO) Executor start aborting (this does not indicate an error and you can ignore this message): INVALID_ARGUMENT: You must feed a value for placeholder tensor 'Placeholder/_1' with dtype string and shape [1000]\n",
      "\t [[{{node Placeholder/_1}}]]\n",
      "2023-07-28 23:30:49.104220: I tensorflow/core/common_runtime/executor.cc:1197] [/device:CPU:0] (DEBUG INFO) Executor start aborting (this does not indicate an error and you can ignore this message): INVALID_ARGUMENT: You must feed a value for placeholder tensor 'Placeholder/_1' with dtype string and shape [1000]\n",
      "\t [[{{node Placeholder/_1}}]]\n"
     ]
    },
    {
     "name": "stdout",
     "output_type": "stream",
     "text": [
      "current loss 0.006256136\n",
      "Min vall loss 0.0039583016\n",
      "Epoch: 32, Train Loss:0.0010552731109783053 , Val Loss:0.0062561361119151115\n"
     ]
    },
    {
     "name": "stderr",
     "output_type": "stream",
     "text": [
      "2023-07-28 23:31:21.966968: I tensorflow/core/grappler/optimizers/data/replicate_on_split.cc:32] Running replicate on split optimization\n",
      "2023-07-28 23:31:21.971017: I tensorflow/core/common_runtime/executor.cc:1197] [/device:CPU:0] (DEBUG INFO) Executor start aborting (this does not indicate an error and you can ignore this message): INVALID_ARGUMENT: You must feed a value for placeholder tensor 'Placeholder/_5' with dtype string and shape [10000]\n",
      "\t [[{{node Placeholder/_5}}]]\n",
      "2023-07-28 23:31:24.842708: I tensorflow/core/common_runtime/executor.cc:1197] [/device:CPU:0] (DEBUG INFO) Executor start aborting (this does not indicate an error and you can ignore this message): INVALID_ARGUMENT: You must feed a value for placeholder tensor 'Placeholder/_1' with dtype string and shape [1000]\n",
      "\t [[{{node Placeholder/_1}}]]\n",
      "2023-07-28 23:32:00.383014: I tensorflow/core/common_runtime/executor.cc:1197] [/device:CPU:0] (DEBUG INFO) Executor start aborting (this does not indicate an error and you can ignore this message): INVALID_ARGUMENT: You must feed a value for placeholder tensor 'Placeholder/_1' with dtype string and shape [1000]\n",
      "\t [[{{node Placeholder/_1}}]]\n",
      "2023-07-28 23:32:35.865908: I tensorflow/core/common_runtime/executor.cc:1197] [/device:CPU:0] (DEBUG INFO) Executor start aborting (this does not indicate an error and you can ignore this message): INVALID_ARGUMENT: You must feed a value for placeholder tensor 'Placeholder/_1' with dtype string and shape [1000]\n",
      "\t [[{{node Placeholder/_1}}]]\n",
      "2023-07-28 23:33:12.637131: I tensorflow/core/common_runtime/executor.cc:1197] [/device:CPU:0] (DEBUG INFO) Executor start aborting (this does not indicate an error and you can ignore this message): INVALID_ARGUMENT: You must feed a value for placeholder tensor 'Placeholder/_1' with dtype string and shape [1000]\n",
      "\t [[{{node Placeholder/_1}}]]\n",
      "2023-07-28 23:33:51.664648: I tensorflow/core/common_runtime/executor.cc:1197] [/device:CPU:0] (DEBUG INFO) Executor start aborting (this does not indicate an error and you can ignore this message): INVALID_ARGUMENT: You must feed a value for placeholder tensor 'Placeholder/_1' with dtype string and shape [1000]\n",
      "\t [[{{node Placeholder/_1}}]]\n",
      "2023-07-28 23:34:28.737964: I tensorflow/core/common_runtime/executor.cc:1197] [/device:CPU:0] (DEBUG INFO) Executor start aborting (this does not indicate an error and you can ignore this message): INVALID_ARGUMENT: You must feed a value for placeholder tensor 'Placeholder/_1' with dtype string and shape [1000]\n",
      "\t [[{{node Placeholder/_1}}]]\n",
      "2023-07-28 23:35:04.902297: I tensorflow/core/common_runtime/executor.cc:1197] [/device:CPU:0] (DEBUG INFO) Executor start aborting (this does not indicate an error and you can ignore this message): INVALID_ARGUMENT: You must feed a value for placeholder tensor 'Placeholder/_1' with dtype string and shape [1000]\n",
      "\t [[{{node Placeholder/_1}}]]\n",
      "2023-07-28 23:35:43.780946: I tensorflow/core/common_runtime/executor.cc:1197] [/device:CPU:0] (DEBUG INFO) Executor start aborting (this does not indicate an error and you can ignore this message): INVALID_ARGUMENT: You must feed a value for placeholder tensor 'Placeholder/_1' with dtype string and shape [1000]\n",
      "\t [[{{node Placeholder/_1}}]]\n"
     ]
    },
    {
     "name": "stdout",
     "output_type": "stream",
     "text": [
      "current loss 0.006934935\n",
      "Min vall loss 0.0039583016\n",
      "Epoch: 33, Train Loss:0.0007238068501465023 , Val Loss:0.006934935227036476\n"
     ]
    },
    {
     "name": "stderr",
     "output_type": "stream",
     "text": [
      "2023-07-28 23:36:16.675108: I tensorflow/core/grappler/optimizers/data/replicate_on_split.cc:32] Running replicate on split optimization\n",
      "2023-07-28 23:36:16.679015: I tensorflow/core/common_runtime/executor.cc:1197] [/device:CPU:0] (DEBUG INFO) Executor start aborting (this does not indicate an error and you can ignore this message): INVALID_ARGUMENT: You must feed a value for placeholder tensor 'Placeholder/_5' with dtype string and shape [10000]\n",
      "\t [[{{node Placeholder/_5}}]]\n",
      "2023-07-28 23:36:19.401171: I tensorflow/core/common_runtime/executor.cc:1197] [/device:CPU:0] (DEBUG INFO) Executor start aborting (this does not indicate an error and you can ignore this message): INVALID_ARGUMENT: You must feed a value for placeholder tensor 'Placeholder/_1' with dtype string and shape [1000]\n",
      "\t [[{{node Placeholder/_1}}]]\n",
      "2023-07-28 23:36:56.428734: I tensorflow/core/common_runtime/executor.cc:1197] [/device:CPU:0] (DEBUG INFO) Executor start aborting (this does not indicate an error and you can ignore this message): INVALID_ARGUMENT: You must feed a value for placeholder tensor 'Placeholder/_1' with dtype string and shape [1000]\n",
      "\t [[{{node Placeholder/_1}}]]\n",
      "2023-07-28 23:37:33.333325: I tensorflow/core/common_runtime/executor.cc:1197] [/device:CPU:0] (DEBUG INFO) Executor start aborting (this does not indicate an error and you can ignore this message): INVALID_ARGUMENT: You must feed a value for placeholder tensor 'Placeholder/_1' with dtype string and shape [1000]\n",
      "\t [[{{node Placeholder/_1}}]]\n",
      "2023-07-28 23:38:10.190748: I tensorflow/core/common_runtime/executor.cc:1197] [/device:CPU:0] (DEBUG INFO) Executor start aborting (this does not indicate an error and you can ignore this message): INVALID_ARGUMENT: You must feed a value for placeholder tensor 'Placeholder/_1' with dtype string and shape [1000]\n",
      "\t [[{{node Placeholder/_1}}]]\n",
      "2023-07-28 23:38:49.656538: I tensorflow/core/common_runtime/executor.cc:1197] [/device:CPU:0] (DEBUG INFO) Executor start aborting (this does not indicate an error and you can ignore this message): INVALID_ARGUMENT: You must feed a value for placeholder tensor 'Placeholder/_1' with dtype string and shape [1000]\n",
      "\t [[{{node Placeholder/_1}}]]\n",
      "2023-07-28 23:39:25.984026: I tensorflow/core/common_runtime/executor.cc:1197] [/device:CPU:0] (DEBUG INFO) Executor start aborting (this does not indicate an error and you can ignore this message): INVALID_ARGUMENT: You must feed a value for placeholder tensor 'Placeholder/_1' with dtype string and shape [1000]\n",
      "\t [[{{node Placeholder/_1}}]]\n",
      "2023-07-28 23:40:03.798414: I tensorflow/core/common_runtime/executor.cc:1197] [/device:CPU:0] (DEBUG INFO) Executor start aborting (this does not indicate an error and you can ignore this message): INVALID_ARGUMENT: You must feed a value for placeholder tensor 'Placeholder/_1' with dtype string and shape [1000]\n",
      "\t [[{{node Placeholder/_1}}]]\n",
      "2023-07-28 23:40:42.553621: I tensorflow/core/common_runtime/executor.cc:1197] [/device:CPU:0] (DEBUG INFO) Executor start aborting (this does not indicate an error and you can ignore this message): INVALID_ARGUMENT: You must feed a value for placeholder tensor 'Placeholder/_1' with dtype string and shape [1000]\n",
      "\t [[{{node Placeholder/_1}}]]\n"
     ]
    },
    {
     "name": "stdout",
     "output_type": "stream",
     "text": [
      "current loss 0.012567491\n",
      "Min vall loss 0.0039583016\n",
      "Epoch: 34, Train Loss:0.0008630095398984849 , Val Loss:0.01256749127060175\n"
     ]
    },
    {
     "name": "stderr",
     "output_type": "stream",
     "text": [
      "2023-07-28 23:41:15.282247: I tensorflow/core/grappler/optimizers/data/replicate_on_split.cc:32] Running replicate on split optimization\n",
      "2023-07-28 23:41:15.286745: I tensorflow/core/common_runtime/executor.cc:1197] [/device:CPU:0] (DEBUG INFO) Executor start aborting (this does not indicate an error and you can ignore this message): INVALID_ARGUMENT: You must feed a value for placeholder tensor 'Placeholder/_4' with dtype string and shape [10000]\n",
      "\t [[{{node Placeholder/_4}}]]\n",
      "2023-07-28 23:41:17.847857: I tensorflow/core/common_runtime/executor.cc:1197] [/device:CPU:0] (DEBUG INFO) Executor start aborting (this does not indicate an error and you can ignore this message): INVALID_ARGUMENT: You must feed a value for placeholder tensor 'Placeholder/_1' with dtype string and shape [1000]\n",
      "\t [[{{node Placeholder/_1}}]]\n",
      "2023-07-28 23:41:54.616947: I tensorflow/core/common_runtime/executor.cc:1197] [/device:CPU:0] (DEBUG INFO) Executor start aborting (this does not indicate an error and you can ignore this message): INVALID_ARGUMENT: You must feed a value for placeholder tensor 'Placeholder/_1' with dtype string and shape [1000]\n",
      "\t [[{{node Placeholder/_1}}]]\n",
      "2023-07-28 23:42:31.879033: I tensorflow/core/common_runtime/executor.cc:1197] [/device:CPU:0] (DEBUG INFO) Executor start aborting (this does not indicate an error and you can ignore this message): INVALID_ARGUMENT: You must feed a value for placeholder tensor 'Placeholder/_1' with dtype string and shape [1000]\n",
      "\t [[{{node Placeholder/_1}}]]\n",
      "2023-07-28 23:43:09.179448: I tensorflow/core/common_runtime/executor.cc:1197] [/device:CPU:0] (DEBUG INFO) Executor start aborting (this does not indicate an error and you can ignore this message): INVALID_ARGUMENT: You must feed a value for placeholder tensor 'Placeholder/_1' with dtype string and shape [1000]\n",
      "\t [[{{node Placeholder/_1}}]]\n",
      "2023-07-28 23:43:47.980904: I tensorflow/core/common_runtime/executor.cc:1197] [/device:CPU:0] (DEBUG INFO) Executor start aborting (this does not indicate an error and you can ignore this message): INVALID_ARGUMENT: You must feed a value for placeholder tensor 'Placeholder/_1' with dtype string and shape [1000]\n",
      "\t [[{{node Placeholder/_1}}]]\n",
      "2023-07-28 23:44:23.614482: I tensorflow/core/common_runtime/executor.cc:1197] [/device:CPU:0] (DEBUG INFO) Executor start aborting (this does not indicate an error and you can ignore this message): INVALID_ARGUMENT: You must feed a value for placeholder tensor 'Placeholder/_1' with dtype string and shape [1000]\n",
      "\t [[{{node Placeholder/_1}}]]\n",
      "2023-07-28 23:45:00.185293: I tensorflow/core/common_runtime/executor.cc:1197] [/device:CPU:0] (DEBUG INFO) Executor start aborting (this does not indicate an error and you can ignore this message): INVALID_ARGUMENT: You must feed a value for placeholder tensor 'Placeholder/_1' with dtype string and shape [1000]\n",
      "\t [[{{node Placeholder/_1}}]]\n",
      "2023-07-28 23:45:39.047776: I tensorflow/core/common_runtime/executor.cc:1197] [/device:CPU:0] (DEBUG INFO) Executor start aborting (this does not indicate an error and you can ignore this message): INVALID_ARGUMENT: You must feed a value for placeholder tensor 'Placeholder/_1' with dtype string and shape [1000]\n",
      "\t [[{{node Placeholder/_1}}]]\n"
     ]
    },
    {
     "name": "stdout",
     "output_type": "stream",
     "text": [
      "current loss 0.01611631\n",
      "Min vall loss 0.0039583016\n",
      "Epoch: 35, Train Loss:0.001011854619719088 , Val Loss:0.01611630991101265\n"
     ]
    },
    {
     "name": "stderr",
     "output_type": "stream",
     "text": [
      "2023-07-28 23:46:11.653048: I tensorflow/core/grappler/optimizers/data/replicate_on_split.cc:32] Running replicate on split optimization\n",
      "2023-07-28 23:46:11.657792: I tensorflow/core/common_runtime/executor.cc:1197] [/device:CPU:0] (DEBUG INFO) Executor start aborting (this does not indicate an error and you can ignore this message): INVALID_ARGUMENT: You must feed a value for placeholder tensor 'Placeholder/_5' with dtype string and shape [10000]\n",
      "\t [[{{node Placeholder/_5}}]]\n",
      "2023-07-28 23:46:14.206023: I tensorflow/core/common_runtime/executor.cc:1197] [/device:CPU:0] (DEBUG INFO) Executor start aborting (this does not indicate an error and you can ignore this message): INVALID_ARGUMENT: You must feed a value for placeholder tensor 'Placeholder/_1' with dtype string and shape [1000]\n",
      "\t [[{{node Placeholder/_1}}]]\n",
      "2023-07-28 23:46:50.419197: I tensorflow/core/common_runtime/executor.cc:1197] [/device:CPU:0] (DEBUG INFO) Executor start aborting (this does not indicate an error and you can ignore this message): INVALID_ARGUMENT: You must feed a value for placeholder tensor 'Placeholder/_1' with dtype string and shape [1000]\n",
      "\t [[{{node Placeholder/_1}}]]\n",
      "2023-07-28 23:47:26.446794: I tensorflow/core/common_runtime/executor.cc:1197] [/device:CPU:0] (DEBUG INFO) Executor start aborting (this does not indicate an error and you can ignore this message): INVALID_ARGUMENT: You must feed a value for placeholder tensor 'Placeholder/_1' with dtype string and shape [1000]\n",
      "\t [[{{node Placeholder/_1}}]]\n",
      "2023-07-28 23:48:03.194614: I tensorflow/core/common_runtime/executor.cc:1197] [/device:CPU:0] (DEBUG INFO) Executor start aborting (this does not indicate an error and you can ignore this message): INVALID_ARGUMENT: You must feed a value for placeholder tensor 'Placeholder/_1' with dtype string and shape [1000]\n",
      "\t [[{{node Placeholder/_1}}]]\n",
      "2023-07-28 23:48:41.763245: I tensorflow/core/common_runtime/executor.cc:1197] [/device:CPU:0] (DEBUG INFO) Executor start aborting (this does not indicate an error and you can ignore this message): INVALID_ARGUMENT: You must feed a value for placeholder tensor 'Placeholder/_1' with dtype string and shape [1000]\n",
      "\t [[{{node Placeholder/_1}}]]\n",
      "2023-07-28 23:49:18.775699: I tensorflow/core/common_runtime/executor.cc:1197] [/device:CPU:0] (DEBUG INFO) Executor start aborting (this does not indicate an error and you can ignore this message): INVALID_ARGUMENT: You must feed a value for placeholder tensor 'Placeholder/_1' with dtype string and shape [1000]\n",
      "\t [[{{node Placeholder/_1}}]]\n",
      "2023-07-28 23:49:55.052768: I tensorflow/core/common_runtime/executor.cc:1197] [/device:CPU:0] (DEBUG INFO) Executor start aborting (this does not indicate an error and you can ignore this message): INVALID_ARGUMENT: You must feed a value for placeholder tensor 'Placeholder/_1' with dtype string and shape [1000]\n",
      "\t [[{{node Placeholder/_1}}]]\n",
      "2023-07-28 23:50:33.498515: I tensorflow/core/common_runtime/executor.cc:1197] [/device:CPU:0] (DEBUG INFO) Executor start aborting (this does not indicate an error and you can ignore this message): INVALID_ARGUMENT: You must feed a value for placeholder tensor 'Placeholder/_1' with dtype string and shape [1000]\n",
      "\t [[{{node Placeholder/_1}}]]\n"
     ]
    },
    {
     "name": "stdout",
     "output_type": "stream",
     "text": [
      "current loss 0.0056827487\n",
      "Min vall loss 0.0039583016\n",
      "Epoch: 36, Train Loss:0.0007217237143777311 , Val Loss:0.0056827487424016\n"
     ]
    },
    {
     "name": "stderr",
     "output_type": "stream",
     "text": [
      "2023-07-28 23:51:06.881254: I tensorflow/core/grappler/optimizers/data/replicate_on_split.cc:32] Running replicate on split optimization\n",
      "2023-07-28 23:51:06.884731: I tensorflow/core/common_runtime/executor.cc:1197] [/device:CPU:0] (DEBUG INFO) Executor start aborting (this does not indicate an error and you can ignore this message): INVALID_ARGUMENT: You must feed a value for placeholder tensor 'Placeholder/_5' with dtype string and shape [10000]\n",
      "\t [[{{node Placeholder/_5}}]]\n",
      "2023-07-28 23:51:09.333690: I tensorflow/core/common_runtime/executor.cc:1197] [/device:CPU:0] (DEBUG INFO) Executor start aborting (this does not indicate an error and you can ignore this message): INVALID_ARGUMENT: You must feed a value for placeholder tensor 'Placeholder/_1' with dtype string and shape [1000]\n",
      "\t [[{{node Placeholder/_1}}]]\n",
      "2023-07-28 23:51:46.706816: I tensorflow/core/common_runtime/executor.cc:1197] [/device:CPU:0] (DEBUG INFO) Executor start aborting (this does not indicate an error and you can ignore this message): INVALID_ARGUMENT: You must feed a value for placeholder tensor 'Placeholder/_1' with dtype string and shape [1000]\n",
      "\t [[{{node Placeholder/_1}}]]\n",
      "2023-07-28 23:52:24.938899: I tensorflow/core/common_runtime/executor.cc:1197] [/device:CPU:0] (DEBUG INFO) Executor start aborting (this does not indicate an error and you can ignore this message): INVALID_ARGUMENT: You must feed a value for placeholder tensor 'Placeholder/_1' with dtype string and shape [1000]\n",
      "\t [[{{node Placeholder/_1}}]]\n",
      "2023-07-28 23:53:02.314851: I tensorflow/core/common_runtime/executor.cc:1197] [/device:CPU:0] (DEBUG INFO) Executor start aborting (this does not indicate an error and you can ignore this message): INVALID_ARGUMENT: You must feed a value for placeholder tensor 'Placeholder/_1' with dtype string and shape [1000]\n",
      "\t [[{{node Placeholder/_1}}]]\n",
      "2023-07-28 23:53:42.534369: I tensorflow/core/common_runtime/executor.cc:1197] [/device:CPU:0] (DEBUG INFO) Executor start aborting (this does not indicate an error and you can ignore this message): INVALID_ARGUMENT: You must feed a value for placeholder tensor 'Placeholder/_1' with dtype string and shape [1000]\n",
      "\t [[{{node Placeholder/_1}}]]\n",
      "2023-07-28 23:54:19.405824: I tensorflow/core/common_runtime/executor.cc:1197] [/device:CPU:0] (DEBUG INFO) Executor start aborting (this does not indicate an error and you can ignore this message): INVALID_ARGUMENT: You must feed a value for placeholder tensor 'Placeholder/_1' with dtype string and shape [1000]\n",
      "\t [[{{node Placeholder/_1}}]]\n",
      "2023-07-28 23:54:57.625132: I tensorflow/core/common_runtime/executor.cc:1197] [/device:CPU:0] (DEBUG INFO) Executor start aborting (this does not indicate an error and you can ignore this message): INVALID_ARGUMENT: You must feed a value for placeholder tensor 'Placeholder/_1' with dtype string and shape [1000]\n",
      "\t [[{{node Placeholder/_1}}]]\n",
      "2023-07-28 23:55:37.486838: I tensorflow/core/common_runtime/executor.cc:1197] [/device:CPU:0] (DEBUG INFO) Executor start aborting (this does not indicate an error and you can ignore this message): INVALID_ARGUMENT: You must feed a value for placeholder tensor 'Placeholder/_1' with dtype string and shape [1000]\n",
      "\t [[{{node Placeholder/_1}}]]\n"
     ]
    },
    {
     "name": "stdout",
     "output_type": "stream",
     "text": [
      "current loss 0.007928192\n",
      "Min vall loss 0.0039583016\n",
      "Epoch: 37, Train Loss:0.000699301774147898 , Val Loss:0.007928191684186459\n"
     ]
    },
    {
     "name": "stderr",
     "output_type": "stream",
     "text": [
      "2023-07-28 23:56:11.369107: I tensorflow/core/grappler/optimizers/data/replicate_on_split.cc:32] Running replicate on split optimization\n",
      "2023-07-28 23:56:11.372380: I tensorflow/core/common_runtime/executor.cc:1197] [/device:CPU:0] (DEBUG INFO) Executor start aborting (this does not indicate an error and you can ignore this message): INVALID_ARGUMENT: You must feed a value for placeholder tensor 'Placeholder/_5' with dtype string and shape [10000]\n",
      "\t [[{{node Placeholder/_5}}]]\n",
      "2023-07-28 23:56:13.794617: I tensorflow/core/common_runtime/executor.cc:1197] [/device:CPU:0] (DEBUG INFO) Executor start aborting (this does not indicate an error and you can ignore this message): INVALID_ARGUMENT: You must feed a value for placeholder tensor 'Placeholder/_1' with dtype string and shape [1000]\n",
      "\t [[{{node Placeholder/_1}}]]\n",
      "2023-07-28 23:56:51.357887: I tensorflow/core/common_runtime/executor.cc:1197] [/device:CPU:0] (DEBUG INFO) Executor start aborting (this does not indicate an error and you can ignore this message): INVALID_ARGUMENT: You must feed a value for placeholder tensor 'Placeholder/_1' with dtype string and shape [1000]\n",
      "\t [[{{node Placeholder/_1}}]]\n",
      "2023-07-28 23:57:29.306529: I tensorflow/core/common_runtime/executor.cc:1197] [/device:CPU:0] (DEBUG INFO) Executor start aborting (this does not indicate an error and you can ignore this message): INVALID_ARGUMENT: You must feed a value for placeholder tensor 'Placeholder/_1' with dtype string and shape [1000]\n",
      "\t [[{{node Placeholder/_1}}]]\n",
      "2023-07-28 23:58:06.236408: I tensorflow/core/common_runtime/executor.cc:1197] [/device:CPU:0] (DEBUG INFO) Executor start aborting (this does not indicate an error and you can ignore this message): INVALID_ARGUMENT: You must feed a value for placeholder tensor 'Placeholder/_1' with dtype string and shape [1000]\n",
      "\t [[{{node Placeholder/_1}}]]\n",
      "2023-07-28 23:58:49.188740: I tensorflow/core/kernels/data/shuffle_dataset_op.cc:392] Filling up shuffle buffer (this may take a while): 247 of 10000\n",
      "2023-07-28 23:58:59.328612: I tensorflow/core/kernels/data/shuffle_dataset_op.cc:392] Filling up shuffle buffer (this may take a while): 508 of 10000\n",
      "2023-07-28 23:59:09.205949: I tensorflow/core/kernels/data/shuffle_dataset_op.cc:392] Filling up shuffle buffer (this may take a while): 817 of 10000\n",
      "2023-07-28 23:59:19.205771: I tensorflow/core/kernels/data/shuffle_dataset_op.cc:392] Filling up shuffle buffer (this may take a while): 1094 of 10000\n",
      "2023-07-28 23:59:29.183638: I tensorflow/core/kernels/data/shuffle_dataset_op.cc:392] Filling up shuffle buffer (this may take a while): 1453 of 10000\n",
      "2023-07-28 23:59:39.195702: I tensorflow/core/kernels/data/shuffle_dataset_op.cc:392] Filling up shuffle buffer (this may take a while): 1843 of 10000\n",
      "2023-07-28 23:59:49.196745: I tensorflow/core/kernels/data/shuffle_dataset_op.cc:392] Filling up shuffle buffer (this may take a while): 2256 of 10000\n",
      "2023-07-28 23:59:59.187695: I tensorflow/core/kernels/data/shuffle_dataset_op.cc:392] Filling up shuffle buffer (this may take a while): 2676 of 10000\n",
      "2023-07-29 00:00:09.184663: I tensorflow/core/kernels/data/shuffle_dataset_op.cc:392] Filling up shuffle buffer (this may take a while): 3032 of 10000\n",
      "2023-07-29 00:00:19.223711: I tensorflow/core/kernels/data/shuffle_dataset_op.cc:392] Filling up shuffle buffer (this may take a while): 3357 of 10000\n",
      "2023-07-29 00:00:29.197694: I tensorflow/core/kernels/data/shuffle_dataset_op.cc:392] Filling up shuffle buffer (this may take a while): 3703 of 10000\n",
      "2023-07-29 00:00:39.195641: I tensorflow/core/kernels/data/shuffle_dataset_op.cc:392] Filling up shuffle buffer (this may take a while): 4078 of 10000\n",
      "2023-07-29 00:00:49.195689: I tensorflow/core/kernels/data/shuffle_dataset_op.cc:392] Filling up shuffle buffer (this may take a while): 4405 of 10000\n",
      "2023-07-29 00:00:59.235833: I tensorflow/core/kernels/data/shuffle_dataset_op.cc:392] Filling up shuffle buffer (this may take a while): 4764 of 10000\n",
      "2023-07-29 00:01:09.188670: I tensorflow/core/kernels/data/shuffle_dataset_op.cc:392] Filling up shuffle buffer (this may take a while): 5129 of 10000\n",
      "2023-07-29 00:01:19.184037: I tensorflow/core/kernels/data/shuffle_dataset_op.cc:392] Filling up shuffle buffer (this may take a while): 5519 of 10000\n",
      "2023-07-29 00:01:29.187903: I tensorflow/core/kernels/data/shuffle_dataset_op.cc:392] Filling up shuffle buffer (this may take a while): 5906 of 10000\n",
      "2023-07-29 00:01:39.200984: I tensorflow/core/kernels/data/shuffle_dataset_op.cc:392] Filling up shuffle buffer (this may take a while): 6285 of 10000\n",
      "2023-07-29 00:01:49.189572: I tensorflow/core/kernels/data/shuffle_dataset_op.cc:392] Filling up shuffle buffer (this may take a while): 6708 of 10000\n",
      "2023-07-29 00:01:59.205067: I tensorflow/core/kernels/data/shuffle_dataset_op.cc:392] Filling up shuffle buffer (this may take a while): 7119 of 10000\n",
      "2023-07-29 00:02:09.201559: I tensorflow/core/kernels/data/shuffle_dataset_op.cc:392] Filling up shuffle buffer (this may take a while): 7533 of 10000\n",
      "2023-07-29 00:02:19.197636: I tensorflow/core/kernels/data/shuffle_dataset_op.cc:392] Filling up shuffle buffer (this may take a while): 7892 of 10000\n",
      "2023-07-29 00:02:29.185605: I tensorflow/core/kernels/data/shuffle_dataset_op.cc:392] Filling up shuffle buffer (this may take a while): 8291 of 10000\n",
      "2023-07-29 00:02:39.191563: I tensorflow/core/kernels/data/shuffle_dataset_op.cc:392] Filling up shuffle buffer (this may take a while): 8722 of 10000\n",
      "2023-07-29 00:02:49.194759: I tensorflow/core/kernels/data/shuffle_dataset_op.cc:392] Filling up shuffle buffer (this may take a while): 9081 of 10000\n",
      "2023-07-29 00:02:59.186672: I tensorflow/core/kernels/data/shuffle_dataset_op.cc:392] Filling up shuffle buffer (this may take a while): 9520 of 10000\n",
      "2023-07-29 00:03:09.196680: I tensorflow/core/kernels/data/shuffle_dataset_op.cc:392] Filling up shuffle buffer (this may take a while): 9924 of 10000\n",
      "2023-07-29 00:03:11.088735: I tensorflow/core/kernels/data/shuffle_dataset_op.cc:417] Shuffle buffer filled.\n",
      "2023-07-29 00:03:25.198229: I tensorflow/core/common_runtime/executor.cc:1197] [/device:CPU:0] (DEBUG INFO) Executor start aborting (this does not indicate an error and you can ignore this message): INVALID_ARGUMENT: You must feed a value for placeholder tensor 'Placeholder/_1' with dtype string and shape [1000]\n",
      "\t [[{{node Placeholder/_1}}]]\n",
      "2023-07-29 00:04:03.223447: I tensorflow/core/common_runtime/executor.cc:1197] [/device:CPU:0] (DEBUG INFO) Executor start aborting (this does not indicate an error and you can ignore this message): INVALID_ARGUMENT: You must feed a value for placeholder tensor 'Placeholder/_1' with dtype string and shape [1000]\n",
      "\t [[{{node Placeholder/_1}}]]\n",
      "2023-07-29 00:04:40.839529: I tensorflow/core/common_runtime/executor.cc:1197] [/device:CPU:0] (DEBUG INFO) Executor start aborting (this does not indicate an error and you can ignore this message): INVALID_ARGUMENT: You must feed a value for placeholder tensor 'Placeholder/_1' with dtype string and shape [1000]\n",
      "\t [[{{node Placeholder/_1}}]]\n",
      "2023-07-29 00:05:20.961895: I tensorflow/core/common_runtime/executor.cc:1197] [/device:CPU:0] (DEBUG INFO) Executor start aborting (this does not indicate an error and you can ignore this message): INVALID_ARGUMENT: You must feed a value for placeholder tensor 'Placeholder/_1' with dtype string and shape [1000]\n",
      "\t [[{{node Placeholder/_1}}]]\n"
     ]
    },
    {
     "name": "stdout",
     "output_type": "stream",
     "text": [
      "current loss 0.028685272\n",
      "Min vall loss 0.0039583016\n",
      "Epoch: 38, Train Loss:0.0007042314973659813 , Val Loss:0.028685271739959717\n"
     ]
    },
    {
     "name": "stderr",
     "output_type": "stream",
     "text": [
      "2023-07-29 00:05:55.197204: I tensorflow/core/grappler/optimizers/data/replicate_on_split.cc:32] Running replicate on split optimization\n",
      "2023-07-29 00:05:55.202292: I tensorflow/core/common_runtime/executor.cc:1197] [/device:CPU:0] (DEBUG INFO) Executor start aborting (this does not indicate an error and you can ignore this message): INVALID_ARGUMENT: You must feed a value for placeholder tensor 'Placeholder/_5' with dtype string and shape [10000]\n",
      "\t [[{{node Placeholder/_5}}]]\n",
      "2023-07-29 00:05:57.634859: I tensorflow/core/common_runtime/executor.cc:1197] [/device:CPU:0] (DEBUG INFO) Executor start aborting (this does not indicate an error and you can ignore this message): INVALID_ARGUMENT: You must feed a value for placeholder tensor 'Placeholder/_1' with dtype string and shape [1000]\n",
      "\t [[{{node Placeholder/_1}}]]\n",
      "2023-07-29 00:06:35.709080: I tensorflow/core/common_runtime/executor.cc:1197] [/device:CPU:0] (DEBUG INFO) Executor start aborting (this does not indicate an error and you can ignore this message): INVALID_ARGUMENT: You must feed a value for placeholder tensor 'Placeholder/_1' with dtype string and shape [1000]\n",
      "\t [[{{node Placeholder/_1}}]]\n",
      "2023-07-29 00:07:13.629377: I tensorflow/core/common_runtime/executor.cc:1197] [/device:CPU:0] (DEBUG INFO) Executor start aborting (this does not indicate an error and you can ignore this message): INVALID_ARGUMENT: You must feed a value for placeholder tensor 'Placeholder/_1' with dtype string and shape [1000]\n",
      "\t [[{{node Placeholder/_1}}]]\n",
      "2023-07-29 00:07:51.571416: I tensorflow/core/common_runtime/executor.cc:1197] [/device:CPU:0] (DEBUG INFO) Executor start aborting (this does not indicate an error and you can ignore this message): INVALID_ARGUMENT: You must feed a value for placeholder tensor 'Placeholder/_1' with dtype string and shape [1000]\n",
      "\t [[{{node Placeholder/_1}}]]\n",
      "2023-07-29 00:08:31.261774: I tensorflow/core/common_runtime/executor.cc:1197] [/device:CPU:0] (DEBUG INFO) Executor start aborting (this does not indicate an error and you can ignore this message): INVALID_ARGUMENT: You must feed a value for placeholder tensor 'Placeholder/_1' with dtype string and shape [1000]\n",
      "\t [[{{node Placeholder/_1}}]]\n",
      "2023-07-29 00:09:09.782270: I tensorflow/core/common_runtime/executor.cc:1197] [/device:CPU:0] (DEBUG INFO) Executor start aborting (this does not indicate an error and you can ignore this message): INVALID_ARGUMENT: You must feed a value for placeholder tensor 'Placeholder/_1' with dtype string and shape [1000]\n",
      "\t [[{{node Placeholder/_1}}]]\n",
      "2023-07-29 00:09:48.705324: I tensorflow/core/common_runtime/executor.cc:1197] [/device:CPU:0] (DEBUG INFO) Executor start aborting (this does not indicate an error and you can ignore this message): INVALID_ARGUMENT: You must feed a value for placeholder tensor 'Placeholder/_1' with dtype string and shape [1000]\n",
      "\t [[{{node Placeholder/_1}}]]\n",
      "2023-07-29 00:10:28.163229: I tensorflow/core/common_runtime/executor.cc:1197] [/device:CPU:0] (DEBUG INFO) Executor start aborting (this does not indicate an error and you can ignore this message): INVALID_ARGUMENT: You must feed a value for placeholder tensor 'Placeholder/_1' with dtype string and shape [1000]\n",
      "\t [[{{node Placeholder/_1}}]]\n"
     ]
    },
    {
     "name": "stdout",
     "output_type": "stream",
     "text": [
      "current loss 0.00791097\n",
      "Min vall loss 0.0039583016\n",
      "Epoch: 39, Train Loss:0.000795672764070332 , Val Loss:0.00791096966713667\n"
     ]
    },
    {
     "name": "stderr",
     "output_type": "stream",
     "text": [
      "2023-07-29 00:11:02.456817: I tensorflow/core/grappler/optimizers/data/replicate_on_split.cc:32] Running replicate on split optimization\n",
      "2023-07-29 00:11:02.460769: I tensorflow/core/common_runtime/executor.cc:1197] [/device:CPU:0] (DEBUG INFO) Executor start aborting (this does not indicate an error and you can ignore this message): INVALID_ARGUMENT: You must feed a value for placeholder tensor 'Placeholder/_5' with dtype string and shape [10000]\n",
      "\t [[{{node Placeholder/_5}}]]\n",
      "2023-07-29 00:11:05.154612: I tensorflow/core/common_runtime/executor.cc:1197] [/device:CPU:0] (DEBUG INFO) Executor start aborting (this does not indicate an error and you can ignore this message): INVALID_ARGUMENT: You must feed a value for placeholder tensor 'Placeholder/_1' with dtype string and shape [1000]\n",
      "\t [[{{node Placeholder/_1}}]]\n",
      "2023-07-29 00:11:42.307524: I tensorflow/core/common_runtime/executor.cc:1197] [/device:CPU:0] (DEBUG INFO) Executor start aborting (this does not indicate an error and you can ignore this message): INVALID_ARGUMENT: You must feed a value for placeholder tensor 'Placeholder/_1' with dtype string and shape [1000]\n",
      "\t [[{{node Placeholder/_1}}]]\n",
      "2023-07-29 00:12:20.270155: I tensorflow/core/common_runtime/executor.cc:1197] [/device:CPU:0] (DEBUG INFO) Executor start aborting (this does not indicate an error and you can ignore this message): INVALID_ARGUMENT: You must feed a value for placeholder tensor 'Placeholder/_1' with dtype string and shape [1000]\n",
      "\t [[{{node Placeholder/_1}}]]\n",
      "2023-07-29 00:12:58.037745: I tensorflow/core/common_runtime/executor.cc:1197] [/device:CPU:0] (DEBUG INFO) Executor start aborting (this does not indicate an error and you can ignore this message): INVALID_ARGUMENT: You must feed a value for placeholder tensor 'Placeholder/_1' with dtype string and shape [1000]\n",
      "\t [[{{node Placeholder/_1}}]]\n",
      "2023-07-29 00:13:36.915652: I tensorflow/core/common_runtime/executor.cc:1197] [/device:CPU:0] (DEBUG INFO) Executor start aborting (this does not indicate an error and you can ignore this message): INVALID_ARGUMENT: You must feed a value for placeholder tensor 'Placeholder/_1' with dtype string and shape [1000]\n",
      "\t [[{{node Placeholder/_1}}]]\n",
      "2023-07-29 00:14:15.256326: I tensorflow/core/common_runtime/executor.cc:1197] [/device:CPU:0] (DEBUG INFO) Executor start aborting (this does not indicate an error and you can ignore this message): INVALID_ARGUMENT: You must feed a value for placeholder tensor 'Placeholder/_1' with dtype string and shape [1000]\n",
      "\t [[{{node Placeholder/_1}}]]\n",
      "2023-07-29 00:14:52.570680: I tensorflow/core/common_runtime/executor.cc:1197] [/device:CPU:0] (DEBUG INFO) Executor start aborting (this does not indicate an error and you can ignore this message): INVALID_ARGUMENT: You must feed a value for placeholder tensor 'Placeholder/_1' with dtype string and shape [1000]\n",
      "\t [[{{node Placeholder/_1}}]]\n",
      "2023-07-29 00:15:32.552936: I tensorflow/core/common_runtime/executor.cc:1197] [/device:CPU:0] (DEBUG INFO) Executor start aborting (this does not indicate an error and you can ignore this message): INVALID_ARGUMENT: You must feed a value for placeholder tensor 'Placeholder/_1' with dtype string and shape [1000]\n",
      "\t [[{{node Placeholder/_1}}]]\n"
     ]
    },
    {
     "name": "stdout",
     "output_type": "stream",
     "text": [
      "current loss 0.0028968065\n",
      "Min vall loss 0.0039583016\n",
      "Saving best weight with val loss:0.0028968064580112696 to results/model_weights/best_mse_model\n",
      "Time taken for 10 epochs: 3272.90 sec\n",
      "\n",
      "Reached epoch: 40\n",
      "Epoch: 40, Train Loss:0.0006402868893928826 , Val Loss:0.0028968064580112696\n"
     ]
    },
    {
     "name": "stderr",
     "output_type": "stream",
     "text": [
      "2023-07-29 00:16:07.143828: I tensorflow/core/grappler/optimizers/data/replicate_on_split.cc:32] Running replicate on split optimization\n",
      "2023-07-29 00:16:07.148521: I tensorflow/core/common_runtime/executor.cc:1197] [/device:CPU:0] (DEBUG INFO) Executor start aborting (this does not indicate an error and you can ignore this message): INVALID_ARGUMENT: You must feed a value for placeholder tensor 'Placeholder/_4' with dtype string and shape [10000]\n",
      "\t [[{{node Placeholder/_4}}]]\n",
      "2023-07-29 00:16:09.784554: I tensorflow/core/common_runtime/executor.cc:1197] [/device:CPU:0] (DEBUG INFO) Executor start aborting (this does not indicate an error and you can ignore this message): INVALID_ARGUMENT: You must feed a value for placeholder tensor 'Placeholder/_1' with dtype string and shape [1000]\n",
      "\t [[{{node Placeholder/_1}}]]\n",
      "2023-07-29 00:16:47.845692: I tensorflow/core/common_runtime/executor.cc:1197] [/device:CPU:0] (DEBUG INFO) Executor start aborting (this does not indicate an error and you can ignore this message): INVALID_ARGUMENT: You must feed a value for placeholder tensor 'Placeholder/_1' with dtype string and shape [1000]\n",
      "\t [[{{node Placeholder/_1}}]]\n",
      "2023-07-29 00:17:25.705503: I tensorflow/core/common_runtime/executor.cc:1197] [/device:CPU:0] (DEBUG INFO) Executor start aborting (this does not indicate an error and you can ignore this message): INVALID_ARGUMENT: You must feed a value for placeholder tensor 'Placeholder/_1' with dtype string and shape [1000]\n",
      "\t [[{{node Placeholder/_1}}]]\n",
      "2023-07-29 00:18:03.986695: I tensorflow/core/common_runtime/executor.cc:1197] [/device:CPU:0] (DEBUG INFO) Executor start aborting (this does not indicate an error and you can ignore this message): INVALID_ARGUMENT: You must feed a value for placeholder tensor 'Placeholder/_1' with dtype string and shape [1000]\n",
      "\t [[{{node Placeholder/_1}}]]\n",
      "2023-07-29 00:18:44.368906: I tensorflow/core/common_runtime/executor.cc:1197] [/device:CPU:0] (DEBUG INFO) Executor start aborting (this does not indicate an error and you can ignore this message): INVALID_ARGUMENT: You must feed a value for placeholder tensor 'Placeholder/_1' with dtype string and shape [1000]\n",
      "\t [[{{node Placeholder/_1}}]]\n",
      "2023-07-29 00:19:22.611262: I tensorflow/core/common_runtime/executor.cc:1197] [/device:CPU:0] (DEBUG INFO) Executor start aborting (this does not indicate an error and you can ignore this message): INVALID_ARGUMENT: You must feed a value for placeholder tensor 'Placeholder/_1' with dtype string and shape [1000]\n",
      "\t [[{{node Placeholder/_1}}]]\n",
      "2023-07-29 00:20:00.248994: I tensorflow/core/common_runtime/executor.cc:1197] [/device:CPU:0] (DEBUG INFO) Executor start aborting (this does not indicate an error and you can ignore this message): INVALID_ARGUMENT: You must feed a value for placeholder tensor 'Placeholder/_1' with dtype string and shape [1000]\n",
      "\t [[{{node Placeholder/_1}}]]\n",
      "2023-07-29 00:20:40.122840: I tensorflow/core/common_runtime/executor.cc:1197] [/device:CPU:0] (DEBUG INFO) Executor start aborting (this does not indicate an error and you can ignore this message): INVALID_ARGUMENT: You must feed a value for placeholder tensor 'Placeholder/_1' with dtype string and shape [1000]\n",
      "\t [[{{node Placeholder/_1}}]]\n"
     ]
    },
    {
     "name": "stdout",
     "output_type": "stream",
     "text": [
      "current loss 0.005385613\n",
      "Min vall loss 0.0028968065\n",
      "Epoch: 41, Train Loss:0.0006633115117438138 , Val Loss:0.005385613068938255\n"
     ]
    },
    {
     "name": "stderr",
     "output_type": "stream",
     "text": [
      "2023-07-29 00:21:13.691565: I tensorflow/core/grappler/optimizers/data/replicate_on_split.cc:32] Running replicate on split optimization\n",
      "2023-07-29 00:21:13.695959: I tensorflow/core/common_runtime/executor.cc:1197] [/device:CPU:0] (DEBUG INFO) Executor start aborting (this does not indicate an error and you can ignore this message): INVALID_ARGUMENT: You must feed a value for placeholder tensor 'Placeholder/_5' with dtype string and shape [10000]\n",
      "\t [[{{node Placeholder/_5}}]]\n",
      "2023-07-29 00:21:16.394612: I tensorflow/core/common_runtime/executor.cc:1197] [/device:CPU:0] (DEBUG INFO) Executor start aborting (this does not indicate an error and you can ignore this message): INVALID_ARGUMENT: You must feed a value for placeholder tensor 'Placeholder/_1' with dtype string and shape [1000]\n",
      "\t [[{{node Placeholder/_1}}]]\n",
      "2023-07-29 00:21:54.026368: I tensorflow/core/common_runtime/executor.cc:1197] [/device:CPU:0] (DEBUG INFO) Executor start aborting (this does not indicate an error and you can ignore this message): INVALID_ARGUMENT: You must feed a value for placeholder tensor 'Placeholder/_1' with dtype string and shape [1000]\n",
      "\t [[{{node Placeholder/_1}}]]\n",
      "2023-07-29 00:22:31.462037: I tensorflow/core/common_runtime/executor.cc:1197] [/device:CPU:0] (DEBUG INFO) Executor start aborting (this does not indicate an error and you can ignore this message): INVALID_ARGUMENT: You must feed a value for placeholder tensor 'Placeholder/_1' with dtype string and shape [1000]\n",
      "\t [[{{node Placeholder/_1}}]]\n",
      "2023-07-29 00:23:09.646639: I tensorflow/core/common_runtime/executor.cc:1197] [/device:CPU:0] (DEBUG INFO) Executor start aborting (this does not indicate an error and you can ignore this message): INVALID_ARGUMENT: You must feed a value for placeholder tensor 'Placeholder/_1' with dtype string and shape [1000]\n",
      "\t [[{{node Placeholder/_1}}]]\n",
      "2023-07-29 00:23:48.532726: I tensorflow/core/common_runtime/executor.cc:1197] [/device:CPU:0] (DEBUG INFO) Executor start aborting (this does not indicate an error and you can ignore this message): INVALID_ARGUMENT: You must feed a value for placeholder tensor 'Placeholder/_1' with dtype string and shape [1000]\n",
      "\t [[{{node Placeholder/_1}}]]\n",
      "2023-07-29 00:24:26.242428: I tensorflow/core/common_runtime/executor.cc:1197] [/device:CPU:0] (DEBUG INFO) Executor start aborting (this does not indicate an error and you can ignore this message): INVALID_ARGUMENT: You must feed a value for placeholder tensor 'Placeholder/_1' with dtype string and shape [1000]\n",
      "\t [[{{node Placeholder/_1}}]]\n",
      "2023-07-29 00:25:02.722045: I tensorflow/core/common_runtime/executor.cc:1197] [/device:CPU:0] (DEBUG INFO) Executor start aborting (this does not indicate an error and you can ignore this message): INVALID_ARGUMENT: You must feed a value for placeholder tensor 'Placeholder/_1' with dtype string and shape [1000]\n",
      "\t [[{{node Placeholder/_1}}]]\n",
      "2023-07-29 00:25:42.834365: I tensorflow/core/common_runtime/executor.cc:1197] [/device:CPU:0] (DEBUG INFO) Executor start aborting (this does not indicate an error and you can ignore this message): INVALID_ARGUMENT: You must feed a value for placeholder tensor 'Placeholder/_1' with dtype string and shape [1000]\n",
      "\t [[{{node Placeholder/_1}}]]\n"
     ]
    },
    {
     "name": "stdout",
     "output_type": "stream",
     "text": [
      "current loss 0.009744125\n",
      "Min vall loss 0.0028968065\n",
      "Epoch: 42, Train Loss:0.0006723325932398438 , Val Loss:0.009744125418365002\n"
     ]
    },
    {
     "name": "stderr",
     "output_type": "stream",
     "text": [
      "2023-07-29 00:26:15.959629: I tensorflow/core/grappler/optimizers/data/replicate_on_split.cc:32] Running replicate on split optimization\n",
      "2023-07-29 00:26:15.963371: I tensorflow/core/common_runtime/executor.cc:1197] [/device:CPU:0] (DEBUG INFO) Executor start aborting (this does not indicate an error and you can ignore this message): INVALID_ARGUMENT: You must feed a value for placeholder tensor 'Placeholder/_5' with dtype string and shape [10000]\n",
      "\t [[{{node Placeholder/_5}}]]\n",
      "2023-07-29 00:26:18.737463: I tensorflow/core/common_runtime/executor.cc:1197] [/device:CPU:0] (DEBUG INFO) Executor start aborting (this does not indicate an error and you can ignore this message): INVALID_ARGUMENT: You must feed a value for placeholder tensor 'Placeholder/_1' with dtype string and shape [1000]\n",
      "\t [[{{node Placeholder/_1}}]]\n",
      "2023-07-29 00:26:55.619988: I tensorflow/core/common_runtime/executor.cc:1197] [/device:CPU:0] (DEBUG INFO) Executor start aborting (this does not indicate an error and you can ignore this message): INVALID_ARGUMENT: You must feed a value for placeholder tensor 'Placeholder/_1' with dtype string and shape [1000]\n",
      "\t [[{{node Placeholder/_1}}]]\n",
      "2023-07-29 00:27:32.713722: I tensorflow/core/common_runtime/executor.cc:1197] [/device:CPU:0] (DEBUG INFO) Executor start aborting (this does not indicate an error and you can ignore this message): INVALID_ARGUMENT: You must feed a value for placeholder tensor 'Placeholder/_1' with dtype string and shape [1000]\n",
      "\t [[{{node Placeholder/_1}}]]\n",
      "2023-07-29 00:28:10.271716: I tensorflow/core/common_runtime/executor.cc:1197] [/device:CPU:0] (DEBUG INFO) Executor start aborting (this does not indicate an error and you can ignore this message): INVALID_ARGUMENT: You must feed a value for placeholder tensor 'Placeholder/_1' with dtype string and shape [1000]\n",
      "\t [[{{node Placeholder/_1}}]]\n",
      "2023-07-29 00:28:48.599457: I tensorflow/core/common_runtime/executor.cc:1197] [/device:CPU:0] (DEBUG INFO) Executor start aborting (this does not indicate an error and you can ignore this message): INVALID_ARGUMENT: You must feed a value for placeholder tensor 'Placeholder/_1' with dtype string and shape [1000]\n",
      "\t [[{{node Placeholder/_1}}]]\n",
      "2023-07-29 00:29:25.546235: I tensorflow/core/common_runtime/executor.cc:1197] [/device:CPU:0] (DEBUG INFO) Executor start aborting (this does not indicate an error and you can ignore this message): INVALID_ARGUMENT: You must feed a value for placeholder tensor 'Placeholder/_1' with dtype string and shape [1000]\n",
      "\t [[{{node Placeholder/_1}}]]\n",
      "2023-07-29 00:30:02.518200: I tensorflow/core/common_runtime/executor.cc:1197] [/device:CPU:0] (DEBUG INFO) Executor start aborting (this does not indicate an error and you can ignore this message): INVALID_ARGUMENT: You must feed a value for placeholder tensor 'Placeholder/_1' with dtype string and shape [1000]\n",
      "\t [[{{node Placeholder/_1}}]]\n",
      "2023-07-29 00:30:42.752482: I tensorflow/core/common_runtime/executor.cc:1197] [/device:CPU:0] (DEBUG INFO) Executor start aborting (this does not indicate an error and you can ignore this message): INVALID_ARGUMENT: You must feed a value for placeholder tensor 'Placeholder/_1' with dtype string and shape [1000]\n",
      "\t [[{{node Placeholder/_1}}]]\n"
     ]
    },
    {
     "name": "stdout",
     "output_type": "stream",
     "text": [
      "current loss 0.018939557\n",
      "Min vall loss 0.0028968065\n",
      "Epoch: 43, Train Loss:0.0006445794133469462 , Val Loss:0.018939556553959846\n"
     ]
    },
    {
     "name": "stderr",
     "output_type": "stream",
     "text": [
      "2023-07-29 00:31:15.972446: I tensorflow/core/grappler/optimizers/data/replicate_on_split.cc:32] Running replicate on split optimization\n",
      "2023-07-29 00:31:15.975634: I tensorflow/core/common_runtime/executor.cc:1197] [/device:CPU:0] (DEBUG INFO) Executor start aborting (this does not indicate an error and you can ignore this message): INVALID_ARGUMENT: You must feed a value for placeholder tensor 'Placeholder/_4' with dtype string and shape [10000]\n",
      "\t [[{{node Placeholder/_4}}]]\n",
      "2023-07-29 00:31:18.672376: I tensorflow/core/common_runtime/executor.cc:1197] [/device:CPU:0] (DEBUG INFO) Executor start aborting (this does not indicate an error and you can ignore this message): INVALID_ARGUMENT: You must feed a value for placeholder tensor 'Placeholder/_1' with dtype string and shape [1000]\n",
      "\t [[{{node Placeholder/_1}}]]\n",
      "2023-07-29 00:31:56.763774: I tensorflow/core/common_runtime/executor.cc:1197] [/device:CPU:0] (DEBUG INFO) Executor start aborting (this does not indicate an error and you can ignore this message): INVALID_ARGUMENT: You must feed a value for placeholder tensor 'Placeholder/_1' with dtype string and shape [1000]\n",
      "\t [[{{node Placeholder/_1}}]]\n",
      "2023-07-29 00:32:34.035687: I tensorflow/core/common_runtime/executor.cc:1197] [/device:CPU:0] (DEBUG INFO) Executor start aborting (this does not indicate an error and you can ignore this message): INVALID_ARGUMENT: You must feed a value for placeholder tensor 'Placeholder/_1' with dtype string and shape [1000]\n",
      "\t [[{{node Placeholder/_1}}]]\n",
      "2023-07-29 00:33:10.481120: I tensorflow/core/common_runtime/executor.cc:1197] [/device:CPU:0] (DEBUG INFO) Executor start aborting (this does not indicate an error and you can ignore this message): INVALID_ARGUMENT: You must feed a value for placeholder tensor 'Placeholder/_1' with dtype string and shape [1000]\n",
      "\t [[{{node Placeholder/_1}}]]\n",
      "2023-07-29 00:33:48.678655: I tensorflow/core/common_runtime/executor.cc:1197] [/device:CPU:0] (DEBUG INFO) Executor start aborting (this does not indicate an error and you can ignore this message): INVALID_ARGUMENT: You must feed a value for placeholder tensor 'Placeholder/_1' with dtype string and shape [1000]\n",
      "\t [[{{node Placeholder/_1}}]]\n",
      "2023-07-29 00:34:25.367948: I tensorflow/core/common_runtime/executor.cc:1197] [/device:CPU:0] (DEBUG INFO) Executor start aborting (this does not indicate an error and you can ignore this message): INVALID_ARGUMENT: You must feed a value for placeholder tensor 'Placeholder/_1' with dtype string and shape [1000]\n",
      "\t [[{{node Placeholder/_1}}]]\n",
      "2023-07-29 00:35:01.854017: I tensorflow/core/common_runtime/executor.cc:1197] [/device:CPU:0] (DEBUG INFO) Executor start aborting (this does not indicate an error and you can ignore this message): INVALID_ARGUMENT: You must feed a value for placeholder tensor 'Placeholder/_1' with dtype string and shape [1000]\n",
      "\t [[{{node Placeholder/_1}}]]\n",
      "2023-07-29 00:35:40.798836: I tensorflow/core/common_runtime/executor.cc:1197] [/device:CPU:0] (DEBUG INFO) Executor start aborting (this does not indicate an error and you can ignore this message): INVALID_ARGUMENT: You must feed a value for placeholder tensor 'Placeholder/_1' with dtype string and shape [1000]\n",
      "\t [[{{node Placeholder/_1}}]]\n"
     ]
    },
    {
     "name": "stdout",
     "output_type": "stream",
     "text": [
      "current loss 0.005584291\n",
      "Min vall loss 0.0028968065\n",
      "Epoch: 44, Train Loss:0.0006825688178651035 , Val Loss:0.005584291182458401\n"
     ]
    },
    {
     "name": "stderr",
     "output_type": "stream",
     "text": [
      "2023-07-29 00:36:13.604418: I tensorflow/core/grappler/optimizers/data/replicate_on_split.cc:32] Running replicate on split optimization\n",
      "2023-07-29 00:36:13.607638: I tensorflow/core/common_runtime/executor.cc:1197] [/device:CPU:0] (DEBUG INFO) Executor start aborting (this does not indicate an error and you can ignore this message): INVALID_ARGUMENT: You must feed a value for placeholder tensor 'Placeholder/_4' with dtype string and shape [10000]\n",
      "\t [[{{node Placeholder/_4}}]]\n",
      "2023-07-29 00:36:16.147822: I tensorflow/core/common_runtime/executor.cc:1197] [/device:CPU:0] (DEBUG INFO) Executor start aborting (this does not indicate an error and you can ignore this message): INVALID_ARGUMENT: You must feed a value for placeholder tensor 'Placeholder/_1' with dtype string and shape [1000]\n",
      "\t [[{{node Placeholder/_1}}]]\n",
      "2023-07-29 00:36:53.465157: I tensorflow/core/common_runtime/executor.cc:1197] [/device:CPU:0] (DEBUG INFO) Executor start aborting (this does not indicate an error and you can ignore this message): INVALID_ARGUMENT: You must feed a value for placeholder tensor 'Placeholder/_1' with dtype string and shape [1000]\n",
      "\t [[{{node Placeholder/_1}}]]\n",
      "2023-07-29 00:37:29.958840: I tensorflow/core/common_runtime/executor.cc:1197] [/device:CPU:0] (DEBUG INFO) Executor start aborting (this does not indicate an error and you can ignore this message): INVALID_ARGUMENT: You must feed a value for placeholder tensor 'Placeholder/_1' with dtype string and shape [1000]\n",
      "\t [[{{node Placeholder/_1}}]]\n",
      "2023-07-29 00:38:05.114492: I tensorflow/core/common_runtime/executor.cc:1197] [/device:CPU:0] (DEBUG INFO) Executor start aborting (this does not indicate an error and you can ignore this message): INVALID_ARGUMENT: You must feed a value for placeholder tensor 'Placeholder/_1' with dtype string and shape [1000]\n",
      "\t [[{{node Placeholder/_1}}]]\n",
      "2023-07-29 00:38:44.806931: I tensorflow/core/common_runtime/executor.cc:1197] [/device:CPU:0] (DEBUG INFO) Executor start aborting (this does not indicate an error and you can ignore this message): INVALID_ARGUMENT: You must feed a value for placeholder tensor 'Placeholder/_1' with dtype string and shape [1000]\n",
      "\t [[{{node Placeholder/_1}}]]\n",
      "2023-07-29 00:39:21.157134: I tensorflow/core/common_runtime/executor.cc:1197] [/device:CPU:0] (DEBUG INFO) Executor start aborting (this does not indicate an error and you can ignore this message): INVALID_ARGUMENT: You must feed a value for placeholder tensor 'Placeholder/_1' with dtype string and shape [1000]\n",
      "\t [[{{node Placeholder/_1}}]]\n",
      "2023-07-29 00:39:58.244700: I tensorflow/core/common_runtime/executor.cc:1197] [/device:CPU:0] (DEBUG INFO) Executor start aborting (this does not indicate an error and you can ignore this message): INVALID_ARGUMENT: You must feed a value for placeholder tensor 'Placeholder/_1' with dtype string and shape [1000]\n",
      "\t [[{{node Placeholder/_1}}]]\n",
      "2023-07-29 00:40:36.745245: I tensorflow/core/common_runtime/executor.cc:1197] [/device:CPU:0] (DEBUG INFO) Executor start aborting (this does not indicate an error and you can ignore this message): INVALID_ARGUMENT: You must feed a value for placeholder tensor 'Placeholder/_1' with dtype string and shape [1000]\n",
      "\t [[{{node Placeholder/_1}}]]\n"
     ]
    },
    {
     "name": "stdout",
     "output_type": "stream",
     "text": [
      "current loss 0.08585123\n",
      "Min vall loss 0.0028968065\n",
      "Epoch: 45, Train Loss:0.0008490420295856893 , Val Loss:0.08585122972726822\n"
     ]
    },
    {
     "name": "stderr",
     "output_type": "stream",
     "text": [
      "2023-07-29 00:41:10.150452: I tensorflow/core/grappler/optimizers/data/replicate_on_split.cc:32] Running replicate on split optimization\n",
      "2023-07-29 00:41:10.154391: I tensorflow/core/common_runtime/executor.cc:1197] [/device:CPU:0] (DEBUG INFO) Executor start aborting (this does not indicate an error and you can ignore this message): INVALID_ARGUMENT: You must feed a value for placeholder tensor 'Placeholder/_5' with dtype string and shape [10000]\n",
      "\t [[{{node Placeholder/_5}}]]\n",
      "2023-07-29 00:41:12.778221: I tensorflow/core/common_runtime/executor.cc:1197] [/device:CPU:0] (DEBUG INFO) Executor start aborting (this does not indicate an error and you can ignore this message): INVALID_ARGUMENT: You must feed a value for placeholder tensor 'Placeholder/_1' with dtype string and shape [1000]\n",
      "\t [[{{node Placeholder/_1}}]]\n",
      "2023-07-29 00:41:49.218750: I tensorflow/core/common_runtime/executor.cc:1197] [/device:CPU:0] (DEBUG INFO) Executor start aborting (this does not indicate an error and you can ignore this message): INVALID_ARGUMENT: You must feed a value for placeholder tensor 'Placeholder/_1' with dtype string and shape [1000]\n",
      "\t [[{{node Placeholder/_1}}]]\n",
      "2023-07-29 00:42:26.632106: I tensorflow/core/common_runtime/executor.cc:1197] [/device:CPU:0] (DEBUG INFO) Executor start aborting (this does not indicate an error and you can ignore this message): INVALID_ARGUMENT: You must feed a value for placeholder tensor 'Placeholder/_1' with dtype string and shape [1000]\n",
      "\t [[{{node Placeholder/_1}}]]\n",
      "2023-07-29 00:43:02.813915: I tensorflow/core/common_runtime/executor.cc:1197] [/device:CPU:0] (DEBUG INFO) Executor start aborting (this does not indicate an error and you can ignore this message): INVALID_ARGUMENT: You must feed a value for placeholder tensor 'Placeholder/_1' with dtype string and shape [1000]\n",
      "\t [[{{node Placeholder/_1}}]]\n",
      "2023-07-29 00:43:42.012301: I tensorflow/core/common_runtime/executor.cc:1197] [/device:CPU:0] (DEBUG INFO) Executor start aborting (this does not indicate an error and you can ignore this message): INVALID_ARGUMENT: You must feed a value for placeholder tensor 'Placeholder/_1' with dtype string and shape [1000]\n",
      "\t [[{{node Placeholder/_1}}]]\n",
      "2023-07-29 00:44:18.215086: I tensorflow/core/common_runtime/executor.cc:1197] [/device:CPU:0] (DEBUG INFO) Executor start aborting (this does not indicate an error and you can ignore this message): INVALID_ARGUMENT: You must feed a value for placeholder tensor 'Placeholder/_1' with dtype string and shape [1000]\n",
      "\t [[{{node Placeholder/_1}}]]\n",
      "2023-07-29 00:44:55.215827: I tensorflow/core/common_runtime/executor.cc:1197] [/device:CPU:0] (DEBUG INFO) Executor start aborting (this does not indicate an error and you can ignore this message): INVALID_ARGUMENT: You must feed a value for placeholder tensor 'Placeholder/_1' with dtype string and shape [1000]\n",
      "\t [[{{node Placeholder/_1}}]]\n",
      "2023-07-29 00:45:34.029841: I tensorflow/core/common_runtime/executor.cc:1197] [/device:CPU:0] (DEBUG INFO) Executor start aborting (this does not indicate an error and you can ignore this message): INVALID_ARGUMENT: You must feed a value for placeholder tensor 'Placeholder/_1' with dtype string and shape [1000]\n",
      "\t [[{{node Placeholder/_1}}]]\n"
     ]
    },
    {
     "name": "stdout",
     "output_type": "stream",
     "text": [
      "current loss 0.0025585257\n",
      "Min vall loss 0.0028968065\n",
      "Saving best weight with val loss:0.002558525651693344 to results/model_weights/best_mse_model\n",
      "Epoch: 46, Train Loss:0.0006898273131810129 , Val Loss:0.002558525651693344\n"
     ]
    },
    {
     "name": "stderr",
     "output_type": "stream",
     "text": [
      "2023-07-29 00:46:07.888152: I tensorflow/core/grappler/optimizers/data/replicate_on_split.cc:32] Running replicate on split optimization\n",
      "2023-07-29 00:46:07.891919: I tensorflow/core/common_runtime/executor.cc:1197] [/device:CPU:0] (DEBUG INFO) Executor start aborting (this does not indicate an error and you can ignore this message): INVALID_ARGUMENT: You must feed a value for placeholder tensor 'Placeholder/_5' with dtype string and shape [10000]\n",
      "\t [[{{node Placeholder/_5}}]]\n",
      "2023-07-29 00:46:10.588885: I tensorflow/core/common_runtime/executor.cc:1197] [/device:CPU:0] (DEBUG INFO) Executor start aborting (this does not indicate an error and you can ignore this message): INVALID_ARGUMENT: You must feed a value for placeholder tensor 'Placeholder/_1' with dtype string and shape [1000]\n",
      "\t [[{{node Placeholder/_1}}]]\n",
      "2023-07-29 00:46:47.970812: I tensorflow/core/common_runtime/executor.cc:1197] [/device:CPU:0] (DEBUG INFO) Executor start aborting (this does not indicate an error and you can ignore this message): INVALID_ARGUMENT: You must feed a value for placeholder tensor 'Placeholder/_1' with dtype string and shape [1000]\n",
      "\t [[{{node Placeholder/_1}}]]\n",
      "2023-07-29 00:47:24.970061: I tensorflow/core/common_runtime/executor.cc:1197] [/device:CPU:0] (DEBUG INFO) Executor start aborting (this does not indicate an error and you can ignore this message): INVALID_ARGUMENT: You must feed a value for placeholder tensor 'Placeholder/_1' with dtype string and shape [1000]\n",
      "\t [[{{node Placeholder/_1}}]]\n",
      "2023-07-29 00:48:02.779611: I tensorflow/core/common_runtime/executor.cc:1197] [/device:CPU:0] (DEBUG INFO) Executor start aborting (this does not indicate an error and you can ignore this message): INVALID_ARGUMENT: You must feed a value for placeholder tensor 'Placeholder/_1' with dtype string and shape [1000]\n",
      "\t [[{{node Placeholder/_1}}]]\n",
      "2023-07-29 00:48:41.409794: I tensorflow/core/common_runtime/executor.cc:1197] [/device:CPU:0] (DEBUG INFO) Executor start aborting (this does not indicate an error and you can ignore this message): INVALID_ARGUMENT: You must feed a value for placeholder tensor 'Placeholder/_1' with dtype string and shape [1000]\n",
      "\t [[{{node Placeholder/_1}}]]\n",
      "2023-07-29 00:49:18.920253: I tensorflow/core/common_runtime/executor.cc:1197] [/device:CPU:0] (DEBUG INFO) Executor start aborting (this does not indicate an error and you can ignore this message): INVALID_ARGUMENT: You must feed a value for placeholder tensor 'Placeholder/_1' with dtype string and shape [1000]\n",
      "\t [[{{node Placeholder/_1}}]]\n",
      "2023-07-29 00:49:55.803541: I tensorflow/core/common_runtime/executor.cc:1197] [/device:CPU:0] (DEBUG INFO) Executor start aborting (this does not indicate an error and you can ignore this message): INVALID_ARGUMENT: You must feed a value for placeholder tensor 'Placeholder/_1' with dtype string and shape [1000]\n",
      "\t [[{{node Placeholder/_1}}]]\n",
      "2023-07-29 00:50:35.193522: I tensorflow/core/common_runtime/executor.cc:1197] [/device:CPU:0] (DEBUG INFO) Executor start aborting (this does not indicate an error and you can ignore this message): INVALID_ARGUMENT: You must feed a value for placeholder tensor 'Placeholder/_1' with dtype string and shape [1000]\n",
      "\t [[{{node Placeholder/_1}}]]\n"
     ]
    },
    {
     "name": "stdout",
     "output_type": "stream",
     "text": [
      "current loss 0.0027707086\n",
      "Min vall loss 0.0025585257\n",
      "Epoch: 47, Train Loss:0.0005345252575352788 , Val Loss:0.002770708641037345\n"
     ]
    },
    {
     "name": "stderr",
     "output_type": "stream",
     "text": [
      "2023-07-29 00:51:08.021302: I tensorflow/core/grappler/optimizers/data/replicate_on_split.cc:32] Running replicate on split optimization\n",
      "2023-07-29 00:51:08.026316: I tensorflow/core/common_runtime/executor.cc:1197] [/device:CPU:0] (DEBUG INFO) Executor start aborting (this does not indicate an error and you can ignore this message): INVALID_ARGUMENT: You must feed a value for placeholder tensor 'Placeholder/_5' with dtype string and shape [10000]\n",
      "\t [[{{node Placeholder/_5}}]]\n",
      "2023-07-29 00:51:10.690072: I tensorflow/core/common_runtime/executor.cc:1197] [/device:CPU:0] (DEBUG INFO) Executor start aborting (this does not indicate an error and you can ignore this message): INVALID_ARGUMENT: You must feed a value for placeholder tensor 'Placeholder/_1' with dtype string and shape [1000]\n",
      "\t [[{{node Placeholder/_1}}]]\n",
      "2023-07-29 00:51:48.215506: I tensorflow/core/common_runtime/executor.cc:1197] [/device:CPU:0] (DEBUG INFO) Executor start aborting (this does not indicate an error and you can ignore this message): INVALID_ARGUMENT: You must feed a value for placeholder tensor 'Placeholder/_1' with dtype string and shape [1000]\n",
      "\t [[{{node Placeholder/_1}}]]\n",
      "2023-07-29 00:52:25.691919: I tensorflow/core/common_runtime/executor.cc:1197] [/device:CPU:0] (DEBUG INFO) Executor start aborting (this does not indicate an error and you can ignore this message): INVALID_ARGUMENT: You must feed a value for placeholder tensor 'Placeholder/_1' with dtype string and shape [1000]\n",
      "\t [[{{node Placeholder/_1}}]]\n",
      "2023-07-29 00:53:01.953910: I tensorflow/core/common_runtime/executor.cc:1197] [/device:CPU:0] (DEBUG INFO) Executor start aborting (this does not indicate an error and you can ignore this message): INVALID_ARGUMENT: You must feed a value for placeholder tensor 'Placeholder/_1' with dtype string and shape [1000]\n",
      "\t [[{{node Placeholder/_1}}]]\n",
      "2023-07-29 00:53:40.307743: I tensorflow/core/common_runtime/executor.cc:1197] [/device:CPU:0] (DEBUG INFO) Executor start aborting (this does not indicate an error and you can ignore this message): INVALID_ARGUMENT: You must feed a value for placeholder tensor 'Placeholder/_1' with dtype string and shape [1000]\n",
      "\t [[{{node Placeholder/_1}}]]\n",
      "2023-07-29 00:54:17.040812: I tensorflow/core/kernels/data/shuffle_dataset_op.cc:392] Filling up shuffle buffer (this may take a while): 2901 of 10000\n",
      "2023-07-29 00:54:27.036832: I tensorflow/core/kernels/data/shuffle_dataset_op.cc:392] Filling up shuffle buffer (this may take a while): 3147 of 10000\n",
      "2023-07-29 00:54:37.044647: I tensorflow/core/kernels/data/shuffle_dataset_op.cc:392] Filling up shuffle buffer (this may take a while): 3441 of 10000\n",
      "2023-07-29 00:54:47.045561: I tensorflow/core/kernels/data/shuffle_dataset_op.cc:392] Filling up shuffle buffer (this may take a while): 3780 of 10000\n",
      "2023-07-29 00:54:57.035817: I tensorflow/core/kernels/data/shuffle_dataset_op.cc:392] Filling up shuffle buffer (this may take a while): 4126 of 10000\n",
      "2023-07-29 00:55:07.035214: I tensorflow/core/kernels/data/shuffle_dataset_op.cc:392] Filling up shuffle buffer (this may take a while): 4501 of 10000\n",
      "2023-07-29 00:55:17.042697: I tensorflow/core/kernels/data/shuffle_dataset_op.cc:392] Filling up shuffle buffer (this may take a while): 4833 of 10000\n",
      "2023-07-29 00:55:27.048882: I tensorflow/core/kernels/data/shuffle_dataset_op.cc:392] Filling up shuffle buffer (this may take a while): 5205 of 10000\n",
      "2023-07-29 00:55:37.037574: I tensorflow/core/kernels/data/shuffle_dataset_op.cc:392] Filling up shuffle buffer (this may take a while): 5591 of 10000\n",
      "2023-07-29 00:55:47.044645: I tensorflow/core/kernels/data/shuffle_dataset_op.cc:392] Filling up shuffle buffer (this may take a while): 5977 of 10000\n",
      "2023-07-29 00:55:57.066695: I tensorflow/core/kernels/data/shuffle_dataset_op.cc:392] Filling up shuffle buffer (this may take a while): 6365 of 10000\n",
      "2023-07-29 00:56:07.045732: I tensorflow/core/kernels/data/shuffle_dataset_op.cc:392] Filling up shuffle buffer (this may take a while): 6762 of 10000\n",
      "2023-07-29 00:56:17.051536: I tensorflow/core/kernels/data/shuffle_dataset_op.cc:392] Filling up shuffle buffer (this may take a while): 7168 of 10000\n",
      "2023-07-29 00:56:27.048673: I tensorflow/core/kernels/data/shuffle_dataset_op.cc:392] Filling up shuffle buffer (this may take a while): 7572 of 10000\n",
      "2023-07-29 00:56:37.036753: I tensorflow/core/kernels/data/shuffle_dataset_op.cc:392] Filling up shuffle buffer (this may take a while): 7950 of 10000\n",
      "2023-07-29 00:56:47.037693: I tensorflow/core/kernels/data/shuffle_dataset_op.cc:392] Filling up shuffle buffer (this may take a while): 8339 of 10000\n",
      "2023-07-29 00:56:57.053219: I tensorflow/core/kernels/data/shuffle_dataset_op.cc:392] Filling up shuffle buffer (this may take a while): 8731 of 10000\n",
      "2023-07-29 00:57:07.050659: I tensorflow/core/kernels/data/shuffle_dataset_op.cc:392] Filling up shuffle buffer (this may take a while): 9095 of 10000\n",
      "2023-07-29 00:57:17.043700: I tensorflow/core/kernels/data/shuffle_dataset_op.cc:392] Filling up shuffle buffer (this may take a while): 9492 of 10000\n",
      "2023-07-29 00:57:27.049578: I tensorflow/core/kernels/data/shuffle_dataset_op.cc:392] Filling up shuffle buffer (this may take a while): 9904 of 10000\n",
      "2023-07-29 00:57:29.523488: I tensorflow/core/kernels/data/shuffle_dataset_op.cc:417] Shuffle buffer filled.\n",
      "2023-07-29 00:57:34.656983: I tensorflow/core/common_runtime/executor.cc:1197] [/device:CPU:0] (DEBUG INFO) Executor start aborting (this does not indicate an error and you can ignore this message): INVALID_ARGUMENT: You must feed a value for placeholder tensor 'Placeholder/_1' with dtype string and shape [1000]\n",
      "\t [[{{node Placeholder/_1}}]]\n",
      "2023-07-29 00:58:17.416506: I tensorflow/core/common_runtime/executor.cc:1197] [/device:CPU:0] (DEBUG INFO) Executor start aborting (this does not indicate an error and you can ignore this message): INVALID_ARGUMENT: You must feed a value for placeholder tensor 'Placeholder/_1' with dtype string and shape [1000]\n",
      "\t [[{{node Placeholder/_1}}]]\n",
      "2023-07-29 00:58:54.618204: I tensorflow/core/common_runtime/executor.cc:1197] [/device:CPU:0] (DEBUG INFO) Executor start aborting (this does not indicate an error and you can ignore this message): INVALID_ARGUMENT: You must feed a value for placeholder tensor 'Placeholder/_1' with dtype string and shape [1000]\n",
      "\t [[{{node Placeholder/_1}}]]\n"
     ]
    },
    {
     "name": "stdout",
     "output_type": "stream",
     "text": [
      "current loss 0.0065011987\n",
      "Min vall loss 0.0025585257\n",
      "Epoch: 48, Train Loss:0.000506172189489007 , Val Loss:0.006501198746263981\n"
     ]
    },
    {
     "name": "stderr",
     "output_type": "stream",
     "text": [
      "2023-07-29 00:59:27.308935: I tensorflow/core/grappler/optimizers/data/replicate_on_split.cc:32] Running replicate on split optimization\n",
      "2023-07-29 00:59:27.312729: I tensorflow/core/common_runtime/executor.cc:1197] [/device:CPU:0] (DEBUG INFO) Executor start aborting (this does not indicate an error and you can ignore this message): INVALID_ARGUMENT: You must feed a value for placeholder tensor 'Placeholder/_5' with dtype string and shape [10000]\n",
      "\t [[{{node Placeholder/_5}}]]\n",
      "2023-07-29 00:59:30.042738: I tensorflow/core/common_runtime/executor.cc:1197] [/device:CPU:0] (DEBUG INFO) Executor start aborting (this does not indicate an error and you can ignore this message): INVALID_ARGUMENT: You must feed a value for placeholder tensor 'Placeholder/_1' with dtype string and shape [1000]\n",
      "\t [[{{node Placeholder/_1}}]]\n",
      "2023-07-29 01:00:08.083613: I tensorflow/core/common_runtime/executor.cc:1197] [/device:CPU:0] (DEBUG INFO) Executor start aborting (this does not indicate an error and you can ignore this message): INVALID_ARGUMENT: You must feed a value for placeholder tensor 'Placeholder/_1' with dtype string and shape [1000]\n",
      "\t [[{{node Placeholder/_1}}]]\n",
      "2023-07-29 01:00:45.606254: I tensorflow/core/common_runtime/executor.cc:1197] [/device:CPU:0] (DEBUG INFO) Executor start aborting (this does not indicate an error and you can ignore this message): INVALID_ARGUMENT: You must feed a value for placeholder tensor 'Placeholder/_1' with dtype string and shape [1000]\n",
      "\t [[{{node Placeholder/_1}}]]\n",
      "2023-07-29 01:01:23.522435: I tensorflow/core/common_runtime/executor.cc:1197] [/device:CPU:0] (DEBUG INFO) Executor start aborting (this does not indicate an error and you can ignore this message): INVALID_ARGUMENT: You must feed a value for placeholder tensor 'Placeholder/_1' with dtype string and shape [1000]\n",
      "\t [[{{node Placeholder/_1}}]]\n",
      "2023-07-29 01:02:03.102603: I tensorflow/core/common_runtime/executor.cc:1197] [/device:CPU:0] (DEBUG INFO) Executor start aborting (this does not indicate an error and you can ignore this message): INVALID_ARGUMENT: You must feed a value for placeholder tensor 'Placeholder/_1' with dtype string and shape [1000]\n",
      "\t [[{{node Placeholder/_1}}]]\n",
      "2023-07-29 01:02:40.144652: I tensorflow/core/common_runtime/executor.cc:1197] [/device:CPU:0] (DEBUG INFO) Executor start aborting (this does not indicate an error and you can ignore this message): INVALID_ARGUMENT: You must feed a value for placeholder tensor 'Placeholder/_1' with dtype string and shape [1000]\n",
      "\t [[{{node Placeholder/_1}}]]\n",
      "2023-07-29 01:03:17.051250: I tensorflow/core/common_runtime/executor.cc:1197] [/device:CPU:0] (DEBUG INFO) Executor start aborting (this does not indicate an error and you can ignore this message): INVALID_ARGUMENT: You must feed a value for placeholder tensor 'Placeholder/_1' with dtype string and shape [1000]\n",
      "\t [[{{node Placeholder/_1}}]]\n",
      "2023-07-29 01:03:56.752131: I tensorflow/core/common_runtime/executor.cc:1197] [/device:CPU:0] (DEBUG INFO) Executor start aborting (this does not indicate an error and you can ignore this message): INVALID_ARGUMENT: You must feed a value for placeholder tensor 'Placeholder/_1' with dtype string and shape [1000]\n",
      "\t [[{{node Placeholder/_1}}]]\n"
     ]
    },
    {
     "name": "stdout",
     "output_type": "stream",
     "text": [
      "current loss 0.011845527\n",
      "Min vall loss 0.0025585257\n",
      "Epoch: 49, Train Loss:0.0007109676371328533 , Val Loss:0.011845527216792107\n"
     ]
    },
    {
     "name": "stderr",
     "output_type": "stream",
     "text": [
      "2023-07-29 01:04:31.010791: I tensorflow/core/grappler/optimizers/data/replicate_on_split.cc:32] Running replicate on split optimization\n",
      "2023-07-29 01:04:31.014055: I tensorflow/core/common_runtime/executor.cc:1197] [/device:CPU:0] (DEBUG INFO) Executor start aborting (this does not indicate an error and you can ignore this message): INVALID_ARGUMENT: You must feed a value for placeholder tensor 'Placeholder/_5' with dtype string and shape [10000]\n",
      "\t [[{{node Placeholder/_5}}]]\n",
      "2023-07-29 01:04:33.344245: I tensorflow/core/common_runtime/executor.cc:1197] [/device:CPU:0] (DEBUG INFO) Executor start aborting (this does not indicate an error and you can ignore this message): INVALID_ARGUMENT: You must feed a value for placeholder tensor 'Placeholder/_1' with dtype string and shape [1000]\n",
      "\t [[{{node Placeholder/_1}}]]\n",
      "2023-07-29 01:05:03.274544: I tensorflow/core/common_runtime/executor.cc:1197] [/device:CPU:0] (DEBUG INFO) Executor start aborting (this does not indicate an error and you can ignore this message): INVALID_ARGUMENT: You must feed a value for placeholder tensor 'Placeholder/_1' with dtype string and shape [1000]\n",
      "\t [[{{node Placeholder/_1}}]]\n",
      "2023-07-29 01:05:40.237914: I tensorflow/core/common_runtime/executor.cc:1197] [/device:CPU:0] (DEBUG INFO) Executor start aborting (this does not indicate an error and you can ignore this message): INVALID_ARGUMENT: You must feed a value for placeholder tensor 'Placeholder/_1' with dtype string and shape [1000]\n",
      "\t [[{{node Placeholder/_1}}]]\n",
      "2023-07-29 01:06:16.459752: I tensorflow/core/common_runtime/executor.cc:1197] [/device:CPU:0] (DEBUG INFO) Executor start aborting (this does not indicate an error and you can ignore this message): INVALID_ARGUMENT: You must feed a value for placeholder tensor 'Placeholder/_1' with dtype string and shape [1000]\n",
      "\t [[{{node Placeholder/_1}}]]\n",
      "2023-07-29 01:06:55.366641: I tensorflow/core/common_runtime/executor.cc:1197] [/device:CPU:0] (DEBUG INFO) Executor start aborting (this does not indicate an error and you can ignore this message): INVALID_ARGUMENT: You must feed a value for placeholder tensor 'Placeholder/_1' with dtype string and shape [1000]\n",
      "\t [[{{node Placeholder/_1}}]]\n",
      "2023-07-29 01:07:31.370775: I tensorflow/core/common_runtime/executor.cc:1197] [/device:CPU:0] (DEBUG INFO) Executor start aborting (this does not indicate an error and you can ignore this message): INVALID_ARGUMENT: You must feed a value for placeholder tensor 'Placeholder/_1' with dtype string and shape [1000]\n",
      "\t [[{{node Placeholder/_1}}]]\n",
      "2023-07-29 01:08:07.755032: I tensorflow/core/common_runtime/executor.cc:1197] [/device:CPU:0] (DEBUG INFO) Executor start aborting (this does not indicate an error and you can ignore this message): INVALID_ARGUMENT: You must feed a value for placeholder tensor 'Placeholder/_1' with dtype string and shape [1000]\n",
      "\t [[{{node Placeholder/_1}}]]\n",
      "2023-07-29 01:08:45.807139: I tensorflow/core/common_runtime/executor.cc:1197] [/device:CPU:0] (DEBUG INFO) Executor start aborting (this does not indicate an error and you can ignore this message): INVALID_ARGUMENT: You must feed a value for placeholder tensor 'Placeholder/_1' with dtype string and shape [1000]\n",
      "\t [[{{node Placeholder/_1}}]]\n"
     ]
    },
    {
     "name": "stdout",
     "output_type": "stream",
     "text": [
      "current loss 0.0059272046\n",
      "Min vall loss 0.0025585257\n",
      "Time taken for 10 epochs: 3191.12 sec\n",
      "\n",
      "Reached epoch: 50\n",
      "Saving checkpoint at epoch:50\n",
      "Step: 789, Train Loss:0.0012703117681667209 , Val Loss:0.005927204620093107\n",
      "Epoch: 50, Train Loss:0.0012703117681667209 , Val Loss:0.005927204620093107\n"
     ]
    },
    {
     "name": "stderr",
     "output_type": "stream",
     "text": [
      "2023-07-29 01:09:19.543830: I tensorflow/core/grappler/optimizers/data/replicate_on_split.cc:32] Running replicate on split optimization\n",
      "2023-07-29 01:09:19.548165: I tensorflow/core/common_runtime/executor.cc:1197] [/device:CPU:0] (DEBUG INFO) Executor start aborting (this does not indicate an error and you can ignore this message): INVALID_ARGUMENT: You must feed a value for placeholder tensor 'Placeholder/_4' with dtype string and shape [10000]\n",
      "\t [[{{node Placeholder/_4}}]]\n",
      "2023-07-29 01:09:22.328445: I tensorflow/core/common_runtime/executor.cc:1197] [/device:CPU:0] (DEBUG INFO) Executor start aborting (this does not indicate an error and you can ignore this message): INVALID_ARGUMENT: You must feed a value for placeholder tensor 'Placeholder/_1' with dtype string and shape [1000]\n",
      "\t [[{{node Placeholder/_1}}]]\n",
      "2023-07-29 01:09:59.319355: I tensorflow/core/common_runtime/executor.cc:1197] [/device:CPU:0] (DEBUG INFO) Executor start aborting (this does not indicate an error and you can ignore this message): INVALID_ARGUMENT: You must feed a value for placeholder tensor 'Placeholder/_1' with dtype string and shape [1000]\n",
      "\t [[{{node Placeholder/_1}}]]\n",
      "2023-07-29 01:10:37.037229: I tensorflow/core/common_runtime/executor.cc:1197] [/device:CPU:0] (DEBUG INFO) Executor start aborting (this does not indicate an error and you can ignore this message): INVALID_ARGUMENT: You must feed a value for placeholder tensor 'Placeholder/_1' with dtype string and shape [1000]\n",
      "\t [[{{node Placeholder/_1}}]]\n",
      "2023-07-29 01:11:13.564938: I tensorflow/core/common_runtime/executor.cc:1197] [/device:CPU:0] (DEBUG INFO) Executor start aborting (this does not indicate an error and you can ignore this message): INVALID_ARGUMENT: You must feed a value for placeholder tensor 'Placeholder/_1' with dtype string and shape [1000]\n",
      "\t [[{{node Placeholder/_1}}]]\n",
      "2023-07-29 01:11:51.829497: I tensorflow/core/common_runtime/executor.cc:1197] [/device:CPU:0] (DEBUG INFO) Executor start aborting (this does not indicate an error and you can ignore this message): INVALID_ARGUMENT: You must feed a value for placeholder tensor 'Placeholder/_1' with dtype string and shape [1000]\n",
      "\t [[{{node Placeholder/_1}}]]\n",
      "2023-07-29 01:12:27.115565: I tensorflow/core/common_runtime/executor.cc:1197] [/device:CPU:0] (DEBUG INFO) Executor start aborting (this does not indicate an error and you can ignore this message): INVALID_ARGUMENT: You must feed a value for placeholder tensor 'Placeholder/_1' with dtype string and shape [1000]\n",
      "\t [[{{node Placeholder/_1}}]]\n",
      "2023-07-29 01:13:04.429656: I tensorflow/core/common_runtime/executor.cc:1197] [/device:CPU:0] (DEBUG INFO) Executor start aborting (this does not indicate an error and you can ignore this message): INVALID_ARGUMENT: You must feed a value for placeholder tensor 'Placeholder/_1' with dtype string and shape [1000]\n",
      "\t [[{{node Placeholder/_1}}]]\n",
      "2023-07-29 01:13:43.865078: I tensorflow/core/common_runtime/executor.cc:1197] [/device:CPU:0] (DEBUG INFO) Executor start aborting (this does not indicate an error and you can ignore this message): INVALID_ARGUMENT: You must feed a value for placeholder tensor 'Placeholder/_1' with dtype string and shape [1000]\n",
      "\t [[{{node Placeholder/_1}}]]\n"
     ]
    },
    {
     "name": "stdout",
     "output_type": "stream",
     "text": [
      "current loss 0.003113034\n",
      "Min vall loss 0.0025585257\n",
      "Epoch: 51, Train Loss:0.0004631436022464186 , Val Loss:0.0031130339484661818\n"
     ]
    },
    {
     "name": "stderr",
     "output_type": "stream",
     "text": [
      "2023-07-29 01:14:17.039455: I tensorflow/core/grappler/optimizers/data/replicate_on_split.cc:32] Running replicate on split optimization\n",
      "2023-07-29 01:14:17.042919: I tensorflow/core/common_runtime/executor.cc:1197] [/device:CPU:0] (DEBUG INFO) Executor start aborting (this does not indicate an error and you can ignore this message): INVALID_ARGUMENT: You must feed a value for placeholder tensor 'Placeholder/_4' with dtype string and shape [10000]\n",
      "\t [[{{node Placeholder/_4}}]]\n",
      "2023-07-29 01:14:19.589658: I tensorflow/core/common_runtime/executor.cc:1197] [/device:CPU:0] (DEBUG INFO) Executor start aborting (this does not indicate an error and you can ignore this message): INVALID_ARGUMENT: You must feed a value for placeholder tensor 'Placeholder/_1' with dtype string and shape [1000]\n",
      "\t [[{{node Placeholder/_1}}]]\n",
      "2023-07-29 01:14:57.402032: I tensorflow/core/common_runtime/executor.cc:1197] [/device:CPU:0] (DEBUG INFO) Executor start aborting (this does not indicate an error and you can ignore this message): INVALID_ARGUMENT: You must feed a value for placeholder tensor 'Placeholder/_1' with dtype string and shape [1000]\n",
      "\t [[{{node Placeholder/_1}}]]\n",
      "2023-07-29 01:15:34.015813: I tensorflow/core/common_runtime/executor.cc:1197] [/device:CPU:0] (DEBUG INFO) Executor start aborting (this does not indicate an error and you can ignore this message): INVALID_ARGUMENT: You must feed a value for placeholder tensor 'Placeholder/_1' with dtype string and shape [1000]\n",
      "\t [[{{node Placeholder/_1}}]]\n",
      "2023-07-29 01:16:11.446037: I tensorflow/core/common_runtime/executor.cc:1197] [/device:CPU:0] (DEBUG INFO) Executor start aborting (this does not indicate an error and you can ignore this message): INVALID_ARGUMENT: You must feed a value for placeholder tensor 'Placeholder/_1' with dtype string and shape [1000]\n",
      "\t [[{{node Placeholder/_1}}]]\n",
      "2023-07-29 01:16:51.160814: I tensorflow/core/common_runtime/executor.cc:1197] [/device:CPU:0] (DEBUG INFO) Executor start aborting (this does not indicate an error and you can ignore this message): INVALID_ARGUMENT: You must feed a value for placeholder tensor 'Placeholder/_1' with dtype string and shape [1000]\n",
      "\t [[{{node Placeholder/_1}}]]\n",
      "2023-07-29 01:17:27.662387: I tensorflow/core/common_runtime/executor.cc:1197] [/device:CPU:0] (DEBUG INFO) Executor start aborting (this does not indicate an error and you can ignore this message): INVALID_ARGUMENT: You must feed a value for placeholder tensor 'Placeholder/_1' with dtype string and shape [1000]\n",
      "\t [[{{node Placeholder/_1}}]]\n",
      "2023-07-29 01:18:03.722024: I tensorflow/core/common_runtime/executor.cc:1197] [/device:CPU:0] (DEBUG INFO) Executor start aborting (this does not indicate an error and you can ignore this message): INVALID_ARGUMENT: You must feed a value for placeholder tensor 'Placeholder/_1' with dtype string and shape [1000]\n",
      "\t [[{{node Placeholder/_1}}]]\n",
      "2023-07-29 01:18:41.837614: I tensorflow/core/common_runtime/executor.cc:1197] [/device:CPU:0] (DEBUG INFO) Executor start aborting (this does not indicate an error and you can ignore this message): INVALID_ARGUMENT: You must feed a value for placeholder tensor 'Placeholder/_1' with dtype string and shape [1000]\n",
      "\t [[{{node Placeholder/_1}}]]\n"
     ]
    },
    {
     "name": "stdout",
     "output_type": "stream",
     "text": [
      "current loss 0.004990999\n",
      "Min vall loss 0.0025585257\n",
      "Epoch: 52, Train Loss:0.0005261909100227058 , Val Loss:0.00499099912121892\n"
     ]
    },
    {
     "name": "stderr",
     "output_type": "stream",
     "text": [
      "2023-07-29 01:19:14.777441: I tensorflow/core/grappler/optimizers/data/replicate_on_split.cc:32] Running replicate on split optimization\n",
      "2023-07-29 01:19:14.781157: I tensorflow/core/common_runtime/executor.cc:1197] [/device:CPU:0] (DEBUG INFO) Executor start aborting (this does not indicate an error and you can ignore this message): INVALID_ARGUMENT: You must feed a value for placeholder tensor 'Placeholder/_5' with dtype string and shape [10000]\n",
      "\t [[{{node Placeholder/_5}}]]\n",
      "2023-07-29 01:19:17.301859: I tensorflow/core/common_runtime/executor.cc:1197] [/device:CPU:0] (DEBUG INFO) Executor start aborting (this does not indicate an error and you can ignore this message): INVALID_ARGUMENT: You must feed a value for placeholder tensor 'Placeholder/_1' with dtype string and shape [1000]\n",
      "\t [[{{node Placeholder/_1}}]]\n",
      "2023-07-29 01:19:54.633396: I tensorflow/core/common_runtime/executor.cc:1197] [/device:CPU:0] (DEBUG INFO) Executor start aborting (this does not indicate an error and you can ignore this message): INVALID_ARGUMENT: You must feed a value for placeholder tensor 'Placeholder/_1' with dtype string and shape [1000]\n",
      "\t [[{{node Placeholder/_1}}]]\n",
      "2023-07-29 01:20:31.584109: I tensorflow/core/common_runtime/executor.cc:1197] [/device:CPU:0] (DEBUG INFO) Executor start aborting (this does not indicate an error and you can ignore this message): INVALID_ARGUMENT: You must feed a value for placeholder tensor 'Placeholder/_1' with dtype string and shape [1000]\n",
      "\t [[{{node Placeholder/_1}}]]\n",
      "2023-07-29 01:21:08.652953: I tensorflow/core/common_runtime/executor.cc:1197] [/device:CPU:0] (DEBUG INFO) Executor start aborting (this does not indicate an error and you can ignore this message): INVALID_ARGUMENT: You must feed a value for placeholder tensor 'Placeholder/_1' with dtype string and shape [1000]\n",
      "\t [[{{node Placeholder/_1}}]]\n",
      "2023-07-29 01:21:45.650315: I tensorflow/core/common_runtime/executor.cc:1197] [/device:CPU:0] (DEBUG INFO) Executor start aborting (this does not indicate an error and you can ignore this message): INVALID_ARGUMENT: You must feed a value for placeholder tensor 'Placeholder/_1' with dtype string and shape [1000]\n",
      "\t [[{{node Placeholder/_1}}]]\n",
      "2023-07-29 01:22:22.007178: I tensorflow/core/common_runtime/executor.cc:1197] [/device:CPU:0] (DEBUG INFO) Executor start aborting (this does not indicate an error and you can ignore this message): INVALID_ARGUMENT: You must feed a value for placeholder tensor 'Placeholder/_1' with dtype string and shape [1000]\n",
      "\t [[{{node Placeholder/_1}}]]\n",
      "2023-07-29 01:22:58.674122: I tensorflow/core/common_runtime/executor.cc:1197] [/device:CPU:0] (DEBUG INFO) Executor start aborting (this does not indicate an error and you can ignore this message): INVALID_ARGUMENT: You must feed a value for placeholder tensor 'Placeholder/_1' with dtype string and shape [1000]\n",
      "\t [[{{node Placeholder/_1}}]]\n",
      "2023-07-29 01:23:38.460529: I tensorflow/core/common_runtime/executor.cc:1197] [/device:CPU:0] (DEBUG INFO) Executor start aborting (this does not indicate an error and you can ignore this message): INVALID_ARGUMENT: You must feed a value for placeholder tensor 'Placeholder/_1' with dtype string and shape [1000]\n",
      "\t [[{{node Placeholder/_1}}]]\n"
     ]
    },
    {
     "name": "stdout",
     "output_type": "stream",
     "text": [
      "current loss 0.01030292\n",
      "Min vall loss 0.0025585257\n",
      "Epoch: 53, Train Loss:0.0004957804339937866 , Val Loss:0.010302919894456863\n"
     ]
    },
    {
     "name": "stderr",
     "output_type": "stream",
     "text": [
      "2023-07-29 01:24:11.633816: I tensorflow/core/grappler/optimizers/data/replicate_on_split.cc:32] Running replicate on split optimization\n",
      "2023-07-29 01:24:11.637542: I tensorflow/core/common_runtime/executor.cc:1197] [/device:CPU:0] (DEBUG INFO) Executor start aborting (this does not indicate an error and you can ignore this message): INVALID_ARGUMENT: You must feed a value for placeholder tensor 'Placeholder/_4' with dtype string and shape [10000]\n",
      "\t [[{{node Placeholder/_4}}]]\n",
      "2023-07-29 01:24:14.383644: I tensorflow/core/common_runtime/executor.cc:1197] [/device:CPU:0] (DEBUG INFO) Executor start aborting (this does not indicate an error and you can ignore this message): INVALID_ARGUMENT: You must feed a value for placeholder tensor 'Placeholder/_1' with dtype string and shape [1000]\n",
      "\t [[{{node Placeholder/_1}}]]\n",
      "2023-07-29 01:24:51.416252: I tensorflow/core/common_runtime/executor.cc:1197] [/device:CPU:0] (DEBUG INFO) Executor start aborting (this does not indicate an error and you can ignore this message): INVALID_ARGUMENT: You must feed a value for placeholder tensor 'Placeholder/_1' with dtype string and shape [1000]\n",
      "\t [[{{node Placeholder/_1}}]]\n",
      "2023-07-29 01:25:28.435738: I tensorflow/core/common_runtime/executor.cc:1197] [/device:CPU:0] (DEBUG INFO) Executor start aborting (this does not indicate an error and you can ignore this message): INVALID_ARGUMENT: You must feed a value for placeholder tensor 'Placeholder/_1' with dtype string and shape [1000]\n",
      "\t [[{{node Placeholder/_1}}]]\n",
      "2023-07-29 01:26:05.027420: I tensorflow/core/common_runtime/executor.cc:1197] [/device:CPU:0] (DEBUG INFO) Executor start aborting (this does not indicate an error and you can ignore this message): INVALID_ARGUMENT: You must feed a value for placeholder tensor 'Placeholder/_1' with dtype string and shape [1000]\n",
      "\t [[{{node Placeholder/_1}}]]\n",
      "2023-07-29 01:26:43.621194: I tensorflow/core/common_runtime/executor.cc:1197] [/device:CPU:0] (DEBUG INFO) Executor start aborting (this does not indicate an error and you can ignore this message): INVALID_ARGUMENT: You must feed a value for placeholder tensor 'Placeholder/_1' with dtype string and shape [1000]\n",
      "\t [[{{node Placeholder/_1}}]]\n",
      "2023-07-29 01:27:19.074677: I tensorflow/core/common_runtime/executor.cc:1197] [/device:CPU:0] (DEBUG INFO) Executor start aborting (this does not indicate an error and you can ignore this message): INVALID_ARGUMENT: You must feed a value for placeholder tensor 'Placeholder/_1' with dtype string and shape [1000]\n",
      "\t [[{{node Placeholder/_1}}]]\n",
      "2023-07-29 01:27:56.606844: I tensorflow/core/common_runtime/executor.cc:1197] [/device:CPU:0] (DEBUG INFO) Executor start aborting (this does not indicate an error and you can ignore this message): INVALID_ARGUMENT: You must feed a value for placeholder tensor 'Placeholder/_1' with dtype string and shape [1000]\n",
      "\t [[{{node Placeholder/_1}}]]\n",
      "2023-07-29 01:28:35.718481: I tensorflow/core/common_runtime/executor.cc:1197] [/device:CPU:0] (DEBUG INFO) Executor start aborting (this does not indicate an error and you can ignore this message): INVALID_ARGUMENT: You must feed a value for placeholder tensor 'Placeholder/_1' with dtype string and shape [1000]\n",
      "\t [[{{node Placeholder/_1}}]]\n"
     ]
    },
    {
     "name": "stdout",
     "output_type": "stream",
     "text": [
      "current loss 0.029422434\n",
      "Min vall loss 0.0025585257\n",
      "Epoch: 54, Train Loss:0.0006168620311655104 , Val Loss:0.02942243404686451\n"
     ]
    },
    {
     "name": "stderr",
     "output_type": "stream",
     "text": [
      "2023-07-29 01:29:09.131675: I tensorflow/core/grappler/optimizers/data/replicate_on_split.cc:32] Running replicate on split optimization\n",
      "2023-07-29 01:29:09.135755: I tensorflow/core/common_runtime/executor.cc:1197] [/device:CPU:0] (DEBUG INFO) Executor start aborting (this does not indicate an error and you can ignore this message): INVALID_ARGUMENT: You must feed a value for placeholder tensor 'Placeholder/_5' with dtype string and shape [10000]\n",
      "\t [[{{node Placeholder/_5}}]]\n",
      "2023-07-29 01:29:12.076974: I tensorflow/core/common_runtime/executor.cc:1197] [/device:CPU:0] (DEBUG INFO) Executor start aborting (this does not indicate an error and you can ignore this message): INVALID_ARGUMENT: You must feed a value for placeholder tensor 'Placeholder/_1' with dtype string and shape [1000]\n",
      "\t [[{{node Placeholder/_1}}]]\n",
      "2023-07-29 01:29:47.887866: I tensorflow/core/common_runtime/executor.cc:1197] [/device:CPU:0] (DEBUG INFO) Executor start aborting (this does not indicate an error and you can ignore this message): INVALID_ARGUMENT: You must feed a value for placeholder tensor 'Placeholder/_1' with dtype string and shape [1000]\n",
      "\t [[{{node Placeholder/_1}}]]\n",
      "2023-07-29 01:30:24.498056: I tensorflow/core/common_runtime/executor.cc:1197] [/device:CPU:0] (DEBUG INFO) Executor start aborting (this does not indicate an error and you can ignore this message): INVALID_ARGUMENT: You must feed a value for placeholder tensor 'Placeholder/_1' with dtype string and shape [1000]\n",
      "\t [[{{node Placeholder/_1}}]]\n",
      "2023-07-29 01:31:02.488993: I tensorflow/core/common_runtime/executor.cc:1197] [/device:CPU:0] (DEBUG INFO) Executor start aborting (this does not indicate an error and you can ignore this message): INVALID_ARGUMENT: You must feed a value for placeholder tensor 'Placeholder/_1' with dtype string and shape [1000]\n",
      "\t [[{{node Placeholder/_1}}]]\n",
      "2023-07-29 01:31:42.035470: I tensorflow/core/common_runtime/executor.cc:1197] [/device:CPU:0] (DEBUG INFO) Executor start aborting (this does not indicate an error and you can ignore this message): INVALID_ARGUMENT: You must feed a value for placeholder tensor 'Placeholder/_1' with dtype string and shape [1000]\n",
      "\t [[{{node Placeholder/_1}}]]\n",
      "2023-07-29 01:32:18.680355: I tensorflow/core/common_runtime/executor.cc:1197] [/device:CPU:0] (DEBUG INFO) Executor start aborting (this does not indicate an error and you can ignore this message): INVALID_ARGUMENT: You must feed a value for placeholder tensor 'Placeholder/_1' with dtype string and shape [1000]\n",
      "\t [[{{node Placeholder/_1}}]]\n",
      "2023-07-29 01:32:55.742398: I tensorflow/core/common_runtime/executor.cc:1197] [/device:CPU:0] (DEBUG INFO) Executor start aborting (this does not indicate an error and you can ignore this message): INVALID_ARGUMENT: You must feed a value for placeholder tensor 'Placeholder/_1' with dtype string and shape [1000]\n",
      "\t [[{{node Placeholder/_1}}]]\n",
      "2023-07-29 01:33:35.107366: I tensorflow/core/common_runtime/executor.cc:1197] [/device:CPU:0] (DEBUG INFO) Executor start aborting (this does not indicate an error and you can ignore this message): INVALID_ARGUMENT: You must feed a value for placeholder tensor 'Placeholder/_1' with dtype string and shape [1000]\n",
      "\t [[{{node Placeholder/_1}}]]\n"
     ]
    },
    {
     "name": "stdout",
     "output_type": "stream",
     "text": [
      "current loss 0.008108545\n",
      "Min vall loss 0.0025585257\n",
      "Epoch: 55, Train Loss:0.00045858073281124234 , Val Loss:0.00810854509472847\n"
     ]
    },
    {
     "name": "stderr",
     "output_type": "stream",
     "text": [
      "2023-07-29 01:34:06.593087: I tensorflow/core/grappler/optimizers/data/replicate_on_split.cc:32] Running replicate on split optimization\n",
      "2023-07-29 01:34:06.596938: I tensorflow/core/common_runtime/executor.cc:1197] [/device:CPU:0] (DEBUG INFO) Executor start aborting (this does not indicate an error and you can ignore this message): INVALID_ARGUMENT: You must feed a value for placeholder tensor 'Placeholder/_4' with dtype string and shape [10000]\n",
      "\t [[{{node Placeholder/_4}}]]\n",
      "2023-07-29 01:34:09.289158: I tensorflow/core/common_runtime/executor.cc:1197] [/device:CPU:0] (DEBUG INFO) Executor start aborting (this does not indicate an error and you can ignore this message): INVALID_ARGUMENT: You must feed a value for placeholder tensor 'Placeholder/_1' with dtype string and shape [1000]\n",
      "\t [[{{node Placeholder/_1}}]]\n",
      "2023-07-29 01:34:46.421432: I tensorflow/core/common_runtime/executor.cc:1197] [/device:CPU:0] (DEBUG INFO) Executor start aborting (this does not indicate an error and you can ignore this message): INVALID_ARGUMENT: You must feed a value for placeholder tensor 'Placeholder/_1' with dtype string and shape [1000]\n",
      "\t [[{{node Placeholder/_1}}]]\n",
      "2023-07-29 01:35:23.322801: I tensorflow/core/common_runtime/executor.cc:1197] [/device:CPU:0] (DEBUG INFO) Executor start aborting (this does not indicate an error and you can ignore this message): INVALID_ARGUMENT: You must feed a value for placeholder tensor 'Placeholder/_1' with dtype string and shape [1000]\n",
      "\t [[{{node Placeholder/_1}}]]\n",
      "2023-07-29 01:36:01.225489: I tensorflow/core/common_runtime/executor.cc:1197] [/device:CPU:0] (DEBUG INFO) Executor start aborting (this does not indicate an error and you can ignore this message): INVALID_ARGUMENT: You must feed a value for placeholder tensor 'Placeholder/_1' with dtype string and shape [1000]\n",
      "\t [[{{node Placeholder/_1}}]]\n",
      "2023-07-29 01:36:40.736764: I tensorflow/core/common_runtime/executor.cc:1197] [/device:CPU:0] (DEBUG INFO) Executor start aborting (this does not indicate an error and you can ignore this message): INVALID_ARGUMENT: You must feed a value for placeholder tensor 'Placeholder/_1' with dtype string and shape [1000]\n",
      "\t [[{{node Placeholder/_1}}]]\n",
      "2023-07-29 01:37:16.990915: I tensorflow/core/common_runtime/executor.cc:1197] [/device:CPU:0] (DEBUG INFO) Executor start aborting (this does not indicate an error and you can ignore this message): INVALID_ARGUMENT: You must feed a value for placeholder tensor 'Placeholder/_1' with dtype string and shape [1000]\n",
      "\t [[{{node Placeholder/_1}}]]\n",
      "2023-07-29 01:37:54.277197: I tensorflow/core/common_runtime/executor.cc:1197] [/device:CPU:0] (DEBUG INFO) Executor start aborting (this does not indicate an error and you can ignore this message): INVALID_ARGUMENT: You must feed a value for placeholder tensor 'Placeholder/_1' with dtype string and shape [1000]\n",
      "\t [[{{node Placeholder/_1}}]]\n",
      "2023-07-29 01:38:34.091542: I tensorflow/core/common_runtime/executor.cc:1197] [/device:CPU:0] (DEBUG INFO) Executor start aborting (this does not indicate an error and you can ignore this message): INVALID_ARGUMENT: You must feed a value for placeholder tensor 'Placeholder/_1' with dtype string and shape [1000]\n",
      "\t [[{{node Placeholder/_1}}]]\n"
     ]
    },
    {
     "name": "stdout",
     "output_type": "stream",
     "text": [
      "current loss 0.007824532\n",
      "Min vall loss 0.0025585257\n",
      "Epoch: 56, Train Loss:0.0005082324496470392 , Val Loss:0.007824531756341457\n"
     ]
    },
    {
     "name": "stderr",
     "output_type": "stream",
     "text": [
      "2023-07-29 01:39:07.484060: I tensorflow/core/grappler/optimizers/data/replicate_on_split.cc:32] Running replicate on split optimization\n",
      "2023-07-29 01:39:07.489168: I tensorflow/core/common_runtime/executor.cc:1197] [/device:CPU:0] (DEBUG INFO) Executor start aborting (this does not indicate an error and you can ignore this message): INVALID_ARGUMENT: You must feed a value for placeholder tensor 'Placeholder/_4' with dtype string and shape [10000]\n",
      "\t [[{{node Placeholder/_4}}]]\n",
      "2023-07-29 01:39:10.064027: I tensorflow/core/common_runtime/executor.cc:1197] [/device:CPU:0] (DEBUG INFO) Executor start aborting (this does not indicate an error and you can ignore this message): INVALID_ARGUMENT: You must feed a value for placeholder tensor 'Placeholder/_1' with dtype string and shape [1000]\n",
      "\t [[{{node Placeholder/_1}}]]\n",
      "2023-07-29 01:39:46.051823: I tensorflow/core/common_runtime/executor.cc:1197] [/device:CPU:0] (DEBUG INFO) Executor start aborting (this does not indicate an error and you can ignore this message): INVALID_ARGUMENT: You must feed a value for placeholder tensor 'Placeholder/_1' with dtype string and shape [1000]\n",
      "\t [[{{node Placeholder/_1}}]]\n",
      "2023-07-29 01:40:23.642887: I tensorflow/core/common_runtime/executor.cc:1197] [/device:CPU:0] (DEBUG INFO) Executor start aborting (this does not indicate an error and you can ignore this message): INVALID_ARGUMENT: You must feed a value for placeholder tensor 'Placeholder/_1' with dtype string and shape [1000]\n",
      "\t [[{{node Placeholder/_1}}]]\n",
      "2023-07-29 01:41:00.497323: I tensorflow/core/common_runtime/executor.cc:1197] [/device:CPU:0] (DEBUG INFO) Executor start aborting (this does not indicate an error and you can ignore this message): INVALID_ARGUMENT: You must feed a value for placeholder tensor 'Placeholder/_1' with dtype string and shape [1000]\n",
      "\t [[{{node Placeholder/_1}}]]\n",
      "2023-07-29 01:41:40.411924: I tensorflow/core/common_runtime/executor.cc:1197] [/device:CPU:0] (DEBUG INFO) Executor start aborting (this does not indicate an error and you can ignore this message): INVALID_ARGUMENT: You must feed a value for placeholder tensor 'Placeholder/_1' with dtype string and shape [1000]\n",
      "\t [[{{node Placeholder/_1}}]]\n",
      "2023-07-29 01:42:16.200508: I tensorflow/core/common_runtime/executor.cc:1197] [/device:CPU:0] (DEBUG INFO) Executor start aborting (this does not indicate an error and you can ignore this message): INVALID_ARGUMENT: You must feed a value for placeholder tensor 'Placeholder/_1' with dtype string and shape [1000]\n",
      "\t [[{{node Placeholder/_1}}]]\n",
      "2023-07-29 01:42:53.557017: I tensorflow/core/common_runtime/executor.cc:1197] [/device:CPU:0] (DEBUG INFO) Executor start aborting (this does not indicate an error and you can ignore this message): INVALID_ARGUMENT: You must feed a value for placeholder tensor 'Placeholder/_1' with dtype string and shape [1000]\n",
      "\t [[{{node Placeholder/_1}}]]\n",
      "2023-07-29 01:43:32.395094: I tensorflow/core/common_runtime/executor.cc:1197] [/device:CPU:0] (DEBUG INFO) Executor start aborting (this does not indicate an error and you can ignore this message): INVALID_ARGUMENT: You must feed a value for placeholder tensor 'Placeholder/_1' with dtype string and shape [1000]\n",
      "\t [[{{node Placeholder/_1}}]]\n"
     ]
    },
    {
     "name": "stdout",
     "output_type": "stream",
     "text": [
      "current loss 0.003062895\n",
      "Min vall loss 0.0025585257\n",
      "Epoch: 57, Train Loss:0.00048472193884663284 , Val Loss:0.003062895033508539\n"
     ]
    },
    {
     "name": "stderr",
     "output_type": "stream",
     "text": [
      "2023-07-29 01:44:05.984738: I tensorflow/core/grappler/optimizers/data/replicate_on_split.cc:32] Running replicate on split optimization\n",
      "2023-07-29 01:44:05.988951: I tensorflow/core/common_runtime/executor.cc:1197] [/device:CPU:0] (DEBUG INFO) Executor start aborting (this does not indicate an error and you can ignore this message): INVALID_ARGUMENT: You must feed a value for placeholder tensor 'Placeholder/_5' with dtype string and shape [10000]\n",
      "\t [[{{node Placeholder/_5}}]]\n",
      "2023-07-29 01:44:08.802798: I tensorflow/core/common_runtime/executor.cc:1197] [/device:CPU:0] (DEBUG INFO) Executor start aborting (this does not indicate an error and you can ignore this message): INVALID_ARGUMENT: You must feed a value for placeholder tensor 'Placeholder/_1' with dtype string and shape [1000]\n",
      "\t [[{{node Placeholder/_1}}]]\n",
      "2023-07-29 01:44:45.503862: I tensorflow/core/common_runtime/executor.cc:1197] [/device:CPU:0] (DEBUG INFO) Executor start aborting (this does not indicate an error and you can ignore this message): INVALID_ARGUMENT: You must feed a value for placeholder tensor 'Placeholder/_1' with dtype string and shape [1000]\n",
      "\t [[{{node Placeholder/_1}}]]\n",
      "2023-07-29 01:45:23.420728: I tensorflow/core/common_runtime/executor.cc:1197] [/device:CPU:0] (DEBUG INFO) Executor start aborting (this does not indicate an error and you can ignore this message): INVALID_ARGUMENT: You must feed a value for placeholder tensor 'Placeholder/_1' with dtype string and shape [1000]\n",
      "\t [[{{node Placeholder/_1}}]]\n",
      "2023-07-29 01:46:00.622668: I tensorflow/core/common_runtime/executor.cc:1197] [/device:CPU:0] (DEBUG INFO) Executor start aborting (this does not indicate an error and you can ignore this message): INVALID_ARGUMENT: You must feed a value for placeholder tensor 'Placeholder/_1' with dtype string and shape [1000]\n",
      "\t [[{{node Placeholder/_1}}]]\n",
      "2023-07-29 01:46:44.906741: I tensorflow/core/kernels/data/shuffle_dataset_op.cc:392] Filling up shuffle buffer (this may take a while): 254 of 10000\n",
      "2023-07-29 01:46:54.916720: I tensorflow/core/kernels/data/shuffle_dataset_op.cc:392] Filling up shuffle buffer (this may take a while): 502 of 10000\n",
      "2023-07-29 01:47:04.935589: I tensorflow/core/kernels/data/shuffle_dataset_op.cc:392] Filling up shuffle buffer (this may take a while): 813 of 10000\n",
      "2023-07-29 01:47:14.917773: I tensorflow/core/kernels/data/shuffle_dataset_op.cc:392] Filling up shuffle buffer (this may take a while): 1105 of 10000\n",
      "2023-07-29 01:47:24.937060: I tensorflow/core/kernels/data/shuffle_dataset_op.cc:392] Filling up shuffle buffer (this may take a while): 1484 of 10000\n",
      "2023-07-29 01:47:34.897687: I tensorflow/core/kernels/data/shuffle_dataset_op.cc:392] Filling up shuffle buffer (this may take a while): 1873 of 10000\n",
      "2023-07-29 01:47:44.900719: I tensorflow/core/kernels/data/shuffle_dataset_op.cc:392] Filling up shuffle buffer (this may take a while): 2290 of 10000\n",
      "2023-07-29 01:47:54.895656: I tensorflow/core/kernels/data/shuffle_dataset_op.cc:392] Filling up shuffle buffer (this may take a while): 2689 of 10000\n",
      "2023-07-29 01:48:04.897738: I tensorflow/core/kernels/data/shuffle_dataset_op.cc:392] Filling up shuffle buffer (this may take a while): 3078 of 10000\n",
      "2023-07-29 01:48:14.912733: I tensorflow/core/kernels/data/shuffle_dataset_op.cc:392] Filling up shuffle buffer (this may take a while): 3413 of 10000\n",
      "2023-07-29 01:48:24.913714: I tensorflow/core/kernels/data/shuffle_dataset_op.cc:392] Filling up shuffle buffer (this may take a while): 3771 of 10000\n",
      "2023-07-29 01:48:34.904579: I tensorflow/core/kernels/data/shuffle_dataset_op.cc:392] Filling up shuffle buffer (this may take a while): 4132 of 10000\n",
      "2023-07-29 01:48:44.895588: I tensorflow/core/kernels/data/shuffle_dataset_op.cc:392] Filling up shuffle buffer (this may take a while): 4490 of 10000\n",
      "2023-07-29 01:48:54.907736: I tensorflow/core/kernels/data/shuffle_dataset_op.cc:392] Filling up shuffle buffer (this may take a while): 4843 of 10000\n",
      "2023-07-29 01:49:04.923710: I tensorflow/core/kernels/data/shuffle_dataset_op.cc:392] Filling up shuffle buffer (this may take a while): 5233 of 10000\n",
      "2023-07-29 01:49:14.899661: I tensorflow/core/kernels/data/shuffle_dataset_op.cc:392] Filling up shuffle buffer (this may take a while): 5623 of 10000\n",
      "2023-07-29 01:49:24.933767: I tensorflow/core/kernels/data/shuffle_dataset_op.cc:392] Filling up shuffle buffer (this may take a while): 6017 of 10000\n",
      "2023-07-29 01:49:34.896660: I tensorflow/core/kernels/data/shuffle_dataset_op.cc:392] Filling up shuffle buffer (this may take a while): 6406 of 10000\n",
      "2023-07-29 01:49:44.915979: I tensorflow/core/kernels/data/shuffle_dataset_op.cc:392] Filling up shuffle buffer (this may take a while): 6848 of 10000\n",
      "2023-07-29 01:49:54.896684: I tensorflow/core/kernels/data/shuffle_dataset_op.cc:392] Filling up shuffle buffer (this may take a while): 7271 of 10000\n",
      "2023-07-29 01:50:04.931816: I tensorflow/core/kernels/data/shuffle_dataset_op.cc:392] Filling up shuffle buffer (this may take a while): 7648 of 10000\n",
      "2023-07-29 01:50:14.905644: I tensorflow/core/kernels/data/shuffle_dataset_op.cc:392] Filling up shuffle buffer (this may take a while): 8018 of 10000\n",
      "2023-07-29 01:50:24.912600: I tensorflow/core/kernels/data/shuffle_dataset_op.cc:392] Filling up shuffle buffer (this may take a while): 8439 of 10000\n",
      "2023-07-29 01:50:34.895717: I tensorflow/core/kernels/data/shuffle_dataset_op.cc:392] Filling up shuffle buffer (this may take a while): 8806 of 10000\n",
      "2023-07-29 01:50:44.905815: I tensorflow/core/kernels/data/shuffle_dataset_op.cc:392] Filling up shuffle buffer (this may take a while): 9206 of 10000\n",
      "2023-07-29 01:50:54.917709: I tensorflow/core/kernels/data/shuffle_dataset_op.cc:392] Filling up shuffle buffer (this may take a while): 9608 of 10000\n",
      "2023-07-29 01:51:04.923632: I tensorflow/core/kernels/data/shuffle_dataset_op.cc:392] Filling up shuffle buffer (this may take a while): 9983 of 10000\n",
      "2023-07-29 01:51:05.423756: I tensorflow/core/kernels/data/shuffle_dataset_op.cc:417] Shuffle buffer filled.\n",
      "2023-07-29 01:51:19.798411: I tensorflow/core/common_runtime/executor.cc:1197] [/device:CPU:0] (DEBUG INFO) Executor start aborting (this does not indicate an error and you can ignore this message): INVALID_ARGUMENT: You must feed a value for placeholder tensor 'Placeholder/_1' with dtype string and shape [1000]\n",
      "\t [[{{node Placeholder/_1}}]]\n",
      "2023-07-29 01:51:57.183711: I tensorflow/core/common_runtime/executor.cc:1197] [/device:CPU:0] (DEBUG INFO) Executor start aborting (this does not indicate an error and you can ignore this message): INVALID_ARGUMENT: You must feed a value for placeholder tensor 'Placeholder/_1' with dtype string and shape [1000]\n",
      "\t [[{{node Placeholder/_1}}]]\n",
      "2023-07-29 01:52:34.058257: I tensorflow/core/common_runtime/executor.cc:1197] [/device:CPU:0] (DEBUG INFO) Executor start aborting (this does not indicate an error and you can ignore this message): INVALID_ARGUMENT: You must feed a value for placeholder tensor 'Placeholder/_1' with dtype string and shape [1000]\n",
      "\t [[{{node Placeholder/_1}}]]\n",
      "2023-07-29 01:53:13.936712: I tensorflow/core/common_runtime/executor.cc:1197] [/device:CPU:0] (DEBUG INFO) Executor start aborting (this does not indicate an error and you can ignore this message): INVALID_ARGUMENT: You must feed a value for placeholder tensor 'Placeholder/_1' with dtype string and shape [1000]\n",
      "\t [[{{node Placeholder/_1}}]]\n"
     ]
    },
    {
     "name": "stdout",
     "output_type": "stream",
     "text": [
      "current loss 0.004954125\n",
      "Min vall loss 0.0025585257\n",
      "Epoch: 58, Train Loss:0.00046631807344965637 , Val Loss:0.004954124800860882\n"
     ]
    },
    {
     "name": "stderr",
     "output_type": "stream",
     "text": [
      "2023-07-29 01:53:46.261289: I tensorflow/core/grappler/optimizers/data/replicate_on_split.cc:32] Running replicate on split optimization\n",
      "2023-07-29 01:53:46.264592: I tensorflow/core/common_runtime/executor.cc:1197] [/device:CPU:0] (DEBUG INFO) Executor start aborting (this does not indicate an error and you can ignore this message): INVALID_ARGUMENT: You must feed a value for placeholder tensor 'Placeholder/_4' with dtype string and shape [10000]\n",
      "\t [[{{node Placeholder/_4}}]]\n",
      "2023-07-29 01:53:48.974815: I tensorflow/core/common_runtime/executor.cc:1197] [/device:CPU:0] (DEBUG INFO) Executor start aborting (this does not indicate an error and you can ignore this message): INVALID_ARGUMENT: You must feed a value for placeholder tensor 'Placeholder/_1' with dtype string and shape [1000]\n",
      "\t [[{{node Placeholder/_1}}]]\n",
      "2023-07-29 01:54:26.290581: I tensorflow/core/common_runtime/executor.cc:1197] [/device:CPU:0] (DEBUG INFO) Executor start aborting (this does not indicate an error and you can ignore this message): INVALID_ARGUMENT: You must feed a value for placeholder tensor 'Placeholder/_1' with dtype string and shape [1000]\n",
      "\t [[{{node Placeholder/_1}}]]\n",
      "2023-07-29 01:55:03.097700: I tensorflow/core/common_runtime/executor.cc:1197] [/device:CPU:0] (DEBUG INFO) Executor start aborting (this does not indicate an error and you can ignore this message): INVALID_ARGUMENT: You must feed a value for placeholder tensor 'Placeholder/_1' with dtype string and shape [1000]\n",
      "\t [[{{node Placeholder/_1}}]]\n",
      "2023-07-29 01:55:40.905379: I tensorflow/core/common_runtime/executor.cc:1197] [/device:CPU:0] (DEBUG INFO) Executor start aborting (this does not indicate an error and you can ignore this message): INVALID_ARGUMENT: You must feed a value for placeholder tensor 'Placeholder/_1' with dtype string and shape [1000]\n",
      "\t [[{{node Placeholder/_1}}]]\n",
      "2023-07-29 01:56:19.226249: I tensorflow/core/common_runtime/executor.cc:1197] [/device:CPU:0] (DEBUG INFO) Executor start aborting (this does not indicate an error and you can ignore this message): INVALID_ARGUMENT: You must feed a value for placeholder tensor 'Placeholder/_1' with dtype string and shape [1000]\n",
      "\t [[{{node Placeholder/_1}}]]\n",
      "2023-07-29 01:56:56.422851: I tensorflow/core/common_runtime/executor.cc:1197] [/device:CPU:0] (DEBUG INFO) Executor start aborting (this does not indicate an error and you can ignore this message): INVALID_ARGUMENT: You must feed a value for placeholder tensor 'Placeholder/_1' with dtype string and shape [1000]\n",
      "\t [[{{node Placeholder/_1}}]]\n",
      "2023-07-29 01:57:32.442325: I tensorflow/core/common_runtime/executor.cc:1197] [/device:CPU:0] (DEBUG INFO) Executor start aborting (this does not indicate an error and you can ignore this message): INVALID_ARGUMENT: You must feed a value for placeholder tensor 'Placeholder/_1' with dtype string and shape [1000]\n",
      "\t [[{{node Placeholder/_1}}]]\n",
      "2023-07-29 01:58:12.045208: I tensorflow/core/common_runtime/executor.cc:1197] [/device:CPU:0] (DEBUG INFO) Executor start aborting (this does not indicate an error and you can ignore this message): INVALID_ARGUMENT: You must feed a value for placeholder tensor 'Placeholder/_1' with dtype string and shape [1000]\n",
      "\t [[{{node Placeholder/_1}}]]\n"
     ]
    },
    {
     "name": "stdout",
     "output_type": "stream",
     "text": [
      "current loss 0.0038212629\n",
      "Min vall loss 0.0025585257\n",
      "Epoch: 59, Train Loss:0.0005183101748116314 , Val Loss:0.0038212628569453955\n"
     ]
    },
    {
     "name": "stderr",
     "output_type": "stream",
     "text": [
      "2023-07-29 01:58:44.318690: I tensorflow/core/grappler/optimizers/data/replicate_on_split.cc:32] Running replicate on split optimization\n",
      "2023-07-29 01:58:44.322371: I tensorflow/core/common_runtime/executor.cc:1197] [/device:CPU:0] (DEBUG INFO) Executor start aborting (this does not indicate an error and you can ignore this message): INVALID_ARGUMENT: You must feed a value for placeholder tensor 'Placeholder/_4' with dtype string and shape [10000]\n",
      "\t [[{{node Placeholder/_4}}]]\n",
      "2023-07-29 01:58:47.113442: I tensorflow/core/common_runtime/executor.cc:1197] [/device:CPU:0] (DEBUG INFO) Executor start aborting (this does not indicate an error and you can ignore this message): INVALID_ARGUMENT: You must feed a value for placeholder tensor 'Placeholder/_1' with dtype string and shape [1000]\n",
      "\t [[{{node Placeholder/_1}}]]\n",
      "2023-07-29 01:59:25.507644: I tensorflow/core/common_runtime/executor.cc:1197] [/device:CPU:0] (DEBUG INFO) Executor start aborting (this does not indicate an error and you can ignore this message): INVALID_ARGUMENT: You must feed a value for placeholder tensor 'Placeholder/_1' with dtype string and shape [1000]\n",
      "\t [[{{node Placeholder/_1}}]]\n",
      "2023-07-29 02:00:02.365621: I tensorflow/core/common_runtime/executor.cc:1197] [/device:CPU:0] (DEBUG INFO) Executor start aborting (this does not indicate an error and you can ignore this message): INVALID_ARGUMENT: You must feed a value for placeholder tensor 'Placeholder/_1' with dtype string and shape [1000]\n",
      "\t [[{{node Placeholder/_1}}]]\n",
      "2023-07-29 02:00:39.204223: I tensorflow/core/common_runtime/executor.cc:1197] [/device:CPU:0] (DEBUG INFO) Executor start aborting (this does not indicate an error and you can ignore this message): INVALID_ARGUMENT: You must feed a value for placeholder tensor 'Placeholder/_1' with dtype string and shape [1000]\n",
      "\t [[{{node Placeholder/_1}}]]\n",
      "2023-07-29 02:01:17.314017: I tensorflow/core/common_runtime/executor.cc:1197] [/device:CPU:0] (DEBUG INFO) Executor start aborting (this does not indicate an error and you can ignore this message): INVALID_ARGUMENT: You must feed a value for placeholder tensor 'Placeholder/_1' with dtype string and shape [1000]\n",
      "\t [[{{node Placeholder/_1}}]]\n",
      "2023-07-29 02:01:53.348615: I tensorflow/core/common_runtime/executor.cc:1197] [/device:CPU:0] (DEBUG INFO) Executor start aborting (this does not indicate an error and you can ignore this message): INVALID_ARGUMENT: You must feed a value for placeholder tensor 'Placeholder/_1' with dtype string and shape [1000]\n",
      "\t [[{{node Placeholder/_1}}]]\n",
      "2023-07-29 02:02:29.705611: I tensorflow/core/common_runtime/executor.cc:1197] [/device:CPU:0] (DEBUG INFO) Executor start aborting (this does not indicate an error and you can ignore this message): INVALID_ARGUMENT: You must feed a value for placeholder tensor 'Placeholder/_1' with dtype string and shape [1000]\n",
      "\t [[{{node Placeholder/_1}}]]\n",
      "2023-07-29 02:03:08.579864: I tensorflow/core/common_runtime/executor.cc:1197] [/device:CPU:0] (DEBUG INFO) Executor start aborting (this does not indicate an error and you can ignore this message): INVALID_ARGUMENT: You must feed a value for placeholder tensor 'Placeholder/_1' with dtype string and shape [1000]\n",
      "\t [[{{node Placeholder/_1}}]]\n"
     ]
    },
    {
     "name": "stdout",
     "output_type": "stream",
     "text": [
      "current loss 0.13358149\n",
      "Min vall loss 0.0025585257\n",
      "Time taken for 10 epochs: 3262.33 sec\n",
      "\n",
      "Reached epoch: 60\n",
      "Epoch: 60, Train Loss:0.0011914507485926151 , Val Loss:0.1335814893245697\n"
     ]
    },
    {
     "name": "stderr",
     "output_type": "stream",
     "text": [
      "2023-07-29 02:03:40.591031: I tensorflow/core/grappler/optimizers/data/replicate_on_split.cc:32] Running replicate on split optimization\n",
      "2023-07-29 02:03:40.595563: I tensorflow/core/common_runtime/executor.cc:1197] [/device:CPU:0] (DEBUG INFO) Executor start aborting (this does not indicate an error and you can ignore this message): INVALID_ARGUMENT: You must feed a value for placeholder tensor 'Placeholder/_4' with dtype string and shape [10000]\n",
      "\t [[{{node Placeholder/_4}}]]\n",
      "2023-07-29 02:03:43.464903: I tensorflow/core/common_runtime/executor.cc:1197] [/device:CPU:0] (DEBUG INFO) Executor start aborting (this does not indicate an error and you can ignore this message): INVALID_ARGUMENT: You must feed a value for placeholder tensor 'Placeholder/_1' with dtype string and shape [1000]\n",
      "\t [[{{node Placeholder/_1}}]]\n",
      "2023-07-29 02:04:19.931481: I tensorflow/core/common_runtime/executor.cc:1197] [/device:CPU:0] (DEBUG INFO) Executor start aborting (this does not indicate an error and you can ignore this message): INVALID_ARGUMENT: You must feed a value for placeholder tensor 'Placeholder/_1' with dtype string and shape [1000]\n",
      "\t [[{{node Placeholder/_1}}]]\n",
      "2023-07-29 02:04:56.909969: I tensorflow/core/common_runtime/executor.cc:1197] [/device:CPU:0] (DEBUG INFO) Executor start aborting (this does not indicate an error and you can ignore this message): INVALID_ARGUMENT: You must feed a value for placeholder tensor 'Placeholder/_1' with dtype string and shape [1000]\n",
      "\t [[{{node Placeholder/_1}}]]\n",
      "2023-07-29 02:05:32.901434: I tensorflow/core/common_runtime/executor.cc:1197] [/device:CPU:0] (DEBUG INFO) Executor start aborting (this does not indicate an error and you can ignore this message): INVALID_ARGUMENT: You must feed a value for placeholder tensor 'Placeholder/_1' with dtype string and shape [1000]\n",
      "\t [[{{node Placeholder/_1}}]]\n",
      "2023-07-29 02:06:11.232542: I tensorflow/core/common_runtime/executor.cc:1197] [/device:CPU:0] (DEBUG INFO) Executor start aborting (this does not indicate an error and you can ignore this message): INVALID_ARGUMENT: You must feed a value for placeholder tensor 'Placeholder/_1' with dtype string and shape [1000]\n",
      "\t [[{{node Placeholder/_1}}]]\n",
      "2023-07-29 02:06:47.936166: I tensorflow/core/common_runtime/executor.cc:1197] [/device:CPU:0] (DEBUG INFO) Executor start aborting (this does not indicate an error and you can ignore this message): INVALID_ARGUMENT: You must feed a value for placeholder tensor 'Placeholder/_1' with dtype string and shape [1000]\n",
      "\t [[{{node Placeholder/_1}}]]\n",
      "2023-07-29 02:07:24.772463: I tensorflow/core/common_runtime/executor.cc:1197] [/device:CPU:0] (DEBUG INFO) Executor start aborting (this does not indicate an error and you can ignore this message): INVALID_ARGUMENT: You must feed a value for placeholder tensor 'Placeholder/_1' with dtype string and shape [1000]\n",
      "\t [[{{node Placeholder/_1}}]]\n",
      "2023-07-29 02:08:02.657147: I tensorflow/core/common_runtime/executor.cc:1197] [/device:CPU:0] (DEBUG INFO) Executor start aborting (this does not indicate an error and you can ignore this message): INVALID_ARGUMENT: You must feed a value for placeholder tensor 'Placeholder/_1' with dtype string and shape [1000]\n",
      "\t [[{{node Placeholder/_1}}]]\n"
     ]
    },
    {
     "name": "stdout",
     "output_type": "stream",
     "text": [
      "current loss 0.0012288059\n",
      "Min vall loss 0.0025585257\n",
      "Saving best weight with val loss:0.0012288058642297983 to results/model_weights/best_mse_model\n",
      "Epoch: 61, Train Loss:0.00037760951090604067 , Val Loss:0.0012288058642297983\n"
     ]
    },
    {
     "name": "stderr",
     "output_type": "stream",
     "text": [
      "2023-07-29 02:08:36.260997: I tensorflow/core/grappler/optimizers/data/replicate_on_split.cc:32] Running replicate on split optimization\n",
      "2023-07-29 02:08:36.266127: I tensorflow/core/common_runtime/executor.cc:1197] [/device:CPU:0] (DEBUG INFO) Executor start aborting (this does not indicate an error and you can ignore this message): INVALID_ARGUMENT: You must feed a value for placeholder tensor 'Placeholder/_5' with dtype string and shape [10000]\n",
      "\t [[{{node Placeholder/_5}}]]\n",
      "2023-07-29 02:08:38.928270: I tensorflow/core/common_runtime/executor.cc:1197] [/device:CPU:0] (DEBUG INFO) Executor start aborting (this does not indicate an error and you can ignore this message): INVALID_ARGUMENT: You must feed a value for placeholder tensor 'Placeholder/_1' with dtype string and shape [1000]\n",
      "\t [[{{node Placeholder/_1}}]]\n",
      "2023-07-29 02:09:16.066098: I tensorflow/core/common_runtime/executor.cc:1197] [/device:CPU:0] (DEBUG INFO) Executor start aborting (this does not indicate an error and you can ignore this message): INVALID_ARGUMENT: You must feed a value for placeholder tensor 'Placeholder/_1' with dtype string and shape [1000]\n",
      "\t [[{{node Placeholder/_1}}]]\n",
      "2023-07-29 02:09:54.179800: I tensorflow/core/common_runtime/executor.cc:1197] [/device:CPU:0] (DEBUG INFO) Executor start aborting (this does not indicate an error and you can ignore this message): INVALID_ARGUMENT: You must feed a value for placeholder tensor 'Placeholder/_1' with dtype string and shape [1000]\n",
      "\t [[{{node Placeholder/_1}}]]\n",
      "2023-07-29 02:10:30.979205: I tensorflow/core/common_runtime/executor.cc:1197] [/device:CPU:0] (DEBUG INFO) Executor start aborting (this does not indicate an error and you can ignore this message): INVALID_ARGUMENT: You must feed a value for placeholder tensor 'Placeholder/_1' with dtype string and shape [1000]\n",
      "\t [[{{node Placeholder/_1}}]]\n",
      "2023-07-29 02:11:09.114403: I tensorflow/core/common_runtime/executor.cc:1197] [/device:CPU:0] (DEBUG INFO) Executor start aborting (this does not indicate an error and you can ignore this message): INVALID_ARGUMENT: You must feed a value for placeholder tensor 'Placeholder/_1' with dtype string and shape [1000]\n",
      "\t [[{{node Placeholder/_1}}]]\n",
      "2023-07-29 02:11:46.663687: I tensorflow/core/common_runtime/executor.cc:1197] [/device:CPU:0] (DEBUG INFO) Executor start aborting (this does not indicate an error and you can ignore this message): INVALID_ARGUMENT: You must feed a value for placeholder tensor 'Placeholder/_1' with dtype string and shape [1000]\n",
      "\t [[{{node Placeholder/_1}}]]\n",
      "2023-07-29 02:12:23.035517: I tensorflow/core/common_runtime/executor.cc:1197] [/device:CPU:0] (DEBUG INFO) Executor start aborting (this does not indicate an error and you can ignore this message): INVALID_ARGUMENT: You must feed a value for placeholder tensor 'Placeholder/_1' with dtype string and shape [1000]\n",
      "\t [[{{node Placeholder/_1}}]]\n",
      "2023-07-29 02:13:02.205469: I tensorflow/core/common_runtime/executor.cc:1197] [/device:CPU:0] (DEBUG INFO) Executor start aborting (this does not indicate an error and you can ignore this message): INVALID_ARGUMENT: You must feed a value for placeholder tensor 'Placeholder/_1' with dtype string and shape [1000]\n",
      "\t [[{{node Placeholder/_1}}]]\n"
     ]
    },
    {
     "name": "stdout",
     "output_type": "stream",
     "text": [
      "current loss 0.0043678447\n",
      "Min vall loss 0.0012288059\n",
      "Epoch: 62, Train Loss:0.00042438384843990207 , Val Loss:0.004367844667285681\n"
     ]
    },
    {
     "name": "stderr",
     "output_type": "stream",
     "text": [
      "2023-07-29 02:13:35.396758: I tensorflow/core/grappler/optimizers/data/replicate_on_split.cc:32] Running replicate on split optimization\n",
      "2023-07-29 02:13:35.401438: I tensorflow/core/common_runtime/executor.cc:1197] [/device:CPU:0] (DEBUG INFO) Executor start aborting (this does not indicate an error and you can ignore this message): INVALID_ARGUMENT: You must feed a value for placeholder tensor 'Placeholder/_4' with dtype string and shape [10000]\n",
      "\t [[{{node Placeholder/_4}}]]\n",
      "2023-07-29 02:13:38.033032: I tensorflow/core/common_runtime/executor.cc:1197] [/device:CPU:0] (DEBUG INFO) Executor start aborting (this does not indicate an error and you can ignore this message): INVALID_ARGUMENT: You must feed a value for placeholder tensor 'Placeholder/_1' with dtype string and shape [1000]\n",
      "\t [[{{node Placeholder/_1}}]]\n",
      "2023-07-29 02:14:15.547428: I tensorflow/core/common_runtime/executor.cc:1197] [/device:CPU:0] (DEBUG INFO) Executor start aborting (this does not indicate an error and you can ignore this message): INVALID_ARGUMENT: You must feed a value for placeholder tensor 'Placeholder/_1' with dtype string and shape [1000]\n",
      "\t [[{{node Placeholder/_1}}]]\n",
      "2023-07-29 02:14:52.154212: I tensorflow/core/common_runtime/executor.cc:1197] [/device:CPU:0] (DEBUG INFO) Executor start aborting (this does not indicate an error and you can ignore this message): INVALID_ARGUMENT: You must feed a value for placeholder tensor 'Placeholder/_1' with dtype string and shape [1000]\n",
      "\t [[{{node Placeholder/_1}}]]\n",
      "2023-07-29 02:15:28.691636: I tensorflow/core/common_runtime/executor.cc:1197] [/device:CPU:0] (DEBUG INFO) Executor start aborting (this does not indicate an error and you can ignore this message): INVALID_ARGUMENT: You must feed a value for placeholder tensor 'Placeholder/_1' with dtype string and shape [1000]\n",
      "\t [[{{node Placeholder/_1}}]]\n",
      "2023-07-29 02:16:06.530907: I tensorflow/core/common_runtime/executor.cc:1197] [/device:CPU:0] (DEBUG INFO) Executor start aborting (this does not indicate an error and you can ignore this message): INVALID_ARGUMENT: You must feed a value for placeholder tensor 'Placeholder/_1' with dtype string and shape [1000]\n",
      "\t [[{{node Placeholder/_1}}]]\n",
      "2023-07-29 02:16:42.979878: I tensorflow/core/common_runtime/executor.cc:1197] [/device:CPU:0] (DEBUG INFO) Executor start aborting (this does not indicate an error and you can ignore this message): INVALID_ARGUMENT: You must feed a value for placeholder tensor 'Placeholder/_1' with dtype string and shape [1000]\n",
      "\t [[{{node Placeholder/_1}}]]\n",
      "2023-07-29 02:17:19.937142: I tensorflow/core/common_runtime/executor.cc:1197] [/device:CPU:0] (DEBUG INFO) Executor start aborting (this does not indicate an error and you can ignore this message): INVALID_ARGUMENT: You must feed a value for placeholder tensor 'Placeholder/_1' with dtype string and shape [1000]\n",
      "\t [[{{node Placeholder/_1}}]]\n",
      "2023-07-29 02:17:59.326516: I tensorflow/core/common_runtime/executor.cc:1197] [/device:CPU:0] (DEBUG INFO) Executor start aborting (this does not indicate an error and you can ignore this message): INVALID_ARGUMENT: You must feed a value for placeholder tensor 'Placeholder/_1' with dtype string and shape [1000]\n",
      "\t [[{{node Placeholder/_1}}]]\n"
     ]
    },
    {
     "name": "stdout",
     "output_type": "stream",
     "text": [
      "current loss 0.008517491\n",
      "Min vall loss 0.0012288059\n",
      "Epoch: 63, Train Loss:0.00045240603503771126 , Val Loss:0.008517490699887276\n"
     ]
    },
    {
     "name": "stderr",
     "output_type": "stream",
     "text": [
      "2023-07-29 02:18:32.437166: I tensorflow/core/grappler/optimizers/data/replicate_on_split.cc:32] Running replicate on split optimization\n",
      "2023-07-29 02:18:32.442289: I tensorflow/core/common_runtime/executor.cc:1197] [/device:CPU:0] (DEBUG INFO) Executor start aborting (this does not indicate an error and you can ignore this message): INVALID_ARGUMENT: You must feed a value for placeholder tensor 'Placeholder/_4' with dtype string and shape [10000]\n",
      "\t [[{{node Placeholder/_4}}]]\n",
      "2023-07-29 02:18:35.148803: I tensorflow/core/common_runtime/executor.cc:1197] [/device:CPU:0] (DEBUG INFO) Executor start aborting (this does not indicate an error and you can ignore this message): INVALID_ARGUMENT: You must feed a value for placeholder tensor 'Placeholder/_1' with dtype string and shape [1000]\n",
      "\t [[{{node Placeholder/_1}}]]\n",
      "2023-07-29 02:19:12.933795: I tensorflow/core/common_runtime/executor.cc:1197] [/device:CPU:0] (DEBUG INFO) Executor start aborting (this does not indicate an error and you can ignore this message): INVALID_ARGUMENT: You must feed a value for placeholder tensor 'Placeholder/_1' with dtype string and shape [1000]\n",
      "\t [[{{node Placeholder/_1}}]]\n",
      "2023-07-29 02:19:47.740526: I tensorflow/core/common_runtime/executor.cc:1197] [/device:CPU:0] (DEBUG INFO) Executor start aborting (this does not indicate an error and you can ignore this message): INVALID_ARGUMENT: You must feed a value for placeholder tensor 'Placeholder/_1' with dtype string and shape [1000]\n",
      "\t [[{{node Placeholder/_1}}]]\n",
      "2023-07-29 02:20:23.677709: I tensorflow/core/common_runtime/executor.cc:1197] [/device:CPU:0] (DEBUG INFO) Executor start aborting (this does not indicate an error and you can ignore this message): INVALID_ARGUMENT: You must feed a value for placeholder tensor 'Placeholder/_1' with dtype string and shape [1000]\n",
      "\t [[{{node Placeholder/_1}}]]\n",
      "2023-07-29 02:21:02.025206: I tensorflow/core/common_runtime/executor.cc:1197] [/device:CPU:0] (DEBUG INFO) Executor start aborting (this does not indicate an error and you can ignore this message): INVALID_ARGUMENT: You must feed a value for placeholder tensor 'Placeholder/_1' with dtype string and shape [1000]\n",
      "\t [[{{node Placeholder/_1}}]]\n",
      "2023-07-29 02:21:37.605272: I tensorflow/core/common_runtime/executor.cc:1197] [/device:CPU:0] (DEBUG INFO) Executor start aborting (this does not indicate an error and you can ignore this message): INVALID_ARGUMENT: You must feed a value for placeholder tensor 'Placeholder/_1' with dtype string and shape [1000]\n",
      "\t [[{{node Placeholder/_1}}]]\n",
      "2023-07-29 02:22:14.305217: I tensorflow/core/common_runtime/executor.cc:1197] [/device:CPU:0] (DEBUG INFO) Executor start aborting (this does not indicate an error and you can ignore this message): INVALID_ARGUMENT: You must feed a value for placeholder tensor 'Placeholder/_1' with dtype string and shape [1000]\n",
      "\t [[{{node Placeholder/_1}}]]\n",
      "2023-07-29 02:22:53.745430: I tensorflow/core/common_runtime/executor.cc:1197] [/device:CPU:0] (DEBUG INFO) Executor start aborting (this does not indicate an error and you can ignore this message): INVALID_ARGUMENT: You must feed a value for placeholder tensor 'Placeholder/_1' with dtype string and shape [1000]\n",
      "\t [[{{node Placeholder/_1}}]]\n"
     ]
    },
    {
     "name": "stdout",
     "output_type": "stream",
     "text": [
      "current loss 0.0062509296\n",
      "Min vall loss 0.0012288059\n",
      "Epoch: 64, Train Loss:0.0004207837919238955 , Val Loss:0.006250929553061724\n"
     ]
    },
    {
     "name": "stderr",
     "output_type": "stream",
     "text": [
      "2023-07-29 02:23:27.040927: I tensorflow/core/grappler/optimizers/data/replicate_on_split.cc:32] Running replicate on split optimization\n",
      "2023-07-29 02:23:27.045929: I tensorflow/core/common_runtime/executor.cc:1197] [/device:CPU:0] (DEBUG INFO) Executor start aborting (this does not indicate an error and you can ignore this message): INVALID_ARGUMENT: You must feed a value for placeholder tensor 'Placeholder/_4' with dtype string and shape [10000]\n",
      "\t [[{{node Placeholder/_4}}]]\n",
      "2023-07-29 02:23:29.652230: I tensorflow/core/common_runtime/executor.cc:1197] [/device:CPU:0] (DEBUG INFO) Executor start aborting (this does not indicate an error and you can ignore this message): INVALID_ARGUMENT: You must feed a value for placeholder tensor 'Placeholder/_1' with dtype string and shape [1000]\n",
      "\t [[{{node Placeholder/_1}}]]\n",
      "2023-07-29 02:24:07.120090: I tensorflow/core/common_runtime/executor.cc:1197] [/device:CPU:0] (DEBUG INFO) Executor start aborting (this does not indicate an error and you can ignore this message): INVALID_ARGUMENT: You must feed a value for placeholder tensor 'Placeholder/_1' with dtype string and shape [1000]\n",
      "\t [[{{node Placeholder/_1}}]]\n",
      "2023-07-29 02:24:44.255323: I tensorflow/core/common_runtime/executor.cc:1197] [/device:CPU:0] (DEBUG INFO) Executor start aborting (this does not indicate an error and you can ignore this message): INVALID_ARGUMENT: You must feed a value for placeholder tensor 'Placeholder/_1' with dtype string and shape [1000]\n",
      "\t [[{{node Placeholder/_1}}]]\n",
      "2023-07-29 02:25:21.524864: I tensorflow/core/common_runtime/executor.cc:1197] [/device:CPU:0] (DEBUG INFO) Executor start aborting (this does not indicate an error and you can ignore this message): INVALID_ARGUMENT: You must feed a value for placeholder tensor 'Placeholder/_1' with dtype string and shape [1000]\n",
      "\t [[{{node Placeholder/_1}}]]\n",
      "2023-07-29 02:26:01.149520: I tensorflow/core/common_runtime/executor.cc:1197] [/device:CPU:0] (DEBUG INFO) Executor start aborting (this does not indicate an error and you can ignore this message): INVALID_ARGUMENT: You must feed a value for placeholder tensor 'Placeholder/_1' with dtype string and shape [1000]\n",
      "\t [[{{node Placeholder/_1}}]]\n",
      "2023-07-29 02:26:38.505759: I tensorflow/core/common_runtime/executor.cc:1197] [/device:CPU:0] (DEBUG INFO) Executor start aborting (this does not indicate an error and you can ignore this message): INVALID_ARGUMENT: You must feed a value for placeholder tensor 'Placeholder/_1' with dtype string and shape [1000]\n",
      "\t [[{{node Placeholder/_1}}]]\n",
      "2023-07-29 02:27:16.414130: I tensorflow/core/common_runtime/executor.cc:1197] [/device:CPU:0] (DEBUG INFO) Executor start aborting (this does not indicate an error and you can ignore this message): INVALID_ARGUMENT: You must feed a value for placeholder tensor 'Placeholder/_1' with dtype string and shape [1000]\n",
      "\t [[{{node Placeholder/_1}}]]\n",
      "2023-07-29 02:27:55.798170: I tensorflow/core/common_runtime/executor.cc:1197] [/device:CPU:0] (DEBUG INFO) Executor start aborting (this does not indicate an error and you can ignore this message): INVALID_ARGUMENT: You must feed a value for placeholder tensor 'Placeholder/_1' with dtype string and shape [1000]\n",
      "\t [[{{node Placeholder/_1}}]]\n"
     ]
    },
    {
     "name": "stdout",
     "output_type": "stream",
     "text": [
      "current loss 0.023666117\n",
      "Min vall loss 0.0012288059\n",
      "Epoch: 65, Train Loss:0.0005510091432370245 , Val Loss:0.02366611734032631\n"
     ]
    },
    {
     "name": "stderr",
     "output_type": "stream",
     "text": [
      "2023-07-29 02:28:29.306946: I tensorflow/core/grappler/optimizers/data/replicate_on_split.cc:32] Running replicate on split optimization\n",
      "2023-07-29 02:28:29.310777: I tensorflow/core/common_runtime/executor.cc:1197] [/device:CPU:0] (DEBUG INFO) Executor start aborting (this does not indicate an error and you can ignore this message): INVALID_ARGUMENT: You must feed a value for placeholder tensor 'Placeholder/_4' with dtype string and shape [10000]\n",
      "\t [[{{node Placeholder/_4}}]]\n",
      "2023-07-29 02:28:32.157986: I tensorflow/core/common_runtime/executor.cc:1197] [/device:CPU:0] (DEBUG INFO) Executor start aborting (this does not indicate an error and you can ignore this message): INVALID_ARGUMENT: You must feed a value for placeholder tensor 'Placeholder/_1' with dtype string and shape [1000]\n",
      "\t [[{{node Placeholder/_1}}]]\n",
      "2023-07-29 02:29:09.994577: I tensorflow/core/common_runtime/executor.cc:1197] [/device:CPU:0] (DEBUG INFO) Executor start aborting (this does not indicate an error and you can ignore this message): INVALID_ARGUMENT: You must feed a value for placeholder tensor 'Placeholder/_1' with dtype string and shape [1000]\n",
      "\t [[{{node Placeholder/_1}}]]\n",
      "2023-07-29 02:29:45.346699: I tensorflow/core/common_runtime/executor.cc:1197] [/device:CPU:0] (DEBUG INFO) Executor start aborting (this does not indicate an error and you can ignore this message): INVALID_ARGUMENT: You must feed a value for placeholder tensor 'Placeholder/_1' with dtype string and shape [1000]\n",
      "\t [[{{node Placeholder/_1}}]]\n",
      "2023-07-29 02:30:21.804230: I tensorflow/core/common_runtime/executor.cc:1197] [/device:CPU:0] (DEBUG INFO) Executor start aborting (this does not indicate an error and you can ignore this message): INVALID_ARGUMENT: You must feed a value for placeholder tensor 'Placeholder/_1' with dtype string and shape [1000]\n",
      "\t [[{{node Placeholder/_1}}]]\n",
      "2023-07-29 02:31:02.061519: I tensorflow/core/common_runtime/executor.cc:1197] [/device:CPU:0] (DEBUG INFO) Executor start aborting (this does not indicate an error and you can ignore this message): INVALID_ARGUMENT: You must feed a value for placeholder tensor 'Placeholder/_1' with dtype string and shape [1000]\n",
      "\t [[{{node Placeholder/_1}}]]\n",
      "2023-07-29 02:31:39.322712: I tensorflow/core/common_runtime/executor.cc:1197] [/device:CPU:0] (DEBUG INFO) Executor start aborting (this does not indicate an error and you can ignore this message): INVALID_ARGUMENT: You must feed a value for placeholder tensor 'Placeholder/_1' with dtype string and shape [1000]\n",
      "\t [[{{node Placeholder/_1}}]]\n",
      "2023-07-29 02:32:17.209424: I tensorflow/core/common_runtime/executor.cc:1197] [/device:CPU:0] (DEBUG INFO) Executor start aborting (this does not indicate an error and you can ignore this message): INVALID_ARGUMENT: You must feed a value for placeholder tensor 'Placeholder/_1' with dtype string and shape [1000]\n",
      "\t [[{{node Placeholder/_1}}]]\n",
      "2023-07-29 02:32:57.143840: I tensorflow/core/common_runtime/executor.cc:1197] [/device:CPU:0] (DEBUG INFO) Executor start aborting (this does not indicate an error and you can ignore this message): INVALID_ARGUMENT: You must feed a value for placeholder tensor 'Placeholder/_1' with dtype string and shape [1000]\n",
      "\t [[{{node Placeholder/_1}}]]\n"
     ]
    },
    {
     "name": "stdout",
     "output_type": "stream",
     "text": [
      "current loss 0.006865408\n",
      "Min vall loss 0.0012288059\n",
      "Epoch: 66, Train Loss:0.00041121101821772754 , Val Loss:0.006865407805889845\n"
     ]
    },
    {
     "name": "stderr",
     "output_type": "stream",
     "text": [
      "2023-07-29 02:33:31.081921: I tensorflow/core/grappler/optimizers/data/replicate_on_split.cc:32] Running replicate on split optimization\n",
      "2023-07-29 02:33:31.087067: I tensorflow/core/common_runtime/executor.cc:1197] [/device:CPU:0] (DEBUG INFO) Executor start aborting (this does not indicate an error and you can ignore this message): INVALID_ARGUMENT: You must feed a value for placeholder tensor 'Placeholder/_4' with dtype string and shape [10000]\n",
      "\t [[{{node Placeholder/_4}}]]\n",
      "2023-07-29 02:33:33.667190: I tensorflow/core/common_runtime/executor.cc:1197] [/device:CPU:0] (DEBUG INFO) Executor start aborting (this does not indicate an error and you can ignore this message): INVALID_ARGUMENT: You must feed a value for placeholder tensor 'Placeholder/_1' with dtype string and shape [1000]\n",
      "\t [[{{node Placeholder/_1}}]]\n",
      "2023-07-29 02:34:11.440497: I tensorflow/core/common_runtime/executor.cc:1197] [/device:CPU:0] (DEBUG INFO) Executor start aborting (this does not indicate an error and you can ignore this message): INVALID_ARGUMENT: You must feed a value for placeholder tensor 'Placeholder/_1' with dtype string and shape [1000]\n",
      "\t [[{{node Placeholder/_1}}]]\n",
      "2023-07-29 02:34:49.675124: I tensorflow/core/common_runtime/executor.cc:1197] [/device:CPU:0] (DEBUG INFO) Executor start aborting (this does not indicate an error and you can ignore this message): INVALID_ARGUMENT: You must feed a value for placeholder tensor 'Placeholder/_1' with dtype string and shape [1000]\n",
      "\t [[{{node Placeholder/_1}}]]\n",
      "2023-07-29 02:35:27.343416: I tensorflow/core/common_runtime/executor.cc:1197] [/device:CPU:0] (DEBUG INFO) Executor start aborting (this does not indicate an error and you can ignore this message): INVALID_ARGUMENT: You must feed a value for placeholder tensor 'Placeholder/_1' with dtype string and shape [1000]\n",
      "\t [[{{node Placeholder/_1}}]]\n",
      "2023-07-29 02:36:07.422284: I tensorflow/core/common_runtime/executor.cc:1197] [/device:CPU:0] (DEBUG INFO) Executor start aborting (this does not indicate an error and you can ignore this message): INVALID_ARGUMENT: You must feed a value for placeholder tensor 'Placeholder/_1' with dtype string and shape [1000]\n",
      "\t [[{{node Placeholder/_1}}]]\n",
      "2023-07-29 02:36:44.447827: I tensorflow/core/common_runtime/executor.cc:1197] [/device:CPU:0] (DEBUG INFO) Executor start aborting (this does not indicate an error and you can ignore this message): INVALID_ARGUMENT: You must feed a value for placeholder tensor 'Placeholder/_1' with dtype string and shape [1000]\n",
      "\t [[{{node Placeholder/_1}}]]\n",
      "2023-07-29 02:37:21.878922: I tensorflow/core/common_runtime/executor.cc:1197] [/device:CPU:0] (DEBUG INFO) Executor start aborting (this does not indicate an error and you can ignore this message): INVALID_ARGUMENT: You must feed a value for placeholder tensor 'Placeholder/_1' with dtype string and shape [1000]\n",
      "\t [[{{node Placeholder/_1}}]]\n",
      "2023-07-29 02:38:01.451536: I tensorflow/core/common_runtime/executor.cc:1197] [/device:CPU:0] (DEBUG INFO) Executor start aborting (this does not indicate an error and you can ignore this message): INVALID_ARGUMENT: You must feed a value for placeholder tensor 'Placeholder/_1' with dtype string and shape [1000]\n",
      "\t [[{{node Placeholder/_1}}]]\n"
     ]
    },
    {
     "name": "stdout",
     "output_type": "stream",
     "text": [
      "current loss 0.0014993331\n",
      "Min vall loss 0.0012288059\n",
      "Epoch: 67, Train Loss:0.00038701508310623467 , Val Loss:0.0014993330696597695\n"
     ]
    },
    {
     "name": "stderr",
     "output_type": "stream",
     "text": [
      "2023-07-29 02:38:35.698787: I tensorflow/core/grappler/optimizers/data/replicate_on_split.cc:32] Running replicate on split optimization\n",
      "2023-07-29 02:38:35.704085: I tensorflow/core/common_runtime/executor.cc:1197] [/device:CPU:0] (DEBUG INFO) Executor start aborting (this does not indicate an error and you can ignore this message): INVALID_ARGUMENT: You must feed a value for placeholder tensor 'Placeholder/_5' with dtype string and shape [10000]\n",
      "\t [[{{node Placeholder/_5}}]]\n",
      "2023-07-29 02:38:38.338262: I tensorflow/core/common_runtime/executor.cc:1197] [/device:CPU:0] (DEBUG INFO) Executor start aborting (this does not indicate an error and you can ignore this message): INVALID_ARGUMENT: You must feed a value for placeholder tensor 'Placeholder/_1' with dtype string and shape [1000]\n",
      "\t [[{{node Placeholder/_1}}]]\n",
      "2023-07-29 02:39:14.516480: I tensorflow/core/common_runtime/executor.cc:1197] [/device:CPU:0] (DEBUG INFO) Executor start aborting (this does not indicate an error and you can ignore this message): INVALID_ARGUMENT: You must feed a value for placeholder tensor 'Placeholder/_1' with dtype string and shape [1000]\n",
      "\t [[{{node Placeholder/_1}}]]\n",
      "2023-07-29 02:39:50.925203: I tensorflow/core/common_runtime/executor.cc:1197] [/device:CPU:0] (DEBUG INFO) Executor start aborting (this does not indicate an error and you can ignore this message): INVALID_ARGUMENT: You must feed a value for placeholder tensor 'Placeholder/_1' with dtype string and shape [1000]\n",
      "\t [[{{node Placeholder/_1}}]]\n",
      "2023-07-29 02:40:27.576954: I tensorflow/core/common_runtime/executor.cc:1197] [/device:CPU:0] (DEBUG INFO) Executor start aborting (this does not indicate an error and you can ignore this message): INVALID_ARGUMENT: You must feed a value for placeholder tensor 'Placeholder/_1' with dtype string and shape [1000]\n",
      "\t [[{{node Placeholder/_1}}]]\n",
      "2023-07-29 02:41:11.095636: I tensorflow/core/kernels/data/shuffle_dataset_op.cc:392] Filling up shuffle buffer (this may take a while): 123 of 10000\n",
      "2023-07-29 02:41:21.100686: I tensorflow/core/kernels/data/shuffle_dataset_op.cc:392] Filling up shuffle buffer (this may take a while): 316 of 10000\n",
      "2023-07-29 02:41:31.068557: I tensorflow/core/kernels/data/shuffle_dataset_op.cc:392] Filling up shuffle buffer (this may take a while): 541 of 10000\n",
      "2023-07-29 02:41:41.069671: I tensorflow/core/kernels/data/shuffle_dataset_op.cc:392] Filling up shuffle buffer (this may take a while): 827 of 10000\n",
      "2023-07-29 02:41:51.096618: I tensorflow/core/kernels/data/shuffle_dataset_op.cc:392] Filling up shuffle buffer (this may take a while): 1104 of 10000\n",
      "2023-07-29 02:42:01.071713: I tensorflow/core/kernels/data/shuffle_dataset_op.cc:392] Filling up shuffle buffer (this may take a while): 1459 of 10000\n",
      "2023-07-29 02:42:11.077569: I tensorflow/core/kernels/data/shuffle_dataset_op.cc:392] Filling up shuffle buffer (this may take a while): 1824 of 10000\n",
      "2023-07-29 02:42:21.074048: I tensorflow/core/kernels/data/shuffle_dataset_op.cc:392] Filling up shuffle buffer (this may take a while): 2198 of 10000\n",
      "2023-07-29 02:42:31.073568: I tensorflow/core/kernels/data/shuffle_dataset_op.cc:392] Filling up shuffle buffer (this may take a while): 2567 of 10000\n",
      "2023-07-29 02:42:41.061874: I tensorflow/core/kernels/data/shuffle_dataset_op.cc:392] Filling up shuffle buffer (this may take a while): 2954 of 10000\n",
      "2023-07-29 02:42:51.063533: I tensorflow/core/kernels/data/shuffle_dataset_op.cc:392] Filling up shuffle buffer (this may take a while): 3267 of 10000\n",
      "2023-07-29 02:43:01.070682: I tensorflow/core/kernels/data/shuffle_dataset_op.cc:392] Filling up shuffle buffer (this may take a while): 3608 of 10000\n",
      "2023-07-29 02:43:11.083652: I tensorflow/core/kernels/data/shuffle_dataset_op.cc:392] Filling up shuffle buffer (this may take a while): 3948 of 10000\n",
      "2023-07-29 02:43:21.067752: I tensorflow/core/kernels/data/shuffle_dataset_op.cc:392] Filling up shuffle buffer (this may take a while): 4294 of 10000\n",
      "2023-07-29 02:43:31.070656: I tensorflow/core/kernels/data/shuffle_dataset_op.cc:392] Filling up shuffle buffer (this may take a while): 4615 of 10000\n",
      "2023-07-29 02:43:41.103778: I tensorflow/core/kernels/data/shuffle_dataset_op.cc:392] Filling up shuffle buffer (this may take a while): 4937 of 10000\n",
      "2023-07-29 02:43:51.098699: I tensorflow/core/kernels/data/shuffle_dataset_op.cc:392] Filling up shuffle buffer (this may take a while): 5294 of 10000\n",
      "2023-07-29 02:44:01.065566: I tensorflow/core/kernels/data/shuffle_dataset_op.cc:392] Filling up shuffle buffer (this may take a while): 5665 of 10000\n",
      "2023-07-29 02:44:11.073663: I tensorflow/core/kernels/data/shuffle_dataset_op.cc:392] Filling up shuffle buffer (this may take a while): 6046 of 10000\n",
      "2023-07-29 02:44:21.072145: I tensorflow/core/kernels/data/shuffle_dataset_op.cc:392] Filling up shuffle buffer (this may take a while): 6426 of 10000\n",
      "2023-07-29 02:44:31.079740: I tensorflow/core/kernels/data/shuffle_dataset_op.cc:392] Filling up shuffle buffer (this may take a while): 6833 of 10000\n",
      "2023-07-29 02:44:41.092685: I tensorflow/core/kernels/data/shuffle_dataset_op.cc:392] Filling up shuffle buffer (this may take a while): 7230 of 10000\n",
      "2023-07-29 02:44:51.086581: I tensorflow/core/kernels/data/shuffle_dataset_op.cc:392] Filling up shuffle buffer (this may take a while): 7590 of 10000\n",
      "2023-07-29 02:45:01.061557: I tensorflow/core/kernels/data/shuffle_dataset_op.cc:392] Filling up shuffle buffer (this may take a while): 7984 of 10000\n",
      "2023-07-29 02:45:11.096561: I tensorflow/core/kernels/data/shuffle_dataset_op.cc:392] Filling up shuffle buffer (this may take a while): 8380 of 10000\n",
      "2023-07-29 02:45:21.126763: I tensorflow/core/kernels/data/shuffle_dataset_op.cc:392] Filling up shuffle buffer (this may take a while): 8741 of 10000\n",
      "2023-07-29 02:45:31.098757: I tensorflow/core/kernels/data/shuffle_dataset_op.cc:392] Filling up shuffle buffer (this may take a while): 9057 of 10000\n",
      "2023-07-29 02:45:41.082677: I tensorflow/core/kernels/data/shuffle_dataset_op.cc:392] Filling up shuffle buffer (this may take a while): 9436 of 10000\n",
      "2023-07-29 02:45:51.084765: I tensorflow/core/kernels/data/shuffle_dataset_op.cc:392] Filling up shuffle buffer (this may take a while): 9848 of 10000\n",
      "2023-07-29 02:45:55.056819: I tensorflow/core/kernels/data/shuffle_dataset_op.cc:417] Shuffle buffer filled.\n",
      "2023-07-29 02:45:56.178595: I tensorflow/core/common_runtime/executor.cc:1197] [/device:CPU:0] (DEBUG INFO) Executor start aborting (this does not indicate an error and you can ignore this message): INVALID_ARGUMENT: You must feed a value for placeholder tensor 'Placeholder/_1' with dtype string and shape [1000]\n",
      "\t [[{{node Placeholder/_1}}]]\n",
      "2023-07-29 02:46:38.497916: I tensorflow/core/common_runtime/executor.cc:1197] [/device:CPU:0] (DEBUG INFO) Executor start aborting (this does not indicate an error and you can ignore this message): INVALID_ARGUMENT: You must feed a value for placeholder tensor 'Placeholder/_1' with dtype string and shape [1000]\n",
      "\t [[{{node Placeholder/_1}}]]\n",
      "2023-07-29 02:47:15.397636: I tensorflow/core/common_runtime/executor.cc:1197] [/device:CPU:0] (DEBUG INFO) Executor start aborting (this does not indicate an error and you can ignore this message): INVALID_ARGUMENT: You must feed a value for placeholder tensor 'Placeholder/_1' with dtype string and shape [1000]\n",
      "\t [[{{node Placeholder/_1}}]]\n",
      "2023-07-29 02:47:54.601863: I tensorflow/core/common_runtime/executor.cc:1197] [/device:CPU:0] (DEBUG INFO) Executor start aborting (this does not indicate an error and you can ignore this message): INVALID_ARGUMENT: You must feed a value for placeholder tensor 'Placeholder/_1' with dtype string and shape [1000]\n",
      "\t [[{{node Placeholder/_1}}]]\n"
     ]
    },
    {
     "name": "stdout",
     "output_type": "stream",
     "text": [
      "current loss 0.0040077562\n",
      "Min vall loss 0.0012288059\n",
      "Epoch: 68, Train Loss:0.0008935861405916512 , Val Loss:0.004007756244391203\n"
     ]
    },
    {
     "name": "stderr",
     "output_type": "stream",
     "text": [
      "2023-07-29 02:48:27.487945: I tensorflow/core/grappler/optimizers/data/replicate_on_split.cc:32] Running replicate on split optimization\n",
      "2023-07-29 02:48:27.492922: I tensorflow/core/common_runtime/executor.cc:1197] [/device:CPU:0] (DEBUG INFO) Executor start aborting (this does not indicate an error and you can ignore this message): INVALID_ARGUMENT: You must feed a value for placeholder tensor 'Placeholder/_4' with dtype string and shape [10000]\n",
      "\t [[{{node Placeholder/_4}}]]\n",
      "2023-07-29 02:48:30.167913: I tensorflow/core/common_runtime/executor.cc:1197] [/device:CPU:0] (DEBUG INFO) Executor start aborting (this does not indicate an error and you can ignore this message): INVALID_ARGUMENT: You must feed a value for placeholder tensor 'Placeholder/_1' with dtype string and shape [1000]\n",
      "\t [[{{node Placeholder/_1}}]]\n",
      "2023-07-29 02:49:07.931046: I tensorflow/core/common_runtime/executor.cc:1197] [/device:CPU:0] (DEBUG INFO) Executor start aborting (this does not indicate an error and you can ignore this message): INVALID_ARGUMENT: You must feed a value for placeholder tensor 'Placeholder/_1' with dtype string and shape [1000]\n",
      "\t [[{{node Placeholder/_1}}]]\n",
      "2023-07-29 02:49:46.071986: I tensorflow/core/common_runtime/executor.cc:1197] [/device:CPU:0] (DEBUG INFO) Executor start aborting (this does not indicate an error and you can ignore this message): INVALID_ARGUMENT: You must feed a value for placeholder tensor 'Placeholder/_1' with dtype string and shape [1000]\n",
      "\t [[{{node Placeholder/_1}}]]\n",
      "2023-07-29 02:50:23.796556: I tensorflow/core/common_runtime/executor.cc:1197] [/device:CPU:0] (DEBUG INFO) Executor start aborting (this does not indicate an error and you can ignore this message): INVALID_ARGUMENT: You must feed a value for placeholder tensor 'Placeholder/_1' with dtype string and shape [1000]\n",
      "\t [[{{node Placeholder/_1}}]]\n",
      "2023-07-29 02:51:01.742943: I tensorflow/core/common_runtime/executor.cc:1197] [/device:CPU:0] (DEBUG INFO) Executor start aborting (this does not indicate an error and you can ignore this message): INVALID_ARGUMENT: You must feed a value for placeholder tensor 'Placeholder/_1' with dtype string and shape [1000]\n",
      "\t [[{{node Placeholder/_1}}]]\n",
      "2023-07-29 02:51:38.244369: I tensorflow/core/common_runtime/executor.cc:1197] [/device:CPU:0] (DEBUG INFO) Executor start aborting (this does not indicate an error and you can ignore this message): INVALID_ARGUMENT: You must feed a value for placeholder tensor 'Placeholder/_1' with dtype string and shape [1000]\n",
      "\t [[{{node Placeholder/_1}}]]\n",
      "2023-07-29 02:52:15.258735: I tensorflow/core/common_runtime/executor.cc:1197] [/device:CPU:0] (DEBUG INFO) Executor start aborting (this does not indicate an error and you can ignore this message): INVALID_ARGUMENT: You must feed a value for placeholder tensor 'Placeholder/_1' with dtype string and shape [1000]\n",
      "\t [[{{node Placeholder/_1}}]]\n",
      "2023-07-29 02:52:55.636354: I tensorflow/core/common_runtime/executor.cc:1197] [/device:CPU:0] (DEBUG INFO) Executor start aborting (this does not indicate an error and you can ignore this message): INVALID_ARGUMENT: You must feed a value for placeholder tensor 'Placeholder/_1' with dtype string and shape [1000]\n",
      "\t [[{{node Placeholder/_1}}]]\n"
     ]
    },
    {
     "name": "stdout",
     "output_type": "stream",
     "text": [
      "current loss 0.0013085795\n",
      "Min vall loss 0.0012288059\n",
      "Epoch: 69, Train Loss:0.0004334253026172519 , Val Loss:0.0013085794635117054\n"
     ]
    },
    {
     "name": "stderr",
     "output_type": "stream",
     "text": [
      "2023-07-29 02:53:29.186970: I tensorflow/core/grappler/optimizers/data/replicate_on_split.cc:32] Running replicate on split optimization\n",
      "2023-07-29 02:53:29.192004: I tensorflow/core/common_runtime/executor.cc:1197] [/device:CPU:0] (DEBUG INFO) Executor start aborting (this does not indicate an error and you can ignore this message): INVALID_ARGUMENT: You must feed a value for placeholder tensor 'Placeholder/_4' with dtype string and shape [10000]\n",
      "\t [[{{node Placeholder/_4}}]]\n",
      "2023-07-29 02:53:31.978821: I tensorflow/core/common_runtime/executor.cc:1197] [/device:CPU:0] (DEBUG INFO) Executor start aborting (this does not indicate an error and you can ignore this message): INVALID_ARGUMENT: You must feed a value for placeholder tensor 'Placeholder/_1' with dtype string and shape [1000]\n",
      "\t [[{{node Placeholder/_1}}]]\n",
      "2023-07-29 02:54:09.584188: I tensorflow/core/common_runtime/executor.cc:1197] [/device:CPU:0] (DEBUG INFO) Executor start aborting (this does not indicate an error and you can ignore this message): INVALID_ARGUMENT: You must feed a value for placeholder tensor 'Placeholder/_1' with dtype string and shape [1000]\n",
      "\t [[{{node Placeholder/_1}}]]\n",
      "2023-07-29 02:54:46.988513: I tensorflow/core/common_runtime/executor.cc:1197] [/device:CPU:0] (DEBUG INFO) Executor start aborting (this does not indicate an error and you can ignore this message): INVALID_ARGUMENT: You must feed a value for placeholder tensor 'Placeholder/_1' with dtype string and shape [1000]\n",
      "\t [[{{node Placeholder/_1}}]]\n",
      "2023-07-29 02:55:24.868607: I tensorflow/core/common_runtime/executor.cc:1197] [/device:CPU:0] (DEBUG INFO) Executor start aborting (this does not indicate an error and you can ignore this message): INVALID_ARGUMENT: You must feed a value for placeholder tensor 'Placeholder/_1' with dtype string and shape [1000]\n",
      "\t [[{{node Placeholder/_1}}]]\n",
      "2023-07-29 02:56:03.276782: I tensorflow/core/common_runtime/executor.cc:1197] [/device:CPU:0] (DEBUG INFO) Executor start aborting (this does not indicate an error and you can ignore this message): INVALID_ARGUMENT: You must feed a value for placeholder tensor 'Placeholder/_1' with dtype string and shape [1000]\n",
      "\t [[{{node Placeholder/_1}}]]\n",
      "2023-07-29 02:56:39.155025: I tensorflow/core/common_runtime/executor.cc:1197] [/device:CPU:0] (DEBUG INFO) Executor start aborting (this does not indicate an error and you can ignore this message): INVALID_ARGUMENT: You must feed a value for placeholder tensor 'Placeholder/_1' with dtype string and shape [1000]\n",
      "\t [[{{node Placeholder/_1}}]]\n",
      "2023-07-29 02:57:15.319042: I tensorflow/core/common_runtime/executor.cc:1197] [/device:CPU:0] (DEBUG INFO) Executor start aborting (this does not indicate an error and you can ignore this message): INVALID_ARGUMENT: You must feed a value for placeholder tensor 'Placeholder/_1' with dtype string and shape [1000]\n",
      "\t [[{{node Placeholder/_1}}]]\n",
      "2023-07-29 02:57:54.198755: I tensorflow/core/common_runtime/executor.cc:1197] [/device:CPU:0] (DEBUG INFO) Executor start aborting (this does not indicate an error and you can ignore this message): INVALID_ARGUMENT: You must feed a value for placeholder tensor 'Placeholder/_1' with dtype string and shape [1000]\n",
      "\t [[{{node Placeholder/_1}}]]\n"
     ]
    },
    {
     "name": "stdout",
     "output_type": "stream",
     "text": [
      "current loss 0.012250726\n",
      "Min vall loss 0.0012288059\n",
      "Time taken for 10 epochs: 3285.30 sec\n",
      "\n",
      "Reached epoch: 70\n",
      "Epoch: 70, Train Loss:0.00042020241380669177 , Val Loss:0.012250726111233234\n"
     ]
    },
    {
     "name": "stderr",
     "output_type": "stream",
     "text": [
      "2023-07-29 02:58:26.215724: I tensorflow/core/grappler/optimizers/data/replicate_on_split.cc:32] Running replicate on split optimization\n",
      "2023-07-29 02:58:26.218939: I tensorflow/core/common_runtime/executor.cc:1197] [/device:CPU:0] (DEBUG INFO) Executor start aborting (this does not indicate an error and you can ignore this message): INVALID_ARGUMENT: You must feed a value for placeholder tensor 'Placeholder/_5' with dtype string and shape [10000]\n",
      "\t [[{{node Placeholder/_5}}]]\n",
      "2023-07-29 02:58:28.711051: I tensorflow/core/common_runtime/executor.cc:1197] [/device:CPU:0] (DEBUG INFO) Executor start aborting (this does not indicate an error and you can ignore this message): INVALID_ARGUMENT: You must feed a value for placeholder tensor 'Placeholder/_1' with dtype string and shape [1000]\n",
      "\t [[{{node Placeholder/_1}}]]\n",
      "2023-07-29 02:59:04.690381: I tensorflow/core/common_runtime/executor.cc:1197] [/device:CPU:0] (DEBUG INFO) Executor start aborting (this does not indicate an error and you can ignore this message): INVALID_ARGUMENT: You must feed a value for placeholder tensor 'Placeholder/_1' with dtype string and shape [1000]\n",
      "\t [[{{node Placeholder/_1}}]]\n",
      "2023-07-29 02:59:41.513156: I tensorflow/core/common_runtime/executor.cc:1197] [/device:CPU:0] (DEBUG INFO) Executor start aborting (this does not indicate an error and you can ignore this message): INVALID_ARGUMENT: You must feed a value for placeholder tensor 'Placeholder/_1' with dtype string and shape [1000]\n",
      "\t [[{{node Placeholder/_1}}]]\n",
      "2023-07-29 03:00:18.341717: I tensorflow/core/common_runtime/executor.cc:1197] [/device:CPU:0] (DEBUG INFO) Executor start aborting (this does not indicate an error and you can ignore this message): INVALID_ARGUMENT: You must feed a value for placeholder tensor 'Placeholder/_1' with dtype string and shape [1000]\n",
      "\t [[{{node Placeholder/_1}}]]\n",
      "2023-07-29 03:00:57.169053: I tensorflow/core/common_runtime/executor.cc:1197] [/device:CPU:0] (DEBUG INFO) Executor start aborting (this does not indicate an error and you can ignore this message): INVALID_ARGUMENT: You must feed a value for placeholder tensor 'Placeholder/_1' with dtype string and shape [1000]\n",
      "\t [[{{node Placeholder/_1}}]]\n",
      "2023-07-29 03:01:32.168923: I tensorflow/core/common_runtime/executor.cc:1197] [/device:CPU:0] (DEBUG INFO) Executor start aborting (this does not indicate an error and you can ignore this message): INVALID_ARGUMENT: You must feed a value for placeholder tensor 'Placeholder/_1' with dtype string and shape [1000]\n",
      "\t [[{{node Placeholder/_1}}]]\n",
      "2023-07-29 03:02:07.458528: I tensorflow/core/common_runtime/executor.cc:1197] [/device:CPU:0] (DEBUG INFO) Executor start aborting (this does not indicate an error and you can ignore this message): INVALID_ARGUMENT: You must feed a value for placeholder tensor 'Placeholder/_1' with dtype string and shape [1000]\n",
      "\t [[{{node Placeholder/_1}}]]\n",
      "2023-07-29 03:02:45.186557: I tensorflow/core/common_runtime/executor.cc:1197] [/device:CPU:0] (DEBUG INFO) Executor start aborting (this does not indicate an error and you can ignore this message): INVALID_ARGUMENT: You must feed a value for placeholder tensor 'Placeholder/_1' with dtype string and shape [1000]\n",
      "\t [[{{node Placeholder/_1}}]]\n"
     ]
    },
    {
     "name": "stdout",
     "output_type": "stream",
     "text": [
      "current loss 0.008223289\n",
      "Min vall loss 0.0012288059\n",
      "Epoch: 71, Train Loss:0.00039275220478884876 , Val Loss:0.00822328869253397\n"
     ]
    },
    {
     "name": "stderr",
     "output_type": "stream",
     "text": [
      "2023-07-29 03:03:18.532938: I tensorflow/core/grappler/optimizers/data/replicate_on_split.cc:32] Running replicate on split optimization\n",
      "2023-07-29 03:03:18.536824: I tensorflow/core/common_runtime/executor.cc:1197] [/device:CPU:0] (DEBUG INFO) Executor start aborting (this does not indicate an error and you can ignore this message): INVALID_ARGUMENT: You must feed a value for placeholder tensor 'Placeholder/_4' with dtype string and shape [10000]\n",
      "\t [[{{node Placeholder/_4}}]]\n",
      "2023-07-29 03:03:21.344858: I tensorflow/core/common_runtime/executor.cc:1197] [/device:CPU:0] (DEBUG INFO) Executor start aborting (this does not indicate an error and you can ignore this message): INVALID_ARGUMENT: You must feed a value for placeholder tensor 'Placeholder/_1' with dtype string and shape [1000]\n",
      "\t [[{{node Placeholder/_1}}]]\n",
      "2023-07-29 03:03:58.542666: I tensorflow/core/common_runtime/executor.cc:1197] [/device:CPU:0] (DEBUG INFO) Executor start aborting (this does not indicate an error and you can ignore this message): INVALID_ARGUMENT: You must feed a value for placeholder tensor 'Placeholder/_1' with dtype string and shape [1000]\n",
      "\t [[{{node Placeholder/_1}}]]\n",
      "2023-07-29 03:04:36.101932: I tensorflow/core/common_runtime/executor.cc:1197] [/device:CPU:0] (DEBUG INFO) Executor start aborting (this does not indicate an error and you can ignore this message): INVALID_ARGUMENT: You must feed a value for placeholder tensor 'Placeholder/_1' with dtype string and shape [1000]\n",
      "\t [[{{node Placeholder/_1}}]]\n",
      "2023-07-29 03:05:13.420723: I tensorflow/core/common_runtime/executor.cc:1197] [/device:CPU:0] (DEBUG INFO) Executor start aborting (this does not indicate an error and you can ignore this message): INVALID_ARGUMENT: You must feed a value for placeholder tensor 'Placeholder/_1' with dtype string and shape [1000]\n",
      "\t [[{{node Placeholder/_1}}]]\n",
      "2023-07-29 03:05:53.197137: I tensorflow/core/common_runtime/executor.cc:1197] [/device:CPU:0] (DEBUG INFO) Executor start aborting (this does not indicate an error and you can ignore this message): INVALID_ARGUMENT: You must feed a value for placeholder tensor 'Placeholder/_1' with dtype string and shape [1000]\n",
      "\t [[{{node Placeholder/_1}}]]\n",
      "2023-07-29 03:06:30.595118: I tensorflow/core/common_runtime/executor.cc:1197] [/device:CPU:0] (DEBUG INFO) Executor start aborting (this does not indicate an error and you can ignore this message): INVALID_ARGUMENT: You must feed a value for placeholder tensor 'Placeholder/_1' with dtype string and shape [1000]\n",
      "\t [[{{node Placeholder/_1}}]]\n",
      "2023-07-29 03:07:07.318448: I tensorflow/core/common_runtime/executor.cc:1197] [/device:CPU:0] (DEBUG INFO) Executor start aborting (this does not indicate an error and you can ignore this message): INVALID_ARGUMENT: You must feed a value for placeholder tensor 'Placeholder/_1' with dtype string and shape [1000]\n",
      "\t [[{{node Placeholder/_1}}]]\n",
      "2023-07-29 03:07:47.391960: I tensorflow/core/common_runtime/executor.cc:1197] [/device:CPU:0] (DEBUG INFO) Executor start aborting (this does not indicate an error and you can ignore this message): INVALID_ARGUMENT: You must feed a value for placeholder tensor 'Placeholder/_1' with dtype string and shape [1000]\n",
      "\t [[{{node Placeholder/_1}}]]\n"
     ]
    },
    {
     "name": "stdout",
     "output_type": "stream",
     "text": [
      "current loss 0.0047959234\n",
      "Min vall loss 0.0012288059\n",
      "Epoch: 72, Train Loss:0.00032873242162168026 , Val Loss:0.004795923363417387\n"
     ]
    },
    {
     "name": "stderr",
     "output_type": "stream",
     "text": [
      "2023-07-29 03:08:20.050604: I tensorflow/core/grappler/optimizers/data/replicate_on_split.cc:32] Running replicate on split optimization\n",
      "2023-07-29 03:08:20.055416: I tensorflow/core/common_runtime/executor.cc:1197] [/device:CPU:0] (DEBUG INFO) Executor start aborting (this does not indicate an error and you can ignore this message): INVALID_ARGUMENT: You must feed a value for placeholder tensor 'Placeholder/_4' with dtype string and shape [10000]\n",
      "\t [[{{node Placeholder/_4}}]]\n",
      "2023-07-29 03:08:22.768385: I tensorflow/core/common_runtime/executor.cc:1197] [/device:CPU:0] (DEBUG INFO) Executor start aborting (this does not indicate an error and you can ignore this message): INVALID_ARGUMENT: You must feed a value for placeholder tensor 'Placeholder/_1' with dtype string and shape [1000]\n",
      "\t [[{{node Placeholder/_1}}]]\n",
      "2023-07-29 03:09:00.055769: I tensorflow/core/common_runtime/executor.cc:1197] [/device:CPU:0] (DEBUG INFO) Executor start aborting (this does not indicate an error and you can ignore this message): INVALID_ARGUMENT: You must feed a value for placeholder tensor 'Placeholder/_1' with dtype string and shape [1000]\n",
      "\t [[{{node Placeholder/_1}}]]\n",
      "2023-07-29 03:09:36.951516: I tensorflow/core/common_runtime/executor.cc:1197] [/device:CPU:0] (DEBUG INFO) Executor start aborting (this does not indicate an error and you can ignore this message): INVALID_ARGUMENT: You must feed a value for placeholder tensor 'Placeholder/_1' with dtype string and shape [1000]\n",
      "\t [[{{node Placeholder/_1}}]]\n",
      "2023-07-29 03:10:15.273077: I tensorflow/core/common_runtime/executor.cc:1197] [/device:CPU:0] (DEBUG INFO) Executor start aborting (this does not indicate an error and you can ignore this message): INVALID_ARGUMENT: You must feed a value for placeholder tensor 'Placeholder/_1' with dtype string and shape [1000]\n",
      "\t [[{{node Placeholder/_1}}]]\n",
      "2023-07-29 03:10:54.543716: I tensorflow/core/common_runtime/executor.cc:1197] [/device:CPU:0] (DEBUG INFO) Executor start aborting (this does not indicate an error and you can ignore this message): INVALID_ARGUMENT: You must feed a value for placeholder tensor 'Placeholder/_1' with dtype string and shape [1000]\n",
      "\t [[{{node Placeholder/_1}}]]\n",
      "2023-07-29 03:11:32.226227: I tensorflow/core/common_runtime/executor.cc:1197] [/device:CPU:0] (DEBUG INFO) Executor start aborting (this does not indicate an error and you can ignore this message): INVALID_ARGUMENT: You must feed a value for placeholder tensor 'Placeholder/_1' with dtype string and shape [1000]\n",
      "\t [[{{node Placeholder/_1}}]]\n",
      "2023-07-29 03:12:08.998439: I tensorflow/core/common_runtime/executor.cc:1197] [/device:CPU:0] (DEBUG INFO) Executor start aborting (this does not indicate an error and you can ignore this message): INVALID_ARGUMENT: You must feed a value for placeholder tensor 'Placeholder/_1' with dtype string and shape [1000]\n",
      "\t [[{{node Placeholder/_1}}]]\n",
      "2023-07-29 03:12:49.080432: I tensorflow/core/common_runtime/executor.cc:1197] [/device:CPU:0] (DEBUG INFO) Executor start aborting (this does not indicate an error and you can ignore this message): INVALID_ARGUMENT: You must feed a value for placeholder tensor 'Placeholder/_1' with dtype string and shape [1000]\n",
      "\t [[{{node Placeholder/_1}}]]\n"
     ]
    },
    {
     "name": "stdout",
     "output_type": "stream",
     "text": [
      "current loss 0.0043614223\n",
      "Min vall loss 0.0012288059\n",
      "Epoch: 73, Train Loss:0.00040928664384409785 , Val Loss:0.004361422266811132\n"
     ]
    },
    {
     "name": "stderr",
     "output_type": "stream",
     "text": [
      "2023-07-29 03:13:21.075248: I tensorflow/core/grappler/optimizers/data/replicate_on_split.cc:32] Running replicate on split optimization\n",
      "2023-07-29 03:13:21.080096: I tensorflow/core/common_runtime/executor.cc:1197] [/device:CPU:0] (DEBUG INFO) Executor start aborting (this does not indicate an error and you can ignore this message): INVALID_ARGUMENT: You must feed a value for placeholder tensor 'Placeholder/_5' with dtype string and shape [10000]\n",
      "\t [[{{node Placeholder/_5}}]]\n",
      "2023-07-29 03:13:23.676300: I tensorflow/core/common_runtime/executor.cc:1197] [/device:CPU:0] (DEBUG INFO) Executor start aborting (this does not indicate an error and you can ignore this message): INVALID_ARGUMENT: You must feed a value for placeholder tensor 'Placeholder/_1' with dtype string and shape [1000]\n",
      "\t [[{{node Placeholder/_1}}]]\n",
      "2023-07-29 03:13:59.892683: I tensorflow/core/common_runtime/executor.cc:1197] [/device:CPU:0] (DEBUG INFO) Executor start aborting (this does not indicate an error and you can ignore this message): INVALID_ARGUMENT: You must feed a value for placeholder tensor 'Placeholder/_1' with dtype string and shape [1000]\n",
      "\t [[{{node Placeholder/_1}}]]\n",
      "2023-07-29 03:14:36.860467: I tensorflow/core/common_runtime/executor.cc:1197] [/device:CPU:0] (DEBUG INFO) Executor start aborting (this does not indicate an error and you can ignore this message): INVALID_ARGUMENT: You must feed a value for placeholder tensor 'Placeholder/_1' with dtype string and shape [1000]\n",
      "\t [[{{node Placeholder/_1}}]]\n",
      "2023-07-29 03:15:14.049436: I tensorflow/core/common_runtime/executor.cc:1197] [/device:CPU:0] (DEBUG INFO) Executor start aborting (this does not indicate an error and you can ignore this message): INVALID_ARGUMENT: You must feed a value for placeholder tensor 'Placeholder/_1' with dtype string and shape [1000]\n",
      "\t [[{{node Placeholder/_1}}]]\n",
      "2023-07-29 03:15:53.474481: I tensorflow/core/common_runtime/executor.cc:1197] [/device:CPU:0] (DEBUG INFO) Executor start aborting (this does not indicate an error and you can ignore this message): INVALID_ARGUMENT: You must feed a value for placeholder tensor 'Placeholder/_1' with dtype string and shape [1000]\n",
      "\t [[{{node Placeholder/_1}}]]\n",
      "2023-07-29 03:16:30.153245: I tensorflow/core/common_runtime/executor.cc:1197] [/device:CPU:0] (DEBUG INFO) Executor start aborting (this does not indicate an error and you can ignore this message): INVALID_ARGUMENT: You must feed a value for placeholder tensor 'Placeholder/_1' with dtype string and shape [1000]\n",
      "\t [[{{node Placeholder/_1}}]]\n",
      "2023-07-29 03:17:07.238833: I tensorflow/core/common_runtime/executor.cc:1197] [/device:CPU:0] (DEBUG INFO) Executor start aborting (this does not indicate an error and you can ignore this message): INVALID_ARGUMENT: You must feed a value for placeholder tensor 'Placeholder/_1' with dtype string and shape [1000]\n",
      "\t [[{{node Placeholder/_1}}]]\n",
      "2023-07-29 03:17:46.447396: I tensorflow/core/common_runtime/executor.cc:1197] [/device:CPU:0] (DEBUG INFO) Executor start aborting (this does not indicate an error and you can ignore this message): INVALID_ARGUMENT: You must feed a value for placeholder tensor 'Placeholder/_1' with dtype string and shape [1000]\n",
      "\t [[{{node Placeholder/_1}}]]\n"
     ]
    },
    {
     "name": "stdout",
     "output_type": "stream",
     "text": [
      "current loss 0.007252348\n",
      "Min vall loss 0.0012288059\n",
      "Epoch: 74, Train Loss:0.00045101807336322963 , Val Loss:0.007252348121255636\n"
     ]
    },
    {
     "name": "stderr",
     "output_type": "stream",
     "text": [
      "2023-07-29 03:18:20.183133: I tensorflow/core/grappler/optimizers/data/replicate_on_split.cc:32] Running replicate on split optimization\n",
      "2023-07-29 03:18:20.186203: I tensorflow/core/common_runtime/executor.cc:1197] [/device:CPU:0] (DEBUG INFO) Executor start aborting (this does not indicate an error and you can ignore this message): INVALID_ARGUMENT: You must feed a value for placeholder tensor 'Placeholder/_5' with dtype string and shape [10000]\n",
      "\t [[{{node Placeholder/_5}}]]\n",
      "2023-07-29 03:18:22.831956: I tensorflow/core/common_runtime/executor.cc:1197] [/device:CPU:0] (DEBUG INFO) Executor start aborting (this does not indicate an error and you can ignore this message): INVALID_ARGUMENT: You must feed a value for placeholder tensor 'Placeholder/_1' with dtype string and shape [1000]\n",
      "\t [[{{node Placeholder/_1}}]]\n",
      "2023-07-29 03:19:00.607948: I tensorflow/core/common_runtime/executor.cc:1197] [/device:CPU:0] (DEBUG INFO) Executor start aborting (this does not indicate an error and you can ignore this message): INVALID_ARGUMENT: You must feed a value for placeholder tensor 'Placeholder/_1' with dtype string and shape [1000]\n",
      "\t [[{{node Placeholder/_1}}]]\n",
      "2023-07-29 03:19:38.237277: I tensorflow/core/common_runtime/executor.cc:1197] [/device:CPU:0] (DEBUG INFO) Executor start aborting (this does not indicate an error and you can ignore this message): INVALID_ARGUMENT: You must feed a value for placeholder tensor 'Placeholder/_1' with dtype string and shape [1000]\n",
      "\t [[{{node Placeholder/_1}}]]\n",
      "2023-07-29 03:20:16.229231: I tensorflow/core/common_runtime/executor.cc:1197] [/device:CPU:0] (DEBUG INFO) Executor start aborting (this does not indicate an error and you can ignore this message): INVALID_ARGUMENT: You must feed a value for placeholder tensor 'Placeholder/_1' with dtype string and shape [1000]\n",
      "\t [[{{node Placeholder/_1}}]]\n",
      "2023-07-29 03:20:56.481066: I tensorflow/core/common_runtime/executor.cc:1197] [/device:CPU:0] (DEBUG INFO) Executor start aborting (this does not indicate an error and you can ignore this message): INVALID_ARGUMENT: You must feed a value for placeholder tensor 'Placeholder/_1' with dtype string and shape [1000]\n",
      "\t [[{{node Placeholder/_1}}]]\n",
      "2023-07-29 03:21:34.403283: I tensorflow/core/common_runtime/executor.cc:1197] [/device:CPU:0] (DEBUG INFO) Executor start aborting (this does not indicate an error and you can ignore this message): INVALID_ARGUMENT: You must feed a value for placeholder tensor 'Placeholder/_1' with dtype string and shape [1000]\n",
      "\t [[{{node Placeholder/_1}}]]\n",
      "2023-07-29 03:22:11.367547: I tensorflow/core/common_runtime/executor.cc:1197] [/device:CPU:0] (DEBUG INFO) Executor start aborting (this does not indicate an error and you can ignore this message): INVALID_ARGUMENT: You must feed a value for placeholder tensor 'Placeholder/_1' with dtype string and shape [1000]\n",
      "\t [[{{node Placeholder/_1}}]]\n",
      "2023-07-29 03:22:51.340115: I tensorflow/core/common_runtime/executor.cc:1197] [/device:CPU:0] (DEBUG INFO) Executor start aborting (this does not indicate an error and you can ignore this message): INVALID_ARGUMENT: You must feed a value for placeholder tensor 'Placeholder/_1' with dtype string and shape [1000]\n",
      "\t [[{{node Placeholder/_1}}]]\n"
     ]
    },
    {
     "name": "stdout",
     "output_type": "stream",
     "text": [
      "current loss 0.005529278\n",
      "Min vall loss 0.0012288059\n",
      "Saving checkpoint at epoch:75\n",
      "Step: 789, Train Loss:0.0005772323347628117 , Val Loss:0.005529277957975864\n",
      "Epoch: 75, Train Loss:0.0005772323347628117 , Val Loss:0.005529277957975864\n"
     ]
    },
    {
     "name": "stderr",
     "output_type": "stream",
     "text": [
      "2023-07-29 03:23:26.151981: I tensorflow/core/grappler/optimizers/data/replicate_on_split.cc:32] Running replicate on split optimization\n",
      "2023-07-29 03:23:26.155292: I tensorflow/core/common_runtime/executor.cc:1197] [/device:CPU:0] (DEBUG INFO) Executor start aborting (this does not indicate an error and you can ignore this message): INVALID_ARGUMENT: You must feed a value for placeholder tensor 'Placeholder/_4' with dtype string and shape [10000]\n",
      "\t [[{{node Placeholder/_4}}]]\n",
      "2023-07-29 03:23:28.740886: I tensorflow/core/common_runtime/executor.cc:1197] [/device:CPU:0] (DEBUG INFO) Executor start aborting (this does not indicate an error and you can ignore this message): INVALID_ARGUMENT: You must feed a value for placeholder tensor 'Placeholder/_1' with dtype string and shape [1000]\n",
      "\t [[{{node Placeholder/_1}}]]\n",
      "2023-07-29 03:24:06.806096: I tensorflow/core/common_runtime/executor.cc:1197] [/device:CPU:0] (DEBUG INFO) Executor start aborting (this does not indicate an error and you can ignore this message): INVALID_ARGUMENT: You must feed a value for placeholder tensor 'Placeholder/_1' with dtype string and shape [1000]\n",
      "\t [[{{node Placeholder/_1}}]]\n",
      "2023-07-29 03:24:44.109469: I tensorflow/core/common_runtime/executor.cc:1197] [/device:CPU:0] (DEBUG INFO) Executor start aborting (this does not indicate an error and you can ignore this message): INVALID_ARGUMENT: You must feed a value for placeholder tensor 'Placeholder/_1' with dtype string and shape [1000]\n",
      "\t [[{{node Placeholder/_1}}]]\n",
      "2023-07-29 03:25:21.431135: I tensorflow/core/common_runtime/executor.cc:1197] [/device:CPU:0] (DEBUG INFO) Executor start aborting (this does not indicate an error and you can ignore this message): INVALID_ARGUMENT: You must feed a value for placeholder tensor 'Placeholder/_1' with dtype string and shape [1000]\n",
      "\t [[{{node Placeholder/_1}}]]\n",
      "2023-07-29 03:26:00.506612: I tensorflow/core/common_runtime/executor.cc:1197] [/device:CPU:0] (DEBUG INFO) Executor start aborting (this does not indicate an error and you can ignore this message): INVALID_ARGUMENT: You must feed a value for placeholder tensor 'Placeholder/_1' with dtype string and shape [1000]\n",
      "\t [[{{node Placeholder/_1}}]]\n",
      "2023-07-29 03:26:37.569185: I tensorflow/core/common_runtime/executor.cc:1197] [/device:CPU:0] (DEBUG INFO) Executor start aborting (this does not indicate an error and you can ignore this message): INVALID_ARGUMENT: You must feed a value for placeholder tensor 'Placeholder/_1' with dtype string and shape [1000]\n",
      "\t [[{{node Placeholder/_1}}]]\n",
      "2023-07-29 03:27:14.757506: I tensorflow/core/common_runtime/executor.cc:1197] [/device:CPU:0] (DEBUG INFO) Executor start aborting (this does not indicate an error and you can ignore this message): INVALID_ARGUMENT: You must feed a value for placeholder tensor 'Placeholder/_1' with dtype string and shape [1000]\n",
      "\t [[{{node Placeholder/_1}}]]\n",
      "2023-07-29 03:27:54.303858: I tensorflow/core/common_runtime/executor.cc:1197] [/device:CPU:0] (DEBUG INFO) Executor start aborting (this does not indicate an error and you can ignore this message): INVALID_ARGUMENT: You must feed a value for placeholder tensor 'Placeholder/_1' with dtype string and shape [1000]\n",
      "\t [[{{node Placeholder/_1}}]]\n"
     ]
    },
    {
     "name": "stdout",
     "output_type": "stream",
     "text": [
      "current loss 0.0023569567\n",
      "Min vall loss 0.0012288059\n",
      "Epoch: 76, Train Loss:0.00036374301998876035 , Val Loss:0.0023569567129015923\n"
     ]
    },
    {
     "name": "stderr",
     "output_type": "stream",
     "text": [
      "2023-07-29 03:28:28.160901: I tensorflow/core/grappler/optimizers/data/replicate_on_split.cc:32] Running replicate on split optimization\n",
      "2023-07-29 03:28:28.166237: I tensorflow/core/common_runtime/executor.cc:1197] [/device:CPU:0] (DEBUG INFO) Executor start aborting (this does not indicate an error and you can ignore this message): INVALID_ARGUMENT: You must feed a value for placeholder tensor 'Placeholder/_5' with dtype string and shape [10000]\n",
      "\t [[{{node Placeholder/_5}}]]\n",
      "2023-07-29 03:28:30.895959: I tensorflow/core/common_runtime/executor.cc:1197] [/device:CPU:0] (DEBUG INFO) Executor start aborting (this does not indicate an error and you can ignore this message): INVALID_ARGUMENT: You must feed a value for placeholder tensor 'Placeholder/_1' with dtype string and shape [1000]\n",
      "\t [[{{node Placeholder/_1}}]]\n",
      "2023-07-29 03:29:08.443762: I tensorflow/core/common_runtime/executor.cc:1197] [/device:CPU:0] (DEBUG INFO) Executor start aborting (this does not indicate an error and you can ignore this message): INVALID_ARGUMENT: You must feed a value for placeholder tensor 'Placeholder/_1' with dtype string and shape [1000]\n",
      "\t [[{{node Placeholder/_1}}]]\n",
      "2023-07-29 03:29:45.913809: I tensorflow/core/common_runtime/executor.cc:1197] [/device:CPU:0] (DEBUG INFO) Executor start aborting (this does not indicate an error and you can ignore this message): INVALID_ARGUMENT: You must feed a value for placeholder tensor 'Placeholder/_1' with dtype string and shape [1000]\n",
      "\t [[{{node Placeholder/_1}}]]\n",
      "2023-07-29 03:30:22.988748: I tensorflow/core/common_runtime/executor.cc:1197] [/device:CPU:0] (DEBUG INFO) Executor start aborting (this does not indicate an error and you can ignore this message): INVALID_ARGUMENT: You must feed a value for placeholder tensor 'Placeholder/_1' with dtype string and shape [1000]\n",
      "\t [[{{node Placeholder/_1}}]]\n",
      "2023-07-29 03:31:02.867013: I tensorflow/core/common_runtime/executor.cc:1197] [/device:CPU:0] (DEBUG INFO) Executor start aborting (this does not indicate an error and you can ignore this message): INVALID_ARGUMENT: You must feed a value for placeholder tensor 'Placeholder/_1' with dtype string and shape [1000]\n",
      "\t [[{{node Placeholder/_1}}]]\n",
      "2023-07-29 03:31:40.197544: I tensorflow/core/common_runtime/executor.cc:1197] [/device:CPU:0] (DEBUG INFO) Executor start aborting (this does not indicate an error and you can ignore this message): INVALID_ARGUMENT: You must feed a value for placeholder tensor 'Placeholder/_1' with dtype string and shape [1000]\n",
      "\t [[{{node Placeholder/_1}}]]\n",
      "2023-07-29 03:32:17.721814: I tensorflow/core/common_runtime/executor.cc:1197] [/device:CPU:0] (DEBUG INFO) Executor start aborting (this does not indicate an error and you can ignore this message): INVALID_ARGUMENT: You must feed a value for placeholder tensor 'Placeholder/_1' with dtype string and shape [1000]\n",
      "\t [[{{node Placeholder/_1}}]]\n",
      "2023-07-29 03:32:58.722601: I tensorflow/core/common_runtime/executor.cc:1197] [/device:CPU:0] (DEBUG INFO) Executor start aborting (this does not indicate an error and you can ignore this message): INVALID_ARGUMENT: You must feed a value for placeholder tensor 'Placeholder/_1' with dtype string and shape [1000]\n",
      "\t [[{{node Placeholder/_1}}]]\n"
     ]
    },
    {
     "name": "stdout",
     "output_type": "stream",
     "text": [
      "current loss 0.0066463887\n",
      "Min vall loss 0.0012288059\n",
      "Epoch: 77, Train Loss:0.0003992174461018294 , Val Loss:0.006646388676017523\n"
     ]
    },
    {
     "name": "stderr",
     "output_type": "stream",
     "text": [
      "2023-07-29 03:33:32.572812: I tensorflow/core/grappler/optimizers/data/replicate_on_split.cc:32] Running replicate on split optimization\n",
      "2023-07-29 03:33:32.576686: I tensorflow/core/common_runtime/executor.cc:1197] [/device:CPU:0] (DEBUG INFO) Executor start aborting (this does not indicate an error and you can ignore this message): INVALID_ARGUMENT: You must feed a value for placeholder tensor 'Placeholder/_5' with dtype string and shape [10000]\n",
      "\t [[{{node Placeholder/_5}}]]\n",
      "2023-07-29 03:33:35.244529: I tensorflow/core/common_runtime/executor.cc:1197] [/device:CPU:0] (DEBUG INFO) Executor start aborting (this does not indicate an error and you can ignore this message): INVALID_ARGUMENT: You must feed a value for placeholder tensor 'Placeholder/_1' with dtype string and shape [1000]\n",
      "\t [[{{node Placeholder/_1}}]]\n",
      "2023-07-29 03:34:13.075716: I tensorflow/core/common_runtime/executor.cc:1197] [/device:CPU:0] (DEBUG INFO) Executor start aborting (this does not indicate an error and you can ignore this message): INVALID_ARGUMENT: You must feed a value for placeholder tensor 'Placeholder/_1' with dtype string and shape [1000]\n",
      "\t [[{{node Placeholder/_1}}]]\n",
      "2023-07-29 03:34:49.790981: I tensorflow/core/common_runtime/executor.cc:1197] [/device:CPU:0] (DEBUG INFO) Executor start aborting (this does not indicate an error and you can ignore this message): INVALID_ARGUMENT: You must feed a value for placeholder tensor 'Placeholder/_1' with dtype string and shape [1000]\n",
      "\t [[{{node Placeholder/_1}}]]\n",
      "2023-07-29 03:35:26.936097: I tensorflow/core/common_runtime/executor.cc:1197] [/device:CPU:0] (DEBUG INFO) Executor start aborting (this does not indicate an error and you can ignore this message): INVALID_ARGUMENT: You must feed a value for placeholder tensor 'Placeholder/_1' with dtype string and shape [1000]\n",
      "\t [[{{node Placeholder/_1}}]]\n",
      "2023-07-29 03:36:05.886076: I tensorflow/core/common_runtime/executor.cc:1197] [/device:CPU:0] (DEBUG INFO) Executor start aborting (this does not indicate an error and you can ignore this message): INVALID_ARGUMENT: You must feed a value for placeholder tensor 'Placeholder/_1' with dtype string and shape [1000]\n",
      "\t [[{{node Placeholder/_1}}]]\n",
      "2023-07-29 03:36:42.856876: I tensorflow/core/common_runtime/executor.cc:1197] [/device:CPU:0] (DEBUG INFO) Executor start aborting (this does not indicate an error and you can ignore this message): INVALID_ARGUMENT: You must feed a value for placeholder tensor 'Placeholder/_1' with dtype string and shape [1000]\n",
      "\t [[{{node Placeholder/_1}}]]\n",
      "2023-07-29 03:37:19.545399: I tensorflow/core/common_runtime/executor.cc:1197] [/device:CPU:0] (DEBUG INFO) Executor start aborting (this does not indicate an error and you can ignore this message): INVALID_ARGUMENT: You must feed a value for placeholder tensor 'Placeholder/_1' with dtype string and shape [1000]\n",
      "\t [[{{node Placeholder/_1}}]]\n",
      "2023-07-29 03:37:57.469245: I tensorflow/core/common_runtime/executor.cc:1197] [/device:CPU:0] (DEBUG INFO) Executor start aborting (this does not indicate an error and you can ignore this message): INVALID_ARGUMENT: You must feed a value for placeholder tensor 'Placeholder/_1' with dtype string and shape [1000]\n",
      "\t [[{{node Placeholder/_1}}]]\n",
      "2023-07-29 03:38:04.186990: I tensorflow/core/kernels/data/shuffle_dataset_op.cc:392] Filling up shuffle buffer (this may take a while): 5025 of 10000\n",
      "2023-07-29 03:38:14.189750: I tensorflow/core/kernels/data/shuffle_dataset_op.cc:392] Filling up shuffle buffer (this may take a while): 5217 of 10000\n",
      "2023-07-29 03:38:24.145546: I tensorflow/core/kernels/data/shuffle_dataset_op.cc:392] Filling up shuffle buffer (this may take a while): 5424 of 10000\n",
      "2023-07-29 03:38:34.147809: I tensorflow/core/kernels/data/shuffle_dataset_op.cc:392] Filling up shuffle buffer (this may take a while): 5736 of 10000\n",
      "2023-07-29 03:38:44.166770: I tensorflow/core/kernels/data/shuffle_dataset_op.cc:392] Filling up shuffle buffer (this may take a while): 6131 of 10000\n",
      "2023-07-29 03:38:54.154686: I tensorflow/core/kernels/data/shuffle_dataset_op.cc:392] Filling up shuffle buffer (this may take a while): 6549 of 10000\n",
      "2023-07-29 03:39:04.144655: I tensorflow/core/kernels/data/shuffle_dataset_op.cc:392] Filling up shuffle buffer (this may take a while): 6983 of 10000\n",
      "2023-07-29 03:39:14.164730: I tensorflow/core/kernels/data/shuffle_dataset_op.cc:392] Filling up shuffle buffer (this may take a while): 7412 of 10000\n",
      "2023-07-29 03:39:24.170776: I tensorflow/core/kernels/data/shuffle_dataset_op.cc:392] Filling up shuffle buffer (this may take a while): 7791 of 10000\n",
      "2023-07-29 03:39:34.182742: I tensorflow/core/kernels/data/shuffle_dataset_op.cc:392] Filling up shuffle buffer (this may take a while): 8195 of 10000\n",
      "2023-07-29 03:39:44.158550: I tensorflow/core/kernels/data/shuffle_dataset_op.cc:392] Filling up shuffle buffer (this may take a while): 8615 of 10000\n",
      "2023-07-29 03:39:54.231787: I tensorflow/core/kernels/data/shuffle_dataset_op.cc:392] Filling up shuffle buffer (this may take a while): 8954 of 10000\n",
      "2023-07-29 03:40:04.159677: I tensorflow/core/kernels/data/shuffle_dataset_op.cc:392] Filling up shuffle buffer (this may take a while): 9349 of 10000\n",
      "2023-07-29 03:40:14.164501: I tensorflow/core/kernels/data/shuffle_dataset_op.cc:392] Filling up shuffle buffer (this may take a while): 9752 of 10000\n",
      "2023-07-29 03:40:20.197698: I tensorflow/core/kernels/data/shuffle_dataset_op.cc:417] Shuffle buffer filled.\n"
     ]
    },
    {
     "name": "stdout",
     "output_type": "stream",
     "text": [
      "current loss 0.0017742809\n",
      "Min vall loss 0.0012288059\n",
      "Epoch: 78, Train Loss:0.00033708667615428567 , Val Loss:0.001774280914105475\n"
     ]
    },
    {
     "name": "stderr",
     "output_type": "stream",
     "text": [
      "2023-07-29 03:40:31.261135: I tensorflow/core/grappler/optimizers/data/replicate_on_split.cc:32] Running replicate on split optimization\n",
      "2023-07-29 03:40:31.265707: I tensorflow/core/common_runtime/executor.cc:1197] [/device:CPU:0] (DEBUG INFO) Executor start aborting (this does not indicate an error and you can ignore this message): INVALID_ARGUMENT: You must feed a value for placeholder tensor 'Placeholder/_5' with dtype string and shape [10000]\n",
      "\t [[{{node Placeholder/_5}}]]\n",
      "2023-07-29 03:40:33.953375: I tensorflow/core/common_runtime/executor.cc:1197] [/device:CPU:0] (DEBUG INFO) Executor start aborting (this does not indicate an error and you can ignore this message): INVALID_ARGUMENT: You must feed a value for placeholder tensor 'Placeholder/_1' with dtype string and shape [1000]\n",
      "\t [[{{node Placeholder/_1}}]]\n",
      "2023-07-29 03:41:11.369888: I tensorflow/core/common_runtime/executor.cc:1197] [/device:CPU:0] (DEBUG INFO) Executor start aborting (this does not indicate an error and you can ignore this message): INVALID_ARGUMENT: You must feed a value for placeholder tensor 'Placeholder/_1' with dtype string and shape [1000]\n",
      "\t [[{{node Placeholder/_1}}]]\n",
      "2023-07-29 03:41:48.898386: I tensorflow/core/common_runtime/executor.cc:1197] [/device:CPU:0] (DEBUG INFO) Executor start aborting (this does not indicate an error and you can ignore this message): INVALID_ARGUMENT: You must feed a value for placeholder tensor 'Placeholder/_1' with dtype string and shape [1000]\n",
      "\t [[{{node Placeholder/_1}}]]\n",
      "2023-07-29 03:42:26.378055: I tensorflow/core/common_runtime/executor.cc:1197] [/device:CPU:0] (DEBUG INFO) Executor start aborting (this does not indicate an error and you can ignore this message): INVALID_ARGUMENT: You must feed a value for placeholder tensor 'Placeholder/_1' with dtype string and shape [1000]\n",
      "\t [[{{node Placeholder/_1}}]]\n",
      "2023-07-29 03:43:06.213780: I tensorflow/core/common_runtime/executor.cc:1197] [/device:CPU:0] (DEBUG INFO) Executor start aborting (this does not indicate an error and you can ignore this message): INVALID_ARGUMENT: You must feed a value for placeholder tensor 'Placeholder/_1' with dtype string and shape [1000]\n",
      "\t [[{{node Placeholder/_1}}]]\n",
      "2023-07-29 03:43:42.795934: I tensorflow/core/common_runtime/executor.cc:1197] [/device:CPU:0] (DEBUG INFO) Executor start aborting (this does not indicate an error and you can ignore this message): INVALID_ARGUMENT: You must feed a value for placeholder tensor 'Placeholder/_1' with dtype string and shape [1000]\n",
      "\t [[{{node Placeholder/_1}}]]\n",
      "2023-07-29 03:44:19.962568: I tensorflow/core/common_runtime/executor.cc:1197] [/device:CPU:0] (DEBUG INFO) Executor start aborting (this does not indicate an error and you can ignore this message): INVALID_ARGUMENT: You must feed a value for placeholder tensor 'Placeholder/_1' with dtype string and shape [1000]\n",
      "\t [[{{node Placeholder/_1}}]]\n",
      "2023-07-29 03:44:58.494829: I tensorflow/core/common_runtime/executor.cc:1197] [/device:CPU:0] (DEBUG INFO) Executor start aborting (this does not indicate an error and you can ignore this message): INVALID_ARGUMENT: You must feed a value for placeholder tensor 'Placeholder/_1' with dtype string and shape [1000]\n",
      "\t [[{{node Placeholder/_1}}]]\n"
     ]
    },
    {
     "name": "stdout",
     "output_type": "stream",
     "text": [
      "current loss 0.0012368658\n",
      "Min vall loss 0.0012288059\n",
      "Epoch: 79, Train Loss:0.0003225238178856671 , Val Loss:0.0012368657626211643\n"
     ]
    },
    {
     "name": "stderr",
     "output_type": "stream",
     "text": [
      "2023-07-29 03:45:31.599845: I tensorflow/core/grappler/optimizers/data/replicate_on_split.cc:32] Running replicate on split optimization\n",
      "2023-07-29 03:45:31.602867: I tensorflow/core/common_runtime/executor.cc:1197] [/device:CPU:0] (DEBUG INFO) Executor start aborting (this does not indicate an error and you can ignore this message): INVALID_ARGUMENT: You must feed a value for placeholder tensor 'Placeholder/_5' with dtype string and shape [10000]\n",
      "\t [[{{node Placeholder/_5}}]]\n",
      "2023-07-29 03:45:34.106790: I tensorflow/core/common_runtime/executor.cc:1197] [/device:CPU:0] (DEBUG INFO) Executor start aborting (this does not indicate an error and you can ignore this message): INVALID_ARGUMENT: You must feed a value for placeholder tensor 'Placeholder/_1' with dtype string and shape [1000]\n",
      "\t [[{{node Placeholder/_1}}]]\n",
      "2023-07-29 03:46:10.880773: I tensorflow/core/common_runtime/executor.cc:1197] [/device:CPU:0] (DEBUG INFO) Executor start aborting (this does not indicate an error and you can ignore this message): INVALID_ARGUMENT: You must feed a value for placeholder tensor 'Placeholder/_1' with dtype string and shape [1000]\n",
      "\t [[{{node Placeholder/_1}}]]\n",
      "2023-07-29 03:46:48.178509: I tensorflow/core/common_runtime/executor.cc:1197] [/device:CPU:0] (DEBUG INFO) Executor start aborting (this does not indicate an error and you can ignore this message): INVALID_ARGUMENT: You must feed a value for placeholder tensor 'Placeholder/_1' with dtype string and shape [1000]\n",
      "\t [[{{node Placeholder/_1}}]]\n",
      "2023-07-29 03:47:24.948703: I tensorflow/core/common_runtime/executor.cc:1197] [/device:CPU:0] (DEBUG INFO) Executor start aborting (this does not indicate an error and you can ignore this message): INVALID_ARGUMENT: You must feed a value for placeholder tensor 'Placeholder/_1' with dtype string and shape [1000]\n",
      "\t [[{{node Placeholder/_1}}]]\n",
      "2023-07-29 03:48:03.701931: I tensorflow/core/common_runtime/executor.cc:1197] [/device:CPU:0] (DEBUG INFO) Executor start aborting (this does not indicate an error and you can ignore this message): INVALID_ARGUMENT: You must feed a value for placeholder tensor 'Placeholder/_1' with dtype string and shape [1000]\n",
      "\t [[{{node Placeholder/_1}}]]\n",
      "2023-07-29 03:48:40.708512: I tensorflow/core/common_runtime/executor.cc:1197] [/device:CPU:0] (DEBUG INFO) Executor start aborting (this does not indicate an error and you can ignore this message): INVALID_ARGUMENT: You must feed a value for placeholder tensor 'Placeholder/_1' with dtype string and shape [1000]\n",
      "\t [[{{node Placeholder/_1}}]]\n",
      "2023-07-29 03:49:16.850899: I tensorflow/core/common_runtime/executor.cc:1197] [/device:CPU:0] (DEBUG INFO) Executor start aborting (this does not indicate an error and you can ignore this message): INVALID_ARGUMENT: You must feed a value for placeholder tensor 'Placeholder/_1' with dtype string and shape [1000]\n",
      "\t [[{{node Placeholder/_1}}]]\n",
      "2023-07-29 03:49:56.089833: I tensorflow/core/common_runtime/executor.cc:1197] [/device:CPU:0] (DEBUG INFO) Executor start aborting (this does not indicate an error and you can ignore this message): INVALID_ARGUMENT: You must feed a value for placeholder tensor 'Placeholder/_1' with dtype string and shape [1000]\n",
      "\t [[{{node Placeholder/_1}}]]\n"
     ]
    },
    {
     "name": "stdout",
     "output_type": "stream",
     "text": [
      "current loss 0.0197491\n",
      "Min vall loss 0.0012288059\n",
      "Time taken for 10 epochs: 3123.78 sec\n",
      "\n",
      "Reached epoch: 80\n",
      "Epoch: 80, Train Loss:0.0007843846105970442 , Val Loss:0.019749099388718605\n"
     ]
    },
    {
     "name": "stderr",
     "output_type": "stream",
     "text": [
      "2023-07-29 03:50:29.605798: I tensorflow/core/grappler/optimizers/data/replicate_on_split.cc:32] Running replicate on split optimization\n",
      "2023-07-29 03:50:29.609736: I tensorflow/core/common_runtime/executor.cc:1197] [/device:CPU:0] (DEBUG INFO) Executor start aborting (this does not indicate an error and you can ignore this message): INVALID_ARGUMENT: You must feed a value for placeholder tensor 'Placeholder/_4' with dtype string and shape [10000]\n",
      "\t [[{{node Placeholder/_4}}]]\n",
      "2023-07-29 03:50:32.174861: I tensorflow/core/common_runtime/executor.cc:1197] [/device:CPU:0] (DEBUG INFO) Executor start aborting (this does not indicate an error and you can ignore this message): INVALID_ARGUMENT: You must feed a value for placeholder tensor 'Placeholder/_1' with dtype string and shape [1000]\n",
      "\t [[{{node Placeholder/_1}}]]\n",
      "2023-07-29 03:51:09.616950: I tensorflow/core/common_runtime/executor.cc:1197] [/device:CPU:0] (DEBUG INFO) Executor start aborting (this does not indicate an error and you can ignore this message): INVALID_ARGUMENT: You must feed a value for placeholder tensor 'Placeholder/_1' with dtype string and shape [1000]\n",
      "\t [[{{node Placeholder/_1}}]]\n",
      "2023-07-29 03:51:45.650041: I tensorflow/core/common_runtime/executor.cc:1197] [/device:CPU:0] (DEBUG INFO) Executor start aborting (this does not indicate an error and you can ignore this message): INVALID_ARGUMENT: You must feed a value for placeholder tensor 'Placeholder/_1' with dtype string and shape [1000]\n",
      "\t [[{{node Placeholder/_1}}]]\n",
      "2023-07-29 03:52:23.316019: I tensorflow/core/common_runtime/executor.cc:1197] [/device:CPU:0] (DEBUG INFO) Executor start aborting (this does not indicate an error and you can ignore this message): INVALID_ARGUMENT: You must feed a value for placeholder tensor 'Placeholder/_1' with dtype string and shape [1000]\n",
      "\t [[{{node Placeholder/_1}}]]\n",
      "2023-07-29 03:53:02.116392: I tensorflow/core/common_runtime/executor.cc:1197] [/device:CPU:0] (DEBUG INFO) Executor start aborting (this does not indicate an error and you can ignore this message): INVALID_ARGUMENT: You must feed a value for placeholder tensor 'Placeholder/_1' with dtype string and shape [1000]\n",
      "\t [[{{node Placeholder/_1}}]]\n",
      "2023-07-29 03:53:38.509358: I tensorflow/core/common_runtime/executor.cc:1197] [/device:CPU:0] (DEBUG INFO) Executor start aborting (this does not indicate an error and you can ignore this message): INVALID_ARGUMENT: You must feed a value for placeholder tensor 'Placeholder/_1' with dtype string and shape [1000]\n",
      "\t [[{{node Placeholder/_1}}]]\n",
      "2023-07-29 03:54:15.291438: I tensorflow/core/common_runtime/executor.cc:1197] [/device:CPU:0] (DEBUG INFO) Executor start aborting (this does not indicate an error and you can ignore this message): INVALID_ARGUMENT: You must feed a value for placeholder tensor 'Placeholder/_1' with dtype string and shape [1000]\n",
      "\t [[{{node Placeholder/_1}}]]\n",
      "2023-07-29 03:54:55.560729: I tensorflow/core/common_runtime/executor.cc:1197] [/device:CPU:0] (DEBUG INFO) Executor start aborting (this does not indicate an error and you can ignore this message): INVALID_ARGUMENT: You must feed a value for placeholder tensor 'Placeholder/_1' with dtype string and shape [1000]\n",
      "\t [[{{node Placeholder/_1}}]]\n"
     ]
    },
    {
     "name": "stdout",
     "output_type": "stream",
     "text": [
      "current loss 0.0026300384\n",
      "Min vall loss 0.0012288059\n",
      "Epoch: 81, Train Loss:0.0002932613715529442 , Val Loss:0.002630038419738412\n"
     ]
    },
    {
     "name": "stderr",
     "output_type": "stream",
     "text": [
      "2023-07-29 03:55:30.366611: I tensorflow/core/grappler/optimizers/data/replicate_on_split.cc:32] Running replicate on split optimization\n",
      "2023-07-29 03:55:30.370790: I tensorflow/core/common_runtime/executor.cc:1197] [/device:CPU:0] (DEBUG INFO) Executor start aborting (this does not indicate an error and you can ignore this message): INVALID_ARGUMENT: You must feed a value for placeholder tensor 'Placeholder/_5' with dtype string and shape [10000]\n",
      "\t [[{{node Placeholder/_5}}]]\n",
      "2023-07-29 03:55:33.079219: I tensorflow/core/common_runtime/executor.cc:1197] [/device:CPU:0] (DEBUG INFO) Executor start aborting (this does not indicate an error and you can ignore this message): INVALID_ARGUMENT: You must feed a value for placeholder tensor 'Placeholder/_1' with dtype string and shape [1000]\n",
      "\t [[{{node Placeholder/_1}}]]\n",
      "2023-07-29 03:56:11.303510: I tensorflow/core/common_runtime/executor.cc:1197] [/device:CPU:0] (DEBUG INFO) Executor start aborting (this does not indicate an error and you can ignore this message): INVALID_ARGUMENT: You must feed a value for placeholder tensor 'Placeholder/_1' with dtype string and shape [1000]\n",
      "\t [[{{node Placeholder/_1}}]]\n",
      "2023-07-29 03:56:48.557747: I tensorflow/core/common_runtime/executor.cc:1197] [/device:CPU:0] (DEBUG INFO) Executor start aborting (this does not indicate an error and you can ignore this message): INVALID_ARGUMENT: You must feed a value for placeholder tensor 'Placeholder/_1' with dtype string and shape [1000]\n",
      "\t [[{{node Placeholder/_1}}]]\n",
      "2023-07-29 03:57:26.312884: I tensorflow/core/common_runtime/executor.cc:1197] [/device:CPU:0] (DEBUG INFO) Executor start aborting (this does not indicate an error and you can ignore this message): INVALID_ARGUMENT: You must feed a value for placeholder tensor 'Placeholder/_1' with dtype string and shape [1000]\n",
      "\t [[{{node Placeholder/_1}}]]\n",
      "2023-07-29 03:58:05.431771: I tensorflow/core/common_runtime/executor.cc:1197] [/device:CPU:0] (DEBUG INFO) Executor start aborting (this does not indicate an error and you can ignore this message): INVALID_ARGUMENT: You must feed a value for placeholder tensor 'Placeholder/_1' with dtype string and shape [1000]\n",
      "\t [[{{node Placeholder/_1}}]]\n",
      "2023-07-29 03:58:41.684404: I tensorflow/core/common_runtime/executor.cc:1197] [/device:CPU:0] (DEBUG INFO) Executor start aborting (this does not indicate an error and you can ignore this message): INVALID_ARGUMENT: You must feed a value for placeholder tensor 'Placeholder/_1' with dtype string and shape [1000]\n",
      "\t [[{{node Placeholder/_1}}]]\n",
      "2023-07-29 03:59:17.620250: I tensorflow/core/common_runtime/executor.cc:1197] [/device:CPU:0] (DEBUG INFO) Executor start aborting (this does not indicate an error and you can ignore this message): INVALID_ARGUMENT: You must feed a value for placeholder tensor 'Placeholder/_1' with dtype string and shape [1000]\n",
      "\t [[{{node Placeholder/_1}}]]\n",
      "2023-07-29 03:59:56.634767: I tensorflow/core/common_runtime/executor.cc:1197] [/device:CPU:0] (DEBUG INFO) Executor start aborting (this does not indicate an error and you can ignore this message): INVALID_ARGUMENT: You must feed a value for placeholder tensor 'Placeholder/_1' with dtype string and shape [1000]\n",
      "\t [[{{node Placeholder/_1}}]]\n"
     ]
    },
    {
     "name": "stdout",
     "output_type": "stream",
     "text": [
      "current loss 0.0026758478\n",
      "Min vall loss 0.0012288059\n",
      "Epoch: 82, Train Loss:0.00033788930159062147 , Val Loss:0.0026758478488773108\n"
     ]
    },
    {
     "name": "stderr",
     "output_type": "stream",
     "text": [
      "2023-07-29 04:00:30.280409: I tensorflow/core/grappler/optimizers/data/replicate_on_split.cc:32] Running replicate on split optimization\n",
      "2023-07-29 04:00:30.285289: I tensorflow/core/common_runtime/executor.cc:1197] [/device:CPU:0] (DEBUG INFO) Executor start aborting (this does not indicate an error and you can ignore this message): INVALID_ARGUMENT: You must feed a value for placeholder tensor 'Placeholder/_4' with dtype string and shape [10000]\n",
      "\t [[{{node Placeholder/_4}}]]\n",
      "2023-07-29 04:00:32.916757: I tensorflow/core/common_runtime/executor.cc:1197] [/device:CPU:0] (DEBUG INFO) Executor start aborting (this does not indicate an error and you can ignore this message): INVALID_ARGUMENT: You must feed a value for placeholder tensor 'Placeholder/_1' with dtype string and shape [1000]\n",
      "\t [[{{node Placeholder/_1}}]]\n",
      "2023-07-29 04:01:10.567186: I tensorflow/core/common_runtime/executor.cc:1197] [/device:CPU:0] (DEBUG INFO) Executor start aborting (this does not indicate an error and you can ignore this message): INVALID_ARGUMENT: You must feed a value for placeholder tensor 'Placeholder/_1' with dtype string and shape [1000]\n",
      "\t [[{{node Placeholder/_1}}]]\n",
      "2023-07-29 04:01:47.873751: I tensorflow/core/common_runtime/executor.cc:1197] [/device:CPU:0] (DEBUG INFO) Executor start aborting (this does not indicate an error and you can ignore this message): INVALID_ARGUMENT: You must feed a value for placeholder tensor 'Placeholder/_1' with dtype string and shape [1000]\n",
      "\t [[{{node Placeholder/_1}}]]\n",
      "2023-07-29 04:02:24.444670: I tensorflow/core/common_runtime/executor.cc:1197] [/device:CPU:0] (DEBUG INFO) Executor start aborting (this does not indicate an error and you can ignore this message): INVALID_ARGUMENT: You must feed a value for placeholder tensor 'Placeholder/_1' with dtype string and shape [1000]\n",
      "\t [[{{node Placeholder/_1}}]]\n",
      "2023-07-29 04:03:02.671761: I tensorflow/core/common_runtime/executor.cc:1197] [/device:CPU:0] (DEBUG INFO) Executor start aborting (this does not indicate an error and you can ignore this message): INVALID_ARGUMENT: You must feed a value for placeholder tensor 'Placeholder/_1' with dtype string and shape [1000]\n",
      "\t [[{{node Placeholder/_1}}]]\n",
      "2023-07-29 04:03:38.701088: I tensorflow/core/common_runtime/executor.cc:1197] [/device:CPU:0] (DEBUG INFO) Executor start aborting (this does not indicate an error and you can ignore this message): INVALID_ARGUMENT: You must feed a value for placeholder tensor 'Placeholder/_1' with dtype string and shape [1000]\n",
      "\t [[{{node Placeholder/_1}}]]\n",
      "2023-07-29 04:04:15.413910: I tensorflow/core/common_runtime/executor.cc:1197] [/device:CPU:0] (DEBUG INFO) Executor start aborting (this does not indicate an error and you can ignore this message): INVALID_ARGUMENT: You must feed a value for placeholder tensor 'Placeholder/_1' with dtype string and shape [1000]\n",
      "\t [[{{node Placeholder/_1}}]]\n",
      "2023-07-29 04:04:54.936283: I tensorflow/core/common_runtime/executor.cc:1197] [/device:CPU:0] (DEBUG INFO) Executor start aborting (this does not indicate an error and you can ignore this message): INVALID_ARGUMENT: You must feed a value for placeholder tensor 'Placeholder/_1' with dtype string and shape [1000]\n",
      "\t [[{{node Placeholder/_1}}]]\n"
     ]
    },
    {
     "name": "stdout",
     "output_type": "stream",
     "text": [
      "current loss 0.0033335732\n",
      "Min vall loss 0.0012288059\n",
      "Epoch: 83, Train Loss:0.000309524592012167 , Val Loss:0.00333357322961092\n"
     ]
    },
    {
     "name": "stderr",
     "output_type": "stream",
     "text": [
      "2023-07-29 04:05:28.369996: I tensorflow/core/grappler/optimizers/data/replicate_on_split.cc:32] Running replicate on split optimization\n",
      "2023-07-29 04:05:28.373647: I tensorflow/core/common_runtime/executor.cc:1197] [/device:CPU:0] (DEBUG INFO) Executor start aborting (this does not indicate an error and you can ignore this message): INVALID_ARGUMENT: You must feed a value for placeholder tensor 'Placeholder/_4' with dtype string and shape [10000]\n",
      "\t [[{{node Placeholder/_4}}]]\n",
      "2023-07-29 04:05:30.958190: I tensorflow/core/common_runtime/executor.cc:1197] [/device:CPU:0] (DEBUG INFO) Executor start aborting (this does not indicate an error and you can ignore this message): INVALID_ARGUMENT: You must feed a value for placeholder tensor 'Placeholder/_1' with dtype string and shape [1000]\n",
      "\t [[{{node Placeholder/_1}}]]\n",
      "2023-07-29 04:06:08.647932: I tensorflow/core/common_runtime/executor.cc:1197] [/device:CPU:0] (DEBUG INFO) Executor start aborting (this does not indicate an error and you can ignore this message): INVALID_ARGUMENT: You must feed a value for placeholder tensor 'Placeholder/_1' with dtype string and shape [1000]\n",
      "\t [[{{node Placeholder/_1}}]]\n",
      "2023-07-29 04:06:45.533052: I tensorflow/core/common_runtime/executor.cc:1197] [/device:CPU:0] (DEBUG INFO) Executor start aborting (this does not indicate an error and you can ignore this message): INVALID_ARGUMENT: You must feed a value for placeholder tensor 'Placeholder/_1' with dtype string and shape [1000]\n",
      "\t [[{{node Placeholder/_1}}]]\n",
      "2023-07-29 04:07:22.552492: I tensorflow/core/common_runtime/executor.cc:1197] [/device:CPU:0] (DEBUG INFO) Executor start aborting (this does not indicate an error and you can ignore this message): INVALID_ARGUMENT: You must feed a value for placeholder tensor 'Placeholder/_1' with dtype string and shape [1000]\n",
      "\t [[{{node Placeholder/_1}}]]\n",
      "2023-07-29 04:08:01.866610: I tensorflow/core/common_runtime/executor.cc:1197] [/device:CPU:0] (DEBUG INFO) Executor start aborting (this does not indicate an error and you can ignore this message): INVALID_ARGUMENT: You must feed a value for placeholder tensor 'Placeholder/_1' with dtype string and shape [1000]\n",
      "\t [[{{node Placeholder/_1}}]]\n",
      "2023-07-29 04:08:39.317506: I tensorflow/core/common_runtime/executor.cc:1197] [/device:CPU:0] (DEBUG INFO) Executor start aborting (this does not indicate an error and you can ignore this message): INVALID_ARGUMENT: You must feed a value for placeholder tensor 'Placeholder/_1' with dtype string and shape [1000]\n",
      "\t [[{{node Placeholder/_1}}]]\n",
      "2023-07-29 04:09:16.252073: I tensorflow/core/common_runtime/executor.cc:1197] [/device:CPU:0] (DEBUG INFO) Executor start aborting (this does not indicate an error and you can ignore this message): INVALID_ARGUMENT: You must feed a value for placeholder tensor 'Placeholder/_1' with dtype string and shape [1000]\n",
      "\t [[{{node Placeholder/_1}}]]\n",
      "2023-07-29 04:09:54.924042: I tensorflow/core/common_runtime/executor.cc:1197] [/device:CPU:0] (DEBUG INFO) Executor start aborting (this does not indicate an error and you can ignore this message): INVALID_ARGUMENT: You must feed a value for placeholder tensor 'Placeholder/_1' with dtype string and shape [1000]\n",
      "\t [[{{node Placeholder/_1}}]]\n"
     ]
    },
    {
     "name": "stdout",
     "output_type": "stream",
     "text": [
      "current loss 0.0025668726\n",
      "Min vall loss 0.0012288059\n",
      "Epoch: 84, Train Loss:0.00041312616667710245 , Val Loss:0.0025668726302683353\n"
     ]
    },
    {
     "name": "stderr",
     "output_type": "stream",
     "text": [
      "2023-07-29 04:10:27.160227: I tensorflow/core/grappler/optimizers/data/replicate_on_split.cc:32] Running replicate on split optimization\n",
      "2023-07-29 04:10:27.164290: I tensorflow/core/common_runtime/executor.cc:1197] [/device:CPU:0] (DEBUG INFO) Executor start aborting (this does not indicate an error and you can ignore this message): INVALID_ARGUMENT: You must feed a value for placeholder tensor 'Placeholder/_4' with dtype string and shape [10000]\n",
      "\t [[{{node Placeholder/_4}}]]\n",
      "2023-07-29 04:10:29.849026: I tensorflow/core/common_runtime/executor.cc:1197] [/device:CPU:0] (DEBUG INFO) Executor start aborting (this does not indicate an error and you can ignore this message): INVALID_ARGUMENT: You must feed a value for placeholder tensor 'Placeholder/_1' with dtype string and shape [1000]\n",
      "\t [[{{node Placeholder/_1}}]]\n",
      "2023-07-29 04:11:06.541099: I tensorflow/core/common_runtime/executor.cc:1197] [/device:CPU:0] (DEBUG INFO) Executor start aborting (this does not indicate an error and you can ignore this message): INVALID_ARGUMENT: You must feed a value for placeholder tensor 'Placeholder/_1' with dtype string and shape [1000]\n",
      "\t [[{{node Placeholder/_1}}]]\n",
      "2023-07-29 04:11:44.435691: I tensorflow/core/common_runtime/executor.cc:1197] [/device:CPU:0] (DEBUG INFO) Executor start aborting (this does not indicate an error and you can ignore this message): INVALID_ARGUMENT: You must feed a value for placeholder tensor 'Placeholder/_1' with dtype string and shape [1000]\n",
      "\t [[{{node Placeholder/_1}}]]\n",
      "2023-07-29 04:12:22.883950: I tensorflow/core/common_runtime/executor.cc:1197] [/device:CPU:0] (DEBUG INFO) Executor start aborting (this does not indicate an error and you can ignore this message): INVALID_ARGUMENT: You must feed a value for placeholder tensor 'Placeholder/_1' with dtype string and shape [1000]\n",
      "\t [[{{node Placeholder/_1}}]]\n",
      "2023-07-29 04:13:02.732689: I tensorflow/core/common_runtime/executor.cc:1197] [/device:CPU:0] (DEBUG INFO) Executor start aborting (this does not indicate an error and you can ignore this message): INVALID_ARGUMENT: You must feed a value for placeholder tensor 'Placeholder/_1' with dtype string and shape [1000]\n",
      "\t [[{{node Placeholder/_1}}]]\n",
      "2023-07-29 04:13:38.480630: I tensorflow/core/common_runtime/executor.cc:1197] [/device:CPU:0] (DEBUG INFO) Executor start aborting (this does not indicate an error and you can ignore this message): INVALID_ARGUMENT: You must feed a value for placeholder tensor 'Placeholder/_1' with dtype string and shape [1000]\n",
      "\t [[{{node Placeholder/_1}}]]\n",
      "2023-07-29 04:14:13.961934: I tensorflow/core/common_runtime/executor.cc:1197] [/device:CPU:0] (DEBUG INFO) Executor start aborting (this does not indicate an error and you can ignore this message): INVALID_ARGUMENT: You must feed a value for placeholder tensor 'Placeholder/_1' with dtype string and shape [1000]\n",
      "\t [[{{node Placeholder/_1}}]]\n",
      "2023-07-29 04:14:51.446746: I tensorflow/core/common_runtime/executor.cc:1197] [/device:CPU:0] (DEBUG INFO) Executor start aborting (this does not indicate an error and you can ignore this message): INVALID_ARGUMENT: You must feed a value for placeholder tensor 'Placeholder/_1' with dtype string and shape [1000]\n",
      "\t [[{{node Placeholder/_1}}]]\n"
     ]
    },
    {
     "name": "stdout",
     "output_type": "stream",
     "text": [
      "current loss 0.02002579\n",
      "Min vall loss 0.0012288059\n",
      "Epoch: 85, Train Loss:0.00034702778793871403 , Val Loss:0.020025789737701416\n"
     ]
    },
    {
     "name": "stderr",
     "output_type": "stream",
     "text": [
      "2023-07-29 04:15:23.520817: I tensorflow/core/grappler/optimizers/data/replicate_on_split.cc:32] Running replicate on split optimization\n",
      "2023-07-29 04:15:23.525030: I tensorflow/core/common_runtime/executor.cc:1197] [/device:CPU:0] (DEBUG INFO) Executor start aborting (this does not indicate an error and you can ignore this message): INVALID_ARGUMENT: You must feed a value for placeholder tensor 'Placeholder/_5' with dtype string and shape [10000]\n",
      "\t [[{{node Placeholder/_5}}]]\n",
      "2023-07-29 04:15:26.210966: I tensorflow/core/common_runtime/executor.cc:1197] [/device:CPU:0] (DEBUG INFO) Executor start aborting (this does not indicate an error and you can ignore this message): INVALID_ARGUMENT: You must feed a value for placeholder tensor 'Placeholder/_1' with dtype string and shape [1000]\n",
      "\t [[{{node Placeholder/_1}}]]\n",
      "2023-07-29 04:16:02.105126: I tensorflow/core/common_runtime/executor.cc:1197] [/device:CPU:0] (DEBUG INFO) Executor start aborting (this does not indicate an error and you can ignore this message): INVALID_ARGUMENT: You must feed a value for placeholder tensor 'Placeholder/_1' with dtype string and shape [1000]\n",
      "\t [[{{node Placeholder/_1}}]]\n",
      "2023-07-29 04:16:38.750283: I tensorflow/core/common_runtime/executor.cc:1197] [/device:CPU:0] (DEBUG INFO) Executor start aborting (this does not indicate an error and you can ignore this message): INVALID_ARGUMENT: You must feed a value for placeholder tensor 'Placeholder/_1' with dtype string and shape [1000]\n",
      "\t [[{{node Placeholder/_1}}]]\n",
      "2023-07-29 04:17:14.955993: I tensorflow/core/common_runtime/executor.cc:1197] [/device:CPU:0] (DEBUG INFO) Executor start aborting (this does not indicate an error and you can ignore this message): INVALID_ARGUMENT: You must feed a value for placeholder tensor 'Placeholder/_1' with dtype string and shape [1000]\n",
      "\t [[{{node Placeholder/_1}}]]\n",
      "2023-07-29 04:17:53.369494: I tensorflow/core/common_runtime/executor.cc:1197] [/device:CPU:0] (DEBUG INFO) Executor start aborting (this does not indicate an error and you can ignore this message): INVALID_ARGUMENT: You must feed a value for placeholder tensor 'Placeholder/_1' with dtype string and shape [1000]\n",
      "\t [[{{node Placeholder/_1}}]]\n",
      "2023-07-29 04:18:31.744754: I tensorflow/core/common_runtime/executor.cc:1197] [/device:CPU:0] (DEBUG INFO) Executor start aborting (this does not indicate an error and you can ignore this message): INVALID_ARGUMENT: You must feed a value for placeholder tensor 'Placeholder/_1' with dtype string and shape [1000]\n",
      "\t [[{{node Placeholder/_1}}]]\n",
      "2023-07-29 04:19:07.395158: I tensorflow/core/common_runtime/executor.cc:1197] [/device:CPU:0] (DEBUG INFO) Executor start aborting (this does not indicate an error and you can ignore this message): INVALID_ARGUMENT: You must feed a value for placeholder tensor 'Placeholder/_1' with dtype string and shape [1000]\n",
      "\t [[{{node Placeholder/_1}}]]\n",
      "2023-07-29 04:19:45.145631: I tensorflow/core/common_runtime/executor.cc:1197] [/device:CPU:0] (DEBUG INFO) Executor start aborting (this does not indicate an error and you can ignore this message): INVALID_ARGUMENT: You must feed a value for placeholder tensor 'Placeholder/_1' with dtype string and shape [1000]\n",
      "\t [[{{node Placeholder/_1}}]]\n"
     ]
    },
    {
     "name": "stdout",
     "output_type": "stream",
     "text": [
      "current loss 0.0028260483\n",
      "Min vall loss 0.0012288059\n",
      "Epoch: 86, Train Loss:0.00033040886046364903 , Val Loss:0.002826048294082284\n"
     ]
    },
    {
     "name": "stderr",
     "output_type": "stream",
     "text": [
      "2023-07-29 04:20:18.124389: I tensorflow/core/grappler/optimizers/data/replicate_on_split.cc:32] Running replicate on split optimization\n",
      "2023-07-29 04:20:18.128320: I tensorflow/core/common_runtime/executor.cc:1197] [/device:CPU:0] (DEBUG INFO) Executor start aborting (this does not indicate an error and you can ignore this message): INVALID_ARGUMENT: You must feed a value for placeholder tensor 'Placeholder/_4' with dtype string and shape [10000]\n",
      "\t [[{{node Placeholder/_4}}]]\n",
      "2023-07-29 04:20:20.830462: I tensorflow/core/common_runtime/executor.cc:1197] [/device:CPU:0] (DEBUG INFO) Executor start aborting (this does not indicate an error and you can ignore this message): INVALID_ARGUMENT: You must feed a value for placeholder tensor 'Placeholder/_1' with dtype string and shape [1000]\n",
      "\t [[{{node Placeholder/_1}}]]\n",
      "2023-07-29 04:20:58.197855: I tensorflow/core/common_runtime/executor.cc:1197] [/device:CPU:0] (DEBUG INFO) Executor start aborting (this does not indicate an error and you can ignore this message): INVALID_ARGUMENT: You must feed a value for placeholder tensor 'Placeholder/_1' with dtype string and shape [1000]\n",
      "\t [[{{node Placeholder/_1}}]]\n",
      "2023-07-29 04:21:34.936030: I tensorflow/core/common_runtime/executor.cc:1197] [/device:CPU:0] (DEBUG INFO) Executor start aborting (this does not indicate an error and you can ignore this message): INVALID_ARGUMENT: You must feed a value for placeholder tensor 'Placeholder/_1' with dtype string and shape [1000]\n",
      "\t [[{{node Placeholder/_1}}]]\n",
      "2023-07-29 04:22:13.117911: I tensorflow/core/common_runtime/executor.cc:1197] [/device:CPU:0] (DEBUG INFO) Executor start aborting (this does not indicate an error and you can ignore this message): INVALID_ARGUMENT: You must feed a value for placeholder tensor 'Placeholder/_1' with dtype string and shape [1000]\n",
      "\t [[{{node Placeholder/_1}}]]\n",
      "2023-07-29 04:22:52.168831: I tensorflow/core/common_runtime/executor.cc:1197] [/device:CPU:0] (DEBUG INFO) Executor start aborting (this does not indicate an error and you can ignore this message): INVALID_ARGUMENT: You must feed a value for placeholder tensor 'Placeholder/_1' with dtype string and shape [1000]\n",
      "\t [[{{node Placeholder/_1}}]]\n",
      "2023-07-29 04:23:29.815177: I tensorflow/core/common_runtime/executor.cc:1197] [/device:CPU:0] (DEBUG INFO) Executor start aborting (this does not indicate an error and you can ignore this message): INVALID_ARGUMENT: You must feed a value for placeholder tensor 'Placeholder/_1' with dtype string and shape [1000]\n",
      "\t [[{{node Placeholder/_1}}]]\n",
      "2023-07-29 04:24:07.240157: I tensorflow/core/common_runtime/executor.cc:1197] [/device:CPU:0] (DEBUG INFO) Executor start aborting (this does not indicate an error and you can ignore this message): INVALID_ARGUMENT: You must feed a value for placeholder tensor 'Placeholder/_1' with dtype string and shape [1000]\n",
      "\t [[{{node Placeholder/_1}}]]\n",
      "2023-07-29 04:24:47.559782: I tensorflow/core/common_runtime/executor.cc:1197] [/device:CPU:0] (DEBUG INFO) Executor start aborting (this does not indicate an error and you can ignore this message): INVALID_ARGUMENT: You must feed a value for placeholder tensor 'Placeholder/_1' with dtype string and shape [1000]\n",
      "\t [[{{node Placeholder/_1}}]]\n"
     ]
    },
    {
     "name": "stdout",
     "output_type": "stream",
     "text": [
      "current loss 0.008188639\n",
      "Min vall loss 0.0012288059\n",
      "Epoch: 87, Train Loss:0.0003248280845582485 , Val Loss:0.008188638836145401\n"
     ]
    },
    {
     "name": "stderr",
     "output_type": "stream",
     "text": [
      "2023-07-29 04:25:21.650577: I tensorflow/core/grappler/optimizers/data/replicate_on_split.cc:32] Running replicate on split optimization\n",
      "2023-07-29 04:25:21.654483: I tensorflow/core/common_runtime/executor.cc:1197] [/device:CPU:0] (DEBUG INFO) Executor start aborting (this does not indicate an error and you can ignore this message): INVALID_ARGUMENT: You must feed a value for placeholder tensor 'Placeholder/_5' with dtype string and shape [10000]\n",
      "\t [[{{node Placeholder/_5}}]]\n",
      "2023-07-29 04:25:24.459182: I tensorflow/core/common_runtime/executor.cc:1197] [/device:CPU:0] (DEBUG INFO) Executor start aborting (this does not indicate an error and you can ignore this message): INVALID_ARGUMENT: You must feed a value for placeholder tensor 'Placeholder/_1' with dtype string and shape [1000]\n",
      "\t [[{{node Placeholder/_1}}]]\n",
      "2023-07-29 04:26:01.739657: I tensorflow/core/common_runtime/executor.cc:1197] [/device:CPU:0] (DEBUG INFO) Executor start aborting (this does not indicate an error and you can ignore this message): INVALID_ARGUMENT: You must feed a value for placeholder tensor 'Placeholder/_1' with dtype string and shape [1000]\n",
      "\t [[{{node Placeholder/_1}}]]\n",
      "2023-07-29 04:26:39.624237: I tensorflow/core/common_runtime/executor.cc:1197] [/device:CPU:0] (DEBUG INFO) Executor start aborting (this does not indicate an error and you can ignore this message): INVALID_ARGUMENT: You must feed a value for placeholder tensor 'Placeholder/_1' with dtype string and shape [1000]\n",
      "\t [[{{node Placeholder/_1}}]]\n",
      "2023-07-29 04:27:21.484710: I tensorflow/core/kernels/data/shuffle_dataset_op.cc:392] Filling up shuffle buffer (this may take a while): 194 of 10000\n",
      "2023-07-29 04:27:31.485734: I tensorflow/core/kernels/data/shuffle_dataset_op.cc:392] Filling up shuffle buffer (this may take a while): 441 of 10000\n",
      "2023-07-29 04:27:41.519771: I tensorflow/core/kernels/data/shuffle_dataset_op.cc:392] Filling up shuffle buffer (this may take a while): 718 of 10000\n",
      "2023-07-29 04:27:51.466626: I tensorflow/core/kernels/data/shuffle_dataset_op.cc:392] Filling up shuffle buffer (this may take a while): 1002 of 10000\n",
      "2023-07-29 04:28:01.481738: I tensorflow/core/kernels/data/shuffle_dataset_op.cc:392] Filling up shuffle buffer (this may take a while): 1341 of 10000\n",
      "2023-07-29 04:28:11.481717: I tensorflow/core/kernels/data/shuffle_dataset_op.cc:392] Filling up shuffle buffer (this may take a while): 1683 of 10000\n",
      "2023-07-29 04:28:21.479649: I tensorflow/core/kernels/data/shuffle_dataset_op.cc:392] Filling up shuffle buffer (this may take a while): 2086 of 10000\n",
      "2023-07-29 04:28:31.509783: I tensorflow/core/kernels/data/shuffle_dataset_op.cc:392] Filling up shuffle buffer (this may take a while): 2481 of 10000\n",
      "2023-07-29 04:28:41.471724: I tensorflow/core/kernels/data/shuffle_dataset_op.cc:392] Filling up shuffle buffer (this may take a while): 2871 of 10000\n",
      "2023-07-29 04:28:51.487746: I tensorflow/core/kernels/data/shuffle_dataset_op.cc:392] Filling up shuffle buffer (this may take a while): 3209 of 10000\n",
      "2023-07-29 04:29:01.483732: I tensorflow/core/kernels/data/shuffle_dataset_op.cc:392] Filling up shuffle buffer (this may take a while): 3544 of 10000\n",
      "2023-07-29 04:29:11.502802: I tensorflow/core/kernels/data/shuffle_dataset_op.cc:392] Filling up shuffle buffer (this may take a while): 3907 of 10000\n",
      "2023-07-29 04:29:21.479556: I tensorflow/core/kernels/data/shuffle_dataset_op.cc:392] Filling up shuffle buffer (this may take a while): 4273 of 10000\n",
      "2023-07-29 04:29:31.493659: I tensorflow/core/kernels/data/shuffle_dataset_op.cc:392] Filling up shuffle buffer (this may take a while): 4642 of 10000\n",
      "2023-07-29 04:29:41.468687: I tensorflow/core/kernels/data/shuffle_dataset_op.cc:392] Filling up shuffle buffer (this may take a while): 5032 of 10000\n",
      "2023-07-29 04:29:51.474540: I tensorflow/core/kernels/data/shuffle_dataset_op.cc:392] Filling up shuffle buffer (this may take a while): 5432 of 10000\n",
      "2023-07-29 04:30:01.499757: I tensorflow/core/kernels/data/shuffle_dataset_op.cc:392] Filling up shuffle buffer (this may take a while): 5831 of 10000\n",
      "2023-07-29 04:30:11.486565: I tensorflow/core/kernels/data/shuffle_dataset_op.cc:392] Filling up shuffle buffer (this may take a while): 6230 of 10000\n",
      "2023-07-29 04:30:21.495671: I tensorflow/core/kernels/data/shuffle_dataset_op.cc:392] Filling up shuffle buffer (this may take a while): 6662 of 10000\n",
      "2023-07-29 04:30:31.466677: I tensorflow/core/kernels/data/shuffle_dataset_op.cc:392] Filling up shuffle buffer (this may take a while): 7039 of 10000\n",
      "2023-07-29 04:30:41.465637: I tensorflow/core/kernels/data/shuffle_dataset_op.cc:392] Filling up shuffle buffer (this may take a while): 7449 of 10000\n",
      "2023-07-29 04:30:51.468701: I tensorflow/core/kernels/data/shuffle_dataset_op.cc:392] Filling up shuffle buffer (this may take a while): 7818 of 10000\n",
      "2023-07-29 04:31:01.492614: I tensorflow/core/kernels/data/shuffle_dataset_op.cc:392] Filling up shuffle buffer (this may take a while): 8233 of 10000\n",
      "2023-07-29 04:31:11.471527: I tensorflow/core/kernels/data/shuffle_dataset_op.cc:392] Filling up shuffle buffer (this may take a while): 8643 of 10000\n",
      "2023-07-29 04:31:21.464625: I tensorflow/core/kernels/data/shuffle_dataset_op.cc:392] Filling up shuffle buffer (this may take a while): 8974 of 10000\n",
      "2023-07-29 04:31:31.474705: I tensorflow/core/kernels/data/shuffle_dataset_op.cc:392] Filling up shuffle buffer (this may take a while): 9396 of 10000\n",
      "2023-07-29 04:31:41.498543: I tensorflow/core/kernels/data/shuffle_dataset_op.cc:392] Filling up shuffle buffer (this may take a while): 9791 of 10000\n",
      "2023-07-29 04:31:46.835645: I tensorflow/core/kernels/data/shuffle_dataset_op.cc:417] Shuffle buffer filled.\n",
      "2023-07-29 04:31:55.722975: I tensorflow/core/common_runtime/executor.cc:1197] [/device:CPU:0] (DEBUG INFO) Executor start aborting (this does not indicate an error and you can ignore this message): INVALID_ARGUMENT: You must feed a value for placeholder tensor 'Placeholder/_1' with dtype string and shape [1000]\n",
      "\t [[{{node Placeholder/_1}}]]\n",
      "2023-07-29 04:32:37.889378: I tensorflow/core/common_runtime/executor.cc:1197] [/device:CPU:0] (DEBUG INFO) Executor start aborting (this does not indicate an error and you can ignore this message): INVALID_ARGUMENT: You must feed a value for placeholder tensor 'Placeholder/_1' with dtype string and shape [1000]\n",
      "\t [[{{node Placeholder/_1}}]]\n",
      "2023-07-29 04:33:14.374094: I tensorflow/core/common_runtime/executor.cc:1197] [/device:CPU:0] (DEBUG INFO) Executor start aborting (this does not indicate an error and you can ignore this message): INVALID_ARGUMENT: You must feed a value for placeholder tensor 'Placeholder/_1' with dtype string and shape [1000]\n",
      "\t [[{{node Placeholder/_1}}]]\n",
      "2023-07-29 04:33:49.786404: I tensorflow/core/common_runtime/executor.cc:1197] [/device:CPU:0] (DEBUG INFO) Executor start aborting (this does not indicate an error and you can ignore this message): INVALID_ARGUMENT: You must feed a value for placeholder tensor 'Placeholder/_1' with dtype string and shape [1000]\n",
      "\t [[{{node Placeholder/_1}}]]\n",
      "2023-07-29 04:34:27.500408: I tensorflow/core/common_runtime/executor.cc:1197] [/device:CPU:0] (DEBUG INFO) Executor start aborting (this does not indicate an error and you can ignore this message): INVALID_ARGUMENT: You must feed a value for placeholder tensor 'Placeholder/_1' with dtype string and shape [1000]\n",
      "\t [[{{node Placeholder/_1}}]]\n"
     ]
    },
    {
     "name": "stdout",
     "output_type": "stream",
     "text": [
      "current loss 0.0038989887\n",
      "Min vall loss 0.0012288059\n",
      "Epoch: 88, Train Loss:0.0007474143640138209 , Val Loss:0.0038989887107163668\n"
     ]
    },
    {
     "name": "stderr",
     "output_type": "stream",
     "text": [
      "2023-07-29 04:35:00.437857: I tensorflow/core/grappler/optimizers/data/replicate_on_split.cc:32] Running replicate on split optimization\n",
      "2023-07-29 04:35:00.443625: I tensorflow/core/common_runtime/executor.cc:1197] [/device:CPU:0] (DEBUG INFO) Executor start aborting (this does not indicate an error and you can ignore this message): INVALID_ARGUMENT: You must feed a value for placeholder tensor 'Placeholder/_5' with dtype string and shape [10000]\n",
      "\t [[{{node Placeholder/_5}}]]\n",
      "2023-07-29 04:35:03.137310: I tensorflow/core/common_runtime/executor.cc:1197] [/device:CPU:0] (DEBUG INFO) Executor start aborting (this does not indicate an error and you can ignore this message): INVALID_ARGUMENT: You must feed a value for placeholder tensor 'Placeholder/_1' with dtype string and shape [1000]\n",
      "\t [[{{node Placeholder/_1}}]]\n",
      "2023-07-29 04:35:40.799152: I tensorflow/core/common_runtime/executor.cc:1197] [/device:CPU:0] (DEBUG INFO) Executor start aborting (this does not indicate an error and you can ignore this message): INVALID_ARGUMENT: You must feed a value for placeholder tensor 'Placeholder/_1' with dtype string and shape [1000]\n",
      "\t [[{{node Placeholder/_1}}]]\n",
      "2023-07-29 04:36:17.968832: I tensorflow/core/common_runtime/executor.cc:1197] [/device:CPU:0] (DEBUG INFO) Executor start aborting (this does not indicate an error and you can ignore this message): INVALID_ARGUMENT: You must feed a value for placeholder tensor 'Placeholder/_1' with dtype string and shape [1000]\n",
      "\t [[{{node Placeholder/_1}}]]\n",
      "2023-07-29 04:36:55.590733: I tensorflow/core/common_runtime/executor.cc:1197] [/device:CPU:0] (DEBUG INFO) Executor start aborting (this does not indicate an error and you can ignore this message): INVALID_ARGUMENT: You must feed a value for placeholder tensor 'Placeholder/_1' with dtype string and shape [1000]\n",
      "\t [[{{node Placeholder/_1}}]]\n",
      "2023-07-29 04:37:34.737428: I tensorflow/core/common_runtime/executor.cc:1197] [/device:CPU:0] (DEBUG INFO) Executor start aborting (this does not indicate an error and you can ignore this message): INVALID_ARGUMENT: You must feed a value for placeholder tensor 'Placeholder/_1' with dtype string and shape [1000]\n",
      "\t [[{{node Placeholder/_1}}]]\n",
      "2023-07-29 04:38:12.192486: I tensorflow/core/common_runtime/executor.cc:1197] [/device:CPU:0] (DEBUG INFO) Executor start aborting (this does not indicate an error and you can ignore this message): INVALID_ARGUMENT: You must feed a value for placeholder tensor 'Placeholder/_1' with dtype string and shape [1000]\n",
      "\t [[{{node Placeholder/_1}}]]\n",
      "2023-07-29 04:38:49.341222: I tensorflow/core/common_runtime/executor.cc:1197] [/device:CPU:0] (DEBUG INFO) Executor start aborting (this does not indicate an error and you can ignore this message): INVALID_ARGUMENT: You must feed a value for placeholder tensor 'Placeholder/_1' with dtype string and shape [1000]\n",
      "\t [[{{node Placeholder/_1}}]]\n",
      "2023-07-29 04:39:29.403781: I tensorflow/core/common_runtime/executor.cc:1197] [/device:CPU:0] (DEBUG INFO) Executor start aborting (this does not indicate an error and you can ignore this message): INVALID_ARGUMENT: You must feed a value for placeholder tensor 'Placeholder/_1' with dtype string and shape [1000]\n",
      "\t [[{{node Placeholder/_1}}]]\n"
     ]
    },
    {
     "name": "stdout",
     "output_type": "stream",
     "text": [
      "current loss 0.002181547\n",
      "Min vall loss 0.0012288059\n",
      "Epoch: 89, Train Loss:0.00028863444458693266 , Val Loss:0.0021815469954162836\n"
     ]
    },
    {
     "name": "stderr",
     "output_type": "stream",
     "text": [
      "2023-07-29 04:40:02.648356: I tensorflow/core/grappler/optimizers/data/replicate_on_split.cc:32] Running replicate on split optimization\n",
      "2023-07-29 04:40:02.652982: I tensorflow/core/common_runtime/executor.cc:1197] [/device:CPU:0] (DEBUG INFO) Executor start aborting (this does not indicate an error and you can ignore this message): INVALID_ARGUMENT: You must feed a value for placeholder tensor 'Placeholder/_5' with dtype string and shape [10000]\n",
      "\t [[{{node Placeholder/_5}}]]\n",
      "2023-07-29 04:40:05.297554: I tensorflow/core/common_runtime/executor.cc:1197] [/device:CPU:0] (DEBUG INFO) Executor start aborting (this does not indicate an error and you can ignore this message): INVALID_ARGUMENT: You must feed a value for placeholder tensor 'Placeholder/_1' with dtype string and shape [1000]\n",
      "\t [[{{node Placeholder/_1}}]]\n",
      "2023-07-29 04:40:43.167409: I tensorflow/core/common_runtime/executor.cc:1197] [/device:CPU:0] (DEBUG INFO) Executor start aborting (this does not indicate an error and you can ignore this message): INVALID_ARGUMENT: You must feed a value for placeholder tensor 'Placeholder/_1' with dtype string and shape [1000]\n",
      "\t [[{{node Placeholder/_1}}]]\n",
      "2023-07-29 04:41:20.384026: I tensorflow/core/common_runtime/executor.cc:1197] [/device:CPU:0] (DEBUG INFO) Executor start aborting (this does not indicate an error and you can ignore this message): INVALID_ARGUMENT: You must feed a value for placeholder tensor 'Placeholder/_1' with dtype string and shape [1000]\n",
      "\t [[{{node Placeholder/_1}}]]\n",
      "2023-07-29 04:41:57.430419: I tensorflow/core/common_runtime/executor.cc:1197] [/device:CPU:0] (DEBUG INFO) Executor start aborting (this does not indicate an error and you can ignore this message): INVALID_ARGUMENT: You must feed a value for placeholder tensor 'Placeholder/_1' with dtype string and shape [1000]\n",
      "\t [[{{node Placeholder/_1}}]]\n",
      "2023-07-29 04:42:36.404731: I tensorflow/core/common_runtime/executor.cc:1197] [/device:CPU:0] (DEBUG INFO) Executor start aborting (this does not indicate an error and you can ignore this message): INVALID_ARGUMENT: You must feed a value for placeholder tensor 'Placeholder/_1' with dtype string and shape [1000]\n",
      "\t [[{{node Placeholder/_1}}]]\n",
      "2023-07-29 04:43:14.277224: I tensorflow/core/common_runtime/executor.cc:1197] [/device:CPU:0] (DEBUG INFO) Executor start aborting (this does not indicate an error and you can ignore this message): INVALID_ARGUMENT: You must feed a value for placeholder tensor 'Placeholder/_1' with dtype string and shape [1000]\n",
      "\t [[{{node Placeholder/_1}}]]\n",
      "2023-07-29 04:43:51.273504: I tensorflow/core/common_runtime/executor.cc:1197] [/device:CPU:0] (DEBUG INFO) Executor start aborting (this does not indicate an error and you can ignore this message): INVALID_ARGUMENT: You must feed a value for placeholder tensor 'Placeholder/_1' with dtype string and shape [1000]\n",
      "\t [[{{node Placeholder/_1}}]]\n",
      "2023-07-29 04:44:31.469170: I tensorflow/core/common_runtime/executor.cc:1197] [/device:CPU:0] (DEBUG INFO) Executor start aborting (this does not indicate an error and you can ignore this message): INVALID_ARGUMENT: You must feed a value for placeholder tensor 'Placeholder/_1' with dtype string and shape [1000]\n",
      "\t [[{{node Placeholder/_1}}]]\n"
     ]
    },
    {
     "name": "stdout",
     "output_type": "stream",
     "text": [
      "current loss 0.0043233945\n",
      "Min vall loss 0.0012288059\n",
      "Time taken for 10 epochs: 3276.10 sec\n",
      "\n",
      "Reached epoch: 90\n",
      "Epoch: 90, Train Loss:0.000320844235830009 , Val Loss:0.004323394503444433\n"
     ]
    },
    {
     "name": "stderr",
     "output_type": "stream",
     "text": [
      "2023-07-29 04:45:05.711821: I tensorflow/core/grappler/optimizers/data/replicate_on_split.cc:32] Running replicate on split optimization\n",
      "2023-07-29 04:45:05.715756: I tensorflow/core/common_runtime/executor.cc:1197] [/device:CPU:0] (DEBUG INFO) Executor start aborting (this does not indicate an error and you can ignore this message): INVALID_ARGUMENT: You must feed a value for placeholder tensor 'Placeholder/_4' with dtype string and shape [10000]\n",
      "\t [[{{node Placeholder/_4}}]]\n",
      "2023-07-29 04:45:08.489047: I tensorflow/core/common_runtime/executor.cc:1197] [/device:CPU:0] (DEBUG INFO) Executor start aborting (this does not indicate an error and you can ignore this message): INVALID_ARGUMENT: You must feed a value for placeholder tensor 'Placeholder/_1' with dtype string and shape [1000]\n",
      "\t [[{{node Placeholder/_1}}]]\n",
      "2023-07-29 04:45:46.346886: I tensorflow/core/common_runtime/executor.cc:1197] [/device:CPU:0] (DEBUG INFO) Executor start aborting (this does not indicate an error and you can ignore this message): INVALID_ARGUMENT: You must feed a value for placeholder tensor 'Placeholder/_1' with dtype string and shape [1000]\n",
      "\t [[{{node Placeholder/_1}}]]\n",
      "2023-07-29 04:46:23.793643: I tensorflow/core/common_runtime/executor.cc:1197] [/device:CPU:0] (DEBUG INFO) Executor start aborting (this does not indicate an error and you can ignore this message): INVALID_ARGUMENT: You must feed a value for placeholder tensor 'Placeholder/_1' with dtype string and shape [1000]\n",
      "\t [[{{node Placeholder/_1}}]]\n",
      "2023-07-29 04:47:01.568081: I tensorflow/core/common_runtime/executor.cc:1197] [/device:CPU:0] (DEBUG INFO) Executor start aborting (this does not indicate an error and you can ignore this message): INVALID_ARGUMENT: You must feed a value for placeholder tensor 'Placeholder/_1' with dtype string and shape [1000]\n",
      "\t [[{{node Placeholder/_1}}]]\n",
      "2023-07-29 04:47:42.132854: I tensorflow/core/common_runtime/executor.cc:1197] [/device:CPU:0] (DEBUG INFO) Executor start aborting (this does not indicate an error and you can ignore this message): INVALID_ARGUMENT: You must feed a value for placeholder tensor 'Placeholder/_1' with dtype string and shape [1000]\n",
      "\t [[{{node Placeholder/_1}}]]\n",
      "2023-07-29 04:48:19.255774: I tensorflow/core/common_runtime/executor.cc:1197] [/device:CPU:0] (DEBUG INFO) Executor start aborting (this does not indicate an error and you can ignore this message): INVALID_ARGUMENT: You must feed a value for placeholder tensor 'Placeholder/_1' with dtype string and shape [1000]\n",
      "\t [[{{node Placeholder/_1}}]]\n",
      "2023-07-29 04:48:56.224242: I tensorflow/core/common_runtime/executor.cc:1197] [/device:CPU:0] (DEBUG INFO) Executor start aborting (this does not indicate an error and you can ignore this message): INVALID_ARGUMENT: You must feed a value for placeholder tensor 'Placeholder/_1' with dtype string and shape [1000]\n",
      "\t [[{{node Placeholder/_1}}]]\n",
      "2023-07-29 04:49:35.812325: I tensorflow/core/common_runtime/executor.cc:1197] [/device:CPU:0] (DEBUG INFO) Executor start aborting (this does not indicate an error and you can ignore this message): INVALID_ARGUMENT: You must feed a value for placeholder tensor 'Placeholder/_1' with dtype string and shape [1000]\n",
      "\t [[{{node Placeholder/_1}}]]\n"
     ]
    },
    {
     "name": "stdout",
     "output_type": "stream",
     "text": [
      "current loss 0.0029045402\n",
      "Min vall loss 0.0012288059\n",
      "Epoch: 91, Train Loss:0.00031554975430481136 , Val Loss:0.0029045401606708765\n"
     ]
    },
    {
     "name": "stderr",
     "output_type": "stream",
     "text": [
      "2023-07-29 04:50:09.935887: I tensorflow/core/grappler/optimizers/data/replicate_on_split.cc:32] Running replicate on split optimization\n",
      "2023-07-29 04:50:09.939789: I tensorflow/core/common_runtime/executor.cc:1197] [/device:CPU:0] (DEBUG INFO) Executor start aborting (this does not indicate an error and you can ignore this message): INVALID_ARGUMENT: You must feed a value for placeholder tensor 'Placeholder/_4' with dtype string and shape [10000]\n",
      "\t [[{{node Placeholder/_4}}]]\n",
      "2023-07-29 04:50:12.769351: I tensorflow/core/common_runtime/executor.cc:1197] [/device:CPU:0] (DEBUG INFO) Executor start aborting (this does not indicate an error and you can ignore this message): INVALID_ARGUMENT: You must feed a value for placeholder tensor 'Placeholder/_1' with dtype string and shape [1000]\n",
      "\t [[{{node Placeholder/_1}}]]\n",
      "2023-07-29 04:50:49.299957: I tensorflow/core/common_runtime/executor.cc:1197] [/device:CPU:0] (DEBUG INFO) Executor start aborting (this does not indicate an error and you can ignore this message): INVALID_ARGUMENT: You must feed a value for placeholder tensor 'Placeholder/_1' with dtype string and shape [1000]\n",
      "\t [[{{node Placeholder/_1}}]]\n",
      "2023-07-29 04:51:26.534138: I tensorflow/core/common_runtime/executor.cc:1197] [/device:CPU:0] (DEBUG INFO) Executor start aborting (this does not indicate an error and you can ignore this message): INVALID_ARGUMENT: You must feed a value for placeholder tensor 'Placeholder/_1' with dtype string and shape [1000]\n",
      "\t [[{{node Placeholder/_1}}]]\n",
      "2023-07-29 04:52:02.065519: I tensorflow/core/common_runtime/executor.cc:1197] [/device:CPU:0] (DEBUG INFO) Executor start aborting (this does not indicate an error and you can ignore this message): INVALID_ARGUMENT: You must feed a value for placeholder tensor 'Placeholder/_1' with dtype string and shape [1000]\n",
      "\t [[{{node Placeholder/_1}}]]\n",
      "2023-07-29 04:52:41.193283: I tensorflow/core/common_runtime/executor.cc:1197] [/device:CPU:0] (DEBUG INFO) Executor start aborting (this does not indicate an error and you can ignore this message): INVALID_ARGUMENT: You must feed a value for placeholder tensor 'Placeholder/_1' with dtype string and shape [1000]\n",
      "\t [[{{node Placeholder/_1}}]]\n",
      "2023-07-29 04:53:17.548501: I tensorflow/core/common_runtime/executor.cc:1197] [/device:CPU:0] (DEBUG INFO) Executor start aborting (this does not indicate an error and you can ignore this message): INVALID_ARGUMENT: You must feed a value for placeholder tensor 'Placeholder/_1' with dtype string and shape [1000]\n",
      "\t [[{{node Placeholder/_1}}]]\n",
      "2023-07-29 04:53:54.384485: I tensorflow/core/common_runtime/executor.cc:1197] [/device:CPU:0] (DEBUG INFO) Executor start aborting (this does not indicate an error and you can ignore this message): INVALID_ARGUMENT: You must feed a value for placeholder tensor 'Placeholder/_1' with dtype string and shape [1000]\n",
      "\t [[{{node Placeholder/_1}}]]\n",
      "2023-07-29 04:54:34.299408: I tensorflow/core/common_runtime/executor.cc:1197] [/device:CPU:0] (DEBUG INFO) Executor start aborting (this does not indicate an error and you can ignore this message): INVALID_ARGUMENT: You must feed a value for placeholder tensor 'Placeholder/_1' with dtype string and shape [1000]\n",
      "\t [[{{node Placeholder/_1}}]]\n"
     ]
    },
    {
     "name": "stdout",
     "output_type": "stream",
     "text": [
      "current loss 0.0006660457\n",
      "Min vall loss 0.0012288059\n",
      "Saving best weight with val loss:0.0006660457001999021 to results/model_weights/best_mse_model\n",
      "Epoch: 92, Train Loss:0.00028903319616802037 , Val Loss:0.0006660457001999021\n"
     ]
    },
    {
     "name": "stderr",
     "output_type": "stream",
     "text": [
      "2023-07-29 04:55:07.090817: I tensorflow/core/grappler/optimizers/data/replicate_on_split.cc:32] Running replicate on split optimization\n",
      "2023-07-29 04:55:07.096538: I tensorflow/core/common_runtime/executor.cc:1197] [/device:CPU:0] (DEBUG INFO) Executor start aborting (this does not indicate an error and you can ignore this message): INVALID_ARGUMENT: You must feed a value for placeholder tensor 'Placeholder/_5' with dtype string and shape [10000]\n",
      "\t [[{{node Placeholder/_5}}]]\n",
      "2023-07-29 04:55:10.096506: I tensorflow/core/common_runtime/executor.cc:1197] [/device:CPU:0] (DEBUG INFO) Executor start aborting (this does not indicate an error and you can ignore this message): INVALID_ARGUMENT: You must feed a value for placeholder tensor 'Placeholder/_1' with dtype string and shape [1000]\n",
      "\t [[{{node Placeholder/_1}}]]\n",
      "2023-07-29 04:55:46.853881: I tensorflow/core/common_runtime/executor.cc:1197] [/device:CPU:0] (DEBUG INFO) Executor start aborting (this does not indicate an error and you can ignore this message): INVALID_ARGUMENT: You must feed a value for placeholder tensor 'Placeholder/_1' with dtype string and shape [1000]\n",
      "\t [[{{node Placeholder/_1}}]]\n",
      "2023-07-29 04:56:25.243919: I tensorflow/core/common_runtime/executor.cc:1197] [/device:CPU:0] (DEBUG INFO) Executor start aborting (this does not indicate an error and you can ignore this message): INVALID_ARGUMENT: You must feed a value for placeholder tensor 'Placeholder/_1' with dtype string and shape [1000]\n",
      "\t [[{{node Placeholder/_1}}]]\n",
      "2023-07-29 04:57:01.596364: I tensorflow/core/common_runtime/executor.cc:1197] [/device:CPU:0] (DEBUG INFO) Executor start aborting (this does not indicate an error and you can ignore this message): INVALID_ARGUMENT: You must feed a value for placeholder tensor 'Placeholder/_1' with dtype string and shape [1000]\n",
      "\t [[{{node Placeholder/_1}}]]\n",
      "2023-07-29 04:57:40.291094: I tensorflow/core/common_runtime/executor.cc:1197] [/device:CPU:0] (DEBUG INFO) Executor start aborting (this does not indicate an error and you can ignore this message): INVALID_ARGUMENT: You must feed a value for placeholder tensor 'Placeholder/_1' with dtype string and shape [1000]\n",
      "\t [[{{node Placeholder/_1}}]]\n",
      "2023-07-29 04:58:17.245367: I tensorflow/core/common_runtime/executor.cc:1197] [/device:CPU:0] (DEBUG INFO) Executor start aborting (this does not indicate an error and you can ignore this message): INVALID_ARGUMENT: You must feed a value for placeholder tensor 'Placeholder/_1' with dtype string and shape [1000]\n",
      "\t [[{{node Placeholder/_1}}]]\n",
      "2023-07-29 04:58:54.189980: I tensorflow/core/common_runtime/executor.cc:1197] [/device:CPU:0] (DEBUG INFO) Executor start aborting (this does not indicate an error and you can ignore this message): INVALID_ARGUMENT: You must feed a value for placeholder tensor 'Placeholder/_1' with dtype string and shape [1000]\n",
      "\t [[{{node Placeholder/_1}}]]\n",
      "2023-07-29 04:59:33.057152: I tensorflow/core/common_runtime/executor.cc:1197] [/device:CPU:0] (DEBUG INFO) Executor start aborting (this does not indicate an error and you can ignore this message): INVALID_ARGUMENT: You must feed a value for placeholder tensor 'Placeholder/_1' with dtype string and shape [1000]\n",
      "\t [[{{node Placeholder/_1}}]]\n"
     ]
    },
    {
     "name": "stdout",
     "output_type": "stream",
     "text": [
      "current loss 0.0292409\n",
      "Min vall loss 0.0006660457\n",
      "Epoch: 93, Train Loss:0.0003755888610612601 , Val Loss:0.02924090065062046\n"
     ]
    },
    {
     "name": "stderr",
     "output_type": "stream",
     "text": [
      "2023-07-29 05:00:07.861290: I tensorflow/core/grappler/optimizers/data/replicate_on_split.cc:32] Running replicate on split optimization\n",
      "2023-07-29 05:00:07.866257: I tensorflow/core/common_runtime/executor.cc:1197] [/device:CPU:0] (DEBUG INFO) Executor start aborting (this does not indicate an error and you can ignore this message): INVALID_ARGUMENT: You must feed a value for placeholder tensor 'Placeholder/_4' with dtype string and shape [10000]\n",
      "\t [[{{node Placeholder/_4}}]]\n",
      "2023-07-29 05:00:10.556093: I tensorflow/core/common_runtime/executor.cc:1197] [/device:CPU:0] (DEBUG INFO) Executor start aborting (this does not indicate an error and you can ignore this message): INVALID_ARGUMENT: You must feed a value for placeholder tensor 'Placeholder/_1' with dtype string and shape [1000]\n",
      "\t [[{{node Placeholder/_1}}]]\n",
      "2023-07-29 05:00:48.781151: I tensorflow/core/common_runtime/executor.cc:1197] [/device:CPU:0] (DEBUG INFO) Executor start aborting (this does not indicate an error and you can ignore this message): INVALID_ARGUMENT: You must feed a value for placeholder tensor 'Placeholder/_1' with dtype string and shape [1000]\n",
      "\t [[{{node Placeholder/_1}}]]\n",
      "2023-07-29 05:01:26.798448: I tensorflow/core/common_runtime/executor.cc:1197] [/device:CPU:0] (DEBUG INFO) Executor start aborting (this does not indicate an error and you can ignore this message): INVALID_ARGUMENT: You must feed a value for placeholder tensor 'Placeholder/_1' with dtype string and shape [1000]\n",
      "\t [[{{node Placeholder/_1}}]]\n",
      "2023-07-29 05:02:02.718571: I tensorflow/core/common_runtime/executor.cc:1197] [/device:CPU:0] (DEBUG INFO) Executor start aborting (this does not indicate an error and you can ignore this message): INVALID_ARGUMENT: You must feed a value for placeholder tensor 'Placeholder/_1' with dtype string and shape [1000]\n",
      "\t [[{{node Placeholder/_1}}]]\n",
      "2023-07-29 05:02:42.486814: I tensorflow/core/common_runtime/executor.cc:1197] [/device:CPU:0] (DEBUG INFO) Executor start aborting (this does not indicate an error and you can ignore this message): INVALID_ARGUMENT: You must feed a value for placeholder tensor 'Placeholder/_1' with dtype string and shape [1000]\n",
      "\t [[{{node Placeholder/_1}}]]\n",
      "2023-07-29 05:03:18.150382: I tensorflow/core/common_runtime/executor.cc:1197] [/device:CPU:0] (DEBUG INFO) Executor start aborting (this does not indicate an error and you can ignore this message): INVALID_ARGUMENT: You must feed a value for placeholder tensor 'Placeholder/_1' with dtype string and shape [1000]\n",
      "\t [[{{node Placeholder/_1}}]]\n",
      "2023-07-29 05:03:54.899269: I tensorflow/core/common_runtime/executor.cc:1197] [/device:CPU:0] (DEBUG INFO) Executor start aborting (this does not indicate an error and you can ignore this message): INVALID_ARGUMENT: You must feed a value for placeholder tensor 'Placeholder/_1' with dtype string and shape [1000]\n",
      "\t [[{{node Placeholder/_1}}]]\n",
      "2023-07-29 05:04:33.114158: I tensorflow/core/common_runtime/executor.cc:1197] [/device:CPU:0] (DEBUG INFO) Executor start aborting (this does not indicate an error and you can ignore this message): INVALID_ARGUMENT: You must feed a value for placeholder tensor 'Placeholder/_1' with dtype string and shape [1000]\n",
      "\t [[{{node Placeholder/_1}}]]\n"
     ]
    },
    {
     "name": "stdout",
     "output_type": "stream",
     "text": [
      "current loss 0.011092793\n",
      "Min vall loss 0.0006660457\n",
      "Epoch: 94, Train Loss:0.00034721873817034066 , Val Loss:0.011092793196439743\n"
     ]
    },
    {
     "name": "stderr",
     "output_type": "stream",
     "text": [
      "2023-07-29 05:05:05.908111: I tensorflow/core/grappler/optimizers/data/replicate_on_split.cc:32] Running replicate on split optimization\n",
      "2023-07-29 05:05:05.912412: I tensorflow/core/common_runtime/executor.cc:1197] [/device:CPU:0] (DEBUG INFO) Executor start aborting (this does not indicate an error and you can ignore this message): INVALID_ARGUMENT: You must feed a value for placeholder tensor 'Placeholder/_4' with dtype string and shape [10000]\n",
      "\t [[{{node Placeholder/_4}}]]\n",
      "2023-07-29 05:05:08.757718: I tensorflow/core/common_runtime/executor.cc:1197] [/device:CPU:0] (DEBUG INFO) Executor start aborting (this does not indicate an error and you can ignore this message): INVALID_ARGUMENT: You must feed a value for placeholder tensor 'Placeholder/_1' with dtype string and shape [1000]\n",
      "\t [[{{node Placeholder/_1}}]]\n",
      "2023-07-29 05:05:46.538074: I tensorflow/core/common_runtime/executor.cc:1197] [/device:CPU:0] (DEBUG INFO) Executor start aborting (this does not indicate an error and you can ignore this message): INVALID_ARGUMENT: You must feed a value for placeholder tensor 'Placeholder/_1' with dtype string and shape [1000]\n",
      "\t [[{{node Placeholder/_1}}]]\n",
      "2023-07-29 05:06:24.329511: I tensorflow/core/common_runtime/executor.cc:1197] [/device:CPU:0] (DEBUG INFO) Executor start aborting (this does not indicate an error and you can ignore this message): INVALID_ARGUMENT: You must feed a value for placeholder tensor 'Placeholder/_1' with dtype string and shape [1000]\n",
      "\t [[{{node Placeholder/_1}}]]\n",
      "2023-07-29 05:07:01.242418: I tensorflow/core/common_runtime/executor.cc:1197] [/device:CPU:0] (DEBUG INFO) Executor start aborting (this does not indicate an error and you can ignore this message): INVALID_ARGUMENT: You must feed a value for placeholder tensor 'Placeholder/_1' with dtype string and shape [1000]\n",
      "\t [[{{node Placeholder/_1}}]]\n",
      "2023-07-29 05:07:40.735000: I tensorflow/core/common_runtime/executor.cc:1197] [/device:CPU:0] (DEBUG INFO) Executor start aborting (this does not indicate an error and you can ignore this message): INVALID_ARGUMENT: You must feed a value for placeholder tensor 'Placeholder/_1' with dtype string and shape [1000]\n",
      "\t [[{{node Placeholder/_1}}]]\n",
      "2023-07-29 05:08:17.154493: I tensorflow/core/common_runtime/executor.cc:1197] [/device:CPU:0] (DEBUG INFO) Executor start aborting (this does not indicate an error and you can ignore this message): INVALID_ARGUMENT: You must feed a value for placeholder tensor 'Placeholder/_1' with dtype string and shape [1000]\n",
      "\t [[{{node Placeholder/_1}}]]\n",
      "2023-07-29 05:08:54.392326: I tensorflow/core/common_runtime/executor.cc:1197] [/device:CPU:0] (DEBUG INFO) Executor start aborting (this does not indicate an error and you can ignore this message): INVALID_ARGUMENT: You must feed a value for placeholder tensor 'Placeholder/_1' with dtype string and shape [1000]\n",
      "\t [[{{node Placeholder/_1}}]]\n",
      "2023-07-29 05:09:33.908619: I tensorflow/core/common_runtime/executor.cc:1197] [/device:CPU:0] (DEBUG INFO) Executor start aborting (this does not indicate an error and you can ignore this message): INVALID_ARGUMENT: You must feed a value for placeholder tensor 'Placeholder/_1' with dtype string and shape [1000]\n",
      "\t [[{{node Placeholder/_1}}]]\n"
     ]
    },
    {
     "name": "stdout",
     "output_type": "stream",
     "text": [
      "current loss 0.015643494\n",
      "Min vall loss 0.0006660457\n",
      "Epoch: 95, Train Loss:0.00026429828722029924 , Val Loss:0.015643494203686714\n"
     ]
    },
    {
     "name": "stderr",
     "output_type": "stream",
     "text": [
      "2023-07-29 05:10:06.789489: I tensorflow/core/grappler/optimizers/data/replicate_on_split.cc:32] Running replicate on split optimization\n",
      "2023-07-29 05:10:06.793495: I tensorflow/core/common_runtime/executor.cc:1197] [/device:CPU:0] (DEBUG INFO) Executor start aborting (this does not indicate an error and you can ignore this message): INVALID_ARGUMENT: You must feed a value for placeholder tensor 'Placeholder/_4' with dtype string and shape [10000]\n",
      "\t [[{{node Placeholder/_4}}]]\n",
      "2023-07-29 05:10:09.218086: I tensorflow/core/common_runtime/executor.cc:1197] [/device:CPU:0] (DEBUG INFO) Executor start aborting (this does not indicate an error and you can ignore this message): INVALID_ARGUMENT: You must feed a value for placeholder tensor 'Placeholder/_1' with dtype string and shape [1000]\n",
      "\t [[{{node Placeholder/_1}}]]\n",
      "2023-07-29 05:10:47.253935: I tensorflow/core/common_runtime/executor.cc:1197] [/device:CPU:0] (DEBUG INFO) Executor start aborting (this does not indicate an error and you can ignore this message): INVALID_ARGUMENT: You must feed a value for placeholder tensor 'Placeholder/_1' with dtype string and shape [1000]\n",
      "\t [[{{node Placeholder/_1}}]]\n",
      "2023-07-29 05:11:24.638039: I tensorflow/core/common_runtime/executor.cc:1197] [/device:CPU:0] (DEBUG INFO) Executor start aborting (this does not indicate an error and you can ignore this message): INVALID_ARGUMENT: You must feed a value for placeholder tensor 'Placeholder/_1' with dtype string and shape [1000]\n",
      "\t [[{{node Placeholder/_1}}]]\n",
      "2023-07-29 05:12:02.886415: I tensorflow/core/common_runtime/executor.cc:1197] [/device:CPU:0] (DEBUG INFO) Executor start aborting (this does not indicate an error and you can ignore this message): INVALID_ARGUMENT: You must feed a value for placeholder tensor 'Placeholder/_1' with dtype string and shape [1000]\n",
      "\t [[{{node Placeholder/_1}}]]\n",
      "2023-07-29 05:12:42.322536: I tensorflow/core/common_runtime/executor.cc:1197] [/device:CPU:0] (DEBUG INFO) Executor start aborting (this does not indicate an error and you can ignore this message): INVALID_ARGUMENT: You must feed a value for placeholder tensor 'Placeholder/_1' with dtype string and shape [1000]\n",
      "\t [[{{node Placeholder/_1}}]]\n",
      "2023-07-29 05:13:20.140590: I tensorflow/core/common_runtime/executor.cc:1197] [/device:CPU:0] (DEBUG INFO) Executor start aborting (this does not indicate an error and you can ignore this message): INVALID_ARGUMENT: You must feed a value for placeholder tensor 'Placeholder/_1' with dtype string and shape [1000]\n",
      "\t [[{{node Placeholder/_1}}]]\n",
      "2023-07-29 05:13:57.438367: I tensorflow/core/common_runtime/executor.cc:1197] [/device:CPU:0] (DEBUG INFO) Executor start aborting (this does not indicate an error and you can ignore this message): INVALID_ARGUMENT: You must feed a value for placeholder tensor 'Placeholder/_1' with dtype string and shape [1000]\n",
      "\t [[{{node Placeholder/_1}}]]\n",
      "2023-07-29 05:14:36.791103: I tensorflow/core/common_runtime/executor.cc:1197] [/device:CPU:0] (DEBUG INFO) Executor start aborting (this does not indicate an error and you can ignore this message): INVALID_ARGUMENT: You must feed a value for placeholder tensor 'Placeholder/_1' with dtype string and shape [1000]\n",
      "\t [[{{node Placeholder/_1}}]]\n"
     ]
    },
    {
     "name": "stdout",
     "output_type": "stream",
     "text": [
      "current loss 0.0043688253\n",
      "Min vall loss 0.0006660457\n",
      "Epoch: 96, Train Loss:0.0003712838515639305 , Val Loss:0.004368825349956751\n"
     ]
    },
    {
     "name": "stderr",
     "output_type": "stream",
     "text": [
      "2023-07-29 05:15:07.840677: I tensorflow/core/grappler/optimizers/data/replicate_on_split.cc:32] Running replicate on split optimization\n",
      "2023-07-29 05:15:07.843692: I tensorflow/core/common_runtime/executor.cc:1197] [/device:CPU:0] (DEBUG INFO) Executor start aborting (this does not indicate an error and you can ignore this message): INVALID_ARGUMENT: You must feed a value for placeholder tensor 'Placeholder/_5' with dtype string and shape [10000]\n",
      "\t [[{{node Placeholder/_5}}]]\n",
      "2023-07-29 05:15:10.548465: I tensorflow/core/common_runtime/executor.cc:1197] [/device:CPU:0] (DEBUG INFO) Executor start aborting (this does not indicate an error and you can ignore this message): INVALID_ARGUMENT: You must feed a value for placeholder tensor 'Placeholder/_1' with dtype string and shape [1000]\n",
      "\t [[{{node Placeholder/_1}}]]\n",
      "2023-07-29 05:15:46.340511: I tensorflow/core/common_runtime/executor.cc:1197] [/device:CPU:0] (DEBUG INFO) Executor start aborting (this does not indicate an error and you can ignore this message): INVALID_ARGUMENT: You must feed a value for placeholder tensor 'Placeholder/_1' with dtype string and shape [1000]\n",
      "\t [[{{node Placeholder/_1}}]]\n",
      "2023-07-29 05:16:22.284216: I tensorflow/core/common_runtime/executor.cc:1197] [/device:CPU:0] (DEBUG INFO) Executor start aborting (this does not indicate an error and you can ignore this message): INVALID_ARGUMENT: You must feed a value for placeholder tensor 'Placeholder/_1' with dtype string and shape [1000]\n",
      "\t [[{{node Placeholder/_1}}]]\n",
      "2023-07-29 05:16:59.100200: I tensorflow/core/common_runtime/executor.cc:1197] [/device:CPU:0] (DEBUG INFO) Executor start aborting (this does not indicate an error and you can ignore this message): INVALID_ARGUMENT: You must feed a value for placeholder tensor 'Placeholder/_1' with dtype string and shape [1000]\n",
      "\t [[{{node Placeholder/_1}}]]\n",
      "2023-07-29 05:17:37.827705: I tensorflow/core/common_runtime/executor.cc:1197] [/device:CPU:0] (DEBUG INFO) Executor start aborting (this does not indicate an error and you can ignore this message): INVALID_ARGUMENT: You must feed a value for placeholder tensor 'Placeholder/_1' with dtype string and shape [1000]\n",
      "\t [[{{node Placeholder/_1}}]]\n",
      "2023-07-29 05:18:14.713632: I tensorflow/core/common_runtime/executor.cc:1197] [/device:CPU:0] (DEBUG INFO) Executor start aborting (this does not indicate an error and you can ignore this message): INVALID_ARGUMENT: You must feed a value for placeholder tensor 'Placeholder/_1' with dtype string and shape [1000]\n",
      "\t [[{{node Placeholder/_1}}]]\n",
      "2023-07-29 05:18:51.363577: I tensorflow/core/common_runtime/executor.cc:1197] [/device:CPU:0] (DEBUG INFO) Executor start aborting (this does not indicate an error and you can ignore this message): INVALID_ARGUMENT: You must feed a value for placeholder tensor 'Placeholder/_1' with dtype string and shape [1000]\n",
      "\t [[{{node Placeholder/_1}}]]\n",
      "2023-07-29 05:19:29.163194: I tensorflow/core/common_runtime/executor.cc:1197] [/device:CPU:0] (DEBUG INFO) Executor start aborting (this does not indicate an error and you can ignore this message): INVALID_ARGUMENT: You must feed a value for placeholder tensor 'Placeholder/_1' with dtype string and shape [1000]\n",
      "\t [[{{node Placeholder/_1}}]]\n"
     ]
    },
    {
     "name": "stdout",
     "output_type": "stream",
     "text": [
      "current loss 0.0018112988\n",
      "Min vall loss 0.0006660457\n",
      "Epoch: 97, Train Loss:0.0002561814326327294 , Val Loss:0.0018112987745553255\n"
     ]
    },
    {
     "name": "stderr",
     "output_type": "stream",
     "text": [
      "2023-07-29 05:20:02.587772: I tensorflow/core/grappler/optimizers/data/replicate_on_split.cc:32] Running replicate on split optimization\n",
      "2023-07-29 05:20:02.591681: I tensorflow/core/common_runtime/executor.cc:1197] [/device:CPU:0] (DEBUG INFO) Executor start aborting (this does not indicate an error and you can ignore this message): INVALID_ARGUMENT: You must feed a value for placeholder tensor 'Placeholder/_5' with dtype string and shape [10000]\n",
      "\t [[{{node Placeholder/_5}}]]\n",
      "2023-07-29 05:20:05.203247: I tensorflow/core/common_runtime/executor.cc:1197] [/device:CPU:0] (DEBUG INFO) Executor start aborting (this does not indicate an error and you can ignore this message): INVALID_ARGUMENT: You must feed a value for placeholder tensor 'Placeholder/_1' with dtype string and shape [1000]\n",
      "\t [[{{node Placeholder/_1}}]]\n",
      "2023-07-29 05:20:40.528901: I tensorflow/core/common_runtime/executor.cc:1197] [/device:CPU:0] (DEBUG INFO) Executor start aborting (this does not indicate an error and you can ignore this message): INVALID_ARGUMENT: You must feed a value for placeholder tensor 'Placeholder/_1' with dtype string and shape [1000]\n",
      "\t [[{{node Placeholder/_1}}]]\n",
      "2023-07-29 05:21:16.991675: I tensorflow/core/common_runtime/executor.cc:1197] [/device:CPU:0] (DEBUG INFO) Executor start aborting (this does not indicate an error and you can ignore this message): INVALID_ARGUMENT: You must feed a value for placeholder tensor 'Placeholder/_1' with dtype string and shape [1000]\n",
      "\t [[{{node Placeholder/_1}}]]\n",
      "2023-07-29 05:21:53.608466: I tensorflow/core/common_runtime/executor.cc:1197] [/device:CPU:0] (DEBUG INFO) Executor start aborting (this does not indicate an error and you can ignore this message): INVALID_ARGUMENT: You must feed a value for placeholder tensor 'Placeholder/_1' with dtype string and shape [1000]\n",
      "\t [[{{node Placeholder/_1}}]]\n",
      "2023-07-29 05:22:37.745739: I tensorflow/core/kernels/data/shuffle_dataset_op.cc:392] Filling up shuffle buffer (this may take a while): 250 of 10000\n",
      "2023-07-29 05:22:47.780714: I tensorflow/core/kernels/data/shuffle_dataset_op.cc:392] Filling up shuffle buffer (this may take a while): 511 of 10000\n",
      "2023-07-29 05:22:57.764659: I tensorflow/core/kernels/data/shuffle_dataset_op.cc:392] Filling up shuffle buffer (this may take a while): 823 of 10000\n",
      "2023-07-29 05:23:07.765764: I tensorflow/core/kernels/data/shuffle_dataset_op.cc:392] Filling up shuffle buffer (this may take a while): 1115 of 10000\n",
      "2023-07-29 05:23:17.772673: I tensorflow/core/kernels/data/shuffle_dataset_op.cc:392] Filling up shuffle buffer (this may take a while): 1482 of 10000\n",
      "2023-07-29 05:23:27.737651: I tensorflow/core/kernels/data/shuffle_dataset_op.cc:392] Filling up shuffle buffer (this may take a while): 1874 of 10000\n",
      "2023-07-29 05:23:37.765876: I tensorflow/core/kernels/data/shuffle_dataset_op.cc:392] Filling up shuffle buffer (this may take a while): 2285 of 10000\n",
      "2023-07-29 05:23:47.738751: I tensorflow/core/kernels/data/shuffle_dataset_op.cc:392] Filling up shuffle buffer (this may take a while): 2692 of 10000\n",
      "2023-07-29 05:23:57.742760: I tensorflow/core/kernels/data/shuffle_dataset_op.cc:392] Filling up shuffle buffer (this may take a while): 3095 of 10000\n",
      "2023-07-29 05:24:07.742543: I tensorflow/core/kernels/data/shuffle_dataset_op.cc:392] Filling up shuffle buffer (this may take a while): 3432 of 10000\n",
      "2023-07-29 05:24:17.740770: I tensorflow/core/kernels/data/shuffle_dataset_op.cc:392] Filling up shuffle buffer (this may take a while): 3794 of 10000\n",
      "2023-07-29 05:24:27.746187: I tensorflow/core/kernels/data/shuffle_dataset_op.cc:392] Filling up shuffle buffer (this may take a while): 4182 of 10000\n",
      "2023-07-29 05:24:37.783787: I tensorflow/core/kernels/data/shuffle_dataset_op.cc:392] Filling up shuffle buffer (this may take a while): 4568 of 10000\n",
      "2023-07-29 05:24:47.757698: I tensorflow/core/kernels/data/shuffle_dataset_op.cc:392] Filling up shuffle buffer (this may take a while): 4940 of 10000\n",
      "2023-07-29 05:24:57.739830: I tensorflow/core/kernels/data/shuffle_dataset_op.cc:392] Filling up shuffle buffer (this may take a while): 5338 of 10000\n",
      "2023-07-29 05:25:07.749822: I tensorflow/core/kernels/data/shuffle_dataset_op.cc:392] Filling up shuffle buffer (this may take a while): 5759 of 10000\n",
      "2023-07-29 05:25:17.739743: I tensorflow/core/kernels/data/shuffle_dataset_op.cc:392] Filling up shuffle buffer (this may take a while): 6155 of 10000\n",
      "2023-07-29 05:25:27.747530: I tensorflow/core/kernels/data/shuffle_dataset_op.cc:392] Filling up shuffle buffer (this may take a while): 6598 of 10000\n",
      "2023-07-29 05:25:37.739725: I tensorflow/core/kernels/data/shuffle_dataset_op.cc:392] Filling up shuffle buffer (this may take a while): 7029 of 10000\n",
      "2023-07-29 05:25:47.754747: I tensorflow/core/kernels/data/shuffle_dataset_op.cc:392] Filling up shuffle buffer (this may take a while): 7439 of 10000\n",
      "2023-07-29 05:25:57.750624: I tensorflow/core/kernels/data/shuffle_dataset_op.cc:392] Filling up shuffle buffer (this may take a while): 7826 of 10000\n",
      "2023-07-29 05:26:07.742720: I tensorflow/core/kernels/data/shuffle_dataset_op.cc:392] Filling up shuffle buffer (this may take a while): 8239 of 10000\n",
      "2023-07-29 05:26:17.738856: I tensorflow/core/kernels/data/shuffle_dataset_op.cc:392] Filling up shuffle buffer (this may take a while): 8669 of 10000\n",
      "2023-07-29 05:26:27.753853: I tensorflow/core/kernels/data/shuffle_dataset_op.cc:392] Filling up shuffle buffer (this may take a while): 9024 of 10000\n",
      "2023-07-29 05:26:37.771763: I tensorflow/core/kernels/data/shuffle_dataset_op.cc:392] Filling up shuffle buffer (this may take a while): 9431 of 10000\n",
      "2023-07-29 05:26:47.752654: I tensorflow/core/kernels/data/shuffle_dataset_op.cc:392] Filling up shuffle buffer (this may take a while): 9867 of 10000\n",
      "2023-07-29 05:26:50.729688: I tensorflow/core/kernels/data/shuffle_dataset_op.cc:417] Shuffle buffer filled.\n",
      "2023-07-29 05:27:04.883137: I tensorflow/core/common_runtime/executor.cc:1197] [/device:CPU:0] (DEBUG INFO) Executor start aborting (this does not indicate an error and you can ignore this message): INVALID_ARGUMENT: You must feed a value for placeholder tensor 'Placeholder/_1' with dtype string and shape [1000]\n",
      "\t [[{{node Placeholder/_1}}]]\n",
      "2023-07-29 05:27:39.289323: I tensorflow/core/common_runtime/executor.cc:1197] [/device:CPU:0] (DEBUG INFO) Executor start aborting (this does not indicate an error and you can ignore this message): INVALID_ARGUMENT: You must feed a value for placeholder tensor 'Placeholder/_1' with dtype string and shape [1000]\n",
      "\t [[{{node Placeholder/_1}}]]\n",
      "2023-07-29 05:28:15.246847: I tensorflow/core/common_runtime/executor.cc:1197] [/device:CPU:0] (DEBUG INFO) Executor start aborting (this does not indicate an error and you can ignore this message): INVALID_ARGUMENT: You must feed a value for placeholder tensor 'Placeholder/_1' with dtype string and shape [1000]\n",
      "\t [[{{node Placeholder/_1}}]]\n",
      "2023-07-29 05:28:54.383170: I tensorflow/core/common_runtime/executor.cc:1197] [/device:CPU:0] (DEBUG INFO) Executor start aborting (this does not indicate an error and you can ignore this message): INVALID_ARGUMENT: You must feed a value for placeholder tensor 'Placeholder/_1' with dtype string and shape [1000]\n",
      "\t [[{{node Placeholder/_1}}]]\n"
     ]
    },
    {
     "name": "stdout",
     "output_type": "stream",
     "text": [
      "current loss 0.0026947036\n",
      "Min vall loss 0.0006660457\n",
      "Epoch: 98, Train Loss:0.0004260930872987956 , Val Loss:0.0026947036385536194\n"
     ]
    },
    {
     "name": "stderr",
     "output_type": "stream",
     "text": [
      "2023-07-29 05:29:27.810705: I tensorflow/core/grappler/optimizers/data/replicate_on_split.cc:32] Running replicate on split optimization\n",
      "2023-07-29 05:29:27.813702: I tensorflow/core/common_runtime/executor.cc:1197] [/device:CPU:0] (DEBUG INFO) Executor start aborting (this does not indicate an error and you can ignore this message): INVALID_ARGUMENT: You must feed a value for placeholder tensor 'Placeholder/_4' with dtype string and shape [10000]\n",
      "\t [[{{node Placeholder/_4}}]]\n",
      "2023-07-29 05:29:30.549740: I tensorflow/core/common_runtime/executor.cc:1197] [/device:CPU:0] (DEBUG INFO) Executor start aborting (this does not indicate an error and you can ignore this message): INVALID_ARGUMENT: You must feed a value for placeholder tensor 'Placeholder/_1' with dtype string and shape [1000]\n",
      "\t [[{{node Placeholder/_1}}]]\n",
      "2023-07-29 05:30:07.116597: I tensorflow/core/common_runtime/executor.cc:1197] [/device:CPU:0] (DEBUG INFO) Executor start aborting (this does not indicate an error and you can ignore this message): INVALID_ARGUMENT: You must feed a value for placeholder tensor 'Placeholder/_1' with dtype string and shape [1000]\n",
      "\t [[{{node Placeholder/_1}}]]\n",
      "2023-07-29 05:30:43.291967: I tensorflow/core/common_runtime/executor.cc:1197] [/device:CPU:0] (DEBUG INFO) Executor start aborting (this does not indicate an error and you can ignore this message): INVALID_ARGUMENT: You must feed a value for placeholder tensor 'Placeholder/_1' with dtype string and shape [1000]\n",
      "\t [[{{node Placeholder/_1}}]]\n",
      "2023-07-29 05:31:21.513090: I tensorflow/core/common_runtime/executor.cc:1197] [/device:CPU:0] (DEBUG INFO) Executor start aborting (this does not indicate an error and you can ignore this message): INVALID_ARGUMENT: You must feed a value for placeholder tensor 'Placeholder/_1' with dtype string and shape [1000]\n",
      "\t [[{{node Placeholder/_1}}]]\n",
      "2023-07-29 05:32:01.366190: I tensorflow/core/common_runtime/executor.cc:1197] [/device:CPU:0] (DEBUG INFO) Executor start aborting (this does not indicate an error and you can ignore this message): INVALID_ARGUMENT: You must feed a value for placeholder tensor 'Placeholder/_1' with dtype string and shape [1000]\n",
      "\t [[{{node Placeholder/_1}}]]\n",
      "2023-07-29 05:32:37.822670: I tensorflow/core/common_runtime/executor.cc:1197] [/device:CPU:0] (DEBUG INFO) Executor start aborting (this does not indicate an error and you can ignore this message): INVALID_ARGUMENT: You must feed a value for placeholder tensor 'Placeholder/_1' with dtype string and shape [1000]\n",
      "\t [[{{node Placeholder/_1}}]]\n",
      "2023-07-29 05:33:14.347595: I tensorflow/core/common_runtime/executor.cc:1197] [/device:CPU:0] (DEBUG INFO) Executor start aborting (this does not indicate an error and you can ignore this message): INVALID_ARGUMENT: You must feed a value for placeholder tensor 'Placeholder/_1' with dtype string and shape [1000]\n",
      "\t [[{{node Placeholder/_1}}]]\n",
      "2023-07-29 05:33:53.205514: I tensorflow/core/common_runtime/executor.cc:1197] [/device:CPU:0] (DEBUG INFO) Executor start aborting (this does not indicate an error and you can ignore this message): INVALID_ARGUMENT: You must feed a value for placeholder tensor 'Placeholder/_1' with dtype string and shape [1000]\n",
      "\t [[{{node Placeholder/_1}}]]\n"
     ]
    },
    {
     "name": "stdout",
     "output_type": "stream",
     "text": [
      "current loss 0.005865207\n",
      "Min vall loss 0.0006660457\n",
      "Epoch: 99, Train Loss:0.00025467886007390916 , Val Loss:0.005865206941962242\n",
      "\n",
      "Model saved to: results/model_weights/mse_model\n",
      "min_val_loss 0.0006660457\n"
     ]
    },
    {
     "data": {
      "image/png": "[encoded data removed]",
      "text/plain": [
       "<Figure size 640x480 with 6 Axes>"
      ]
     },
     "metadata": {},
     "output_type": "display_data"
    }
   ],
   "source": [
    "fit(train_dataset,val_dataset, epochs=EPOCH)"
   ]
  },
  {
   "cell_type": "code",
   "execution_count": 67,
   "id": "e94e69e8-528e-47e9-8039-825f81eba09a",
   "metadata": {
    "execution": {
     "iopub.execute_input": "2023-07-29T09:34:26.545796Z",
     "iopub.status.busy": "2023-07-29T09:34:26.545485Z",
     "iopub.status.idle": "2023-07-29T09:34:26.553875Z",
     "shell.execute_reply": "2023-07-29T09:34:26.553066Z"
    }
   },
   "outputs": [
    {
     "data": {
      "text/plain": [
       "15800"
      ]
     },
     "execution_count": 67,
     "metadata": {},
     "output_type": "execute_result"
    }
   ],
   "source": [
    "len(gen_total_loss_list)"
   ]
  },
  {
   "cell_type": "code",
   "execution_count": 68,
   "id": "9b79ff0b-043a-433d-b511-5a6245df1553",
   "metadata": {
    "execution": {
     "iopub.execute_input": "2023-07-29T09:34:26.557912Z",
     "iopub.status.busy": "2023-07-29T09:34:26.557647Z",
     "iopub.status.idle": "2023-07-29T09:34:26.608179Z",
     "shell.execute_reply": "2023-07-29T09:34:26.607524Z"
    }
   },
   "outputs": [
    {
     "data": {
      "text/plain": [
       "400000"
      ]
     },
     "execution_count": 68,
     "metadata": {},
     "output_type": "execute_result"
    }
   ],
   "source": [
    "len(gen_val_loss_list)"
   ]
  },
  {
   "cell_type": "code",
   "execution_count": 69,
   "id": "18a6743e-1a14-444b-a6ca-47cc741b4b6c",
   "metadata": {
    "execution": {
     "iopub.execute_input": "2023-07-29T09:34:26.611791Z",
     "iopub.status.busy": "2023-07-29T09:34:26.611505Z",
     "iopub.status.idle": "2023-07-29T09:34:59.048627Z",
     "shell.execute_reply": "2023-07-29T09:34:59.047783Z"
    }
   },
   "outputs": [
    {
     "data": {
      "image/png": "[encoded data removed]",
      "text/plain": [
       "<Figure size 640x480 with 1 Axes>"
      ]
     },
     "metadata": {},
     "output_type": "display_data"
    }
   ],
   "source": [
    "# plt.figure(figsize=(20, 15))\n",
    "plt.plot(gen_total_loss_list, label='train')\n",
    "plt.plot(gen_val_loss_list, label='val')\n",
    "plt.title(\"Training curve\")\n",
    "plt.xlabel(\"Steps\")\n",
    "plt.ylabel(\"MSE Loss\")\n",
    "plt.legend()\n",
    "plt.savefig('results/train_val_curve.png')\n",
    "plt.show()\n"
   ]
  },
  {
   "cell_type": "code",
   "execution_count": 70,
   "id": "7241fc35-0b6a-4e77-9367-af9c4bf16805",
   "metadata": {
    "execution": {
     "iopub.execute_input": "2023-07-29T09:34:59.053488Z",
     "iopub.status.busy": "2023-07-29T09:34:59.053070Z",
     "iopub.status.idle": "2023-07-29T09:34:59.062483Z",
     "shell.execute_reply": "2023-07-29T09:34:59.061319Z"
    }
   },
   "outputs": [
    {
     "name": "stdout",
     "output_type": "stream",
     "text": [
      "100\n",
      "100\n"
     ]
    }
   ],
   "source": [
    "l1 = len(epoch_wise_train_loss)\n",
    "l2 = len(epoch_wise_val_loss)\n",
    "print(l1)\n",
    "print(l2)\n",
    "a = range(1,l1+1)\n",
    "b = range(1,l2+1)"
   ]
  },
  {
   "cell_type": "code",
   "execution_count": 71,
   "id": "65278248-9162-4fc2-b927-883ce73c7b6b",
   "metadata": {
    "execution": {
     "iopub.execute_input": "2023-07-29T09:34:59.067353Z",
     "iopub.status.busy": "2023-07-29T09:34:59.066959Z",
     "iopub.status.idle": "2023-07-29T09:34:59.577067Z",
     "shell.execute_reply": "2023-07-29T09:34:59.576401Z"
    }
   },
   "outputs": [
    {
     "data": {
      "image/png": "[encoded data removed]",
      "text/plain": [
       "<Figure size 1500x500 with 1 Axes>"
      ]
     },
     "metadata": {},
     "output_type": "display_data"
    }
   ],
   "source": [
    "plt.figure(figsize=(15,5))\n",
    "plt.plot(a, epoch_wise_train_loss, label='train', linewidth=7.0)\n",
    "plt.plot(a, epoch_wise_val_loss, label='val', linewidth=7.0)\n",
    "plt.title(\"Training curve\")\n",
    "plt.xlabel(\"Epochs\")\n",
    "plt.ylabel(\"MSE Loss\")\n",
    "plt.legend()\n",
    "plt.savefig('results/train_val_epoch_curve.png')\n",
    "plt.show()"
   ]
  },
  {
   "cell_type": "code",
   "execution_count": 72,
   "id": "7ab1bce3-89e1-4481-9305-a81094cb6c94",
   "metadata": {
    "execution": {
     "iopub.execute_input": "2023-07-29T09:34:59.581123Z",
     "iopub.status.busy": "2023-07-29T09:34:59.580807Z",
     "iopub.status.idle": "2023-07-29T09:34:59.700055Z",
     "shell.execute_reply": "2023-07-29T09:34:59.699425Z"
    }
   },
   "outputs": [],
   "source": [
    "with open(\"epoch_wise_train_loss\", \"wb\") as fp:   \n",
    "    pickle.dump(epoch_wise_train_loss, fp)\n",
    "with open(\"epoch_wise_val_loss\", \"wb\") as fp:   \n",
    "    pickle.dump(epoch_wise_val_loss, fp)"
   ]
  },
  {
   "cell_type": "code",
   "execution_count": 73,
   "id": "2e134f23-1da1-4e1d-b38a-c03395044849",
   "metadata": {
    "execution": {
     "iopub.execute_input": "2023-07-29T09:34:59.704422Z",
     "iopub.status.busy": "2023-07-29T09:34:59.704086Z",
     "iopub.status.idle": "2023-07-29T09:34:59.711563Z",
     "shell.execute_reply": "2023-07-29T09:34:59.710477Z"
    }
   },
   "outputs": [
    {
     "name": "stdout",
     "output_type": "stream",
     "text": [
      "Train MSE at the end of training: 0.00018736542551778257\n",
      "Val MSE at the end of training: 0.0002217933360952884\n"
     ]
    }
   ],
   "source": [
    "print(f'Train MSE at the end of training: {gen_total_loss_list[-1]}')\n",
    "print(f'Val MSE at the end of training: {gen_val_loss_list[-1]}')"
   ]
  },
  {
   "cell_type": "code",
   "execution_count": null,
   "id": "ecea3e89-805b-42ee-b54f-a8e7cd59a0d7",
   "metadata": {},
   "outputs": [],
   "source": []
  },
  {
   "cell_type": "code",
   "execution_count": null,
   "id": "de4efd7d-f17d-4188-ab8a-65b26c0b9dbe",
   "metadata": {},
   "outputs": [],
   "source": []
  },
  {
   "cell_type": "code",
   "execution_count": null,
   "id": "3d96b301-cb03-45aa-93a5-138b7612dc86",
   "metadata": {},
   "outputs": [],
   "source": []
  },
  {
   "attachments": {},
   "cell_type": "markdown",
   "id": "f385c137-04c9-4b48-8978-31ff5d8849bf",
   "metadata": {},
   "source": [
    "### Testing"
   ]
  },
  {
   "cell_type": "code",
   "execution_count": 63,
   "id": "4c1a1afc-b6c6-47de-8a75-2ac8523cde45",
   "metadata": {},
   "outputs": [
    {
     "data": {
      "text/plain": [
       "<tensorflow.python.checkpoint.checkpoint.CheckpointLoadStatus at 0x7f24a10890a0>"
      ]
     },
     "execution_count": 63,
     "metadata": {},
     "output_type": "execute_result"
    }
   ],
   "source": [
    "generator.load_weights(BEST_PATH)"
   ]
  },
  {
   "cell_type": "code",
   "execution_count": 64,
   "id": "a103fe0f-349e-427d-9623-9186b426c88c",
   "metadata": {},
   "outputs": [
    {
     "data": {
      "text/plain": [
       "1000"
      ]
     },
     "execution_count": 64,
     "metadata": {},
     "output_type": "execute_result"
    }
   ],
   "source": [
    "len(val_dataset)"
   ]
  },
  {
   "cell_type": "code",
   "execution_count": null,
   "id": "1dc89b73-4405-40d5-9815-7dc458084b07",
   "metadata": {},
   "outputs": [],
   "source": []
  },
  {
   "cell_type": "code",
   "execution_count": 76,
   "id": "1a47d801-425c-41e8-839f-a50c392ad1b7",
   "metadata": {
    "execution": {
     "iopub.execute_input": "2023-07-29T09:35:01.444281Z",
     "iopub.status.busy": "2023-07-29T09:35:01.444050Z",
     "iopub.status.idle": "2023-07-29T09:35:58.530626Z",
     "shell.execute_reply": "2023-07-29T09:35:58.529534Z"
    }
   },
   "outputs": [
    {
     "name": "stderr",
     "output_type": "stream",
     "text": [
      "2023-07-29 05:35:01.492710: I tensorflow/core/common_runtime/executor.cc:1197] [/device:CPU:0] (DEBUG INFO) Executor start aborting (this does not indicate an error and you can ignore this message): INVALID_ARGUMENT: You must feed a value for placeholder tensor 'Placeholder/_1' with dtype string and shape [1000]\n",
      "\t [[{{node Placeholder/_1}}]]\n"
     ]
    }
   ],
   "source": [
    "avg_mse_loss_list = []\n",
    "avg_mape_loss_list = []\n",
    "\n",
    "i = 0\n",
    "for test_image,test_target in val_dataset:\n",
    "    test_prediction = generator(test_image,training=True)\n",
    "    test_target = test_target\n",
    "    mse_loss = tf.keras.metrics.mean_squared_error(test_target, test_prediction)\n",
    "    avg_mse_loss = tf.math.reduce_mean(mse_loss).numpy()\n",
    "    avg_mse_loss_list.append(avg_mse_loss)\n",
    "\n",
    "    mape_loss =  tf.keras.metrics.mean_absolute_percentage_error(test_target, test_prediction)\n",
    "    avg_mape_loss = tf.math.reduce_mean(mape_loss).numpy()\n",
    "    avg_mape_loss_list.append(avg_mape_loss)\n",
    "\n",
    "    output = np.reshape(test_prediction, (128,128))\n",
    "    gt = np.reshape(test_target, (128,128))\n",
    "    i = i+1\n",
    "\n",
    "    file_name = f\"results/raw_vals/{i}-pred.raw\"\n",
    "    with open(file_name, 'wb') as fp:     \n",
    "        output.tofile(fp)\n",
    "    fp.close()\n",
    "\n",
    "    file_name2 = f\"results/raw_vals/{i}-gt.raw\"\n",
    "    with open(file_name2, 'wb') as fp:     \n",
    "        gt.tofile(fp)\n",
    "    fp.close()"
   ]
  },
  {
   "cell_type": "code",
   "execution_count": null,
   "id": "72615a12-91c0-47da-9b72-d215538ab9da",
   "metadata": {},
   "outputs": [],
   "source": []
  },
  {
   "cell_type": "code",
   "execution_count": null,
   "id": "c396f6d5-b193-451f-bbab-67b065c03170",
   "metadata": {},
   "outputs": [],
   "source": []
  },
  {
   "cell_type": "code",
   "execution_count": 77,
   "id": "1b658deb-5d99-4f57-9bf6-08952f28b412",
   "metadata": {
    "execution": {
     "iopub.execute_input": "2023-07-29T09:35:58.536209Z",
     "iopub.status.busy": "2023-07-29T09:35:58.535865Z",
     "iopub.status.idle": "2023-07-29T09:35:58.545919Z",
     "shell.execute_reply": "2023-07-29T09:35:58.544800Z"
    }
   },
   "outputs": [
    {
     "data": {
      "text/plain": [
       "1000"
      ]
     },
     "execution_count": 77,
     "metadata": {},
     "output_type": "execute_result"
    }
   ],
   "source": [
    "len(avg_mse_loss_list)"
   ]
  },
  {
   "cell_type": "code",
   "execution_count": 78,
   "id": "4311c5a8-7b69-45f2-942e-b23eb533557b",
   "metadata": {
    "execution": {
     "iopub.execute_input": "2023-07-29T09:35:58.549738Z",
     "iopub.status.busy": "2023-07-29T09:35:58.549424Z",
     "iopub.status.idle": "2023-07-29T09:35:58.564744Z",
     "shell.execute_reply": "2023-07-29T09:35:58.564206Z"
    }
   },
   "outputs": [
    {
     "data": {
      "text/plain": [
       "0.011729968114726944"
      ]
     },
     "execution_count": 78,
     "metadata": {},
     "output_type": "execute_result"
    }
   ],
   "source": [
    "final_mse = sum(avg_mse_loss_list)/len(avg_mse_loss_list)\n",
    "with open(f'{RESULTS_FOLDER}/loss.txt','a') as f:\n",
    "    f.write(f'\\nFinal_MSE:{final_mse}')\n",
    "final_mse"
   ]
  },
  {
   "cell_type": "code",
   "execution_count": 79,
   "id": "734bd714-0bdf-46da-88b9-3266ea34e18a",
   "metadata": {
    "execution": {
     "iopub.execute_input": "2023-07-29T09:35:58.567775Z",
     "iopub.status.busy": "2023-07-29T09:35:58.567535Z",
     "iopub.status.idle": "2023-07-29T09:35:58.578638Z",
     "shell.execute_reply": "2023-07-29T09:35:58.577980Z"
    }
   },
   "outputs": [
    {
     "data": {
      "text/plain": [
       "1000"
      ]
     },
     "execution_count": 79,
     "metadata": {},
     "output_type": "execute_result"
    }
   ],
   "source": [
    "len(avg_mape_loss_list)"
   ]
  },
  {
   "cell_type": "code",
   "execution_count": 80,
   "id": "598347cb-87b3-46ea-a39d-ee856ebe5499",
   "metadata": {
    "execution": {
     "iopub.execute_input": "2023-07-29T09:35:58.581864Z",
     "iopub.status.busy": "2023-07-29T09:35:58.581621Z",
     "iopub.status.idle": "2023-07-29T09:35:58.593096Z",
     "shell.execute_reply": "2023-07-29T09:35:58.592231Z"
    }
   },
   "outputs": [
    {
     "data": {
      "text/plain": [
       "4.388431517481804"
      ]
     },
     "execution_count": 80,
     "metadata": {},
     "output_type": "execute_result"
    }
   ],
   "source": [
    "final_mape = sum(avg_mape_loss_list)/len(avg_mape_loss_list)\n",
    "with open(f'{RESULTS_FOLDER}/loss.txt','a') as f:\n",
    "    f.write(f'\\nFinal_MAPE:{final_mape}')\n",
    "final_mape"
   ]
  },
  {
   "cell_type": "code",
   "execution_count": null,
   "id": "289f17a8-b5f2-4e7f-8038-249ed0f155ba",
   "metadata": {},
   "outputs": [],
   "source": [
    "generator.load_weights(BEST_PATH)"
   ]
  },
  {
   "cell_type": "code",
   "execution_count": 81,
   "id": "0a701266-31af-4822-8971-310264ba51fe",
   "metadata": {
    "execution": {
     "iopub.execute_input": "2023-07-29T09:35:58.597115Z",
     "iopub.status.busy": "2023-07-29T09:35:58.596848Z",
     "iopub.status.idle": "2023-07-29T09:42:12.551381Z",
     "shell.execute_reply": "2023-07-29T09:42:12.550734Z"
    }
   },
   "outputs": [
    {
     "data": {
      "image/png": "[encoded data removed]",
      "text/plain": [
       "<Figure size 640x480 with 6 Axes>"
      ]
     },
     "metadata": {},
     "output_type": "display_data"
    }
   ],
   "source": [
    "i = 0\n",
    "for test_image,test_target in val_dataset:\n",
    "    i = i+1\n",
    "    generate_images(generator, test_image, test_target,'val-',i)"
   ]
  },
  {
   "cell_type": "code",
   "execution_count": 67,
   "id": "3d38161a-607f-43c9-a4f9-8fbf8f0d12d8",
   "metadata": {},
   "outputs": [
    {
     "data": {
      "text/plain": [
       "<tensorflow.python.checkpoint.checkpoint.CheckpointLoadStatus at 0x7f24a11fa2e0>"
      ]
     },
     "execution_count": 67,
     "metadata": {},
     "output_type": "execute_result"
    }
   ],
   "source": [
    "generator.load_weights(BEST_PATH)"
   ]
  },
  {
   "cell_type": "code",
   "execution_count": 99,
   "id": "7465c448-2920-4caf-bb7a-1d15134f1fae",
   "metadata": {
    "scrolled": true
   },
   "outputs": [],
   "source": [
    "i = 0\n",
    "c = 0\n",
    "for test_image,test_target in val_dataset:\n",
    "    i = i+1\n",
    "    generate_images8(generator, test_image, test_target,'val2222-',i)\n",
    "    # c = c+1\n",
    "    # if c==6:\n",
    "    #     break"
   ]
  },
  {
   "cell_type": "code",
   "execution_count": 83,
   "id": "7dc5e390-12a0-4240-82bb-4ac48b6dd817",
   "metadata": {
    "execution": {
     "iopub.execute_input": "2023-07-29T10:03:12.010776Z",
     "iopub.status.busy": "2023-07-29T10:03:12.010466Z",
     "iopub.status.idle": "2023-07-29T10:03:12.016004Z",
     "shell.execute_reply": "2023-07-29T10:03:12.015294Z"
    }
   },
   "outputs": [],
   "source": [
    "# Generate plots for test set\n",
    "# for i, (test_input, test_target) in val_dataset.take(500).enumerate():\n",
    "#     generate_images(generator, test_input, test_target,'test',i)"
   ]
  },
  {
   "cell_type": "code",
   "execution_count": null,
   "id": "f5da453e-d8a9-4e63-89ec-0af5e4e0f7c2",
   "metadata": {},
   "outputs": [],
   "source": []
  },
  {
   "cell_type": "code",
   "execution_count": 84,
   "id": "bc5bfbf8-174f-485c-9e31-94babe59cf8e",
   "metadata": {
    "execution": {
     "iopub.execute_input": "2023-07-29T10:03:12.019901Z",
     "iopub.status.busy": "2023-07-29T10:03:12.019618Z",
     "iopub.status.idle": "2023-07-29T10:03:12.032112Z",
     "shell.execute_reply": "2023-07-29T10:03:12.031245Z"
    }
   },
   "outputs": [],
   "source": [
    "## Calculate modulus"
   ]
  },
  {
   "cell_type": "code",
   "execution_count": 85,
   "id": "2cd7cacb-b617-4a23-9488-7facef4f1095",
   "metadata": {
    "execution": {
     "iopub.execute_input": "2023-07-29T10:03:12.035893Z",
     "iopub.status.busy": "2023-07-29T10:03:12.035627Z",
     "iopub.status.idle": "2023-07-29T10:03:12.083805Z",
     "shell.execute_reply": "2023-07-29T10:03:12.083069Z"
    }
   },
   "outputs": [],
   "source": [
    "# all_raw_data_path = 'raw_exps/*.raw'\n",
    "# all_raw_data = glob.glob(all_raw_data_path)"
   ]
  },
  {
   "cell_type": "code",
   "execution_count": 86,
   "id": "c77900e8-0d6c-4453-a8c4-220a336950d1",
   "metadata": {
    "execution": {
     "iopub.execute_input": "2023-07-29T10:03:12.087421Z",
     "iopub.status.busy": "2023-07-29T10:03:12.087120Z",
     "iopub.status.idle": "2023-07-29T10:03:12.159811Z",
     "shell.execute_reply": "2023-07-29T10:03:12.159081Z"
    }
   },
   "outputs": [],
   "source": [
    "# all_raw_data.sort(key=lambda x: int(x.split('/')[-1].split('.')[0]))\n",
    "# all_raw_data"
   ]
  },
  {
   "cell_type": "code",
   "execution_count": 87,
   "id": "e90d6157-5581-438b-927a-e69994974072",
   "metadata": {
    "execution": {
     "iopub.execute_input": "2023-07-29T10:03:12.163274Z",
     "iopub.status.busy": "2023-07-29T10:03:12.163028Z",
     "iopub.status.idle": "2023-07-29T10:03:12.213559Z",
     "shell.execute_reply": "2023-07-29T10:03:12.212901Z"
    }
   },
   "outputs": [],
   "source": [
    "# threshold = 0.45"
   ]
  },
  {
   "cell_type": "code",
   "execution_count": 88,
   "id": "5381d2f6-3b6b-4320-9578-ffaad78df10b",
   "metadata": {
    "execution": {
     "iopub.execute_input": "2023-07-29T10:03:12.217229Z",
     "iopub.status.busy": "2023-07-29T10:03:12.216962Z",
     "iopub.status.idle": "2023-07-29T10:03:12.226557Z",
     "shell.execute_reply": "2023-07-29T10:03:12.225891Z"
    }
   },
   "outputs": [],
   "source": [
    "# all_modulus = []"
   ]
  },
  {
   "cell_type": "code",
   "execution_count": 89,
   "id": "782abffa-a719-4ad0-a0ea-6009a4fca146",
   "metadata": {
    "execution": {
     "iopub.execute_input": "2023-07-29T10:03:12.230281Z",
     "iopub.status.busy": "2023-07-29T10:03:12.230010Z",
     "iopub.status.idle": "2023-07-29T10:03:12.308091Z",
     "shell.execute_reply": "2023-07-29T10:03:12.307391Z"
    }
   },
   "outputs": [],
   "source": [
    "# for a_data in all_raw_data:\n",
    "#     img = np.fromfile(a_data,dtype = 'float32', sep=\"\")\n",
    "#     name = a_data.split('/')[-1].split('.')[0]\n",
    "#     modulus = img[img<threshold]\n",
    "#     if len(modulus) != 0:\n",
    "#         avg_modulus = sum(modulus)/len(modulus)\n",
    "    \n",
    "#     all_modulus.append((name,avg_modulus))\n",
    "\n",
    "#     with open('modulus_values.txt', 'a') as f:\n",
    "#         f.write(f\"{name},{avg_modulus}\\n\")\n",
    "    \n",
    "    "
   ]
  },
  {
   "cell_type": "code",
   "execution_count": 90,
   "id": "47e07f20-2cb6-4489-aad3-f926aecab3b5",
   "metadata": {
    "execution": {
     "iopub.execute_input": "2023-07-29T10:03:12.311503Z",
     "iopub.status.busy": "2023-07-29T10:03:12.311212Z",
     "iopub.status.idle": "2023-07-29T10:03:12.325269Z",
     "shell.execute_reply": "2023-07-29T10:03:12.324514Z"
    }
   },
   "outputs": [],
   "source": [
    "# for i in all_modulus:\n",
    "#     print(i)"
   ]
  },
  {
   "cell_type": "code",
   "execution_count": null,
   "id": "44e3e294-dd41-4d45-afb7-6bde9d42ff8d",
   "metadata": {},
   "outputs": [],
   "source": []
  },
  {
   "cell_type": "code",
   "execution_count": null,
   "id": "04f60bed-2574-4fb1-acb3-5b31d8af824e",
   "metadata": {},
   "outputs": [],
   "source": []
  },
  {
   "cell_type": "code",
   "execution_count": null,
   "id": "b964d70c-0a8f-4ab0-8319-508e98a0456b",
   "metadata": {},
   "outputs": [],
   "source": []
  },
  {
   "cell_type": "code",
   "execution_count": null,
   "id": "8f4da147-1c48-4699-90c8-138db4dd4200",
   "metadata": {},
   "outputs": [],
   "source": []
  },
  {
   "cell_type": "code",
   "execution_count": null,
   "id": "02cf4ebd-cda0-44b4-8c32-59c08698b659",
   "metadata": {},
   "outputs": [],
   "source": []
  },
  {
   "cell_type": "code",
   "execution_count": null,
   "id": "7c94ee81-0b47-4da7-9003-6352a81093bd",
   "metadata": {},
   "outputs": [],
   "source": []
  },
  {
   "cell_type": "code",
   "execution_count": null,
   "id": "f78bf6f5-409a-4a79-84e7-1eac40c8be9e",
   "metadata": {},
   "outputs": [],
   "source": []
  }
 ],
 "metadata": {
  "kernelspec": {
   "display_name": "biomed",
   "language": "python",
   "name": "biomed"
  },
  "language_info": {
   "codemirror_mode": {
    "name": "ipython",
    "version": 3
   },
   "file_extension": ".py",
   "mimetype": "text/x-python",
   "name": "python",
   "nbconvert_exporter": "python",
   "pygments_lexer": "ipython3",
   "version": "3.9.16"
  }
 },
 "nbformat": 4,
 "nbformat_minor": 5
}
